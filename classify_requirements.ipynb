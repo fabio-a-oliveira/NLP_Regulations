{
 "cells": [
  {
   "cell_type": "markdown",
   "metadata": {
    "id": "neagr32QZhDd"
   },
   "source": [
    "# Setup"
   ]
  },
  {
   "cell_type": "markdown",
   "metadata": {
    "id": "FyULJSLSdqdS"
   },
   "source": [
    "## Import libraries"
   ]
  },
  {
   "cell_type": "code",
   "execution_count": 8,
   "metadata": {
    "executionInfo": {
     "elapsed": 2148,
     "status": "ok",
     "timestamp": 1618336318433,
     "user": {
      "displayName": "Fábio Arbach Oliveira",
      "photoUrl": "https://lh3.googleusercontent.com/a-/AOh14GjQ1ID5GbBg4_uOUilbj0xN5Fy0zXZlC1dYnN-f=s64",
      "userId": "16129273721091616396"
     },
     "user_tz": 180
    },
    "id": "lYySdeoQZNtL"
   },
   "outputs": [],
   "source": [
    "import tensorflow as tf\n",
    "import numpy as np\n",
    "import pandas as pd\n",
    "from os import chdir, mkdir, getcwd, listdir\n",
    "from os.path import join\n",
    "import requests\n",
    "from zipfile import ZipFile\n",
    "import matplotlib.pyplot as plt\n",
    "import time\n",
    "import pickle"
   ]
  },
  {
   "cell_type": "code",
   "execution_count": 9,
   "metadata": {
    "executionInfo": {
     "elapsed": 2140,
     "status": "ok",
     "timestamp": 1618336318435,
     "user": {
      "displayName": "Fábio Arbach Oliveira",
      "photoUrl": "https://lh3.googleusercontent.com/a-/AOh14GjQ1ID5GbBg4_uOUilbj0xN5Fy0zXZlC1dYnN-f=s64",
      "userId": "16129273721091616396"
     },
     "user_tz": 180
    },
    "id": "hanO-6hMZiR5"
   },
   "outputs": [],
   "source": [
    "HOME = getcwd()"
   ]
  },
  {
   "cell_type": "markdown",
   "metadata": {
    "id": "-gBFFr7pdnN2"
   },
   "source": [
    "## Download dataset"
   ]
  },
  {
   "cell_type": "markdown",
   "metadata": {
    "id": "tTulQOF4S2Uf"
   },
   "source": [
    "### FAR Part 121"
   ]
  },
  {
   "cell_type": "code",
   "execution_count": 10,
   "metadata": {
    "colab": {
     "base_uri": "https://localhost:8080/",
     "height": 402
    },
    "executionInfo": {
     "elapsed": 1508,
     "status": "ok",
     "timestamp": 1618343262327,
     "user": {
      "displayName": "Fábio Arbach Oliveira",
      "photoUrl": "https://lh3.googleusercontent.com/a-/AOh14GjQ1ID5GbBg4_uOUilbj0xN5Fy0zXZlC1dYnN-f=s64",
      "userId": "16129273721091616396"
     },
     "user_tz": 180
    },
    "id": "xjMyHFxlZ6Ng",
    "outputId": "68b09758-752c-40ef-8617-d1f50ca7cadf"
   },
   "outputs": [
    {
     "data": {
      "text/html": [
       "<div>\n",
       "<style scoped>\n",
       "    .dataframe tbody tr th:only-of-type {\n",
       "        vertical-align: middle;\n",
       "    }\n",
       "\n",
       "    .dataframe tbody tr th {\n",
       "        vertical-align: top;\n",
       "    }\n",
       "\n",
       "    .dataframe thead th {\n",
       "        text-align: right;\n",
       "    }\n",
       "</style>\n",
       "<table border=\"1\" class=\"dataframe\">\n",
       "  <thead>\n",
       "    <tr style=\"text-align: right;\">\n",
       "      <th></th>\n",
       "      <th>title</th>\n",
       "      <th>requirement</th>\n",
       "      <th>label</th>\n",
       "      <th>tag</th>\n",
       "    </tr>\n",
       "  </thead>\n",
       "  <tbody>\n",
       "    <tr>\n",
       "      <th>0</th>\n",
       "      <td>§ 121.1(a)</td>\n",
       "      <td>§ 121.1   Applicability.\\nThis part prescribes...</td>\n",
       "      <td>0</td>\n",
       "      <td>title only</td>\n",
       "    </tr>\n",
       "    <tr>\n",
       "      <th>1</th>\n",
       "      <td>§ 121.1(b)</td>\n",
       "      <td>§ 121.1   Applicability.\\nThis part prescribes...</td>\n",
       "      <td>0</td>\n",
       "      <td>title only</td>\n",
       "    </tr>\n",
       "    <tr>\n",
       "      <th>2</th>\n",
       "      <td>§ 121.1(c)</td>\n",
       "      <td>§ 121.1   Applicability.\\nThis part prescribes...</td>\n",
       "      <td>0</td>\n",
       "      <td>title only</td>\n",
       "    </tr>\n",
       "    <tr>\n",
       "      <th>3</th>\n",
       "      <td>§ 121.1(d)(1)</td>\n",
       "      <td>§ 121.1   Applicability.\\nThis part prescribes...</td>\n",
       "      <td>0</td>\n",
       "      <td>title only</td>\n",
       "    </tr>\n",
       "    <tr>\n",
       "      <th>4</th>\n",
       "      <td>§ 121.1(d)(2)</td>\n",
       "      <td>§ 121.1   Applicability.\\nThis part prescribes...</td>\n",
       "      <td>0</td>\n",
       "      <td>title only</td>\n",
       "    </tr>\n",
       "    <tr>\n",
       "      <th>...</th>\n",
       "      <td>...</td>\n",
       "      <td>...</td>\n",
       "      <td>...</td>\n",
       "      <td>...</td>\n",
       "    </tr>\n",
       "    <tr>\n",
       "      <th>2354</th>\n",
       "      <td>§ 121.1500(b)(3)</td>\n",
       "      <td>§ 121.1500   SFAR No. 111 - Lavatory Oxygen Sy...</td>\n",
       "      <td>2</td>\n",
       "      <td>operator</td>\n",
       "    </tr>\n",
       "    <tr>\n",
       "      <th>2355</th>\n",
       "      <td>§ 121.1500(b)(4)</td>\n",
       "      <td>§ 121.1500   SFAR No. 111 - Lavatory Oxygen Sy...</td>\n",
       "      <td>2</td>\n",
       "      <td>operator</td>\n",
       "    </tr>\n",
       "    <tr>\n",
       "      <th>2356</th>\n",
       "      <td>§ 121.1500(b)(5)</td>\n",
       "      <td>§ 121.1500   SFAR No. 111 - Lavatory Oxygen Sy...</td>\n",
       "      <td>2</td>\n",
       "      <td>operator</td>\n",
       "    </tr>\n",
       "    <tr>\n",
       "      <th>2357</th>\n",
       "      <td>§ 121.1500(c)</td>\n",
       "      <td>§ 121.1500   SFAR No. 111 - Lavatory Oxygen Sy...</td>\n",
       "      <td>2</td>\n",
       "      <td>operator</td>\n",
       "    </tr>\n",
       "    <tr>\n",
       "      <th>2358</th>\n",
       "      <td>§ 121.1500(d)</td>\n",
       "      <td>§ 121.1500   SFAR No. 111 - Lavatory Oxygen Sy...</td>\n",
       "      <td>2</td>\n",
       "      <td>operator</td>\n",
       "    </tr>\n",
       "  </tbody>\n",
       "</table>\n",
       "<p>2359 rows × 4 columns</p>\n",
       "</div>"
      ],
      "text/plain": [
       "                 title                                        requirement  \\\n",
       "0           § 121.1(a)  § 121.1   Applicability.\\nThis part prescribes...   \n",
       "1           § 121.1(b)  § 121.1   Applicability.\\nThis part prescribes...   \n",
       "2           § 121.1(c)  § 121.1   Applicability.\\nThis part prescribes...   \n",
       "3        § 121.1(d)(1)  § 121.1   Applicability.\\nThis part prescribes...   \n",
       "4        § 121.1(d)(2)  § 121.1   Applicability.\\nThis part prescribes...   \n",
       "...                ...                                                ...   \n",
       "2354  § 121.1500(b)(3)  § 121.1500   SFAR No. 111 - Lavatory Oxygen Sy...   \n",
       "2355  § 121.1500(b)(4)  § 121.1500   SFAR No. 111 - Lavatory Oxygen Sy...   \n",
       "2356  § 121.1500(b)(5)  § 121.1500   SFAR No. 111 - Lavatory Oxygen Sy...   \n",
       "2357     § 121.1500(c)  § 121.1500   SFAR No. 111 - Lavatory Oxygen Sy...   \n",
       "2358     § 121.1500(d)  § 121.1500   SFAR No. 111 - Lavatory Oxygen Sy...   \n",
       "\n",
       "      label         tag  \n",
       "0         0  title only  \n",
       "1         0  title only  \n",
       "2         0  title only  \n",
       "3         0  title only  \n",
       "4         0  title only  \n",
       "...     ...         ...  \n",
       "2354      2    operator  \n",
       "2355      2    operator  \n",
       "2356      2    operator  \n",
       "2357      2    operator  \n",
       "2358      2    operator  \n",
       "\n",
       "[2359 rows x 4 columns]"
      ]
     },
     "execution_count": 10,
     "metadata": {},
     "output_type": "execute_result"
    }
   ],
   "source": [
    "filepath = join(HOME, 'Regulations', 'FAR_Part121_nodes_labelled.xlsx')\n",
    "df_FAA = pd.read_excel(filepath)[['title', 'requirement', 'label', 'tag']]\n",
    "df_FAA"
   ]
  },
  {
   "cell_type": "code",
   "execution_count": 11,
   "metadata": {
    "colab": {
     "base_uri": "https://localhost:8080/",
     "height": 166
    },
    "executionInfo": {
     "elapsed": 685,
     "status": "ok",
     "timestamp": 1618343266107,
     "user": {
      "displayName": "Fábio Arbach Oliveira",
      "photoUrl": "https://lh3.googleusercontent.com/a-/AOh14GjQ1ID5GbBg4_uOUilbj0xN5Fy0zXZlC1dYnN-f=s64",
      "userId": "16129273721091616396"
     },
     "user_tz": 180
    },
    "id": "VvMBfkoBZiUU",
    "outputId": "f57854c0-9b4b-4f33-c3e0-53a8c92a8289"
   },
   "outputs": [
    {
     "data": {
      "text/html": [
       "<div>\n",
       "<style scoped>\n",
       "    .dataframe tbody tr th:only-of-type {\n",
       "        vertical-align: middle;\n",
       "    }\n",
       "\n",
       "    .dataframe tbody tr th {\n",
       "        vertical-align: top;\n",
       "    }\n",
       "\n",
       "    .dataframe thead th {\n",
       "        text-align: right;\n",
       "    }\n",
       "</style>\n",
       "<table border=\"1\" class=\"dataframe\">\n",
       "  <thead>\n",
       "    <tr style=\"text-align: right;\">\n",
       "      <th></th>\n",
       "      <th>tag</th>\n",
       "    </tr>\n",
       "    <tr>\n",
       "      <th>tag</th>\n",
       "      <th></th>\n",
       "    </tr>\n",
       "  </thead>\n",
       "  <tbody>\n",
       "    <tr>\n",
       "      <th>aircraft</th>\n",
       "      <td>769</td>\n",
       "    </tr>\n",
       "    <tr>\n",
       "      <th>operator</th>\n",
       "      <td>1376</td>\n",
       "    </tr>\n",
       "    <tr>\n",
       "      <th>title only</th>\n",
       "      <td>214</td>\n",
       "    </tr>\n",
       "  </tbody>\n",
       "</table>\n",
       "</div>"
      ],
      "text/plain": [
       "             tag\n",
       "tag             \n",
       "aircraft     769\n",
       "operator    1376\n",
       "title only   214"
      ]
     },
     "execution_count": 11,
     "metadata": {},
     "output_type": "execute_result"
    }
   ],
   "source": [
    "df_FAA.groupby('tag').agg({'tag':'count'})"
   ]
  },
  {
   "cell_type": "markdown",
   "metadata": {
    "id": "8oEp-AEHS6h-"
   },
   "source": [
    "### RBAC 121"
   ]
  },
  {
   "cell_type": "code",
   "execution_count": 12,
   "metadata": {
    "colab": {
     "base_uri": "https://localhost:8080/",
     "height": 402
    },
    "executionInfo": {
     "elapsed": 1123,
     "status": "ok",
     "timestamp": 1618343270008,
     "user": {
      "displayName": "Fábio Arbach Oliveira",
      "photoUrl": "https://lh3.googleusercontent.com/a-/AOh14GjQ1ID5GbBg4_uOUilbj0xN5Fy0zXZlC1dYnN-f=s64",
      "userId": "16129273721091616396"
     },
     "user_tz": 180
    },
    "id": "00Dn-OnrS_F1",
    "outputId": "88c7d71e-f677-4c06-a774-7170e2207ec5"
   },
   "outputs": [],
   "source": [
    "filepath = join(HOME, 'Regulations', 'RBAC121_nodes_en_labelled.xlsx')\n",
    "df_ANAC = pd.read_excel(filepath)[['title', 'requirement_en', 'label', 'tag']]"
   ]
  },
  {
   "cell_type": "code",
   "execution_count": 13,
   "metadata": {
    "colab": {
     "base_uri": "https://localhost:8080/",
     "height": 166
    },
    "executionInfo": {
     "elapsed": 751,
     "status": "ok",
     "timestamp": 1618343296124,
     "user": {
      "displayName": "Fábio Arbach Oliveira",
      "photoUrl": "https://lh3.googleusercontent.com/a-/AOh14GjQ1ID5GbBg4_uOUilbj0xN5Fy0zXZlC1dYnN-f=s64",
      "userId": "16129273721091616396"
     },
     "user_tz": 180
    },
    "id": "3EzIUHgcxqgE",
    "outputId": "ee8dd991-b81a-484d-8996-8e52143f8f4f"
   },
   "outputs": [
    {
     "data": {
      "text/html": [
       "<div>\n",
       "<style scoped>\n",
       "    .dataframe tbody tr th:only-of-type {\n",
       "        vertical-align: middle;\n",
       "    }\n",
       "\n",
       "    .dataframe tbody tr th {\n",
       "        vertical-align: top;\n",
       "    }\n",
       "\n",
       "    .dataframe thead th {\n",
       "        text-align: right;\n",
       "    }\n",
       "</style>\n",
       "<table border=\"1\" class=\"dataframe\">\n",
       "  <thead>\n",
       "    <tr style=\"text-align: right;\">\n",
       "      <th></th>\n",
       "      <th>tag</th>\n",
       "    </tr>\n",
       "    <tr>\n",
       "      <th>tag</th>\n",
       "      <th></th>\n",
       "    </tr>\n",
       "  </thead>\n",
       "  <tbody>\n",
       "    <tr>\n",
       "      <th>Aircraft</th>\n",
       "      <td>771</td>\n",
       "    </tr>\n",
       "    <tr>\n",
       "      <th>Operator</th>\n",
       "      <td>1144</td>\n",
       "    </tr>\n",
       "    <tr>\n",
       "      <th>Title Only</th>\n",
       "      <td>217</td>\n",
       "    </tr>\n",
       "  </tbody>\n",
       "</table>\n",
       "</div>"
      ],
      "text/plain": [
       "             tag\n",
       "tag             \n",
       "Aircraft     771\n",
       "Operator    1144\n",
       "Title Only   217"
      ]
     },
     "execution_count": 13,
     "metadata": {},
     "output_type": "execute_result"
    }
   ],
   "source": [
    "df_ANAC.groupby('tag').agg({'tag':'count'})"
   ]
  },
  {
   "cell_type": "markdown",
   "metadata": {
    "id": "vvLFnGvhi85X"
   },
   "source": [
    "## Create and fit tokenizer"
   ]
  },
  {
   "cell_type": "code",
   "execution_count": 14,
   "metadata": {
    "colab": {
     "base_uri": "https://localhost:8080/"
    },
    "executionInfo": {
     "elapsed": 756,
     "status": "ok",
     "timestamp": 1618343839364,
     "user": {
      "displayName": "Fábio Arbach Oliveira",
      "photoUrl": "https://lh3.googleusercontent.com/a-/AOh14GjQ1ID5GbBg4_uOUilbj0xN5Fy0zXZlC1dYnN-f=s64",
      "userId": "16129273721091616396"
     },
     "user_tz": 180
    },
    "id": "kUr2Sjc5fpdB",
    "outputId": "224e0e8e-9aff-4659-bdb0-182e4808e001"
   },
   "outputs": [
    {
     "name": "stdout",
     "output_type": "stream",
     "text": [
      "Dictionary size: 6180\n",
      "Word examples: ['<OOV>', 'the', 'of', 'and', 'a', 'in', '121', 'to', 'for', 'or', 'this', 'flight', 'that', 'must', 'an', 'by', 'certificate', 'with', '§', 'is', 'section', 'airplane', 'be', 'each', 'may', 'as', 'holder', 'training', 'b', 'paragraph', 'no', 'at', 'on', 'required', 'following', 'requirements', 'operations', '1', 'data', 'person', 'c', 'airplanes', 'aircraft', 'unless', 'under', 'any', 'are', 'not', '2', 'equipment', 'approved', 'it', 'one', 'if', 'pilot', 'program', 'part', 'except', 'from', 'emergency', 'type', 'system', 'provided', 'engine', 'passenger', 'information', 'd', 'which', 'after', 'all', 'more', 'maintenance', 'use', 'operate', 'category', 'than', 'transport', 'operating', 'i', 'has', 'recorders', '3', 'least', 'crew', 'time', 'other', 'specified', 'command', 'e', 'include', 'digital', 'etops', 'can', 'route', 'limitations', 'have', 'fuel', '25', 'operation', 'operational']\n"
     ]
    }
   ],
   "source": [
    "tokenizer = tf.keras.preprocessing.text.Tokenizer(oov_token='<OOV>')\n",
    "tokenizer.fit_on_texts(df_FAA.requirement.to_list())\n",
    "tokenizer.fit_on_texts(df_ANAC.requirement_en.to_list())\n",
    "\n",
    "dict_size = len(tokenizer.word_index)\n",
    "\n",
    "print('Dictionary size: {}'.format(dict_size))\n",
    "print('Word examples: ', end='')\n",
    "print(list(tokenizer.word_index)[:100])"
   ]
  },
  {
   "cell_type": "markdown",
   "metadata": {
    "id": "Nvc0gasbduTs"
   },
   "source": [
    "## Download GloVe"
   ]
  },
  {
   "cell_type": "code",
   "execution_count": 15,
   "metadata": {
    "executionInfo": {
     "elapsed": 21558,
     "status": "ok",
     "timestamp": 1618336337893,
     "user": {
      "displayName": "Fábio Arbach Oliveira",
      "photoUrl": "https://lh3.googleusercontent.com/a-/AOh14GjQ1ID5GbBg4_uOUilbj0xN5Fy0zXZlC1dYnN-f=s64",
      "userId": "16129273721091616396"
     },
     "user_tz": 180
    },
    "id": "0MWgQjL-duxR"
   },
   "outputs": [],
   "source": [
    "URL = 'http://nlp.stanford.edu/data/glove.6B.zip'\n",
    "chdir(HOME)\n",
    "\n",
    "if 'GloVe' not in listdir():\n",
    "    mkdir('GloVe')\n",
    "\n",
    "chdir(join(HOME, 'GloVe'))\n",
    "\n",
    "if 'glove.6B.300d.txt' not in listdir():\n",
    "    r = requests.get(URL)\n",
    "    with open('glove.6B.zip', 'wb') as file:\n",
    "        file.write(r.content)\n",
    "    zipfile = ZipFile('glove.6B.zip')\n",
    "    zipfile.extractall()\n",
    "    \n",
    "chdir(HOME)"
   ]
  },
  {
   "cell_type": "markdown",
   "metadata": {
    "id": "aXJ--rB3fmTx"
   },
   "source": [
    "## Create embedding matrix"
   ]
  },
  {
   "cell_type": "code",
   "execution_count": 16,
   "metadata": {
    "executionInfo": {
     "elapsed": 69636,
     "status": "ok",
     "timestamp": 1618343763994,
     "user": {
      "displayName": "Fábio Arbach Oliveira",
      "photoUrl": "https://lh3.googleusercontent.com/a-/AOh14GjQ1ID5GbBg4_uOUilbj0xN5Fy0zXZlC1dYnN-f=s64",
      "userId": "16129273721091616396"
     },
     "user_tz": 180
    },
    "id": "waNKhBwpjAzy"
   },
   "outputs": [],
   "source": [
    "chdir(HOME)\n",
    "\n",
    "keys, vectors = [], []\n",
    "\n",
    "with open(join(HOME, 'GloVe', 'glove.6B.300d.txt'), encoding='utf-8') as file:\n",
    "    for line in file:\n",
    "        key, vector = line.split(' ', maxsplit=1)\n",
    "        vector = np.array(vector.split(' ')).astype('float')\n",
    "        keys.append(key)\n",
    "        vectors.append(vector)\n",
    "\n",
    "embedding_dict = dict(zip(keys, vectors))"
   ]
  },
  {
   "cell_type": "code",
   "execution_count": 17,
   "metadata": {
    "colab": {
     "base_uri": "https://localhost:8080/"
    },
    "executionInfo": {
     "elapsed": 824,
     "status": "ok",
     "timestamp": 1618343853976,
     "user": {
      "displayName": "Fábio Arbach Oliveira",
      "photoUrl": "https://lh3.googleusercontent.com/a-/AOh14GjQ1ID5GbBg4_uOUilbj0xN5Fy0zXZlC1dYnN-f=s64",
      "userId": "16129273721091616396"
     },
     "user_tz": 180
    },
    "id": "fqsat_eMn0tC",
    "outputId": "b6f18d2d-8c96-42e8-d44d-9c73a1309f8a"
   },
   "outputs": [
    {
     "name": "stdout",
     "output_type": "stream",
     "text": [
      "Words without available embedding:\n",
      "<OOV>, §, holder's, aqp, §§, nº, “when, installed”, pmac, nontransport, flightcrew, ewis, manufacturer's, operator's, “operational, airplane's, sgso, 344a, inspac, turbopropeller, °c, aircraft's, objectives”, ​​being, ​​recorded, redispatch, utlitize, fstd, nonturbine, pilot's, safety”, “no, pdsc, ​​the, vso2, observer's, reseating, “conditions, icing”, 412a, sr422b, “e”, smoking”, microlamberts, crewmember's, dfdr, person's, “training, “civil, ​​operations, “d”, nonpressurized, fdau, “promotion, 422b, clearway, “b”, sd3, wv050, fimm, anac's, fl250, 412b, mdso, management”, rffs, “a”, passenger's, govinfo, rbha, regulation”, plane's, “responsibility, security”, qualification”, sr422, 422a, sr422a, “c”, dfdau, lrns, lrcs, 119b, 119a, c123a, ifsd, h25, crew's, ​​to, nadso, idso, reqso, belt”, 04a, mechanic's, pretakeoff, applicant's, series6048, washbasins, guarantee”, “management, commitment”, “pre, coordination”, stopways, adr's, 079, child's, “fasten, c112, c151, airsep, sequal, 96t, fuel”, “continuous, sgso”, “seat, “this, member's, “flight, c124a, 380a, engineer's, dispatcher's, fstds, individual's, inspector's, inogen, lifechoice, “direct, 41104, notice”, provider”, provider's, flugtechnische, illyushin, 30f, regulations”, lenght, door”, brazil's, 590a, reshipment, “designation, personnel”, “documentation”, “guarantee, “change, stopway, 01d, l1049b, placarded, “on”, “off”, aircraft”, sideward, crewmembers', nondimming, altitude”, 1900c, tso's, c74b, c74c, “installation”, ifsds, ffss, “good”, redispatching, evaluator's, physician's, 00400, tdze, access”, nondiscernible, efvs, featherings, 6020, 200b, 200f, 400d, 200lr, 2d15, 2d24, 0070, latestnot, 44d4, rj70a, rj85a, rj100a, 50a01, 141a, seriesa318, seriesa330, country's, decea, sipaer, airep, engine's, l958, drainable, difluoro, “cockpit, 7m3, “retrofits”, c47b, c47c, performance”, labiophone, time”, company's, flight's, cenipa, pnavsec, “operating, “minimum, “mayday, runway's, wv027, “hazard, identification”, “risk, mitigation”, assurance”, monitoring”, ​​activity, “communication, 40°, nopac, pacots, 78°, 60°, airport's, 25504, 73125, birdproof, l1649a, pilots', deicer, tiedown, 360°, flowmeter, 4005, 5006, 6007, more8, bromochlorofluoromethane, “on, “off, “armed”, 70°, “open”, occupiable, crossaisles, tailcone, standards”, amsafe, 4082, “internal, device”, “liner”, seated”, “federal, “cabin, wearer's, nonwire, 0631, propfan, by§, nonroutine, turnbacks, uncorrectable, chdo, egressing, satifactorily, pic's, attendant's, nonsafety, “movement, 44732, 110a, “aviation, 548a, 110b, “dod, operation's, “final, °f, “the, activox, solo2, xpo2, oxlife, easypulse, evergo, simplygo, oxywell, vbox, engining, 44706, “air, “class, airport”, redeiced, “u, airports”, nonprecision, unairworthy, itemization, “advanced, program”, “aqp”, “confidential”, faa's, requalifying, comat, orperson, “fatigue, 2033048, 1033040, 2033034, series6030, series6040, series6035, 6040, 6033, series60see, 6030, series6016, series72see, 7176060, 5003075, 900er6075, 747sr3020, 400f6020, 7576050, 7676050, 3006040, 300er7240, 777f7211, 17072see, 19072see, 01003090, 10113036, 1883026, 8f3050, 30100, 906060, 153042, 40f3030, 10f6042, 30f6030, 11f6020, certificate30, caravelle15, 100c20, 72030, 44j20, 70015, 30510, 10120, dev50, 07a47, dev43, 23m1, 4c8, gv40, sp40, 96t10, seriesa300, ​​authorized, rbacs, “exclusive, use”, 460m, states', l957, fa4, l5º, l1049a, “flutter”, “aero, 7a”, compartment's, commandable, l972, “control, “it, “do, smoke”, “strapping, on”, commissioners', fl350, user's, “autothrottle”, “localizer”, “glideslope”, “marker, beacon”, “master, warning”, “stick, pusher”, –dh, “heads, up”, “para, visual”, ​​specified, aeronáuticas, “required, manufacturers', “hard, buyer's, crew”, “dispatchers”, attendants”, “mechanics”, 7183, 7565, ​​radio, ​​its, simulator's, appraisee's, ​​operation, notam’s, command's, anvisa, 20ºc, 25ºc, exit”, “departure, seats”, passengers', “reserved”, keeper's, mmel, “times, times”, aerodrome's, ​​of, “in, flight”, earth's, ​​fuel, esec, trainee's, 900er, 747sr, 400f, 300er, 777f, 40f, 000fh, 11f, 44j, 07a, fromhavilland, ​​must, ​​expressed, policy”, management's, promotion”, plem, mgso, operationality, "
     ]
    }
   ],
   "source": [
    "embedding_dim = 300\n",
    "embedding_matrix = np.zeros((dict_size+1, embedding_dim))\n",
    "\n",
    "print('Words without available embedding:')\n",
    "for pos, key in enumerate(tokenizer.word_index.keys()):\n",
    "    if key in embedding_dict.keys():\n",
    "        embedding_matrix[pos,:] = embedding_dict[key]\n",
    "    else:\n",
    "        print(key, end=', ')"
   ]
  },
  {
   "cell_type": "markdown",
   "metadata": {
    "id": "NCvYaV3nsvrN"
   },
   "source": [
    "## Prepare dataset object"
   ]
  },
  {
   "cell_type": "code",
   "execution_count": 18,
   "metadata": {
    "executionInfo": {
     "elapsed": 853,
     "status": "ok",
     "timestamp": 1618343877492,
     "user": {
      "displayName": "Fábio Arbach Oliveira",
      "photoUrl": "https://lh3.googleusercontent.com/a-/AOh14GjQ1ID5GbBg4_uOUilbj0xN5Fy0zXZlC1dYnN-f=s64",
      "userId": "16129273721091616396"
     },
     "user_tz": 180
    },
    "id": "HzdMpQy-swOt"
   },
   "outputs": [],
   "source": [
    "y = np.array(df_FAA.label)\n",
    "x = df_FAA.requirement.map(lambda x: x.split('  ')[1])\n",
    "x = np.array(x)\n",
    "x = tokenizer.texts_to_sequences(x)\n",
    "\n",
    "y_valid = np.array(df_ANAC.label)\n",
    "x_valid = df_ANAC.requirement_en\n",
    "x_valid = np.array(x_valid)\n",
    "x_valid = tokenizer.texts_to_sequences(x_valid)"
   ]
  },
  {
   "cell_type": "code",
   "execution_count": 19,
   "metadata": {
    "colab": {
     "base_uri": "https://localhost:8080/",
     "height": 336
    },
    "executionInfo": {
     "elapsed": 1015,
     "status": "ok",
     "timestamp": 1618343878089,
     "user": {
      "displayName": "Fábio Arbach Oliveira",
      "photoUrl": "https://lh3.googleusercontent.com/a-/AOh14GjQ1ID5GbBg4_uOUilbj0xN5Fy0zXZlC1dYnN-f=s64",
      "userId": "16129273721091616396"
     },
     "user_tz": 180
    },
    "id": "RBEZl2lkvfgm",
    "outputId": "dea12b49-06d5-453b-a430-08023a76745e"
   },
   "outputs": [
    {
     "data": {
      "image/png": "[encoded data removed]",
      "text/plain": [
       "<Figure size 1080x360 with 1 Axes>"
      ]
     },
     "metadata": {
      "needs_background": "light"
     },
     "output_type": "display_data"
    }
   ],
   "source": [
    "plt.figure(figsize = (15,5))\n",
    "plt.hist(np.array([len(seq) for seq in x]), 50)\n",
    "plt.title('Histogram: number of tokens per requirements')\n",
    "plt.show()"
   ]
  },
  {
   "cell_type": "code",
   "execution_count": 20,
   "metadata": {
    "executionInfo": {
     "elapsed": 493,
     "status": "ok",
     "timestamp": 1618343879066,
     "user": {
      "displayName": "Fábio Arbach Oliveira",
      "photoUrl": "https://lh3.googleusercontent.com/a-/AOh14GjQ1ID5GbBg4_uOUilbj0xN5Fy0zXZlC1dYnN-f=s64",
      "userId": "16129273721091616396"
     },
     "user_tz": 180
    },
    "id": "ZfwRpojbvfdN"
   },
   "outputs": [],
   "source": [
    "sequence_length = 200\n",
    "\n",
    "x = tf.keras.preprocessing.sequence.pad_sequences(x,maxlen=sequence_length, truncating='pre', padding='pre')\n",
    "x = np.array(x)\n",
    "\n",
    "x_valid = tf.keras.preprocessing.sequence.pad_sequences(x_valid,maxlen=sequence_length, truncating='pre', padding='pre')\n",
    "x_valid = np.array(x_valid)"
   ]
  },
  {
   "cell_type": "code",
   "execution_count": 21,
   "metadata": {
    "executionInfo": {
     "elapsed": 552,
     "status": "ok",
     "timestamp": 1618343880205,
     "user": {
      "displayName": "Fábio Arbach Oliveira",
      "photoUrl": "https://lh3.googleusercontent.com/a-/AOh14GjQ1ID5GbBg4_uOUilbj0xN5Fy0zXZlC1dYnN-f=s64",
      "userId": "16129273721091616396"
     },
     "user_tz": 180
    },
    "id": "hfPYlhlXvfaT"
   },
   "outputs": [],
   "source": [
    "x = tf.data.Dataset.from_tensor_slices(x)\n",
    "#x = tf.data.Dataset.from_tensor_slices(np.zeros((y.shape[0], sequence_length))) # uncomment to test with null input\n",
    "y = tf.data.Dataset.from_tensor_slices(y)\n",
    "dataset = tf.data.Dataset.zip((x,y)).shuffle(buffer_size = 200, seed=20210413)\n",
    "\n",
    "x_valid = tf.data.Dataset.from_tensor_slices(x_valid)\n",
    "y_valid = tf.data.Dataset.from_tensor_slices(y_valid)\n",
    "valid = tf.data.Dataset.zip((x_valid, y_valid))"
   ]
  },
  {
   "cell_type": "markdown",
   "metadata": {
    "id": "RYZuiTnqZhHq"
   },
   "source": [
    "# Build model"
   ]
  },
  {
   "cell_type": "code",
   "execution_count": 55,
   "metadata": {
    "executionInfo": {
     "elapsed": 889,
     "status": "ok",
     "timestamp": 1618371210535,
     "user": {
      "displayName": "Fábio Arbach Oliveira",
      "photoUrl": "https://lh3.googleusercontent.com/a-/AOh14GjQ1ID5GbBg4_uOUilbj0xN5Fy0zXZlC1dYnN-f=s64",
      "userId": "16129273721091616396"
     },
     "user_tz": 180
    },
    "id": "NlihFSgNdVLQ"
   },
   "outputs": [],
   "source": [
    "# hyperparameters\n",
    "h = {'epochs' : 200,\n",
    "     'learning_rate' : .01,\n",
    "     'batch_size' : 256,\n",
    "     'recurrent_units' : 128,\n",
    "     'dropout' : .6,\n",
    "     'recurrent_dropout' : 0,\n",
    "     'reduce_lr_factor' : 0.95,\n",
    "     'reduce_lr_patience' : 0,\n",
    "     'early_stopping_patience' : 50}\n",
    "\n",
    "verbose = 1"
   ]
  },
  {
   "cell_type": "code",
   "execution_count": 56,
   "metadata": {
    "colab": {
     "base_uri": "https://localhost:8080/"
    },
    "executionInfo": {
     "elapsed": 1658,
     "status": "ok",
     "timestamp": 1618371211676,
     "user": {
      "displayName": "Fábio Arbach Oliveira",
      "photoUrl": "https://lh3.googleusercontent.com/a-/AOh14GjQ1ID5GbBg4_uOUilbj0xN5Fy0zXZlC1dYnN-f=s64",
      "userId": "16129273721091616396"
     },
     "user_tz": 180
    },
    "id": "I6cUcgFKdVH4",
    "outputId": "77a9cb2d-be2c-4d27-8dd6-378f4021971d"
   },
   "outputs": [
    {
     "name": "stdout",
     "output_type": "stream",
     "text": [
      "Model: \"GRU_stack_Softmax\"\n",
      "_________________________________________________________________\n",
      "Layer (type)                 Output Shape              Param #   \n",
      "=================================================================\n",
      "GloVe_6B_300D (Embedding)    (None, 200, 300)          1854300   \n",
      "_________________________________________________________________\n",
      "GRU_1 (GRU)                  (None, 200, 128)          165120    \n",
      "_________________________________________________________________\n",
      "GRU_2 (GRU)                  (None, 128)               99072     \n",
      "_________________________________________________________________\n",
      "Softmax (Dense)              (None, 3)                 387       \n",
      "=================================================================\n",
      "Total params: 2,118,879\n",
      "Trainable params: 264,579\n",
      "Non-trainable params: 1,854,300\n",
      "_________________________________________________________________\n"
     ]
    }
   ],
   "source": [
    "model = tf.keras.models.Sequential(name = 'GRU_stack_Softmax')\n",
    "\n",
    "# add embedding layer\n",
    "model.add(tf.keras.layers.Embedding(input_dim = dict_size + 1,\n",
    "                                    output_dim = embedding_dim,\n",
    "                                    embeddings_initializer = tf.keras.initializers.Constant(embedding_matrix),\n",
    "                                    input_shape = [sequence_length],\n",
    "                                    trainable = False,\n",
    "                                    name = \"GloVe_6B_300D\"))\n",
    "\n",
    "# add recurrent layers\n",
    "model.add(tf.keras.layers.GRU(h['recurrent_units'],\n",
    "                              dropout = h['dropout'],\n",
    "                              recurrent_dropout = h['recurrent_dropout'],\n",
    "                              return_sequences = True,\n",
    "                              name = \"GRU_1\"))\n",
    "\n",
    "model.add(tf.keras.layers.GRU(h['recurrent_units'],\n",
    "                              dropout = h['dropout'],\n",
    "                              recurrent_dropout = h['recurrent_dropout'],\n",
    "                              return_sequences = False,\n",
    "                              name = \"GRU_2\"))\n",
    "\n",
    "# add dense output layer\n",
    "model.add(tf.keras.layers.Dense(3, 'softmax', name = 'Softmax'))\n",
    "\n",
    "# create callbacks\n",
    "cb_plateau = tf.keras.callbacks.ReduceLROnPlateau(factor = h['reduce_lr_factor'], \n",
    "                                                  patience = h['reduce_lr_patience'],\n",
    "                                                  min_lr = h['learning_rate'] / 1000,\n",
    "                                                  verbose = 1)\n",
    "cb_stopping = tf.keras.callbacks.EarlyStopping(patience = h['early_stopping_patience'],\n",
    "                                               restore_best_weights = True,\n",
    "                                               monitor = 'val_sparse_categorical_accuracy',\n",
    "                                               verbose = 1)\n",
    "\n",
    "# compile model\n",
    "model.compile(optimizer = tf.keras.optimizers.Nadam(h['learning_rate']),\n",
    "              loss = 'sparse_categorical_crossentropy',\n",
    "              metrics = ['sparse_categorical_accuracy'])\n",
    "model.summary()"
   ]
  },
  {
   "cell_type": "code",
   "execution_count": 57,
   "metadata": {
    "colab": {
     "base_uri": "https://localhost:8080/"
    },
    "executionInfo": {
     "elapsed": 737432,
     "status": "ok",
     "timestamp": 1618371947792,
     "user": {
      "displayName": "Fábio Arbach Oliveira",
      "photoUrl": "https://lh3.googleusercontent.com/a-/AOh14GjQ1ID5GbBg4_uOUilbj0xN5Fy0zXZlC1dYnN-f=s64",
      "userId": "16129273721091616396"
     },
     "user_tz": 180
    },
    "id": "PCLMntx_BBZw",
    "outputId": "f2e68af9-be26-40c6-8615-df8ea1b16603"
   },
   "outputs": [
    {
     "name": "stdout",
     "output_type": "stream",
     "text": [
      "Epoch 1/200\n",
      "10/10 [==============================] - 51s 5s/step - loss: 0.9667 - sparse_categorical_accuracy: 0.6613 - val_loss: 1.3422 - val_sparse_categorical_accuracy: 0.5366\n",
      "Epoch 2/200\n",
      "10/10 [==============================] - ETA: 0s - loss: 0.9535 - sparse_categorical_accuracy: 0.6660\n",
      "Epoch 00002: ReduceLROnPlateau reducing learning rate to 0.009499999787658453.\n",
      "10/10 [==============================] - 51s 5s/step - loss: 0.9535 - sparse_categorical_accuracy: 0.6660 - val_loss: 1.4135 - val_sparse_categorical_accuracy: 0.5366\n",
      "Epoch 3/200\n",
      "10/10 [==============================] - 47s 5s/step - loss: 0.9280 - sparse_categorical_accuracy: 0.6240 - val_loss: 1.3016 - val_sparse_categorical_accuracy: 0.5366\n",
      "Epoch 4/200\n",
      "10/10 [==============================] - ETA: 0s - loss: 0.9040 - sparse_categorical_accuracy: 0.6130\n",
      "Epoch 00004: ReduceLROnPlateau reducing learning rate to 0.009024999709799886.\n",
      "10/10 [==============================] - 48s 5s/step - loss: 0.9040 - sparse_categorical_accuracy: 0.6130 - val_loss: 1.3710 - val_sparse_categorical_accuracy: 0.5366\n",
      "Epoch 5/200\n",
      "10/10 [==============================] - 48s 5s/step - loss: 0.8960 - sparse_categorical_accuracy: 0.6202 - val_loss: 1.2913 - val_sparse_categorical_accuracy: 0.5366\n",
      "Epoch 6/200\n",
      "10/10 [==============================] - ETA: 0s - loss: 0.8882 - sparse_categorical_accuracy: 0.6257\n",
      "Epoch 00006: ReduceLROnPlateau reducing learning rate to 0.008573750033974648.\n",
      "10/10 [==============================] - 48s 5s/step - loss: 0.8882 - sparse_categorical_accuracy: 0.6257 - val_loss: 1.3067 - val_sparse_categorical_accuracy: 0.5366\n",
      "Epoch 7/200\n",
      "10/10 [==============================] - ETA: 0s - loss: 0.8864 - sparse_categorical_accuracy: 0.6278\n",
      "Epoch 00007: ReduceLROnPlateau reducing learning rate to 0.008145062532275914.\n",
      "10/10 [==============================] - 48s 5s/step - loss: 0.8864 - sparse_categorical_accuracy: 0.6278 - val_loss: 1.4816 - val_sparse_categorical_accuracy: 0.5375\n",
      "Epoch 8/200\n",
      "10/10 [==============================] - 48s 5s/step - loss: 0.9310 - sparse_categorical_accuracy: 0.6109 - val_loss: 1.0832 - val_sparse_categorical_accuracy: 0.5413\n",
      "Epoch 9/200\n",
      "10/10 [==============================] - ETA: 0s - loss: 0.8316 - sparse_categorical_accuracy: 0.6333\n",
      "Epoch 00009: ReduceLROnPlateau reducing learning rate to 0.0077378091402351854.\n",
      "10/10 [==============================] - 47s 5s/step - loss: 0.8316 - sparse_categorical_accuracy: 0.6333 - val_loss: 1.4419 - val_sparse_categorical_accuracy: 0.5403\n",
      "Epoch 10/200\n",
      "10/10 [==============================] - ETA: 0s - loss: 0.8774 - sparse_categorical_accuracy: 0.6278\n",
      "Epoch 00010: ReduceLROnPlateau reducing learning rate to 0.007350918860174715.\n",
      "10/10 [==============================] - 47s 5s/step - loss: 0.8774 - sparse_categorical_accuracy: 0.6278 - val_loss: 1.3611 - val_sparse_categorical_accuracy: 0.5366\n",
      "Epoch 11/200\n",
      "10/10 [==============================] - ETA: 0s - loss: 0.9067 - sparse_categorical_accuracy: 0.6113\n",
      "Epoch 00011: ReduceLROnPlateau reducing learning rate to 0.006983372895047068.\n",
      "10/10 [==============================] - 47s 5s/step - loss: 0.9067 - sparse_categorical_accuracy: 0.6113 - val_loss: 1.1637 - val_sparse_categorical_accuracy: 0.5502\n",
      "Epoch 12/200\n",
      "10/10 [==============================] - ETA: 0s - loss: 0.8401 - sparse_categorical_accuracy: 0.6278\n",
      "Epoch 00012: ReduceLROnPlateau reducing learning rate to 0.006634204206056892.\n",
      "10/10 [==============================] - 48s 5s/step - loss: 0.8401 - sparse_categorical_accuracy: 0.6278 - val_loss: 1.2392 - val_sparse_categorical_accuracy: 0.5582\n",
      "Epoch 13/200\n",
      "10/10 [==============================] - 48s 5s/step - loss: 0.8326 - sparse_categorical_accuracy: 0.6405 - val_loss: 0.9609 - val_sparse_categorical_accuracy: 0.5844\n",
      "Epoch 14/200\n",
      "10/10 [==============================] - ETA: 0s - loss: 0.7428 - sparse_categorical_accuracy: 0.6715\n",
      "Epoch 00014: ReduceLROnPlateau reducing learning rate to 0.006302493973635137.\n",
      "10/10 [==============================] - 48s 5s/step - loss: 0.7428 - sparse_categorical_accuracy: 0.6715 - val_loss: 1.0152 - val_sparse_categorical_accuracy: 0.5844\n",
      "Epoch 15/200\n",
      "10/10 [==============================] - 50s 5s/step - loss: 0.7529 - sparse_categorical_accuracy: 0.6638 - val_loss: 0.9407 - val_sparse_categorical_accuracy: 0.5985\n",
      "Epoch 16/200\n",
      "10/10 [==============================] - ETA: 0s - loss: 0.6981 - sparse_categorical_accuracy: 0.6893\n",
      "Epoch 00016: ReduceLROnPlateau reducing learning rate to 0.005987369385547936.\n",
      "10/10 [==============================] - 48s 5s/step - loss: 0.6981 - sparse_categorical_accuracy: 0.6893 - val_loss: 0.9524 - val_sparse_categorical_accuracy: 0.6074\n",
      "Epoch 17/200\n",
      "10/10 [==============================] - 47s 5s/step - loss: 0.6580 - sparse_categorical_accuracy: 0.7126 - val_loss: 0.9291 - val_sparse_categorical_accuracy: 0.6159\n",
      "Epoch 18/200\n",
      "10/10 [==============================] - 47s 5s/step - loss: 0.6254 - sparse_categorical_accuracy: 0.7283 - val_loss: 0.8641 - val_sparse_categorical_accuracy: 0.6365\n",
      "Epoch 19/200\n",
      "10/10 [==============================] - 49s 5s/step - loss: 0.5708 - sparse_categorical_accuracy: 0.7622 - val_loss: 0.8459 - val_sparse_categorical_accuracy: 0.6496\n",
      "Epoch 20/200\n",
      "10/10 [==============================] - 48s 5s/step - loss: 0.5509 - sparse_categorical_accuracy: 0.7690 - val_loss: 0.7928 - val_sparse_categorical_accuracy: 0.6637\n",
      "Epoch 21/200\n",
      "10/10 [==============================] - ETA: 0s - loss: 0.4872 - sparse_categorical_accuracy: 0.8084\n",
      "Epoch 00021: ReduceLROnPlateau reducing learning rate to 0.005688000982627272.\n",
      "10/10 [==============================] - 47s 5s/step - loss: 0.4872 - sparse_categorical_accuracy: 0.8084 - val_loss: 0.8861 - val_sparse_categorical_accuracy: 0.6440\n",
      "Epoch 22/200\n",
      "10/10 [==============================] - ETA: 0s - loss: 0.4384 - sparse_categorical_accuracy: 0.8253\n",
      "Epoch 00022: ReduceLROnPlateau reducing learning rate to 0.005403600889258086.\n",
      "10/10 [==============================] - 48s 5s/step - loss: 0.4384 - sparse_categorical_accuracy: 0.8253 - val_loss: 0.8115 - val_sparse_categorical_accuracy: 0.6703\n",
      "Epoch 23/200\n",
      "10/10 [==============================] - 48s 5s/step - loss: 0.4050 - sparse_categorical_accuracy: 0.8474 - val_loss: 0.7444 - val_sparse_categorical_accuracy: 0.6965\n",
      "Epoch 24/200\n",
      "10/10 [==============================] - 48s 5s/step - loss: 0.3441 - sparse_categorical_accuracy: 0.8737 - val_loss: 0.7048 - val_sparse_categorical_accuracy: 0.7256\n",
      "Epoch 25/200\n",
      "10/10 [==============================] - 47s 5s/step - loss: 0.3150 - sparse_categorical_accuracy: 0.8788 - val_loss: 0.6457 - val_sparse_categorical_accuracy: 0.7542\n",
      "Epoch 26/200\n",
      "10/10 [==============================] - 49s 5s/step - loss: 0.2600 - sparse_categorical_accuracy: 0.9000 - val_loss: 0.5508 - val_sparse_categorical_accuracy: 0.8011\n",
      "Epoch 27/200\n",
      "10/10 [==============================] - ETA: 0s - loss: 0.2864 - sparse_categorical_accuracy: 0.8885\n",
      "Epoch 00027: ReduceLROnPlateau reducing learning rate to 0.005133421043865383.\n",
      "10/10 [==============================] - 48s 5s/step - loss: 0.2864 - sparse_categorical_accuracy: 0.8885 - val_loss: 0.6376 - val_sparse_categorical_accuracy: 0.7589\n",
      "Epoch 28/200\n",
      "10/10 [==============================] - ETA: 0s - loss: 0.2591 - sparse_categorical_accuracy: 0.9042\n",
      "Epoch 00028: ReduceLROnPlateau reducing learning rate to 0.004876750102266669.\n",
      "10/10 [==============================] - 48s 5s/step - loss: 0.2591 - sparse_categorical_accuracy: 0.9042 - val_loss: 0.7493 - val_sparse_categorical_accuracy: 0.7317\n",
      "Epoch 29/200\n",
      "10/10 [==============================] - ETA: 0s - loss: 0.2379 - sparse_categorical_accuracy: 0.9072\n",
      "Epoch 00029: ReduceLROnPlateau reducing learning rate to 0.004632912552915513.\n",
      "10/10 [==============================] - 47s 5s/step - loss: 0.2379 - sparse_categorical_accuracy: 0.9072 - val_loss: 0.6476 - val_sparse_categorical_accuracy: 0.7678\n",
      "Epoch 30/200\n",
      "10/10 [==============================] - ETA: 0s - loss: 0.2047 - sparse_categorical_accuracy: 0.9284\n",
      "Epoch 00030: ReduceLROnPlateau reducing learning rate to 0.0044012669473886485.\n",
      "10/10 [==============================] - 48s 5s/step - loss: 0.2047 - sparse_categorical_accuracy: 0.9284 - val_loss: 0.6315 - val_sparse_categorical_accuracy: 0.7814\n"
     ]
    },
    {
     "name": "stdout",
     "output_type": "stream",
     "text": [
      "Epoch 31/200\n",
      "10/10 [==============================] - 47s 5s/step - loss: 0.1986 - sparse_categorical_accuracy: 0.9254 - val_loss: 0.5266 - val_sparse_categorical_accuracy: 0.8138\n",
      "Epoch 32/200\n",
      "10/10 [==============================] - ETA: 0s - loss: 0.1746 - sparse_categorical_accuracy: 0.9356\n",
      "Epoch 00032: ReduceLROnPlateau reducing learning rate to 0.004181203688494861.\n",
      "10/10 [==============================] - 48s 5s/step - loss: 0.1746 - sparse_categorical_accuracy: 0.9356 - val_loss: 0.6756 - val_sparse_categorical_accuracy: 0.7777\n",
      "Epoch 33/200\n",
      "10/10 [==============================] - ETA: 0s - loss: 0.1825 - sparse_categorical_accuracy: 0.9326\n",
      "Epoch 00033: ReduceLROnPlateau reducing learning rate to 0.003972143703140319.\n",
      "10/10 [==============================] - 48s 5s/step - loss: 0.1825 - sparse_categorical_accuracy: 0.9326 - val_loss: 0.6705 - val_sparse_categorical_accuracy: 0.7786\n",
      "Epoch 34/200\n",
      "10/10 [==============================] - ETA: 0s - loss: 0.1692 - sparse_categorical_accuracy: 0.9356\n",
      "Epoch 00034: ReduceLROnPlateau reducing learning rate to 0.0037735366728156804.\n",
      "10/10 [==============================] - 48s 5s/step - loss: 0.1692 - sparse_categorical_accuracy: 0.9356 - val_loss: 0.5533 - val_sparse_categorical_accuracy: 0.8241\n",
      "Epoch 35/200\n",
      "10/10 [==============================] - ETA: 0s - loss: 0.1469 - sparse_categorical_accuracy: 0.9453\n",
      "Epoch 00035: ReduceLROnPlateau reducing learning rate to 0.0035848599276505407.\n",
      "10/10 [==============================] - 47s 5s/step - loss: 0.1469 - sparse_categorical_accuracy: 0.9453 - val_loss: 0.5381 - val_sparse_categorical_accuracy: 0.8340\n",
      "Epoch 36/200\n",
      "10/10 [==============================] - ETA: 0s - loss: 0.1494 - sparse_categorical_accuracy: 0.9432\n",
      "Epoch 00036: ReduceLROnPlateau reducing learning rate to 0.003405616898089647.\n",
      "10/10 [==============================] - 47s 5s/step - loss: 0.1494 - sparse_categorical_accuracy: 0.9432 - val_loss: 0.5726 - val_sparse_categorical_accuracy: 0.8213\n",
      "Epoch 37/200\n",
      "10/10 [==============================] - 48s 5s/step - loss: 0.1560 - sparse_categorical_accuracy: 0.9432 - val_loss: 0.5143 - val_sparse_categorical_accuracy: 0.8335\n",
      "Epoch 38/200\n",
      "10/10 [==============================] - 48s 5s/step - loss: 0.1399 - sparse_categorical_accuracy: 0.9525 - val_loss: 0.4802 - val_sparse_categorical_accuracy: 0.8447\n",
      "Epoch 39/200\n",
      "10/10 [==============================] - 47s 5s/step - loss: 0.1202 - sparse_categorical_accuracy: 0.9593 - val_loss: 0.4629 - val_sparse_categorical_accuracy: 0.8598\n",
      "Epoch 40/200\n",
      "10/10 [==============================] - ETA: 0s - loss: 0.1113 - sparse_categorical_accuracy: 0.9589\n",
      "Epoch 00040: ReduceLROnPlateau reducing learning rate to 0.0032353360089473425.\n",
      "10/10 [==============================] - 48s 5s/step - loss: 0.1113 - sparse_categorical_accuracy: 0.9589 - val_loss: 0.4874 - val_sparse_categorical_accuracy: 0.8551\n",
      "Epoch 41/200\n",
      "10/10 [==============================] - 48s 5s/step - loss: 0.1112 - sparse_categorical_accuracy: 0.9618 - val_loss: 0.4566 - val_sparse_categorical_accuracy: 0.8720\n",
      "Epoch 42/200\n",
      "10/10 [==============================] - ETA: 0s - loss: 0.1037 - sparse_categorical_accuracy: 0.9657\n",
      "Epoch 00042: ReduceLROnPlateau reducing learning rate to 0.003073569131083786.\n",
      "10/10 [==============================] - 48s 5s/step - loss: 0.1037 - sparse_categorical_accuracy: 0.9657 - val_loss: 0.5844 - val_sparse_categorical_accuracy: 0.8307\n",
      "Epoch 43/200\n",
      "10/10 [==============================] - 47s 5s/step - loss: 0.1127 - sparse_categorical_accuracy: 0.9597 - val_loss: 0.4556 - val_sparse_categorical_accuracy: 0.8701\n",
      "Epoch 44/200\n",
      "10/10 [==============================] - 47s 5s/step - loss: 0.1112 - sparse_categorical_accuracy: 0.9576 - val_loss: 0.4390 - val_sparse_categorical_accuracy: 0.8705\n",
      "Epoch 45/200\n",
      "10/10 [==============================] - ETA: 0s - loss: 0.0920 - sparse_categorical_accuracy: 0.9682\n",
      "Epoch 00045: ReduceLROnPlateau reducing learning rate to 0.002919890696648508.\n",
      "10/10 [==============================] - 48s 5s/step - loss: 0.0920 - sparse_categorical_accuracy: 0.9682 - val_loss: 0.4941 - val_sparse_categorical_accuracy: 0.8537\n",
      "Epoch 46/200\n",
      "10/10 [==============================] - ETA: 0s - loss: 0.1000 - sparse_categorical_accuracy: 0.9669\n",
      "Epoch 00046: ReduceLROnPlateau reducing learning rate to 0.0027738961507566273.\n",
      "10/10 [==============================] - 47s 5s/step - loss: 0.1000 - sparse_categorical_accuracy: 0.9669 - val_loss: 0.4785 - val_sparse_categorical_accuracy: 0.8579\n",
      "Epoch 47/200\n",
      "10/10 [==============================] - ETA: 0s - loss: 0.0909 - sparse_categorical_accuracy: 0.9691\n",
      "Epoch 00047: ReduceLROnPlateau reducing learning rate to 0.002635201287921518.\n",
      "10/10 [==============================] - 49s 5s/step - loss: 0.0909 - sparse_categorical_accuracy: 0.9691 - val_loss: 0.4468 - val_sparse_categorical_accuracy: 0.8654\n",
      "Epoch 48/200\n",
      "10/10 [==============================] - ETA: 0s - loss: 0.0888 - sparse_categorical_accuracy: 0.9703\n",
      "Epoch 00048: ReduceLROnPlateau reducing learning rate to 0.002503441146109253.\n",
      "10/10 [==============================] - 48s 5s/step - loss: 0.0888 - sparse_categorical_accuracy: 0.9703 - val_loss: 0.4721 - val_sparse_categorical_accuracy: 0.8659\n",
      "Epoch 49/200\n",
      "10/10 [==============================] - ETA: 0s - loss: 0.0812 - sparse_categorical_accuracy: 0.9682\n",
      "Epoch 00049: ReduceLROnPlateau reducing learning rate to 0.002378269121982157.\n",
      "10/10 [==============================] - 48s 5s/step - loss: 0.0812 - sparse_categorical_accuracy: 0.9682 - val_loss: 0.4615 - val_sparse_categorical_accuracy: 0.8715\n",
      "Epoch 50/200\n",
      "10/10 [==============================] - 47s 5s/step - loss: 0.0870 - sparse_categorical_accuracy: 0.9699 - val_loss: 0.4354 - val_sparse_categorical_accuracy: 0.8818\n",
      "Epoch 51/200\n",
      "10/10 [==============================] - 48s 5s/step - loss: 0.0707 - sparse_categorical_accuracy: 0.9763 - val_loss: 0.4250 - val_sparse_categorical_accuracy: 0.8888\n",
      "Epoch 52/200\n",
      "10/10 [==============================] - ETA: 0s - loss: 0.0711 - sparse_categorical_accuracy: 0.9758\n",
      "Epoch 00052: ReduceLROnPlateau reducing learning rate to 0.002259355643764138.\n",
      "10/10 [==============================] - 47s 5s/step - loss: 0.0711 - sparse_categorical_accuracy: 0.9758 - val_loss: 0.4307 - val_sparse_categorical_accuracy: 0.8870\n",
      "Epoch 53/200\n",
      "10/10 [==============================] - 47s 5s/step - loss: 0.0617 - sparse_categorical_accuracy: 0.9754 - val_loss: 0.4116 - val_sparse_categorical_accuracy: 0.8907\n",
      "Epoch 54/200\n",
      "10/10 [==============================] - 47s 5s/step - loss: 0.0720 - sparse_categorical_accuracy: 0.9758 - val_loss: 0.4004 - val_sparse_categorical_accuracy: 0.8926\n",
      "Epoch 55/200\n",
      "10/10 [==============================] - ETA: 0s - loss: 0.0572 - sparse_categorical_accuracy: 0.9788\n",
      "Epoch 00055: ReduceLROnPlateau reducing learning rate to 0.0021463879500515756.\n",
      "10/10 [==============================] - 48s 5s/step - loss: 0.0572 - sparse_categorical_accuracy: 0.9788 - val_loss: 0.4342 - val_sparse_categorical_accuracy: 0.8907\n",
      "Epoch 56/200\n",
      "10/10 [==============================] - ETA: 0s - loss: 0.0655 - sparse_categorical_accuracy: 0.9758\n",
      "Epoch 00056: ReduceLROnPlateau reducing learning rate to 0.0020390685414895414.\n",
      "10/10 [==============================] - 48s 5s/step - loss: 0.0655 - sparse_categorical_accuracy: 0.9758 - val_loss: 0.4341 - val_sparse_categorical_accuracy: 0.8888\n",
      "Epoch 57/200\n",
      "10/10 [==============================] - ETA: 0s - loss: 0.0554 - sparse_categorical_accuracy: 0.9792\n",
      "Epoch 00057: ReduceLROnPlateau reducing learning rate to 0.0019371151807717978.\n",
      "10/10 [==============================] - 48s 5s/step - loss: 0.0554 - sparse_categorical_accuracy: 0.9792 - val_loss: 0.4217 - val_sparse_categorical_accuracy: 0.8926\n",
      "Epoch 58/200\n",
      "10/10 [==============================] - ETA: 0s - loss: 0.0557 - sparse_categorical_accuracy: 0.9822\n",
      "Epoch 00058: ReduceLROnPlateau reducing learning rate to 0.0018402594549115747.\n",
      "10/10 [==============================] - 47s 5s/step - loss: 0.0557 - sparse_categorical_accuracy: 0.9822 - val_loss: 0.4271 - val_sparse_categorical_accuracy: 0.8954\n",
      "Epoch 59/200\n"
     ]
    },
    {
     "name": "stdout",
     "output_type": "stream",
     "text": [
      "10/10 [==============================] - ETA: 0s - loss: 0.0539 - sparse_categorical_accuracy: 0.9809\n",
      "Epoch 00059: ReduceLROnPlateau reducing learning rate to 0.0017482464434579014.\n",
      "10/10 [==============================] - 48s 5s/step - loss: 0.0539 - sparse_categorical_accuracy: 0.9809 - val_loss: 0.4228 - val_sparse_categorical_accuracy: 0.8963\n",
      "Epoch 60/200\n",
      "10/10 [==============================] - ETA: 0s - loss: 0.0534 - sparse_categorical_accuracy: 0.9813\n",
      "Epoch 00060: ReduceLROnPlateau reducing learning rate to 0.0016608341655228287.\n",
      "10/10 [==============================] - 47s 5s/step - loss: 0.0534 - sparse_categorical_accuracy: 0.9813 - val_loss: 0.4324 - val_sparse_categorical_accuracy: 0.8931\n",
      "Epoch 61/200\n",
      "10/10 [==============================] - ETA: 0s - loss: 0.0511 - sparse_categorical_accuracy: 0.9826\n",
      "Epoch 00061: ReduceLROnPlateau reducing learning rate to 0.0015777924738358705.\n",
      "10/10 [==============================] - 49s 5s/step - loss: 0.0511 - sparse_categorical_accuracy: 0.9826 - val_loss: 0.4395 - val_sparse_categorical_accuracy: 0.8898\n",
      "Epoch 62/200\n",
      "10/10 [==============================] - ETA: 0s - loss: 0.0613 - sparse_categorical_accuracy: 0.9763\n",
      "Epoch 00062: ReduceLROnPlateau reducing learning rate to 0.0014989028335548936.\n",
      "10/10 [==============================] - 48s 5s/step - loss: 0.0613 - sparse_categorical_accuracy: 0.9763 - val_loss: 0.4288 - val_sparse_categorical_accuracy: 0.8959\n",
      "Epoch 63/200\n",
      "10/10 [==============================] - ETA: 0s - loss: 0.0557 - sparse_categorical_accuracy: 0.9818\n",
      "Epoch 00063: ReduceLROnPlateau reducing learning rate to 0.0014239576586987822.\n",
      "10/10 [==============================] - 47s 5s/step - loss: 0.0557 - sparse_categorical_accuracy: 0.9818 - val_loss: 0.4331 - val_sparse_categorical_accuracy: 0.8963\n",
      "Epoch 64/200\n",
      "10/10 [==============================] - ETA: 0s - loss: 0.0493 - sparse_categorical_accuracy: 0.9818\n",
      "Epoch 00064: ReduceLROnPlateau reducing learning rate to 0.0013527597591746598.\n",
      "10/10 [==============================] - 48s 5s/step - loss: 0.0493 - sparse_categorical_accuracy: 0.9818 - val_loss: 0.4296 - val_sparse_categorical_accuracy: 0.8954\n",
      "Epoch 65/200\n",
      "10/10 [==============================] - ETA: 0s - loss: 0.0456 - sparse_categorical_accuracy: 0.9843\n",
      "Epoch 00065: ReduceLROnPlateau reducing learning rate to 0.0012851217878051102.\n",
      "10/10 [==============================] - 47s 5s/step - loss: 0.0456 - sparse_categorical_accuracy: 0.9843 - val_loss: 0.4270 - val_sparse_categorical_accuracy: 0.8992\n",
      "Epoch 66/200\n",
      "10/10 [==============================] - ETA: 0s - loss: 0.0540 - sparse_categorical_accuracy: 0.9801\n",
      "Epoch 00066: ReduceLROnPlateau reducing learning rate to 0.0012208656873553992.\n",
      "10/10 [==============================] - 49s 5s/step - loss: 0.0540 - sparse_categorical_accuracy: 0.9801 - val_loss: 0.4523 - val_sparse_categorical_accuracy: 0.8935\n",
      "Epoch 67/200\n",
      "10/10 [==============================] - ETA: 0s - loss: 0.0601 - sparse_categorical_accuracy: 0.9784\n",
      "Epoch 00067: ReduceLROnPlateau reducing learning rate to 0.0011598223587498068.\n",
      "10/10 [==============================] - 48s 5s/step - loss: 0.0601 - sparse_categorical_accuracy: 0.9784 - val_loss: 0.4154 - val_sparse_categorical_accuracy: 0.9038\n",
      "Epoch 68/200\n",
      "10/10 [==============================] - ETA: 0s - loss: 0.0492 - sparse_categorical_accuracy: 0.9797\n",
      "Epoch 00068: ReduceLROnPlateau reducing learning rate to 0.0011018312186934053.\n",
      "10/10 [==============================] - 47s 5s/step - loss: 0.0492 - sparse_categorical_accuracy: 0.9797 - val_loss: 0.4118 - val_sparse_categorical_accuracy: 0.9024\n",
      "Epoch 69/200\n",
      "10/10 [==============================] - ETA: 0s - loss: 0.0462 - sparse_categorical_accuracy: 0.9847\n",
      "Epoch 00069: ReduceLROnPlateau reducing learning rate to 0.0010467396466992795.\n",
      "10/10 [==============================] - 49s 5s/step - loss: 0.0462 - sparse_categorical_accuracy: 0.9847 - val_loss: 0.4307 - val_sparse_categorical_accuracy: 0.9015\n",
      "Epoch 70/200\n",
      "10/10 [==============================] - ETA: 0s - loss: 0.0601 - sparse_categorical_accuracy: 0.9780\n",
      "Epoch 00070: ReduceLROnPlateau reducing learning rate to 0.00099440265330486.\n",
      "10/10 [==============================] - 49s 5s/step - loss: 0.0601 - sparse_categorical_accuracy: 0.9780 - val_loss: 0.4253 - val_sparse_categorical_accuracy: 0.8982\n",
      "Epoch 71/200\n",
      "10/10 [==============================] - ETA: 0s - loss: 0.0433 - sparse_categorical_accuracy: 0.9852\n",
      "Epoch 00071: ReduceLROnPlateau reducing learning rate to 0.0009446825482882559.\n",
      "10/10 [==============================] - 48s 5s/step - loss: 0.0433 - sparse_categorical_accuracy: 0.9852 - val_loss: 0.4133 - val_sparse_categorical_accuracy: 0.9081\n",
      "Epoch 72/200\n",
      "10/10 [==============================] - ETA: 0s - loss: 0.0494 - sparse_categorical_accuracy: 0.9835\n",
      "Epoch 00072: ReduceLROnPlateau reducing learning rate to 0.0008974484429927543.\n",
      "10/10 [==============================] - 47s 5s/step - loss: 0.0494 - sparse_categorical_accuracy: 0.9835 - val_loss: 0.4112 - val_sparse_categorical_accuracy: 0.9048\n",
      "Epoch 73/200\n",
      "10/10 [==============================] - ETA: 0s - loss: 0.0357 - sparse_categorical_accuracy: 0.9894\n",
      "Epoch 00073: ReduceLROnPlateau reducing learning rate to 0.0008525760291377082.\n",
      "10/10 [==============================] - 47s 5s/step - loss: 0.0357 - sparse_categorical_accuracy: 0.9894 - val_loss: 0.4176 - val_sparse_categorical_accuracy: 0.8977\n",
      "Epoch 74/200\n",
      "10/10 [==============================] - ETA: 0s - loss: 0.0366 - sparse_categorical_accuracy: 0.9877\n",
      "Epoch 00074: ReduceLROnPlateau reducing learning rate to 0.0008099472470348701.\n",
      "10/10 [==============================] - 49s 5s/step - loss: 0.0366 - sparse_categorical_accuracy: 0.9877 - val_loss: 0.4264 - val_sparse_categorical_accuracy: 0.9020\n",
      "Epoch 75/200\n",
      "10/10 [==============================] - ETA: 0s - loss: 0.0459 - sparse_categorical_accuracy: 0.9826\n",
      "Epoch 00075: ReduceLROnPlateau reducing learning rate to 0.000769449898507446.\n",
      "10/10 [==============================] - 47s 5s/step - loss: 0.0459 - sparse_categorical_accuracy: 0.9826 - val_loss: 0.4219 - val_sparse_categorical_accuracy: 0.9010\n",
      "Epoch 76/200\n",
      "10/10 [==============================] - ETA: 0s - loss: 0.0393 - sparse_categorical_accuracy: 0.9839\n",
      "Epoch 00076: ReduceLROnPlateau reducing learning rate to 0.0007309774257009848.\n",
      "10/10 [==============================] - 48s 5s/step - loss: 0.0393 - sparse_categorical_accuracy: 0.9839 - val_loss: 0.4226 - val_sparse_categorical_accuracy: 0.9029\n",
      "Epoch 77/200\n",
      "10/10 [==============================] - ETA: 0s - loss: 0.0341 - sparse_categorical_accuracy: 0.9881\n",
      "Epoch 00077: ReduceLROnPlateau reducing learning rate to 0.0006944285792997107.\n",
      "10/10 [==============================] - 48s 5s/step - loss: 0.0341 - sparse_categorical_accuracy: 0.9881 - val_loss: 0.4310 - val_sparse_categorical_accuracy: 0.9034\n",
      "Epoch 78/200\n",
      "10/10 [==============================] - ETA: 0s - loss: 0.0456 - sparse_categorical_accuracy: 0.9813\n",
      "Epoch 00078: ReduceLROnPlateau reducing learning rate to 0.0006597071420401335.\n",
      "10/10 [==============================] - 48s 5s/step - loss: 0.0456 - sparse_categorical_accuracy: 0.9813 - val_loss: 0.4236 - val_sparse_categorical_accuracy: 0.9006\n",
      "Epoch 79/200\n",
      "10/10 [==============================] - ETA: 0s - loss: 0.0301 - sparse_categorical_accuracy: 0.9886\n",
      "Epoch 00079: ReduceLROnPlateau reducing learning rate to 0.0006267217628192157.\n",
      "10/10 [==============================] - 47s 5s/step - loss: 0.0301 - sparse_categorical_accuracy: 0.9886 - val_loss: 0.4252 - val_sparse_categorical_accuracy: 0.9015\n",
      "Epoch 80/200\n",
      "10/10 [==============================] - ETA: 0s - loss: 0.0399 - sparse_categorical_accuracy: 0.9835\n",
      "Epoch 00080: ReduceLROnPlateau reducing learning rate to 0.0005953856802079826.\n",
      "10/10 [==============================] - 48s 5s/step - loss: 0.0399 - sparse_categorical_accuracy: 0.9835 - val_loss: 0.4201 - val_sparse_categorical_accuracy: 0.9043\n",
      "Epoch 81/200\n",
      "10/10 [==============================] - ETA: 0s - loss: 0.0353 - sparse_categorical_accuracy: 0.9852\n",
      "Epoch 00081: ReduceLROnPlateau reducing learning rate to 0.0005656163906678557.\n",
      "10/10 [==============================] - 47s 5s/step - loss: 0.0353 - sparse_categorical_accuracy: 0.9852 - val_loss: 0.4211 - val_sparse_categorical_accuracy: 0.9029\n"
     ]
    },
    {
     "name": "stdout",
     "output_type": "stream",
     "text": [
      "Epoch 82/200\n",
      "10/10 [==============================] - ETA: 0s - loss: 0.0365 - sparse_categorical_accuracy: 0.9864\n",
      "Epoch 00082: ReduceLROnPlateau reducing learning rate to 0.0005373355932533741.\n",
      "10/10 [==============================] - 47s 5s/step - loss: 0.0365 - sparse_categorical_accuracy: 0.9864 - val_loss: 0.4231 - val_sparse_categorical_accuracy: 0.9029\n",
      "Epoch 83/200\n",
      "10/10 [==============================] - ETA: 0s - loss: 0.0321 - sparse_categorical_accuracy: 0.9886\n",
      "Epoch 00083: ReduceLROnPlateau reducing learning rate to 0.0005104688025312498.\n",
      "10/10 [==============================] - 47s 5s/step - loss: 0.0321 - sparse_categorical_accuracy: 0.9886 - val_loss: 0.4221 - val_sparse_categorical_accuracy: 0.9038\n",
      "Epoch 84/200\n",
      "10/10 [==============================] - ETA: 0s - loss: 0.0313 - sparse_categorical_accuracy: 0.9894\n",
      "Epoch 00084: ReduceLROnPlateau reducing learning rate to 0.00048494534858036783.\n",
      "10/10 [==============================] - 49s 5s/step - loss: 0.0313 - sparse_categorical_accuracy: 0.9894 - val_loss: 0.4212 - val_sparse_categorical_accuracy: 0.9024\n",
      "Epoch 85/200\n",
      "10/10 [==============================] - ETA: 0s - loss: 0.0311 - sparse_categorical_accuracy: 0.9881\n",
      "Epoch 00085: ReduceLROnPlateau reducing learning rate to 0.0004606980728567578.\n",
      "10/10 [==============================] - 48s 5s/step - loss: 0.0311 - sparse_categorical_accuracy: 0.9881 - val_loss: 0.4235 - val_sparse_categorical_accuracy: 0.9038\n",
      "Epoch 86/200\n",
      "10/10 [==============================] - ETA: 0s - loss: 0.0327 - sparse_categorical_accuracy: 0.9881\n",
      "Epoch 00086: ReduceLROnPlateau reducing learning rate to 0.00043766316230176017.\n",
      "10/10 [==============================] - 47s 5s/step - loss: 0.0327 - sparse_categorical_accuracy: 0.9881 - val_loss: 0.4314 - val_sparse_categorical_accuracy: 0.9001\n",
      "Epoch 87/200\n",
      "10/10 [==============================] - ETA: 0s - loss: 0.0362 - sparse_categorical_accuracy: 0.9860\n",
      "Epoch 00087: ReduceLROnPlateau reducing learning rate to 0.00041578001109883185.\n",
      "10/10 [==============================] - 48s 5s/step - loss: 0.0362 - sparse_categorical_accuracy: 0.9860 - val_loss: 0.4283 - val_sparse_categorical_accuracy: 0.9006\n",
      "Epoch 88/200\n",
      "10/10 [==============================] - ETA: 0s - loss: 0.0416 - sparse_categorical_accuracy: 0.9864\n",
      "Epoch 00088: ReduceLROnPlateau reducing learning rate to 0.0003949909994844347.\n",
      "10/10 [==============================] - 47s 5s/step - loss: 0.0416 - sparse_categorical_accuracy: 0.9864 - val_loss: 0.4351 - val_sparse_categorical_accuracy: 0.8977\n",
      "Epoch 89/200\n",
      "10/10 [==============================] - ETA: 0s - loss: 0.0387 - sparse_categorical_accuracy: 0.9877\n",
      "Epoch 00089: ReduceLROnPlateau reducing learning rate to 0.00037524143845075737.\n",
      "10/10 [==============================] - 47s 5s/step - loss: 0.0387 - sparse_categorical_accuracy: 0.9877 - val_loss: 0.4257 - val_sparse_categorical_accuracy: 0.9024\n",
      "Epoch 90/200\n",
      "10/10 [==============================] - ETA: 0s - loss: 0.0379 - sparse_categorical_accuracy: 0.9873\n",
      "Epoch 00090: ReduceLROnPlateau reducing learning rate to 0.00035647937620524316.\n",
      "10/10 [==============================] - 46s 5s/step - loss: 0.0379 - sparse_categorical_accuracy: 0.9873 - val_loss: 0.4275 - val_sparse_categorical_accuracy: 0.9034\n",
      "Epoch 91/200\n",
      "10/10 [==============================] - ETA: 0s - loss: 0.0382 - sparse_categorical_accuracy: 0.9839\n",
      "Epoch 00091: ReduceLROnPlateau reducing learning rate to 0.0003386554046301171.\n",
      "10/10 [==============================] - 48s 5s/step - loss: 0.0382 - sparse_categorical_accuracy: 0.9839 - val_loss: 0.4286 - val_sparse_categorical_accuracy: 0.9029\n",
      "Epoch 92/200\n",
      "10/10 [==============================] - ETA: 0s - loss: 0.0400 - sparse_categorical_accuracy: 0.9864\n",
      "Epoch 00092: ReduceLROnPlateau reducing learning rate to 0.00032172263163374735.\n",
      "10/10 [==============================] - 48s 5s/step - loss: 0.0400 - sparse_categorical_accuracy: 0.9864 - val_loss: 0.4265 - val_sparse_categorical_accuracy: 0.9029\n",
      "Epoch 93/200\n",
      "10/10 [==============================] - ETA: 0s - loss: 0.0341 - sparse_categorical_accuracy: 0.9877\n",
      "Epoch 00093: ReduceLROnPlateau reducing learning rate to 0.0003056364876101725.\n",
      "10/10 [==============================] - 47s 5s/step - loss: 0.0341 - sparse_categorical_accuracy: 0.9877 - val_loss: 0.4210 - val_sparse_categorical_accuracy: 0.9034\n",
      "Epoch 94/200\n",
      "10/10 [==============================] - ETA: 0s - loss: 0.0281 - sparse_categorical_accuracy: 0.9924\n",
      "Epoch 00094: ReduceLROnPlateau reducing learning rate to 0.0002903546701418236.\n",
      "10/10 [==============================] - 47s 5s/step - loss: 0.0281 - sparse_categorical_accuracy: 0.9924 - val_loss: 0.4200 - val_sparse_categorical_accuracy: 0.9048\n",
      "Epoch 95/200\n",
      "10/10 [==============================] - ETA: 0s - loss: 0.0338 - sparse_categorical_accuracy: 0.9864\n",
      "Epoch 00095: ReduceLROnPlateau reducing learning rate to 0.00027583692281041294.\n",
      "10/10 [==============================] - 48s 5s/step - loss: 0.0338 - sparse_categorical_accuracy: 0.9864 - val_loss: 0.4213 - val_sparse_categorical_accuracy: 0.9029\n",
      "Epoch 96/200\n",
      "10/10 [==============================] - ETA: 0s - loss: 0.0310 - sparse_categorical_accuracy: 0.9890\n",
      "Epoch 00096: ReduceLROnPlateau reducing learning rate to 0.0002620450628455728.\n",
      "10/10 [==============================] - 47s 5s/step - loss: 0.0310 - sparse_categorical_accuracy: 0.9890 - val_loss: 0.4196 - val_sparse_categorical_accuracy: 0.9020\n",
      "Epoch 97/200\n",
      "10/10 [==============================] - ETA: 0s - loss: 0.0279 - sparse_categorical_accuracy: 0.9911\n",
      "Epoch 00097: ReduceLROnPlateau reducing learning rate to 0.000248942815233022.\n",
      "10/10 [==============================] - 47s 5s/step - loss: 0.0279 - sparse_categorical_accuracy: 0.9911 - val_loss: 0.4172 - val_sparse_categorical_accuracy: 0.9029\n",
      "Epoch 98/200\n",
      "10/10 [==============================] - ETA: 0s - loss: 0.0344 - sparse_categorical_accuracy: 0.9881\n",
      "Epoch 00098: ReduceLROnPlateau reducing learning rate to 0.00023649567447137088.\n",
      "10/10 [==============================] - 47s 5s/step - loss: 0.0344 - sparse_categorical_accuracy: 0.9881 - val_loss: 0.4227 - val_sparse_categorical_accuracy: 0.9029\n",
      "Epoch 99/200\n",
      "10/10 [==============================] - ETA: 0s - loss: 0.0332 - sparse_categorical_accuracy: 0.9898\n",
      "Epoch 00099: ReduceLROnPlateau reducing learning rate to 0.00022467089074780232.\n",
      "10/10 [==============================] - 51s 5s/step - loss: 0.0332 - sparse_categorical_accuracy: 0.9898 - val_loss: 0.4273 - val_sparse_categorical_accuracy: 0.9024\n",
      "Epoch 100/200\n",
      "10/10 [==============================] - ETA: 0s - loss: 0.0340 - sparse_categorical_accuracy: 0.9881\n",
      "Epoch 00100: ReduceLROnPlateau reducing learning rate to 0.00021343734551919623.\n",
      "10/10 [==============================] - 49s 5s/step - loss: 0.0340 - sparse_categorical_accuracy: 0.9881 - val_loss: 0.4243 - val_sparse_categorical_accuracy: 0.9038\n",
      "Epoch 101/200\n",
      "10/10 [==============================] - ETA: 0s - loss: 0.0297 - sparse_categorical_accuracy: 0.9903\n",
      "Epoch 00101: ReduceLROnPlateau reducing learning rate to 0.00020276548239053226.\n",
      "10/10 [==============================] - 48s 5s/step - loss: 0.0297 - sparse_categorical_accuracy: 0.9903 - val_loss: 0.4249 - val_sparse_categorical_accuracy: 0.9034\n",
      "Epoch 102/200\n",
      "10/10 [==============================] - ETA: 0s - loss: 0.0304 - sparse_categorical_accuracy: 0.9881\n",
      "Epoch 00102: ReduceLROnPlateau reducing learning rate to 0.00019262721034465357.\n",
      "10/10 [==============================] - 47s 5s/step - loss: 0.0304 - sparse_categorical_accuracy: 0.9881 - val_loss: 0.4223 - val_sparse_categorical_accuracy: 0.9038\n",
      "Epoch 103/200\n",
      "10/10 [==============================] - ETA: 0s - loss: 0.0323 - sparse_categorical_accuracy: 0.9911\n",
      "Epoch 00103: ReduceLROnPlateau reducing learning rate to 0.00018299584844498894.\n",
      "10/10 [==============================] - 47s 5s/step - loss: 0.0323 - sparse_categorical_accuracy: 0.9911 - val_loss: 0.4233 - val_sparse_categorical_accuracy: 0.9038\n",
      "Epoch 104/200\n",
      "10/10 [==============================] - ETA: 0s - loss: 0.0295 - sparse_categorical_accuracy: 0.9894\n",
      "Epoch 00104: ReduceLROnPlateau reducing learning rate to 0.00017384605671395546.\n",
      "10/10 [==============================] - 47s 5s/step - loss: 0.0295 - sparse_categorical_accuracy: 0.9894 - val_loss: 0.4260 - val_sparse_categorical_accuracy: 0.9024\n"
     ]
    },
    {
     "name": "stdout",
     "output_type": "stream",
     "text": [
      "Epoch 105/200\n",
      "10/10 [==============================] - ETA: 0s - loss: 0.0362 - sparse_categorical_accuracy: 0.9860\n",
      "Epoch 00105: ReduceLROnPlateau reducing learning rate to 0.00016515375318704173.\n",
      "10/10 [==============================] - 44s 4s/step - loss: 0.0362 - sparse_categorical_accuracy: 0.9860 - val_loss: 0.4267 - val_sparse_categorical_accuracy: 0.9038\n",
      "Epoch 106/200\n",
      "10/10 [==============================] - ETA: 0s - loss: 0.0288 - sparse_categorical_accuracy: 0.9911\n",
      "Epoch 00106: ReduceLROnPlateau reducing learning rate to 0.00015689607243984938.\n",
      "10/10 [==============================] - 45s 5s/step - loss: 0.0288 - sparse_categorical_accuracy: 0.9911 - val_loss: 0.4266 - val_sparse_categorical_accuracy: 0.9043\n",
      "Epoch 107/200\n",
      "10/10 [==============================] - ETA: 0s - loss: 0.0289 - sparse_categorical_accuracy: 0.9886\n",
      "Epoch 00107: ReduceLROnPlateau reducing learning rate to 0.0001490512688178569.\n",
      "10/10 [==============================] - 45s 4s/step - loss: 0.0289 - sparse_categorical_accuracy: 0.9886 - val_loss: 0.4236 - val_sparse_categorical_accuracy: 0.9038\n",
      "Epoch 108/200\n",
      "10/10 [==============================] - ETA: 0s - loss: 0.0282 - sparse_categorical_accuracy: 0.9886\n",
      "Epoch 00108: ReduceLROnPlateau reducing learning rate to 0.00014159870261210017.\n",
      "10/10 [==============================] - 45s 4s/step - loss: 0.0282 - sparse_categorical_accuracy: 0.9886 - val_loss: 0.4243 - val_sparse_categorical_accuracy: 0.9038\n",
      "Epoch 109/200\n",
      "10/10 [==============================] - ETA: 0s - loss: 0.0347 - sparse_categorical_accuracy: 0.9869\n",
      "Epoch 00109: ReduceLROnPlateau reducing learning rate to 0.000134518770937575.\n",
      "10/10 [==============================] - 44s 4s/step - loss: 0.0347 - sparse_categorical_accuracy: 0.9869 - val_loss: 0.4225 - val_sparse_categorical_accuracy: 0.9034\n",
      "Epoch 110/200\n",
      "10/10 [==============================] - ETA: 0s - loss: 0.0353 - sparse_categorical_accuracy: 0.9881\n",
      "Epoch 00110: ReduceLROnPlateau reducing learning rate to 0.00012779283861164004.\n",
      "10/10 [==============================] - 45s 4s/step - loss: 0.0353 - sparse_categorical_accuracy: 0.9881 - val_loss: 0.4216 - val_sparse_categorical_accuracy: 0.9034\n",
      "Epoch 111/200\n",
      "10/10 [==============================] - ETA: 0s - loss: 0.0291 - sparse_categorical_accuracy: 0.9886\n",
      "Epoch 00111: ReduceLROnPlateau reducing learning rate to 0.00012140319668105803.\n",
      "10/10 [==============================] - 44s 4s/step - loss: 0.0291 - sparse_categorical_accuracy: 0.9886 - val_loss: 0.4190 - val_sparse_categorical_accuracy: 0.9029\n",
      "Epoch 112/200\n",
      "10/10 [==============================] - ETA: 0s - loss: 0.0274 - sparse_categorical_accuracy: 0.9890\n",
      "Epoch 00112: ReduceLROnPlateau reducing learning rate to 0.00011533303477335721.\n",
      "10/10 [==============================] - 44s 4s/step - loss: 0.0274 - sparse_categorical_accuracy: 0.9890 - val_loss: 0.4188 - val_sparse_categorical_accuracy: 0.9038\n",
      "Epoch 113/200\n",
      "10/10 [==============================] - ETA: 0s - loss: 0.0284 - sparse_categorical_accuracy: 0.9890\n",
      "Epoch 00113: ReduceLROnPlateau reducing learning rate to 0.00010956638579955323.\n",
      "10/10 [==============================] - 45s 5s/step - loss: 0.0284 - sparse_categorical_accuracy: 0.9890 - val_loss: 0.4194 - val_sparse_categorical_accuracy: 0.9048\n",
      "Epoch 114/200\n",
      "10/10 [==============================] - ETA: 0s - loss: 0.0334 - sparse_categorical_accuracy: 0.9864\n",
      "Epoch 00114: ReduceLROnPlateau reducing learning rate to 0.00010408806374471168.\n",
      "10/10 [==============================] - 45s 5s/step - loss: 0.0334 - sparse_categorical_accuracy: 0.9864 - val_loss: 0.4210 - val_sparse_categorical_accuracy: 0.9034\n",
      "Epoch 115/200\n",
      "10/10 [==============================] - ETA: 0s - loss: 0.0242 - sparse_categorical_accuracy: 0.9911\n",
      "Epoch 00115: ReduceLROnPlateau reducing learning rate to 9.888366366794799e-05.\n",
      "10/10 [==============================] - 45s 5s/step - loss: 0.0242 - sparse_categorical_accuracy: 0.9911 - val_loss: 0.4222 - val_sparse_categorical_accuracy: 0.9038\n",
      "Epoch 116/200\n",
      "10/10 [==============================] - ETA: 0s - loss: 0.0295 - sparse_categorical_accuracy: 0.9907\n",
      "Epoch 00116: ReduceLROnPlateau reducing learning rate to 9.393947875651064e-05.\n",
      "10/10 [==============================] - 44s 4s/step - loss: 0.0295 - sparse_categorical_accuracy: 0.9907 - val_loss: 0.4218 - val_sparse_categorical_accuracy: 0.9029\n",
      "Epoch 117/200\n",
      "10/10 [==============================] - ETA: 0s - loss: 0.0280 - sparse_categorical_accuracy: 0.9894\n",
      "Epoch 00117: ReduceLROnPlateau reducing learning rate to 8.924250723794102e-05.\n",
      "10/10 [==============================] - 45s 4s/step - loss: 0.0280 - sparse_categorical_accuracy: 0.9894 - val_loss: 0.4225 - val_sparse_categorical_accuracy: 0.9024\n",
      "Epoch 118/200\n",
      "10/10 [==============================] - ETA: 0s - loss: 0.0351 - sparse_categorical_accuracy: 0.9886\n",
      "Epoch 00118: ReduceLROnPlateau reducing learning rate to 8.478038325847592e-05.\n",
      "10/10 [==============================] - 44s 4s/step - loss: 0.0351 - sparse_categorical_accuracy: 0.9886 - val_loss: 0.4213 - val_sparse_categorical_accuracy: 0.9024\n",
      "Epoch 119/200\n",
      "10/10 [==============================] - ETA: 0s - loss: 0.0330 - sparse_categorical_accuracy: 0.9886\n",
      "Epoch 00119: ReduceLROnPlateau reducing learning rate to 8.054136305872817e-05.\n",
      "10/10 [==============================] - 45s 4s/step - loss: 0.0330 - sparse_categorical_accuracy: 0.9886 - val_loss: 0.4207 - val_sparse_categorical_accuracy: 0.9034\n",
      "Epoch 120/200\n",
      "10/10 [==============================] - ETA: 0s - loss: 0.0291 - sparse_categorical_accuracy: 0.9911\n",
      "Epoch 00120: ReduceLROnPlateau reducing learning rate to 7.651429732504766e-05.\n",
      "10/10 [==============================] - 48s 5s/step - loss: 0.0291 - sparse_categorical_accuracy: 0.9911 - val_loss: 0.4215 - val_sparse_categorical_accuracy: 0.9034\n",
      "Epoch 121/200\n",
      "10/10 [==============================] - ETA: 0s - loss: 0.0350 - sparse_categorical_accuracy: 0.9873\n",
      "Epoch 00121: ReduceLROnPlateau reducing learning rate to 7.268858280440327e-05.\n",
      "Restoring model weights from the end of the best epoch.\n",
      "10/10 [==============================] - 47s 5s/step - loss: 0.0350 - sparse_categorical_accuracy: 0.9873 - val_loss: 0.4221 - val_sparse_categorical_accuracy: 0.9043\n",
      "Epoch 00121: early stopping\n"
     ]
    }
   ],
   "source": [
    "history = model.fit(dataset.batch(h['batch_size']),\n",
    "                    epochs = h['epochs'],\n",
    "                    verbose = verbose,\n",
    "                    validation_data = valid.batch(h['batch_size']),\n",
    "                    callbacks = [cb_plateau, cb_stopping])      "
   ]
  },
  {
   "cell_type": "code",
   "execution_count": 58,
   "metadata": {
    "colab": {
     "base_uri": "https://localhost:8080/"
    },
    "executionInfo": {
     "elapsed": 746958,
     "status": "ok",
     "timestamp": 1618371957691,
     "user": {
      "displayName": "Fábio Arbach Oliveira",
      "photoUrl": "https://lh3.googleusercontent.com/a-/AOh14GjQ1ID5GbBg4_uOUilbj0xN5Fy0zXZlC1dYnN-f=s64",
      "userId": "16129273721091616396"
     },
     "user_tz": 180
    },
    "id": "4NiS7aDzC-hd",
    "outputId": "5e79fa00-6d53-4f92-c4d3-32cca9e74f9f"
   },
   "outputs": [
    {
     "name": "stdout",
     "output_type": "stream",
     "text": [
      "Model performance:\n",
      "Loss (train | valid): 0.00554 | 0.413285\n",
      "Accuracy (train | valid): 0.998 | 0.908\n"
     ]
    }
   ],
   "source": [
    "loss, accuracy = model.evaluate(dataset.batch(128), verbose=0)\n",
    "loss = np.round(loss, 6)\n",
    "accuracy = np.round(accuracy, 3)\n",
    "certainty = np.round(np.exp(-loss), 3)\n",
    "\n",
    "val_loss, val_accuracy = model.evaluate(valid.batch(128), verbose=0)\n",
    "val_loss = np.round(val_loss, 6)\n",
    "val_accuracy = np.round(val_accuracy, 3)\n",
    "val_certainty = np.round(np.exp(-val_loss), 3)\n",
    "\n",
    "print(\"Model performance:\")\n",
    "print(\"Loss (train | valid): {} | {}\".format(loss, val_loss))\n",
    "print(\"Accuracy (train | valid): {} | {}\".format(accuracy, val_accuracy))"
   ]
  },
  {
   "cell_type": "code",
   "execution_count": 59,
   "metadata": {
    "colab": {
     "base_uri": "https://localhost:8080/",
     "height": 336
    },
    "executionInfo": {
     "elapsed": 746595,
     "status": "ok",
     "timestamp": 1618371957692,
     "user": {
      "displayName": "Fábio Arbach Oliveira",
      "photoUrl": "https://lh3.googleusercontent.com/a-/AOh14GjQ1ID5GbBg4_uOUilbj0xN5Fy0zXZlC1dYnN-f=s64",
      "userId": "16129273721091616396"
     },
     "user_tz": 180
    },
    "id": "HEiHMvwhdVCr",
    "outputId": "bae35cb7-ea2a-4076-9eda-e1826f24a345"
   },
   "outputs": [
    {
     "data": {
      "image/png": "[encoded data removed]",
      "text/plain": [
       "<Figure size 1080x360 with 2 Axes>"
      ]
     },
     "metadata": {
      "needs_background": "light"
     },
     "output_type": "display_data"
    }
   ],
   "source": [
    "plt.figure(figsize = (15,5))\n",
    "plt.subplot(1,2,1)\n",
    "plt.title('Loss')\n",
    "plt.plot(history.history['loss'])\n",
    "plt.plot(history.history['val_loss'])\n",
    "plt.ylim((0,1.5))\n",
    "\n",
    "plt.subplot(1,2,2)\n",
    "plt.title('Accuracy')\n",
    "plt.plot(history.history['sparse_categorical_accuracy'])\n",
    "plt.plot(history.history['val_sparse_categorical_accuracy'])\n",
    "plt.ylim((.4,1))\n",
    "\n",
    "plt.show()"
   ]
  },
  {
   "cell_type": "code",
   "execution_count": 60,
   "metadata": {
    "executionInfo": {
     "elapsed": 698,
     "status": "ok",
     "timestamp": 1618348674860,
     "user": {
      "displayName": "Fábio Arbach Oliveira",
      "photoUrl": "https://lh3.googleusercontent.com/a-/AOh14GjQ1ID5GbBg4_uOUilbj0xN5Fy0zXZlC1dYnN-f=s64",
      "userId": "16129273721091616396"
     },
     "user_tz": 180
    },
    "id": "FNqC5KE45azD"
   },
   "outputs": [
    {
     "name": "stdout",
     "output_type": "stream",
     "text": [
      "model___2021-04-27_00-01-32___GRU_stack_Softmax.h5\n",
      "tokenizer___2021-04-27_00-01-32.h5\n"
     ]
    }
   ],
   "source": [
    "chdir(HOME)\n",
    "\n",
    "timestamp = time.strftime('%Y-%m-%d_%H-%M-%S')\n",
    "model_filename = 'model___' + timestamp + '___' + model.name + '.h5'\n",
    "tokenizer_filename = 'tokenizer___' + timestamp + '.h5'\n",
    "\n",
    "if 'models' not in listdir():\n",
    "    mkdir('models')\n",
    "\n",
    "model.save(join(HOME, 'models', model_filename))\n",
    "\n",
    "with open(join(HOME, 'models', tokenizer_filename), 'wb') as file:\n",
    "    pickle.dump(tokenizer, file)\n",
    "    \n",
    "print(model_filename)\n",
    "print(tokenizer_filename)\n",
    "    \n",
    "# load with:\n",
    "#with open(join(HOME, 'models', tokenizer_filename), 'rb') as file:\n",
    "#    tk_load = pickle.load(file)"
   ]
  },
  {
   "cell_type": "code",
   "execution_count": 61,
   "metadata": {},
   "outputs": [
    {
     "name": "stdout",
     "output_type": "stream",
     "text": [
      "Model performance:\n",
      "Loss (train | valid): 0.00554 | 0.413285\n",
      "Accuracy (train | valid): 0.998 | 0.908\n",
      "{'epochs': 200, 'learning_rate': 0.01, 'batch_size': 256, 'recurrent_units': 128, 'dropout': 0.6, 'recurrent_dropout': 0, 'reduce_lr_factor': 0.95, 'reduce_lr_patience': 0, 'early_stopping_patience': 50}\n",
      "model___2021-04-27_00-01-32___GRU_stack_Softmax.h5\n",
      "tokenizer___2021-04-27_00-01-32.h5\n"
     ]
    },
    {
     "data": {
      "image/png": "[encoded data removed]",
      "text/plain": [
       "<Figure size 1080x360 with 2 Axes>"
      ]
     },
     "metadata": {
      "needs_background": "light"
     },
     "output_type": "display_data"
    }
   ],
   "source": [
    "# print performance log (everything combined for 1 screenshot!)\n",
    "\n",
    "print(\"Model performance:\")\n",
    "print(\"Loss (train | valid): {} | {}\".format(loss, val_loss))\n",
    "print(\"Accuracy (train | valid): {} | {}\".format(accuracy, val_accuracy))\n",
    "\n",
    "print(h)\n",
    "\n",
    "print(model_filename)\n",
    "print(tokenizer_filename)\n",
    "\n",
    "plt.figure(figsize = (15,5))\n",
    "plt.subplot(1,2,1)\n",
    "plt.title('Loss')\n",
    "plt.plot(history.history['loss'])\n",
    "plt.plot(history.history['val_loss'])\n",
    "plt.ylim((0,1.5))\n",
    "\n",
    "plt.subplot(1,2,2)\n",
    "plt.title('Accuracy')\n",
    "plt.plot(history.history['sparse_categorical_accuracy'])\n",
    "plt.plot(history.history['val_sparse_categorical_accuracy'])\n",
    "plt.ylim((.4,1))\n",
    "\n",
    "plt.show()"
   ]
  },
  {
   "cell_type": "code",
   "execution_count": null,
   "metadata": {},
   "outputs": [],
   "source": []
  }
 ],
 "metadata": {
  "accelerator": "GPU",
  "colab": {
   "authorship_tag": "ABX9TyN9QeA5IZzqNrZrcrHQ8OvI",
   "collapsed_sections": [
    "tTulQOF4S2Uf",
    "8oEp-AEHS6h-",
    "Nvc0gasbduTs"
   ],
   "name": "classify_requirements.ipynb",
   "provenance": []
  },
  "kernelspec": {
   "display_name": "Python 3",
   "language": "python",
   "name": "python3"
  },
  "language_info": {
   "codemirror_mode": {
    "name": "ipython",
    "version": 3
   },
   "file_extension": ".py",
   "mimetype": "text/x-python",
   "name": "python",
   "nbconvert_exporter": "python",
   "pygments_lexer": "ipython3",
   "version": "3.8.5"
  }
 },
 "nbformat": 4,
 "nbformat_minor": 1
}
