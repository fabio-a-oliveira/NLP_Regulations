{
 "cells": [
  {
   "cell_type": "markdown",
   "metadata": {
    "id": "neagr32QZhDd"
   },
   "source": [
    "# Setup"
   ]
  },
  {
   "cell_type": "markdown",
   "metadata": {
    "id": "FyULJSLSdqdS"
   },
   "source": [
    "## Import libraries"
   ]
  },
  {
   "cell_type": "code",
   "execution_count": 93,
   "metadata": {
    "executionInfo": {
     "elapsed": 2148,
     "status": "ok",
     "timestamp": 1618336318433,
     "user": {
      "displayName": "Fábio Arbach Oliveira",
      "photoUrl": "https://lh3.googleusercontent.com/a-/AOh14GjQ1ID5GbBg4_uOUilbj0xN5Fy0zXZlC1dYnN-f=s64",
      "userId": "16129273721091616396"
     },
     "user_tz": 180
    },
    "id": "lYySdeoQZNtL"
   },
   "outputs": [],
   "source": [
    "import tensorflow as tf\n",
    "import numpy as np\n",
    "import pandas as pd\n",
    "from os import chdir, mkdir, getcwd, listdir\n",
    "from os.path import join\n",
    "import requests\n",
    "from zipfile import ZipFile\n",
    "import matplotlib.pyplot as plt\n",
    "import time\n",
    "import pickle"
   ]
  },
  {
   "cell_type": "code",
   "execution_count": 6,
   "metadata": {
    "executionInfo": {
     "elapsed": 2140,
     "status": "ok",
     "timestamp": 1618336318435,
     "user": {
      "displayName": "Fábio Arbach Oliveira",
      "photoUrl": "https://lh3.googleusercontent.com/a-/AOh14GjQ1ID5GbBg4_uOUilbj0xN5Fy0zXZlC1dYnN-f=s64",
      "userId": "16129273721091616396"
     },
     "user_tz": 180
    },
    "id": "hanO-6hMZiR5"
   },
   "outputs": [],
   "source": [
    "HOME = getcwd()"
   ]
  },
  {
   "cell_type": "markdown",
   "metadata": {
    "id": "-gBFFr7pdnN2"
   },
   "source": [
    "## Download dataset"
   ]
  },
  {
   "cell_type": "markdown",
   "metadata": {
    "id": "tTulQOF4S2Uf"
   },
   "source": [
    "### FAR Part 121"
   ]
  },
  {
   "cell_type": "code",
   "execution_count": 7,
   "metadata": {
    "colab": {
     "base_uri": "https://localhost:8080/",
     "height": 402
    },
    "executionInfo": {
     "elapsed": 1508,
     "status": "ok",
     "timestamp": 1618343262327,
     "user": {
      "displayName": "Fábio Arbach Oliveira",
      "photoUrl": "https://lh3.googleusercontent.com/a-/AOh14GjQ1ID5GbBg4_uOUilbj0xN5Fy0zXZlC1dYnN-f=s64",
      "userId": "16129273721091616396"
     },
     "user_tz": 180
    },
    "id": "xjMyHFxlZ6Ng",
    "outputId": "68b09758-752c-40ef-8617-d1f50ca7cadf"
   },
   "outputs": [
    {
     "data": {
      "text/html": [
       "<div>\n",
       "<style scoped>\n",
       "    .dataframe tbody tr th:only-of-type {\n",
       "        vertical-align: middle;\n",
       "    }\n",
       "\n",
       "    .dataframe tbody tr th {\n",
       "        vertical-align: top;\n",
       "    }\n",
       "\n",
       "    .dataframe thead th {\n",
       "        text-align: right;\n",
       "    }\n",
       "</style>\n",
       "<table border=\"1\" class=\"dataframe\">\n",
       "  <thead>\n",
       "    <tr style=\"text-align: right;\">\n",
       "      <th></th>\n",
       "      <th>title</th>\n",
       "      <th>requirement</th>\n",
       "      <th>label</th>\n",
       "      <th>tag</th>\n",
       "    </tr>\n",
       "  </thead>\n",
       "  <tbody>\n",
       "    <tr>\n",
       "      <th>0</th>\n",
       "      <td>§ 121.1(a)</td>\n",
       "      <td>§ 121.1   Applicability.\\nThis part prescribes...</td>\n",
       "      <td>0</td>\n",
       "      <td>title only</td>\n",
       "    </tr>\n",
       "    <tr>\n",
       "      <th>1</th>\n",
       "      <td>§ 121.1(b)</td>\n",
       "      <td>§ 121.1   Applicability.\\nThis part prescribes...</td>\n",
       "      <td>0</td>\n",
       "      <td>title only</td>\n",
       "    </tr>\n",
       "    <tr>\n",
       "      <th>2</th>\n",
       "      <td>§ 121.1(c)</td>\n",
       "      <td>§ 121.1   Applicability.\\nThis part prescribes...</td>\n",
       "      <td>0</td>\n",
       "      <td>title only</td>\n",
       "    </tr>\n",
       "    <tr>\n",
       "      <th>3</th>\n",
       "      <td>§ 121.1(d)(1)</td>\n",
       "      <td>§ 121.1   Applicability.\\nThis part prescribes...</td>\n",
       "      <td>0</td>\n",
       "      <td>title only</td>\n",
       "    </tr>\n",
       "    <tr>\n",
       "      <th>4</th>\n",
       "      <td>§ 121.1(d)(2)</td>\n",
       "      <td>§ 121.1   Applicability.\\nThis part prescribes...</td>\n",
       "      <td>0</td>\n",
       "      <td>title only</td>\n",
       "    </tr>\n",
       "    <tr>\n",
       "      <th>...</th>\n",
       "      <td>...</td>\n",
       "      <td>...</td>\n",
       "      <td>...</td>\n",
       "      <td>...</td>\n",
       "    </tr>\n",
       "    <tr>\n",
       "      <th>2354</th>\n",
       "      <td>§ 121.1500(b)(3)</td>\n",
       "      <td>§ 121.1500   SFAR No. 111 - Lavatory Oxygen Sy...</td>\n",
       "      <td>2</td>\n",
       "      <td>operator</td>\n",
       "    </tr>\n",
       "    <tr>\n",
       "      <th>2355</th>\n",
       "      <td>§ 121.1500(b)(4)</td>\n",
       "      <td>§ 121.1500   SFAR No. 111 - Lavatory Oxygen Sy...</td>\n",
       "      <td>2</td>\n",
       "      <td>operator</td>\n",
       "    </tr>\n",
       "    <tr>\n",
       "      <th>2356</th>\n",
       "      <td>§ 121.1500(b)(5)</td>\n",
       "      <td>§ 121.1500   SFAR No. 111 - Lavatory Oxygen Sy...</td>\n",
       "      <td>2</td>\n",
       "      <td>operator</td>\n",
       "    </tr>\n",
       "    <tr>\n",
       "      <th>2357</th>\n",
       "      <td>§ 121.1500(c)</td>\n",
       "      <td>§ 121.1500   SFAR No. 111 - Lavatory Oxygen Sy...</td>\n",
       "      <td>2</td>\n",
       "      <td>operator</td>\n",
       "    </tr>\n",
       "    <tr>\n",
       "      <th>2358</th>\n",
       "      <td>§ 121.1500(d)</td>\n",
       "      <td>§ 121.1500   SFAR No. 111 - Lavatory Oxygen Sy...</td>\n",
       "      <td>2</td>\n",
       "      <td>operator</td>\n",
       "    </tr>\n",
       "  </tbody>\n",
       "</table>\n",
       "<p>2359 rows × 4 columns</p>\n",
       "</div>"
      ],
      "text/plain": [
       "                 title                                        requirement  \\\n",
       "0           § 121.1(a)  § 121.1   Applicability.\\nThis part prescribes...   \n",
       "1           § 121.1(b)  § 121.1   Applicability.\\nThis part prescribes...   \n",
       "2           § 121.1(c)  § 121.1   Applicability.\\nThis part prescribes...   \n",
       "3        § 121.1(d)(1)  § 121.1   Applicability.\\nThis part prescribes...   \n",
       "4        § 121.1(d)(2)  § 121.1   Applicability.\\nThis part prescribes...   \n",
       "...                ...                                                ...   \n",
       "2354  § 121.1500(b)(3)  § 121.1500   SFAR No. 111 - Lavatory Oxygen Sy...   \n",
       "2355  § 121.1500(b)(4)  § 121.1500   SFAR No. 111 - Lavatory Oxygen Sy...   \n",
       "2356  § 121.1500(b)(5)  § 121.1500   SFAR No. 111 - Lavatory Oxygen Sy...   \n",
       "2357     § 121.1500(c)  § 121.1500   SFAR No. 111 - Lavatory Oxygen Sy...   \n",
       "2358     § 121.1500(d)  § 121.1500   SFAR No. 111 - Lavatory Oxygen Sy...   \n",
       "\n",
       "      label         tag  \n",
       "0         0  title only  \n",
       "1         0  title only  \n",
       "2         0  title only  \n",
       "3         0  title only  \n",
       "4         0  title only  \n",
       "...     ...         ...  \n",
       "2354      2    operator  \n",
       "2355      2    operator  \n",
       "2356      2    operator  \n",
       "2357      2    operator  \n",
       "2358      2    operator  \n",
       "\n",
       "[2359 rows x 4 columns]"
      ]
     },
     "execution_count": 7,
     "metadata": {},
     "output_type": "execute_result"
    }
   ],
   "source": [
    "filepath = join(HOME, 'Regulations', 'FAR_Part121_nodes_labelled.xlsx')\n",
    "df_FAA = pd.read_excel(filepath)[['title', 'requirement', 'label', 'tag']]\n",
    "df_FAA"
   ]
  },
  {
   "cell_type": "code",
   "execution_count": 8,
   "metadata": {
    "colab": {
     "base_uri": "https://localhost:8080/",
     "height": 166
    },
    "executionInfo": {
     "elapsed": 685,
     "status": "ok",
     "timestamp": 1618343266107,
     "user": {
      "displayName": "Fábio Arbach Oliveira",
      "photoUrl": "https://lh3.googleusercontent.com/a-/AOh14GjQ1ID5GbBg4_uOUilbj0xN5Fy0zXZlC1dYnN-f=s64",
      "userId": "16129273721091616396"
     },
     "user_tz": 180
    },
    "id": "VvMBfkoBZiUU",
    "outputId": "f57854c0-9b4b-4f33-c3e0-53a8c92a8289"
   },
   "outputs": [
    {
     "data": {
      "text/html": [
       "<div>\n",
       "<style scoped>\n",
       "    .dataframe tbody tr th:only-of-type {\n",
       "        vertical-align: middle;\n",
       "    }\n",
       "\n",
       "    .dataframe tbody tr th {\n",
       "        vertical-align: top;\n",
       "    }\n",
       "\n",
       "    .dataframe thead th {\n",
       "        text-align: right;\n",
       "    }\n",
       "</style>\n",
       "<table border=\"1\" class=\"dataframe\">\n",
       "  <thead>\n",
       "    <tr style=\"text-align: right;\">\n",
       "      <th></th>\n",
       "      <th>tag</th>\n",
       "    </tr>\n",
       "    <tr>\n",
       "      <th>tag</th>\n",
       "      <th></th>\n",
       "    </tr>\n",
       "  </thead>\n",
       "  <tbody>\n",
       "    <tr>\n",
       "      <th>aircraft</th>\n",
       "      <td>769</td>\n",
       "    </tr>\n",
       "    <tr>\n",
       "      <th>operator</th>\n",
       "      <td>1376</td>\n",
       "    </tr>\n",
       "    <tr>\n",
       "      <th>title only</th>\n",
       "      <td>214</td>\n",
       "    </tr>\n",
       "  </tbody>\n",
       "</table>\n",
       "</div>"
      ],
      "text/plain": [
       "             tag\n",
       "tag             \n",
       "aircraft     769\n",
       "operator    1376\n",
       "title only   214"
      ]
     },
     "execution_count": 8,
     "metadata": {},
     "output_type": "execute_result"
    }
   ],
   "source": [
    "df_FAA.groupby('tag').agg({'tag':'count'})"
   ]
  },
  {
   "cell_type": "markdown",
   "metadata": {
    "id": "8oEp-AEHS6h-"
   },
   "source": [
    "### RBAC 121"
   ]
  },
  {
   "cell_type": "code",
   "execution_count": null,
   "metadata": {
    "colab": {
     "base_uri": "https://localhost:8080/",
     "height": 402
    },
    "executionInfo": {
     "elapsed": 1123,
     "status": "ok",
     "timestamp": 1618343270008,
     "user": {
      "displayName": "Fábio Arbach Oliveira",
      "photoUrl": "https://lh3.googleusercontent.com/a-/AOh14GjQ1ID5GbBg4_uOUilbj0xN5Fy0zXZlC1dYnN-f=s64",
      "userId": "16129273721091616396"
     },
     "user_tz": 180
    },
    "id": "00Dn-OnrS_F1",
    "outputId": "88c7d71e-f677-4c06-a774-7170e2207ec5"
   },
   "outputs": [],
   "source": [
    "#################### \n",
    "#filepath = join(HOME, 'Regulations', 'RBAC121_sections.xlsx')\n",
    "#filepath = join(HOME, 'Regulations', 'RBAC121_nodes_labelled.xlsx')\n",
    "#df_ANAC = pd.read_excel(filepath)[['title', 'requirement', 'label', 'tag']]"
   ]
  },
  {
   "cell_type": "code",
   "execution_count": null,
   "metadata": {
    "colab": {
     "base_uri": "https://localhost:8080/",
     "height": 166
    },
    "executionInfo": {
     "elapsed": 751,
     "status": "ok",
     "timestamp": 1618343296124,
     "user": {
      "displayName": "Fábio Arbach Oliveira",
      "photoUrl": "https://lh3.googleusercontent.com/a-/AOh14GjQ1ID5GbBg4_uOUilbj0xN5Fy0zXZlC1dYnN-f=s64",
      "userId": "16129273721091616396"
     },
     "user_tz": 180
    },
    "id": "3EzIUHgcxqgE",
    "outputId": "ee8dd991-b81a-484d-8996-8e52143f8f4f"
   },
   "outputs": [],
   "source": [
    "#df_ANAC.groupby('tag').agg({'tag':'count'})"
   ]
  },
  {
   "cell_type": "markdown",
   "metadata": {
    "id": "vvLFnGvhi85X"
   },
   "source": [
    "## Create and fit tokenizer"
   ]
  },
  {
   "cell_type": "code",
   "execution_count": 9,
   "metadata": {
    "colab": {
     "base_uri": "https://localhost:8080/"
    },
    "executionInfo": {
     "elapsed": 756,
     "status": "ok",
     "timestamp": 1618343839364,
     "user": {
      "displayName": "Fábio Arbach Oliveira",
      "photoUrl": "https://lh3.googleusercontent.com/a-/AOh14GjQ1ID5GbBg4_uOUilbj0xN5Fy0zXZlC1dYnN-f=s64",
      "userId": "16129273721091616396"
     },
     "user_tz": 180
    },
    "id": "kUr2Sjc5fpdB",
    "outputId": "224e0e8e-9aff-4659-bdb0-182e4808e001"
   },
   "outputs": [
    {
     "name": "stdout",
     "output_type": "stream",
     "text": [
      "Dictionary size: 4845\n",
      "Word examples: ['<OOV>', 'the', 'of', 'and', 'a', 'in', '121', 'to', '§', 'or', 'for', 'this', 'flight', 'that', 'airplane', 'is', 'an', 'certificate', 'may', 'section', 'must', 'be', 'by', 'each', 'as', 'with', 'holder', 'training', 'b', 'paragraph', 'required', 'operations', 'person', 'at', 'following', 'requirements', 'no', 'part', '1', 'any', 'under', 'data', 'on', 'airplanes', 'c', 'are', 'unless', 'not', 'approved', '2', 'equipment', 'pilot', 'engine', 'it', 'aircraft', 'except', 'passenger', 'if', 'from', 'type', 'program', 'provided', 'd', 'more', 'use', 'after', 'than', 'all', 'maintenance', 'emergency', 'information', 'one', 'system', 'operate', 'airport', 'recorders', 'time', 'category', 'powered', 'shall', 'which', 'limitations', 'operating', 'has', '3', 'i', 'crewmember', 'digital', 'administrator', 'specified', 'least', 'other', 'e', 'transport', 'include', 'command', 'chapter', 'operation', 'hours', 'applicable']\n"
     ]
    }
   ],
   "source": [
    "tokenizer = tf.keras.preprocessing.text.Tokenizer(oov_token='<OOV>')\n",
    "tokenizer.fit_on_texts(df_FAA.requirement.to_list())\n",
    "#tokenizer.fit_on_texts(df_ANAC.requirement.to_list())\n",
    "\n",
    "dict_size = len(tokenizer.word_index)\n",
    "\n",
    "print('Dictionary size: {}'.format(dict_size))\n",
    "print('Word examples: ', end='')\n",
    "print(list(tokenizer.word_index)[:100])"
   ]
  },
  {
   "cell_type": "markdown",
   "metadata": {
    "id": "Nvc0gasbduTs"
   },
   "source": [
    "## Download GloVe"
   ]
  },
  {
   "cell_type": "code",
   "execution_count": 43,
   "metadata": {
    "executionInfo": {
     "elapsed": 21558,
     "status": "ok",
     "timestamp": 1618336337893,
     "user": {
      "displayName": "Fábio Arbach Oliveira",
      "photoUrl": "https://lh3.googleusercontent.com/a-/AOh14GjQ1ID5GbBg4_uOUilbj0xN5Fy0zXZlC1dYnN-f=s64",
      "userId": "16129273721091616396"
     },
     "user_tz": 180
    },
    "id": "0MWgQjL-duxR"
   },
   "outputs": [],
   "source": [
    "URL = 'http://nlp.stanford.edu/data/glove.6B.zip'\n",
    "chdir(HOME)\n",
    "\n",
    "if 'GloVe' not in listdir():\n",
    "    mkdir('GloVe')\n",
    "\n",
    "chdir(join(HOME, 'GloVe'))\n",
    "\n",
    "if 'glove.6B.300d.txt' not in listdir():\n",
    "    r = requests.get(URL)\n",
    "    with open('glove.6B.zip', 'wb') as file:\n",
    "        file.write(r.content)\n",
    "    zip = zipfile.ZipFile('glove.6B.zip')\n",
    "    zip.extractall()\n",
    "    \n",
    "chdir(HOME)"
   ]
  },
  {
   "cell_type": "markdown",
   "metadata": {
    "id": "aXJ--rB3fmTx"
   },
   "source": [
    "## Create embedding matrix"
   ]
  },
  {
   "cell_type": "code",
   "execution_count": 44,
   "metadata": {
    "executionInfo": {
     "elapsed": 69636,
     "status": "ok",
     "timestamp": 1618343763994,
     "user": {
      "displayName": "Fábio Arbach Oliveira",
      "photoUrl": "https://lh3.googleusercontent.com/a-/AOh14GjQ1ID5GbBg4_uOUilbj0xN5Fy0zXZlC1dYnN-f=s64",
      "userId": "16129273721091616396"
     },
     "user_tz": 180
    },
    "id": "waNKhBwpjAzy"
   },
   "outputs": [],
   "source": [
    "chdir(HOME)\n",
    "\n",
    "keys, vectors = [], []\n",
    "\n",
    "with open(join(HOME, 'GloVe', 'glove.6B.300d.txt'), encoding='utf-8') as file:\n",
    "    for line in file:\n",
    "        key, vector = line.split(' ', maxsplit=1)\n",
    "        vector = np.array(vector.split(' ')).astype('float')\n",
    "        keys.append(key)\n",
    "        vectors.append(vector)\n",
    "\n",
    "embedding_dict = dict(zip(keys, vectors))"
   ]
  },
  {
   "cell_type": "code",
   "execution_count": 45,
   "metadata": {
    "colab": {
     "base_uri": "https://localhost:8080/"
    },
    "executionInfo": {
     "elapsed": 824,
     "status": "ok",
     "timestamp": 1618343853976,
     "user": {
      "displayName": "Fábio Arbach Oliveira",
      "photoUrl": "https://lh3.googleusercontent.com/a-/AOh14GjQ1ID5GbBg4_uOUilbj0xN5Fy0zXZlC1dYnN-f=s64",
      "userId": "16129273721091616396"
     },
     "user_tz": 180
    },
    "id": "fqsat_eMn0tC",
    "outputId": "b6f18d2d-8c96-42e8-d44d-9c73a1309f8a"
   },
   "outputs": [
    {
     "name": "stdout",
     "output_type": "stream",
     "text": [
      "Words without available embedding:\n",
      "<OOV>, §, holder's, §§, aqp, nontransport, “when, installed”, flightcrew, operator's, ewis, turbopropeller, °c, airplane's, utlitize, fstd, nonturbine, manufacturer's, “no, 344a, reseating, “conditions, icing”, “e”, smoking”, pilot's, crewmember's, redispatch, “d”, nonpressurized, person's, “b”, pdsc, rffs, “a”, govinfo, observer's, vso2, 422b, “c”, passenger's, dfdr, 422a, belt”, microlamberts, pretakeoff, series6048, clearway, child's, “fasten, airsep, sequal, wv050, fimm, sr422b, “seat, “this, dfdau, fdau, lrns, lrcs, 119b, 119a, 04a, engineer's, fstds, individual's, inogen, lifechoice, 41104, applicant's, notice”, “training, provider”, provider's, h25, flugtechnische, illyushin, 96t, stopways, adr's, 079, sr422, placarded, “on”, “off”, aircraft”, sideward, member's, crewmembers', nondimming, altitude”, sd3, c124a, tso's, c74b, c74c, c112, c151, c123a, ifsds, ifsd, 380a, dispatcher's, ffss, redispatching, inspector's, evaluator's, physician's, 00400, tdze, “direct, access”, nondiscernible, aircraft's, efvs, featherings, 6020, latestnot, seriesa318, seriesa330, 40°, nopac, pacots, 78°, 60°, airport's, 25504, 73125, birdproof, sr422a, stopway, 01d, l1049b, l1649a, pilots', deicer, tiedown, 360°, flowmeter, 4005, 5006, 6007, more8, bromochlorofluoromethane, “on, “off, “armed”, 70°, “open”, occupiable, crossaisles, tailcone, standards”, amsafe, 4082, “internal, device”, “liner”, seated”, “federal, “cabin, “flight, wearer's, 1900c, nonwire, “installation”, 0631, propfan, by§, nonroutine, mechanic's, turnbacks, uncorrectable, chdo, egressing, satifactorily, “good”, pic's, attendant's, nonsafety, “movement, 44732, 110a, “aviation, 548a, 110b, “dod, operation's, “final, °f, “the, activox, solo2, xpo2, oxlife, easypulse, evergo, simplygo, oxywell, vbox, engining, 44706, “air, “class, airport”, redeiced, “u, airports”, nonprecision, unairworthy, itemization, “advanced, program”, “aqp”, “confidential”, faa's, requalifying, comat, orperson, “fatigue, 2033048, 1033040, 2033034, series6030, series6040, series6035, 6040, 6033, series60see, 6030, series6016, series72see, 7176060, 5003075, 900er6075, 200b, 200f, 747sr3020, 400d, 400f6020, 7576050, 7676050, 3006040, 200lr, 300er7240, 777f7211, 2d15, 2d24, 17072see, 19072see, 0070, 01003090, 10113036, 1883026, 8f3050, 30100, 906060, 153042, 30f, 40f3030, 10f6042, 30f6030, 11f6020, certificate30, caravelle15, 100c20, 72030, 44d4, 44j20, 70015, 30510, 10120, dev50, 07a47, dev43, rj70a, rj85a, rj100a, 23m1, 4c8, gv40, sp40, 96t10, 50a01, 141a, seriesa300, "
     ]
    }
   ],
   "source": [
    "embedding_dim = 300\n",
    "embedding_matrix = np.zeros((dict_size+1, embedding_dim))\n",
    "\n",
    "print('Words without available embedding:')\n",
    "for pos, key in enumerate(tokenizer.word_index.keys()):\n",
    "    if key in embedding_dict.keys():\n",
    "        embedding_matrix[pos,:] = embedding_dict[key]\n",
    "    else:\n",
    "        print(key, end=', ')"
   ]
  },
  {
   "cell_type": "markdown",
   "metadata": {
    "id": "NCvYaV3nsvrN"
   },
   "source": [
    "## Prepare dataset object"
   ]
  },
  {
   "cell_type": "code",
   "execution_count": 48,
   "metadata": {
    "executionInfo": {
     "elapsed": 853,
     "status": "ok",
     "timestamp": 1618343877492,
     "user": {
      "displayName": "Fábio Arbach Oliveira",
      "photoUrl": "https://lh3.googleusercontent.com/a-/AOh14GjQ1ID5GbBg4_uOUilbj0xN5Fy0zXZlC1dYnN-f=s64",
      "userId": "16129273721091616396"
     },
     "user_tz": 180
    },
    "id": "HzdMpQy-swOt"
   },
   "outputs": [],
   "source": [
    "y = np.array(df_FAA.label)\n",
    "x = df_FAA.requirement.map(lambda x: x.split('  ')[1])\n",
    "x = np.array(x)\n",
    "x = tokenizer.texts_to_sequences(x)\n",
    "\n",
    "#y_valid = np.array(df_ANAC.label)\n",
    "#x_valid = df_ANAC.requirement\n",
    "#x_valid = np.array(x_valid)\n",
    "#x_valid = tokenizer.texts_to_sequences(x_valid)"
   ]
  },
  {
   "cell_type": "code",
   "execution_count": 49,
   "metadata": {
    "colab": {
     "base_uri": "https://localhost:8080/",
     "height": 336
    },
    "executionInfo": {
     "elapsed": 1015,
     "status": "ok",
     "timestamp": 1618343878089,
     "user": {
      "displayName": "Fábio Arbach Oliveira",
      "photoUrl": "https://lh3.googleusercontent.com/a-/AOh14GjQ1ID5GbBg4_uOUilbj0xN5Fy0zXZlC1dYnN-f=s64",
      "userId": "16129273721091616396"
     },
     "user_tz": 180
    },
    "id": "RBEZl2lkvfgm",
    "outputId": "dea12b49-06d5-453b-a430-08023a76745e"
   },
   "outputs": [
    {
     "data": {
      "image/png": "[encoded data removed]",
      "text/plain": [
       "<Figure size 1080x360 with 1 Axes>"
      ]
     },
     "metadata": {
      "needs_background": "light"
     },
     "output_type": "display_data"
    }
   ],
   "source": [
    "plt.figure(figsize = (15,5))\n",
    "plt.hist(np.array([len(seq) for seq in x]), 50)\n",
    "plt.title('Histogram: number of tokens per requirements')\n",
    "plt.show()"
   ]
  },
  {
   "cell_type": "code",
   "execution_count": 50,
   "metadata": {
    "executionInfo": {
     "elapsed": 493,
     "status": "ok",
     "timestamp": 1618343879066,
     "user": {
      "displayName": "Fábio Arbach Oliveira",
      "photoUrl": "https://lh3.googleusercontent.com/a-/AOh14GjQ1ID5GbBg4_uOUilbj0xN5Fy0zXZlC1dYnN-f=s64",
      "userId": "16129273721091616396"
     },
     "user_tz": 180
    },
    "id": "ZfwRpojbvfdN"
   },
   "outputs": [],
   "source": [
    "sequence_length = 200\n",
    "\n",
    "x = tf.keras.preprocessing.sequence.pad_sequences(x,maxlen=sequence_length, truncating='pre', padding='pre')\n",
    "x = np.array(x)\n",
    "\n",
    "#x_valid = tf.keras.preprocessing.sequence.pad_sequences(x_valid,maxlen=sequence_length, truncating='pre', padding='pre')\n",
    "#x_valid = np.array(x_valid)"
   ]
  },
  {
   "cell_type": "code",
   "execution_count": 51,
   "metadata": {
    "executionInfo": {
     "elapsed": 552,
     "status": "ok",
     "timestamp": 1618343880205,
     "user": {
      "displayName": "Fábio Arbach Oliveira",
      "photoUrl": "https://lh3.googleusercontent.com/a-/AOh14GjQ1ID5GbBg4_uOUilbj0xN5Fy0zXZlC1dYnN-f=s64",
      "userId": "16129273721091616396"
     },
     "user_tz": 180
    },
    "id": "hfPYlhlXvfaT"
   },
   "outputs": [],
   "source": [
    "x = tf.data.Dataset.from_tensor_slices(x)\n",
    "#x = tf.data.Dataset.from_tensor_slices(np.zeros((y.shape[0], sequence_length))) # uncomment to test with null input\n",
    "y = tf.data.Dataset.from_tensor_slices(y)\n",
    "dataset = tf.data.Dataset.zip((x,y)).shuffle(buffer_size = 200, seed=20210413)\n",
    "\n",
    "#x_valid = tf.data.Dataset.from_tensor_slices(x_valid)\n",
    "#y_valid = tf.data.Dataset.from_tensor_slices(y_valid)\n",
    "#valid = tf.data.Dataset.zip((x_valid, y_valid))"
   ]
  },
  {
   "cell_type": "markdown",
   "metadata": {
    "id": "RYZuiTnqZhHq"
   },
   "source": [
    "# Build model"
   ]
  },
  {
   "cell_type": "code",
   "execution_count": 78,
   "metadata": {
    "executionInfo": {
     "elapsed": 889,
     "status": "ok",
     "timestamp": 1618371210535,
     "user": {
      "displayName": "Fábio Arbach Oliveira",
      "photoUrl": "https://lh3.googleusercontent.com/a-/AOh14GjQ1ID5GbBg4_uOUilbj0xN5Fy0zXZlC1dYnN-f=s64",
      "userId": "16129273721091616396"
     },
     "user_tz": 180
    },
    "id": "NlihFSgNdVLQ"
   },
   "outputs": [],
   "source": [
    "# hyperparameters\n",
    "h = {'epochs' : 100,\n",
    "     'learning_rate' : .01,\n",
    "     'batch_size' : 256,\n",
    "     'recurrent_units' : 64,\n",
    "     'dropout' : .20,\n",
    "     'recurrent_dropout' : .05,\n",
    "     'reduce_lr_factor' : 0.2,\n",
    "     'reduce_lr_patience' : 10,\n",
    "     'early_stopping_patience' : 20}\n",
    "\n",
    "verbose = 1"
   ]
  },
  {
   "cell_type": "code",
   "execution_count": 79,
   "metadata": {
    "colab": {
     "base_uri": "https://localhost:8080/"
    },
    "executionInfo": {
     "elapsed": 1658,
     "status": "ok",
     "timestamp": 1618371211676,
     "user": {
      "displayName": "Fábio Arbach Oliveira",
      "photoUrl": "https://lh3.googleusercontent.com/a-/AOh14GjQ1ID5GbBg4_uOUilbj0xN5Fy0zXZlC1dYnN-f=s64",
      "userId": "16129273721091616396"
     },
     "user_tz": 180
    },
    "id": "I6cUcgFKdVH4",
    "outputId": "77a9cb2d-be2c-4d27-8dd6-378f4021971d"
   },
   "outputs": [
    {
     "name": "stdout",
     "output_type": "stream",
     "text": [
      "Model: \"Bidirectional_GRU_Softmax\"\n",
      "_________________________________________________________________\n",
      "Layer (type)                 Output Shape              Param #   \n",
      "=================================================================\n",
      "GloVe_6B_300D (Embedding)    (None, 200, 300)          1453800   \n",
      "_________________________________________________________________\n",
      "GRU (GRU)                    (None, 64)                70272     \n",
      "_________________________________________________________________\n",
      "Softmax (Dense)              (None, 3)                 195       \n",
      "=================================================================\n",
      "Total params: 1,524,267\n",
      "Trainable params: 70,467\n",
      "Non-trainable params: 1,453,800\n",
      "_________________________________________________________________\n"
     ]
    }
   ],
   "source": [
    "model = tf.keras.models.Sequential(name = 'Bidirectional_GRU_Softmax')\n",
    "\n",
    "# add embedding layer\n",
    "model.add(tf.keras.layers.Embedding(input_dim = dict_size + 1,\n",
    "                                    output_dim = embedding_dim,\n",
    "                                    embeddings_initializer = tf.keras.initializers.Constant(embedding_matrix),\n",
    "                                    input_shape = [sequence_length],\n",
    "                                    trainable = False,\n",
    "                                    name = \"GloVe_6B_300D\"))\n",
    "\n",
    "# add recurrent layer\n",
    "model.add(tf.keras.layers.GRU(h['recurrent_units'],\n",
    "                              dropout = h['dropout'],\n",
    "                              recurrent_dropout = h['recurrent_dropout'],\n",
    "                              return_sequences = False,\n",
    "                              name = \"GRU\"))\n",
    "\n",
    "# add dense output layer\n",
    "model.add(tf.keras.layers.Dense(3, 'softmax', name = 'Softmax'))\n",
    "\n",
    "# create callbacks\n",
    "cb_plateau = tf.keras.callbacks.ReduceLROnPlateau(factor = h['reduce_lr_factor'], \n",
    "                                                  patience = h['reduce_lr_patience'],\n",
    "                                                  min_lr = h['learning_rate'] / 100,\n",
    "                                                  verbose = 1)\n",
    "cb_stopping = tf.keras.callbacks.EarlyStopping(patience = h['early_stopping_patience'],\n",
    "                                               restore_best_weights = True,\n",
    "                                               monitor = 'val_sparse_categorical_accuracy',\n",
    "                                               verbose = 1)\n",
    "\n",
    "# compile model\n",
    "model.compile(optimizer = tf.keras.optimizers.Nadam(h['learning_rate']),\n",
    "              loss = 'sparse_categorical_crossentropy',\n",
    "              metrics = ['sparse_categorical_accuracy'])\n",
    "model.summary()"
   ]
  },
  {
   "cell_type": "code",
   "execution_count": 80,
   "metadata": {
    "colab": {
     "base_uri": "https://localhost:8080/"
    },
    "executionInfo": {
     "elapsed": 737432,
     "status": "ok",
     "timestamp": 1618371947792,
     "user": {
      "displayName": "Fábio Arbach Oliveira",
      "photoUrl": "https://lh3.googleusercontent.com/a-/AOh14GjQ1ID5GbBg4_uOUilbj0xN5Fy0zXZlC1dYnN-f=s64",
      "userId": "16129273721091616396"
     },
     "user_tz": 180
    },
    "id": "PCLMntx_BBZw",
    "outputId": "f2e68af9-be26-40c6-8615-df8ea1b16603"
   },
   "outputs": [
    {
     "name": "stdout",
     "output_type": "stream",
     "text": [
      "Epoch 1/100\n",
      "10/10 [==============================] - 19s 1s/step - loss: 0.9228 - sparse_categorical_accuracy: 0.6025\n",
      "Epoch 2/100\n",
      "10/10 [==============================] - 14s 1s/step - loss: 1.1547 - sparse_categorical_accuracy: 0.5393\n",
      "Epoch 3/100\n",
      "10/10 [==============================] - 15s 1s/step - loss: 1.1176 - sparse_categorical_accuracy: 0.5136\n",
      "Epoch 4/100\n",
      "10/10 [==============================] - 15s 1s/step - loss: 1.0665 - sparse_categorical_accuracy: 0.5344\n",
      "Epoch 5/100\n",
      "10/10 [==============================] - 17s 2s/step - loss: 0.9344 - sparse_categorical_accuracy: 0.5784\n",
      "Epoch 6/100\n",
      "10/10 [==============================] - 17s 2s/step - loss: 0.8105 - sparse_categorical_accuracy: 0.6313\n",
      "Epoch 7/100\n",
      "10/10 [==============================] - 16s 2s/step - loss: 0.6796 - sparse_categorical_accuracy: 0.6865\n",
      "Epoch 8/100\n",
      "10/10 [==============================] - 16s 2s/step - loss: 0.6716 - sparse_categorical_accuracy: 0.7093\n",
      "Epoch 9/100\n",
      "10/10 [==============================] - 16s 2s/step - loss: 0.4984 - sparse_categorical_accuracy: 0.7960\n",
      "Epoch 10/100\n",
      "10/10 [==============================] - 16s 2s/step - loss: 0.3541 - sparse_categorical_accuracy: 0.8661\n",
      "Epoch 11/100\n",
      "10/10 [==============================] - 16s 2s/step - loss: 0.3169 - sparse_categorical_accuracy: 0.8788\n",
      "Epoch 12/100\n",
      "10/10 [==============================] - 17s 2s/step - loss: 0.1981 - sparse_categorical_accuracy: 0.9310\n",
      "Epoch 13/100\n",
      "10/10 [==============================] - 16s 2s/step - loss: 0.1556 - sparse_categorical_accuracy: 0.9525\n",
      "Epoch 14/100\n",
      "10/10 [==============================] - 16s 2s/step - loss: 0.1164 - sparse_categorical_accuracy: 0.9603\n",
      "Epoch 15/100\n",
      "10/10 [==============================] - 18s 2s/step - loss: 0.1065 - sparse_categorical_accuracy: 0.9668\n",
      "Epoch 16/100\n",
      "10/10 [==============================] - 18s 2s/step - loss: 0.0983 - sparse_categorical_accuracy: 0.9644\n",
      "Epoch 17/100\n",
      "10/10 [==============================] - 17s 2s/step - loss: 0.0584 - sparse_categorical_accuracy: 0.9827\n",
      "Epoch 18/100\n",
      "10/10 [==============================] - 17s 2s/step - loss: 0.0459 - sparse_categorical_accuracy: 0.9859\n",
      "Epoch 19/100\n",
      "10/10 [==============================] - 17s 2s/step - loss: 0.0345 - sparse_categorical_accuracy: 0.9911\n",
      "Epoch 20/100\n",
      "10/10 [==============================] - 17s 2s/step - loss: 0.0285 - sparse_categorical_accuracy: 0.9928\n",
      "Epoch 21/100\n",
      "10/10 [==============================] - 17s 2s/step - loss: 0.0300 - sparse_categorical_accuracy: 0.9920\n",
      "Epoch 22/100\n",
      "10/10 [==============================] - 17s 2s/step - loss: 0.0250 - sparse_categorical_accuracy: 0.9937\n",
      "Epoch 23/100\n",
      "10/10 [==============================] - 17s 2s/step - loss: 0.0412 - sparse_categorical_accuracy: 0.9886\n"
     ]
    }
   ],
   "source": [
    "#history = model.fit(dataset.batch(h['batch_size']),\n",
    "#                    epochs = h['epochs'],\n",
    "#                    verbose = verbose)\n",
    "                    #validation_data = valid.batch(1),\n",
    "                    #callbacks = [cb_plateau, cb_stopping]) # ADD WHEN VALIDATION SET AVAILABLE\n",
    "        \n",
    "history = model.fit(dataset.batch(h['batch_size']),\n",
    "                    epochs = h['epochs'],\n",
    "                    verbose = verbose,\n",
    "                    callbacks = tf.keras.callbacks.EarlyStopping(monitor='sparse_categorical_accuracy',\n",
    "                                                                 patience = 5, min_delta = .01))\n",
    "                    #callbacks = [cb_plateau, cb_stopping]) # ADD WHEN VALIDATION SET AVAILABLE        "
   ]
  },
  {
   "cell_type": "code",
   "execution_count": 81,
   "metadata": {
    "colab": {
     "base_uri": "https://localhost:8080/"
    },
    "executionInfo": {
     "elapsed": 746958,
     "status": "ok",
     "timestamp": 1618371957691,
     "user": {
      "displayName": "Fábio Arbach Oliveira",
      "photoUrl": "https://lh3.googleusercontent.com/a-/AOh14GjQ1ID5GbBg4_uOUilbj0xN5Fy0zXZlC1dYnN-f=s64",
      "userId": "16129273721091616396"
     },
     "user_tz": 180
    },
    "id": "4NiS7aDzC-hd",
    "outputId": "5e79fa00-6d53-4f92-c4d3-32cca9e74f9f"
   },
   "outputs": [],
   "source": [
    "loss, accuracy = model.evaluate(dataset.batch(128), verbose=0)\n",
    "loss = np.round(loss, 6)\n",
    "accuracy = np.round(accuracy, 3)\n",
    "certainty = np.round(np.exp(-loss), 3)\n",
    "\n",
    "#val_loss, val_accuracy = model.evaluate(valid.batch(1), verbose=0)\n",
    "#val_loss = np.round(val_loss, 6)\n",
    "#val_accuracy = np.round(val_accuracy, 3)\n",
    "#val_certainty = np.round(np.exp(-val_loss), 3)\n",
    "\n",
    "#print(\"Model performance:\")\n",
    "#print(\"Loss (train | valid): {} | {}\".format(loss, val_loss))\n",
    "#print(\"Accuracy (train | valid): {} | {}\".format(accuracy, val_accuracy))"
   ]
  },
  {
   "cell_type": "code",
   "execution_count": 82,
   "metadata": {
    "colab": {
     "base_uri": "https://localhost:8080/",
     "height": 336
    },
    "executionInfo": {
     "elapsed": 746595,
     "status": "ok",
     "timestamp": 1618371957692,
     "user": {
      "displayName": "Fábio Arbach Oliveira",
      "photoUrl": "https://lh3.googleusercontent.com/a-/AOh14GjQ1ID5GbBg4_uOUilbj0xN5Fy0zXZlC1dYnN-f=s64",
      "userId": "16129273721091616396"
     },
     "user_tz": 180
    },
    "id": "HEiHMvwhdVCr",
    "outputId": "bae35cb7-ea2a-4076-9eda-e1826f24a345"
   },
   "outputs": [
    {
     "data": {
      "image/png": "[encoded data removed]",
      "text/plain": [
       "<Figure size 1080x360 with 2 Axes>"
      ]
     },
     "metadata": {
      "needs_background": "light"
     },
     "output_type": "display_data"
    }
   ],
   "source": [
    "plt.figure(figsize = (15,5))\n",
    "plt.subplot(1,2,1)\n",
    "plt.title('Loss')\n",
    "plt.plot(history.history['loss'])\n",
    "#plt.plot(history.history['val_loss'])\n",
    "plt.ylim((0,1.5))\n",
    "\n",
    "plt.subplot(1,2,2)\n",
    "plt.title('Accuracy')\n",
    "plt.plot(history.history['sparse_categorical_accuracy'])\n",
    "#plt.plot(history.history['val_sparse_categorical_accuracy'])\n",
    "plt.ylim((.4,1))\n",
    "\n",
    "plt.show()"
   ]
  },
  {
   "cell_type": "code",
   "execution_count": 94,
   "metadata": {
    "executionInfo": {
     "elapsed": 698,
     "status": "ok",
     "timestamp": 1618348674860,
     "user": {
      "displayName": "Fábio Arbach Oliveira",
      "photoUrl": "https://lh3.googleusercontent.com/a-/AOh14GjQ1ID5GbBg4_uOUilbj0xN5Fy0zXZlC1dYnN-f=s64",
      "userId": "16129273721091616396"
     },
     "user_tz": 180
    },
    "id": "FNqC5KE45azD"
   },
   "outputs": [],
   "source": [
    "chdir(HOME)\n",
    "\n",
    "timestamp = time.strftime('%Y-%m-%d_%H-%M-%S')\n",
    "model_filename = 'model___' + timestamp + '___' + model.name + '.h5'\n",
    "tokenizer_filename = 'tokenizer___' + timestamp + '.h5'\n",
    "\n",
    "if 'models' not in listdir():\n",
    "    mkdir('models')\n",
    "\n",
    "model.save(join(HOME, 'models', model_filename))\n",
    "\n",
    "with open(join(HOME, 'models', tokenizer_filename), 'wb') as file:\n",
    "    pickle.dump(tokenizer, file, protocol=pickle.HIGHEST_PROTOCOL)\n",
    "    \n",
    "# load with:\n",
    "#with open(join(HOME, 'models', tokenizer_filename), 'rb') as file:\n",
    "#    tk_load = pickle.load(file)"
   ]
  },
  {
   "cell_type": "code",
   "execution_count": null,
   "metadata": {},
   "outputs": [],
   "source": []
  }
 ],
 "metadata": {
  "accelerator": "GPU",
  "colab": {
   "authorship_tag": "ABX9TyN9QeA5IZzqNrZrcrHQ8OvI",
   "collapsed_sections": [
    "tTulQOF4S2Uf",
    "8oEp-AEHS6h-",
    "Nvc0gasbduTs"
   ],
   "name": "classify_requirements.ipynb",
   "provenance": []
  },
  "kernelspec": {
   "display_name": "Python 3",
   "language": "python",
   "name": "python3"
  },
  "language_info": {
   "codemirror_mode": {
    "name": "ipython",
    "version": 3
   },
   "file_extension": ".py",
   "mimetype": "text/x-python",
   "name": "python",
   "nbconvert_exporter": "python",
   "pygments_lexer": "ipython3",
   "version": "3.8.5"
  }
 },
 "nbformat": 4,
 "nbformat_minor": 1
}
