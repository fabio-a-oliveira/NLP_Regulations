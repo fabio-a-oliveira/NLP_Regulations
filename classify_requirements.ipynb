{
 "cells": [
  {
   "cell_type": "markdown",
   "metadata": {
    "id": "neagr32QZhDd"
   },
   "source": [
    "# Setup"
   ]
  },
  {
   "cell_type": "markdown",
   "metadata": {
    "id": "FyULJSLSdqdS"
   },
   "source": [
    "## Import libraries"
   ]
  },
  {
   "cell_type": "code",
   "execution_count": 1,
   "metadata": {
    "executionInfo": {
     "elapsed": 2148,
     "status": "ok",
     "timestamp": 1618336318433,
     "user": {
      "displayName": "Fábio Arbach Oliveira",
      "photoUrl": "https://lh3.googleusercontent.com/a-/AOh14GjQ1ID5GbBg4_uOUilbj0xN5Fy0zXZlC1dYnN-f=s64",
      "userId": "16129273721091616396"
     },
     "user_tz": 180
    },
    "id": "lYySdeoQZNtL"
   },
   "outputs": [],
   "source": [
    "import tensorflow as tf\n",
    "import numpy as np\n",
    "import pandas as pd\n",
    "from os import chdir, mkdir, getcwd, listdir\n",
    "from os.path import join\n",
    "import requests\n",
    "from zipfile import ZipFile\n",
    "import matplotlib.pyplot as plt"
   ]
  },
  {
   "cell_type": "code",
   "execution_count": 2,
   "metadata": {
    "executionInfo": {
     "elapsed": 2140,
     "status": "ok",
     "timestamp": 1618336318435,
     "user": {
      "displayName": "Fábio Arbach Oliveira",
      "photoUrl": "https://lh3.googleusercontent.com/a-/AOh14GjQ1ID5GbBg4_uOUilbj0xN5Fy0zXZlC1dYnN-f=s64",
      "userId": "16129273721091616396"
     },
     "user_tz": 180
    },
    "id": "hanO-6hMZiR5"
   },
   "outputs": [],
   "source": [
    "HOME = getcwd()"
   ]
  },
  {
   "cell_type": "markdown",
   "metadata": {
    "id": "-gBFFr7pdnN2"
   },
   "source": [
    "## Download dataset"
   ]
  },
  {
   "cell_type": "markdown",
   "metadata": {
    "id": "tTulQOF4S2Uf"
   },
   "source": [
    "### FAR Part 121"
   ]
  },
  {
   "cell_type": "code",
   "execution_count": 18,
   "metadata": {
    "colab": {
     "base_uri": "https://localhost:8080/",
     "height": 402
    },
    "executionInfo": {
     "elapsed": 1508,
     "status": "ok",
     "timestamp": 1618343262327,
     "user": {
      "displayName": "Fábio Arbach Oliveira",
      "photoUrl": "https://lh3.googleusercontent.com/a-/AOh14GjQ1ID5GbBg4_uOUilbj0xN5Fy0zXZlC1dYnN-f=s64",
      "userId": "16129273721091616396"
     },
     "user_tz": 180
    },
    "id": "xjMyHFxlZ6Ng",
    "outputId": "68b09758-752c-40ef-8617-d1f50ca7cadf"
   },
   "outputs": [
    {
     "data": {
      "text/html": [
       "<div>\n",
       "<style scoped>\n",
       "    .dataframe tbody tr th:only-of-type {\n",
       "        vertical-align: middle;\n",
       "    }\n",
       "\n",
       "    .dataframe tbody tr th {\n",
       "        vertical-align: top;\n",
       "    }\n",
       "\n",
       "    .dataframe thead th {\n",
       "        text-align: right;\n",
       "    }\n",
       "</style>\n",
       "<table border=\"1\" class=\"dataframe\">\n",
       "  <thead>\n",
       "    <tr style=\"text-align: right;\">\n",
       "      <th></th>\n",
       "      <th>title</th>\n",
       "      <th>requirement</th>\n",
       "      <th>label</th>\n",
       "      <th>tag</th>\n",
       "    </tr>\n",
       "  </thead>\n",
       "  <tbody>\n",
       "    <tr>\n",
       "      <th>0</th>\n",
       "      <td>§ 121.1(a)</td>\n",
       "      <td>§ 121.1   Applicability.This part prescribes r...</td>\n",
       "      <td>0</td>\n",
       "      <td>title only</td>\n",
       "    </tr>\n",
       "    <tr>\n",
       "      <th>1</th>\n",
       "      <td>§ 121.1(b)</td>\n",
       "      <td>§ 121.1   Applicability.This part prescribes r...</td>\n",
       "      <td>0</td>\n",
       "      <td>title only</td>\n",
       "    </tr>\n",
       "    <tr>\n",
       "      <th>2</th>\n",
       "      <td>§ 121.1(c)</td>\n",
       "      <td>§ 121.1   Applicability.This part prescribes r...</td>\n",
       "      <td>0</td>\n",
       "      <td>title only</td>\n",
       "    </tr>\n",
       "    <tr>\n",
       "      <th>3</th>\n",
       "      <td>§ 121.1(d)(1)</td>\n",
       "      <td>§ 121.1   Applicability.This part prescribes r...</td>\n",
       "      <td>0</td>\n",
       "      <td>title only</td>\n",
       "    </tr>\n",
       "    <tr>\n",
       "      <th>4</th>\n",
       "      <td>§ 121.1(d)(2)</td>\n",
       "      <td>§ 121.1   Applicability.This part prescribes r...</td>\n",
       "      <td>0</td>\n",
       "      <td>title only</td>\n",
       "    </tr>\n",
       "    <tr>\n",
       "      <th>...</th>\n",
       "      <td>...</td>\n",
       "      <td>...</td>\n",
       "      <td>...</td>\n",
       "      <td>...</td>\n",
       "    </tr>\n",
       "    <tr>\n",
       "      <th>2354</th>\n",
       "      <td>§ 121.1500(b)(3)</td>\n",
       "      <td>§ 121.1500   SFAR No. 111 - Lavatory Oxygen Sy...</td>\n",
       "      <td>2</td>\n",
       "      <td>operator</td>\n",
       "    </tr>\n",
       "    <tr>\n",
       "      <th>2355</th>\n",
       "      <td>§ 121.1500(b)(4)</td>\n",
       "      <td>§ 121.1500   SFAR No. 111 - Lavatory Oxygen Sy...</td>\n",
       "      <td>2</td>\n",
       "      <td>operator</td>\n",
       "    </tr>\n",
       "    <tr>\n",
       "      <th>2356</th>\n",
       "      <td>§ 121.1500(b)(5)</td>\n",
       "      <td>§ 121.1500   SFAR No. 111 - Lavatory Oxygen Sy...</td>\n",
       "      <td>2</td>\n",
       "      <td>operator</td>\n",
       "    </tr>\n",
       "    <tr>\n",
       "      <th>2357</th>\n",
       "      <td>§ 121.1500(c)</td>\n",
       "      <td>§ 121.1500   SFAR No. 111 - Lavatory Oxygen Sy...</td>\n",
       "      <td>2</td>\n",
       "      <td>operator</td>\n",
       "    </tr>\n",
       "    <tr>\n",
       "      <th>2358</th>\n",
       "      <td>§ 121.1500(d)</td>\n",
       "      <td>§ 121.1500   SFAR No. 111 - Lavatory Oxygen Sy...</td>\n",
       "      <td>2</td>\n",
       "      <td>operator</td>\n",
       "    </tr>\n",
       "  </tbody>\n",
       "</table>\n",
       "<p>2359 rows × 4 columns</p>\n",
       "</div>"
      ],
      "text/plain": [
       "                 title  ...         tag\n",
       "0           § 121.1(a)  ...  title only\n",
       "1           § 121.1(b)  ...  title only\n",
       "2           § 121.1(c)  ...  title only\n",
       "3        § 121.1(d)(1)  ...  title only\n",
       "4        § 121.1(d)(2)  ...  title only\n",
       "...                ...  ...         ...\n",
       "2354  § 121.1500(b)(3)  ...    operator\n",
       "2355  § 121.1500(b)(4)  ...    operator\n",
       "2356  § 121.1500(b)(5)  ...    operator\n",
       "2357     § 121.1500(c)  ...    operator\n",
       "2358     § 121.1500(d)  ...    operator\n",
       "\n",
       "[2359 rows x 4 columns]"
      ]
     },
     "execution_count": 18,
     "metadata": {
      "tags": []
     },
     "output_type": "execute_result"
    }
   ],
   "source": [
    "URL = 'https://github.com/fabio-a-oliveira/ds-sandbox/blob/master/FAR/ECFR-title14_labelled.xlsx?raw=true'\n",
    "\n",
    "if 'dataset' not in listdir():\n",
    "    mkdir('dataset')\n",
    "\n",
    "r = requests.get(URL)\n",
    "chdir('dataset')\n",
    "with open('ECFR-title14_labelled.xlsx', 'wb') as file:\n",
    "    file.write(r.content)\n",
    "chdir(HOME)\n",
    "\n",
    "df_FAA = pd.read_excel(join(HOME, 'dataset', 'ECFR-title14_labelled.xlsx'))\n",
    "df_FAA = df_FAA[['title', 'requirement', 'label', 'tag']]\n",
    "df_FAA"
   ]
  },
  {
   "cell_type": "code",
   "execution_count": 19,
   "metadata": {
    "colab": {
     "base_uri": "https://localhost:8080/",
     "height": 166
    },
    "executionInfo": {
     "elapsed": 685,
     "status": "ok",
     "timestamp": 1618343266107,
     "user": {
      "displayName": "Fábio Arbach Oliveira",
      "photoUrl": "https://lh3.googleusercontent.com/a-/AOh14GjQ1ID5GbBg4_uOUilbj0xN5Fy0zXZlC1dYnN-f=s64",
      "userId": "16129273721091616396"
     },
     "user_tz": 180
    },
    "id": "VvMBfkoBZiUU",
    "outputId": "f57854c0-9b4b-4f33-c3e0-53a8c92a8289"
   },
   "outputs": [
    {
     "data": {
      "text/html": [
       "<div>\n",
       "<style scoped>\n",
       "    .dataframe tbody tr th:only-of-type {\n",
       "        vertical-align: middle;\n",
       "    }\n",
       "\n",
       "    .dataframe tbody tr th {\n",
       "        vertical-align: top;\n",
       "    }\n",
       "\n",
       "    .dataframe thead th {\n",
       "        text-align: right;\n",
       "    }\n",
       "</style>\n",
       "<table border=\"1\" class=\"dataframe\">\n",
       "  <thead>\n",
       "    <tr style=\"text-align: right;\">\n",
       "      <th></th>\n",
       "      <th>tag</th>\n",
       "    </tr>\n",
       "    <tr>\n",
       "      <th>tag</th>\n",
       "      <th></th>\n",
       "    </tr>\n",
       "  </thead>\n",
       "  <tbody>\n",
       "    <tr>\n",
       "      <th>aircraft</th>\n",
       "      <td>769</td>\n",
       "    </tr>\n",
       "    <tr>\n",
       "      <th>operator</th>\n",
       "      <td>1376</td>\n",
       "    </tr>\n",
       "    <tr>\n",
       "      <th>title only</th>\n",
       "      <td>214</td>\n",
       "    </tr>\n",
       "  </tbody>\n",
       "</table>\n",
       "</div>"
      ],
      "text/plain": [
       "             tag\n",
       "tag             \n",
       "aircraft     769\n",
       "operator    1376\n",
       "title only   214"
      ]
     },
     "execution_count": 19,
     "metadata": {
      "tags": []
     },
     "output_type": "execute_result"
    }
   ],
   "source": [
    "df_FAA.groupby('tag').agg({'tag':'count'})"
   ]
  },
  {
   "cell_type": "markdown",
   "metadata": {
    "id": "8oEp-AEHS6h-"
   },
   "source": [
    "### RBAC 121"
   ]
  },
  {
   "cell_type": "code",
   "execution_count": 20,
   "metadata": {
    "colab": {
     "base_uri": "https://localhost:8080/",
     "height": 402
    },
    "executionInfo": {
     "elapsed": 1123,
     "status": "ok",
     "timestamp": 1618343270008,
     "user": {
      "displayName": "Fábio Arbach Oliveira",
      "photoUrl": "https://lh3.googleusercontent.com/a-/AOh14GjQ1ID5GbBg4_uOUilbj0xN5Fy0zXZlC1dYnN-f=s64",
      "userId": "16129273721091616396"
     },
     "user_tz": 180
    },
    "id": "00Dn-OnrS_F1",
    "outputId": "88c7d71e-f677-4c06-a774-7170e2207ec5"
   },
   "outputs": [
    {
     "data": {
      "text/html": [
       "<div>\n",
       "<style scoped>\n",
       "    .dataframe tbody tr th:only-of-type {\n",
       "        vertical-align: middle;\n",
       "    }\n",
       "\n",
       "    .dataframe tbody tr th {\n",
       "        vertical-align: top;\n",
       "    }\n",
       "\n",
       "    .dataframe thead th {\n",
       "        text-align: right;\n",
       "    }\n",
       "</style>\n",
       "<table border=\"1\" class=\"dataframe\">\n",
       "  <thead>\n",
       "    <tr style=\"text-align: right;\">\n",
       "      <th></th>\n",
       "      <th>title</th>\n",
       "      <th>requirement</th>\n",
       "      <th>label</th>\n",
       "      <th>tag</th>\n",
       "    </tr>\n",
       "  </thead>\n",
       "  <tbody>\n",
       "    <tr>\n",
       "      <th>0</th>\n",
       "      <td>121.1000</td>\n",
       "      <td>Applicability according to RBAC No. 119, which...</td>\n",
       "      <td>0</td>\n",
       "      <td>title only</td>\n",
       "    </tr>\n",
       "    <tr>\n",
       "      <th>1</th>\n",
       "      <td>121.2000</td>\n",
       "      <td>[Reserved] (Wording given by Resolution No. 52...</td>\n",
       "      <td>0</td>\n",
       "      <td>title only</td>\n",
       "    </tr>\n",
       "    <tr>\n",
       "      <th>2</th>\n",
       "      <td>121.3000</td>\n",
       "      <td>[Reserved]</td>\n",
       "      <td>0</td>\n",
       "      <td>title only</td>\n",
       "    </tr>\n",
       "    <tr>\n",
       "      <th>3</th>\n",
       "      <td>121.4000</td>\n",
       "      <td>Applicability of the rules for unauthorized op...</td>\n",
       "      <td>0</td>\n",
       "      <td>title only</td>\n",
       "    </tr>\n",
       "    <tr>\n",
       "      <th>4</th>\n",
       "      <td>121.7000</td>\n",
       "      <td>Definitions The following definitions apply to...</td>\n",
       "      <td>0</td>\n",
       "      <td>title only</td>\n",
       "    </tr>\n",
       "    <tr>\n",
       "      <th>...</th>\n",
       "      <td>...</td>\n",
       "      <td>...</td>\n",
       "      <td>...</td>\n",
       "      <td>...</td>\n",
       "    </tr>\n",
       "    <tr>\n",
       "      <th>355</th>\n",
       "      <td>121.1223</td>\n",
       "      <td>[Reserved]</td>\n",
       "      <td>0</td>\n",
       "      <td>title only</td>\n",
       "    </tr>\n",
       "    <tr>\n",
       "      <th>356</th>\n",
       "      <td>121.1225</td>\n",
       "      <td>Component “Operational security policy and obj...</td>\n",
       "      <td>2</td>\n",
       "      <td>operator</td>\n",
       "    </tr>\n",
       "    <tr>\n",
       "      <th>357</th>\n",
       "      <td>121.1227</td>\n",
       "      <td>“Operational security risk management” compone...</td>\n",
       "      <td>2</td>\n",
       "      <td>operator</td>\n",
       "    </tr>\n",
       "    <tr>\n",
       "      <th>358</th>\n",
       "      <td>121.1229</td>\n",
       "      <td>Component “guarantee of operational safety” in...</td>\n",
       "      <td>2</td>\n",
       "      <td>operator</td>\n",
       "    </tr>\n",
       "    <tr>\n",
       "      <th>359</th>\n",
       "      <td>121.1231</td>\n",
       "      <td>“Promoting operational safety” component relat...</td>\n",
       "      <td>2</td>\n",
       "      <td>operator</td>\n",
       "    </tr>\n",
       "  </tbody>\n",
       "</table>\n",
       "<p>360 rows × 4 columns</p>\n",
       "</div>"
      ],
      "text/plain": [
       "        title  ...         tag\n",
       "0    121.1000  ...  title only\n",
       "1    121.2000  ...  title only\n",
       "2    121.3000  ...  title only\n",
       "3    121.4000  ...  title only\n",
       "4    121.7000  ...  title only\n",
       "..        ...  ...         ...\n",
       "355  121.1223  ...  title only\n",
       "356  121.1225  ...    operator\n",
       "357  121.1227  ...    operator\n",
       "358  121.1229  ...    operator\n",
       "359  121.1231  ...    operator\n",
       "\n",
       "[360 rows x 4 columns]"
      ]
     },
     "execution_count": 20,
     "metadata": {
      "tags": []
     },
     "output_type": "execute_result"
    }
   ],
   "source": [
    "URL = 'https://github.com/fabio-a-oliveira/ds-sandbox/blob/master/RBAC/RBAC121_labelled.xlsx?raw=true'\n",
    "\n",
    "if 'dataset' not in listdir():\n",
    "    mkdir('dataset')\n",
    "\n",
    "r = requests.get(URL)\n",
    "chdir('dataset')\n",
    "with open('RBAC121_labelled.xlsx', 'wb') as file:\n",
    "    file.write(r.content)\n",
    "chdir(HOME)\n",
    "\n",
    "df_ANAC = pd.read_excel(join(HOME, 'dataset', 'RBAC121_labelled.xlsx'))\n",
    "df_ANAC = df_ANAC[['title', 'requirement', 'label', 'tag']]\n",
    "df_ANAC\n"
   ]
  },
  {
   "cell_type": "code",
   "execution_count": 21,
   "metadata": {
    "colab": {
     "base_uri": "https://localhost:8080/",
     "height": 166
    },
    "executionInfo": {
     "elapsed": 751,
     "status": "ok",
     "timestamp": 1618343296124,
     "user": {
      "displayName": "Fábio Arbach Oliveira",
      "photoUrl": "https://lh3.googleusercontent.com/a-/AOh14GjQ1ID5GbBg4_uOUilbj0xN5Fy0zXZlC1dYnN-f=s64",
      "userId": "16129273721091616396"
     },
     "user_tz": 180
    },
    "id": "3EzIUHgcxqgE",
    "outputId": "ee8dd991-b81a-484d-8996-8e52143f8f4f"
   },
   "outputs": [
    {
     "data": {
      "text/html": [
       "<div>\n",
       "<style scoped>\n",
       "    .dataframe tbody tr th:only-of-type {\n",
       "        vertical-align: middle;\n",
       "    }\n",
       "\n",
       "    .dataframe tbody tr th {\n",
       "        vertical-align: top;\n",
       "    }\n",
       "\n",
       "    .dataframe thead th {\n",
       "        text-align: right;\n",
       "    }\n",
       "</style>\n",
       "<table border=\"1\" class=\"dataframe\">\n",
       "  <thead>\n",
       "    <tr style=\"text-align: right;\">\n",
       "      <th></th>\n",
       "      <th>tag</th>\n",
       "    </tr>\n",
       "    <tr>\n",
       "      <th>tag</th>\n",
       "      <th></th>\n",
       "    </tr>\n",
       "  </thead>\n",
       "  <tbody>\n",
       "    <tr>\n",
       "      <th>aircraft</th>\n",
       "      <td>100</td>\n",
       "    </tr>\n",
       "    <tr>\n",
       "      <th>operator</th>\n",
       "      <td>207</td>\n",
       "    </tr>\n",
       "    <tr>\n",
       "      <th>title only</th>\n",
       "      <td>53</td>\n",
       "    </tr>\n",
       "  </tbody>\n",
       "</table>\n",
       "</div>"
      ],
      "text/plain": [
       "            tag\n",
       "tag            \n",
       "aircraft    100\n",
       "operator    207\n",
       "title only   53"
      ]
     },
     "execution_count": 21,
     "metadata": {
      "tags": []
     },
     "output_type": "execute_result"
    }
   ],
   "source": [
    "df_ANAC.groupby('tag').agg({'tag':'count'})"
   ]
  },
  {
   "cell_type": "markdown",
   "metadata": {
    "id": "vvLFnGvhi85X"
   },
   "source": [
    "## Create and fit tokenizer\n",
    "\n",
    "TO-DO: implement some text cleanup"
   ]
  },
  {
   "cell_type": "code",
   "execution_count": 34,
   "metadata": {
    "colab": {
     "base_uri": "https://localhost:8080/"
    },
    "executionInfo": {
     "elapsed": 756,
     "status": "ok",
     "timestamp": 1618343839364,
     "user": {
      "displayName": "Fábio Arbach Oliveira",
      "photoUrl": "https://lh3.googleusercontent.com/a-/AOh14GjQ1ID5GbBg4_uOUilbj0xN5Fy0zXZlC1dYnN-f=s64",
      "userId": "16129273721091616396"
     },
     "user_tz": 180
    },
    "id": "kUr2Sjc5fpdB",
    "outputId": "224e0e8e-9aff-4659-bdb0-182e4808e001"
   },
   "outputs": [
    {
     "name": "stdout",
     "output_type": "stream",
     "text": [
      "Dictionary size: 5896\n",
      "Word examples: ['<OOV>', 'the', 'of', 'and', 'a', 'in', 'to', 'or', 'for', '121', 'this', 'flight', 'that', '§', 'is', 'by', 'an', 'airplane', 'must', 'be', 'certificate', 'section', 'with', 'as', 'may', 'each', 'holder', 'training', 'paragraph', 'at', 'required', 'b', 'operations', 'on', 'requirements', 'no', 'following', 'person', '1', 'any', 'under', 'part', 'are', 'unless', 'approved', 'not', 'data', 'c', 'it', 'aircraft', 'airplanes', 'equipment', 'pilot', 'if', '2', 'type', 'from', 'engine', 'after', 'passenger', 'provided', 'except', 'program', 'emergency', 'than', 'system', 'maintenance', 'more', 'all', 'one', 'which', 'use', 'd', 'information', 'time', 'has', 'operate', 'other', 'operating', 'category', 'least', 'command', 'specified', 'recorders', 'limitations', 'operation', 'airport', 'applicable', 'powered', '3', 'route', 'transport', 'shall', 'used', 'i', 'e', 'procedures', '000', 'have', 'include']\n"
     ]
    }
   ],
   "source": [
    "tokenizer = tf.keras.preprocessing.text.Tokenizer(oov_token='<OOV>')\n",
    "tokenizer.fit_on_texts(df_FAA.requirement.to_list())\n",
    "tokenizer.fit_on_texts(df_ANAC.requirement.to_list())\n",
    "\n",
    "dict_size = len(tokenizer.word_index)\n",
    "\n",
    "print('Dictionary size: {}'.format(dict_size))\n",
    "print('Word examples: ', end='')\n",
    "print(list(tokenizer.word_index)[:100])"
   ]
  },
  {
   "cell_type": "markdown",
   "metadata": {
    "id": "Nvc0gasbduTs"
   },
   "source": [
    "## Download GloVe"
   ]
  },
  {
   "cell_type": "code",
   "execution_count": 6,
   "metadata": {
    "executionInfo": {
     "elapsed": 21558,
     "status": "ok",
     "timestamp": 1618336337893,
     "user": {
      "displayName": "Fábio Arbach Oliveira",
      "photoUrl": "https://lh3.googleusercontent.com/a-/AOh14GjQ1ID5GbBg4_uOUilbj0xN5Fy0zXZlC1dYnN-f=s64",
      "userId": "16129273721091616396"
     },
     "user_tz": 180
    },
    "id": "0MWgQjL-duxR"
   },
   "outputs": [],
   "source": [
    "URL = 'http://nlp.stanford.edu/data/glove.6B.zip'\n",
    "chdir(HOME)\n",
    "\n",
    "if 'GloVe' not in listdir():\n",
    "    mkdir('GloVe')\n",
    "\n",
    "if 'glove.6B.zip' not in listdir(join(HOME, 'GloVe')):\n",
    "    chdir('GloVe')\n",
    "    r = requests.get(URL)\n",
    "    with open('glove.6B.zip', 'wb') as file:\n",
    "        file.write(r.content)\n",
    "    chdir(HOME)\n",
    "\n",
    "zipfile = ZipFile(join(HOME, 'GloVe', 'glove.6B.zip'))\n",
    "zipfile.extractall(join(HOME, 'GloVe'))"
   ]
  },
  {
   "cell_type": "markdown",
   "metadata": {
    "id": "aXJ--rB3fmTx"
   },
   "source": [
    "## Create embedding matrix"
   ]
  },
  {
   "cell_type": "code",
   "execution_count": 32,
   "metadata": {
    "executionInfo": {
     "elapsed": 69636,
     "status": "ok",
     "timestamp": 1618343763994,
     "user": {
      "displayName": "Fábio Arbach Oliveira",
      "photoUrl": "https://lh3.googleusercontent.com/a-/AOh14GjQ1ID5GbBg4_uOUilbj0xN5Fy0zXZlC1dYnN-f=s64",
      "userId": "16129273721091616396"
     },
     "user_tz": 180
    },
    "id": "waNKhBwpjAzy"
   },
   "outputs": [],
   "source": [
    "chdir(HOME)\n",
    "\n",
    "keys, vectors = [], []\n",
    "\n",
    "with open(join(HOME, 'GloVe', 'glove.6B.300d.txt'), encoding='utf-8') as file:\n",
    "    for line in file:\n",
    "        key, vector = line.split(' ', maxsplit=1)\n",
    "        vector = np.array(vector.split(' ')).astype('float')\n",
    "        keys.append(key)\n",
    "        vectors.append(vector)\n",
    "\n",
    "embedding_dict = dict(zip(keys, vectors))"
   ]
  },
  {
   "cell_type": "code",
   "execution_count": 35,
   "metadata": {
    "colab": {
     "base_uri": "https://localhost:8080/"
    },
    "executionInfo": {
     "elapsed": 824,
     "status": "ok",
     "timestamp": 1618343853976,
     "user": {
      "displayName": "Fábio Arbach Oliveira",
      "photoUrl": "https://lh3.googleusercontent.com/a-/AOh14GjQ1ID5GbBg4_uOUilbj0xN5Fy0zXZlC1dYnN-f=s64",
      "userId": "16129273721091616396"
     },
     "user_tz": 180
    },
    "id": "fqsat_eMn0tC",
    "outputId": "b6f18d2d-8c96-42e8-d44d-9c73a1309f8a"
   },
   "outputs": [
    {
     "name": "stdout",
     "output_type": "stream",
     "text": [
      "Words without available embedding:\n",
      "<OOV> | § | holder's | aqp | §§ | nontransport | “when | installed” | flightcrew | nº | operator's | ewis | airplane's | turbopropeller | °c | manufacturer's | utlitize | fstd | nonturbine | inspac | sgso | 344a | redispatch | “no | pilot's | reseating | “conditions | icing” | vso2 | “e” | smoking” | microlamberts | crewmember's | pdsc | observer's | person's | “d” | nonpressurized | 422b | clearway | “b” | wv050 | rffs | “a” | passenger's | govinfo | 422a | “c” | dfdr | h25 | rbha | “civil | ​​the | sr422b | belt” | dfdau | fdau | 119a | pretakeoff | series6048 | washbasins | mdso | adr's | child's | “fasten | sd3 | c124a | lrns | c151 | 119b | 04a | c123a | mechanic's | airsep | sequal | aircraft's | comat | 96t | fimm | anac's | nadso | sr422 | sr422a | “seat | “this | “flight | lrcs | ifsd | 380a | engineer's | dispatcher's | fstds | individual's | inogen | lifechoice | 41104 | applicant's | notice” | “training | provider” | provider's | flugtechnische | illyushin | 30f | ”of | ​​recorded | pmac | stopways | 079 | stopway | 01d | placarded | “on” | “off” | aircraft” | sideward | member's | crewmembers' | nondimming | altitude” | 1900c | tso's | c74b | c74c | c112 | “installation” | ifsds | ffss | redispatching | inspector's | evaluator's | physician's | 00400 | tdze | “direct | access” | nondiscernible | efvs | featherings | 6020 | 400d | 200lr | 2d15 | 2d24 | 0070 | latestnot | 44d4 | rj70a | rj85a | rj100a | 50a01 | 141a | seriesa318 | seriesa330 | decea | sipaer | 460m | regulations” | plane's | difluoro | time” | company's | ​​operations | it's | “minimum | fuel” | wv027 | idso | reqso | “operational | safety” | 40° | nopac | pacots | 78° | 60° | airport's | 25504 | 73125 | birdproof | l1049b | l1649a | pilots' | deicer | tiedown | 360° | flowmeter | 4005 | 5006 | 6007 | more8 | bromochlorofluoromethane | “on | “off | “armed” | 70° | “open” | occupiable | crossaisles | tailcone | standards” | amsafe | 4082 | “internal | device” | “liner” | seated” | “federal | “cabin | wearer's | nonwire | 0631 | propfan | by§ | nonroutine | turnbacks | uncorrectable | chdo | egressing | satifactorily | “good” | pic's | attendant's | nonsafety | “movement | 44732 | 110a | “aviation | 548a | 110b | “dod | operation's | “final | °f | “the | activox | solo2 | xpo2 | oxlife | easypulse | evergo | simplygo | oxywell | vbox | engining | 44706 | “air | “class | airport” | redeiced | “u | airports” | nonprecision | unairworthy | itemization | “advanced | program” | “aqp” | “confidential” | faa's | requalifying | orperson | “fatigue | 2033048 | 1033040 | 2033034 | series6030 | series6040 | series6035 | 6040 | 6033 | series60see | 6030 | series6016 | series72see | 7176060 | 5003075 | 900er6075 | 200b | 200f | 747sr3020 | 400f6020 | 7576050 | 7676050 | 3006040 | 300er7240 | 777f7211 | 17072see | 19072see | 01003090 | 10113036 | 1883026 | 8f3050 | 30100 | 906060 | 153042 | 40f3030 | 10f6042 | 30f6030 | 11f6020 | certificate30 | caravelle15 | 100c20 | 72030 | 44j20 | 70015 | 30510 | 10120 | dev50 | 07a47 | dev43 | 23m1 | 4c8 | gv40 | sp40 | 96t10 | seriesa300 | country's | airep | “use | ”means | regulation” | l958 | l5º | l972 | commissioner's | “control | system” | “cockpit | door” | “it | “tie | belts” | commissioners' | crewman's | fl350 | it’s | crew's | ​​being | ​​specified | ​​to | aeronáuticas | “required | performance” | labiophone | “cold | soak” | doesn’t | “hard | crew” | “dispatchers” | attendants” | “mechanical” | 7183 | 7565 | 412a | 412b | dispatchers' | keeper's | cenipa | 10ft | passenger’s | ​​level | vmcs | “seats | passengers' | 590a | pnavsec | “reserved” | “performance | ​​of | aerodrome's | ​​acceptable | rbacs | esec | trainee's | ° | 400f | 300er | 777f | 40f | 000fh | 11f | 44j | 07a | ​​must | ​​expressed | objectives” | holder’s | management” | “guarantee | reqsos | operationality | “promoting | "
     ]
    }
   ],
   "source": [
    "embedding_dim = 300\n",
    "embedding_matrix = np.zeros((dict_size+1, embedding_dim))\n",
    "\n",
    "print('Words without available embedding:')\n",
    "for pos, key in enumerate(tokenizer.word_index.keys()):\n",
    "    if key in embedding_dict.keys():\n",
    "        embedding_matrix[pos,:] = embedding_dict[key]\n",
    "    else:\n",
    "        print(key, end=' | ')"
   ]
  },
  {
   "cell_type": "markdown",
   "metadata": {
    "id": "NCvYaV3nsvrN"
   },
   "source": [
    "## Prepare dataset object"
   ]
  },
  {
   "cell_type": "code",
   "execution_count": 36,
   "metadata": {
    "executionInfo": {
     "elapsed": 853,
     "status": "ok",
     "timestamp": 1618343877492,
     "user": {
      "displayName": "Fábio Arbach Oliveira",
      "photoUrl": "https://lh3.googleusercontent.com/a-/AOh14GjQ1ID5GbBg4_uOUilbj0xN5Fy0zXZlC1dYnN-f=s64",
      "userId": "16129273721091616396"
     },
     "user_tz": 180
    },
    "id": "HzdMpQy-swOt"
   },
   "outputs": [],
   "source": [
    "y = np.array(df_FAA.label)\n",
    "x = df_FAA.requirement.map(lambda x: x.split('  ')[1])\n",
    "x = np.array(x)\n",
    "x = tokenizer.texts_to_sequences(x)\n",
    "\n",
    "y_valid = np.array(df_ANAC.label)\n",
    "x_valid = df_ANAC.requirement\n",
    "x_valid = np.array(x_valid)\n",
    "x_valid = tokenizer.texts_to_sequences(x_valid)"
   ]
  },
  {
   "cell_type": "code",
   "execution_count": 37,
   "metadata": {
    "colab": {
     "base_uri": "https://localhost:8080/",
     "height": 336
    },
    "executionInfo": {
     "elapsed": 1015,
     "status": "ok",
     "timestamp": 1618343878089,
     "user": {
      "displayName": "Fábio Arbach Oliveira",
      "photoUrl": "https://lh3.googleusercontent.com/a-/AOh14GjQ1ID5GbBg4_uOUilbj0xN5Fy0zXZlC1dYnN-f=s64",
      "userId": "16129273721091616396"
     },
     "user_tz": 180
    },
    "id": "RBEZl2lkvfgm",
    "outputId": "dea12b49-06d5-453b-a430-08023a76745e"
   },
   "outputs": [
    {
     "data": {
      "image/png": "[encoded data removed]",
      "text/plain": [
       "<Figure size 1080x360 with 1 Axes>"
      ]
     },
     "metadata": {
      "needs_background": "light",
      "tags": []
     },
     "output_type": "display_data"
    }
   ],
   "source": [
    "plt.figure(figsize = (15,5))\n",
    "plt.hist(np.array([len(seq) for seq in x]), 50)\n",
    "plt.title('Histogram: number of tokens per requirements')\n",
    "plt.show()"
   ]
  },
  {
   "cell_type": "code",
   "execution_count": 38,
   "metadata": {
    "executionInfo": {
     "elapsed": 493,
     "status": "ok",
     "timestamp": 1618343879066,
     "user": {
      "displayName": "Fábio Arbach Oliveira",
      "photoUrl": "https://lh3.googleusercontent.com/a-/AOh14GjQ1ID5GbBg4_uOUilbj0xN5Fy0zXZlC1dYnN-f=s64",
      "userId": "16129273721091616396"
     },
     "user_tz": 180
    },
    "id": "ZfwRpojbvfdN"
   },
   "outputs": [],
   "source": [
    "sequence_length = 200\n",
    "\n",
    "x = tf.keras.preprocessing.sequence.pad_sequences(x,maxlen=sequence_length, truncating='pre', padding='pre')\n",
    "x = np.array(x)\n",
    "\n",
    "x_valid = tf.keras.preprocessing.sequence.pad_sequences(x_valid,maxlen=sequence_length, truncating='pre', padding='pre')\n",
    "x_valid = np.array(x_valid)"
   ]
  },
  {
   "cell_type": "code",
   "execution_count": 39,
   "metadata": {
    "executionInfo": {
     "elapsed": 552,
     "status": "ok",
     "timestamp": 1618343880205,
     "user": {
      "displayName": "Fábio Arbach Oliveira",
      "photoUrl": "https://lh3.googleusercontent.com/a-/AOh14GjQ1ID5GbBg4_uOUilbj0xN5Fy0zXZlC1dYnN-f=s64",
      "userId": "16129273721091616396"
     },
     "user_tz": 180
    },
    "id": "hfPYlhlXvfaT"
   },
   "outputs": [],
   "source": [
    "x = tf.data.Dataset.from_tensor_slices(x)\n",
    "#x = tf.data.Dataset.from_tensor_slices(np.zeros((y.shape[0], sequence_length))) # uncomment to test with null input\n",
    "y = tf.data.Dataset.from_tensor_slices(y)\n",
    "dataset = tf.data.Dataset.zip((x,y)).shuffle(buffer_size = 200, seed=20210413)\n",
    "\n",
    "x_valid = tf.data.Dataset.from_tensor_slices(x_valid)\n",
    "y_valid = tf.data.Dataset.from_tensor_slices(y_valid)\n",
    "valid = tf.data.Dataset.zip((x_valid, y_valid))"
   ]
  },
  {
   "cell_type": "markdown",
   "metadata": {
    "id": "RYZuiTnqZhHq"
   },
   "source": [
    "# Build model"
   ]
  },
  {
   "cell_type": "code",
   "execution_count": 258,
   "metadata": {
    "executionInfo": {
     "elapsed": 889,
     "status": "ok",
     "timestamp": 1618371210535,
     "user": {
      "displayName": "Fábio Arbach Oliveira",
      "photoUrl": "https://lh3.googleusercontent.com/a-/AOh14GjQ1ID5GbBg4_uOUilbj0xN5Fy0zXZlC1dYnN-f=s64",
      "userId": "16129273721091616396"
     },
     "user_tz": 180
    },
    "id": "NlihFSgNdVLQ"
   },
   "outputs": [],
   "source": [
    "# hyperparameters\n",
    "h = {'epochs':100,\n",
    "     'learning_rate':.001,\n",
    "     'batch_size':256,\n",
    "     'recurrent_units':64,\n",
    "     'dense_units':64,\n",
    "     'dropout':.50,\n",
    "     'recurrent_dropout':0,\n",
    "     'reduce_lr_factor':.2,\n",
    "     'reduce_lr_patience':100,\n",
    "     'early_stopping_patience':20}\n",
    "\n",
    "verbose = 2"
   ]
  },
  {
   "cell_type": "code",
   "execution_count": 259,
   "metadata": {
    "colab": {
     "base_uri": "https://localhost:8080/"
    },
    "executionInfo": {
     "elapsed": 1658,
     "status": "ok",
     "timestamp": 1618371211676,
     "user": {
      "displayName": "Fábio Arbach Oliveira",
      "photoUrl": "https://lh3.googleusercontent.com/a-/AOh14GjQ1ID5GbBg4_uOUilbj0xN5Fy0zXZlC1dYnN-f=s64",
      "userId": "16129273721091616396"
     },
     "user_tz": 180
    },
    "id": "I6cUcgFKdVH4",
    "outputId": "77a9cb2d-be2c-4d27-8dd6-378f4021971d"
   },
   "outputs": [
    {
     "name": "stdout",
     "output_type": "stream",
     "text": [
      "Model: \"2_layer_Bidirectional_GRU_2_Dense\"\n",
      "_________________________________________________________________\n",
      "Layer (type)                 Output Shape              Param #   \n",
      "=================================================================\n",
      "GloVe_6B_300D (Embedding)    (None, 200, 300)          1769100   \n",
      "_________________________________________________________________\n",
      "Bidirectional_GRU_1 (Bidirec (None, 200, 128)          140544    \n",
      "_________________________________________________________________\n",
      "Bidirectional_GRU_2 (Bidirec (None, 128)               74496     \n",
      "_________________________________________________________________\n",
      "Dense (Dense)                (None, 64)                8256      \n",
      "_________________________________________________________________\n",
      "Softmax (Dense)              (None, 3)                 195       \n",
      "=================================================================\n",
      "Total params: 1,992,591\n",
      "Trainable params: 223,491\n",
      "Non-trainable params: 1,769,100\n",
      "_________________________________________________________________\n"
     ]
    }
   ],
   "source": [
    "model = tf.keras.models.Sequential(name = '2_layer_Bidirectional_GRU_2_Dense')\n",
    "\n",
    "# add embedding layer\n",
    "model.add(tf.keras.layers.Embedding(input_dim = dict_size + 1,\n",
    "                                    output_dim = embedding_dim,\n",
    "                                    embeddings_initializer = tf.keras.initializers.Constant(embedding_matrix),\n",
    "                                    input_shape = [sequence_length],\n",
    "                                    trainable = False,\n",
    "                                    name = \"GloVe_6B_300D\"))\n",
    "\n",
    "# add recurrent layer\n",
    "GRU_layer = tf.keras.layers.GRU(h['recurrent_units'], \n",
    "                                dropout = h['dropout'], \n",
    "                                recurrent_dropout = h['recurrent_dropout'],\n",
    "                                return_sequences = True, \n",
    "                                name = \"GRU_1\")\n",
    "model.add(tf.keras.layers.Bidirectional(GRU_layer, name=\"Bidirectional_GRU_1\"))\n",
    "#model.add(tf.keras.layers.GRU(recurrent_units, return_sequences = False, name = \"GRU\"))\n",
    "\n",
    "# add 2nd recurrent layer\n",
    "GRU_layer = tf.keras.layers.GRU(h['recurrent_units'], \n",
    "                                dropout = h['dropout'], \n",
    "                                recurrent_dropout = h['recurrent_dropout'],\n",
    "                                return_sequences = False, \n",
    "                                name = \"GRU_2\")\n",
    "model.add(tf.keras.layers.Bidirectional(GRU_layer, name=\"Bidirectional_GRU_2\"))\n",
    "\n",
    "# add dense layer\n",
    "model.add(tf.keras.layers.Dense(h['dense_units'], 'relu', name = 'Dense'))\n",
    "\n",
    "# add dense output layer\n",
    "model.add(tf.keras.layers.Dense(3, 'softmax', name = 'Softmax'))\n",
    "\n",
    "# create callbacks\n",
    "cb_plateau = tf.keras.callbacks.ReduceLROnPlateau(factor = h['reduce_lr_factor'], \n",
    "                                                  patience = h['reduce_lr_patience'],\n",
    "                                                  min_lr = h['learning_rate'] / 100,\n",
    "                                                  verbose = 1)\n",
    "cb_stopping = tf.keras.callbacks.EarlyStopping(patience = h['early_stopping_patience'],\n",
    "                                               restore_best_weights = True,\n",
    "                                               monitor = 'val_sparse_categorical_accuracy',\n",
    "                                               verbose = 1)\n",
    "\n",
    "# compile model\n",
    "model.compile(optimizer = tf.keras.optimizers.Nadam(h['learning_rate']),\n",
    "              loss = 'sparse_categorical_crossentropy',\n",
    "              metrics = ['sparse_categorical_accuracy'])\n",
    "model.summary()"
   ]
  },
  {
   "cell_type": "code",
   "execution_count": 260,
   "metadata": {
    "colab": {
     "base_uri": "https://localhost:8080/"
    },
    "executionInfo": {
     "elapsed": 737432,
     "status": "ok",
     "timestamp": 1618371947792,
     "user": {
      "displayName": "Fábio Arbach Oliveira",
      "photoUrl": "https://lh3.googleusercontent.com/a-/AOh14GjQ1ID5GbBg4_uOUilbj0xN5Fy0zXZlC1dYnN-f=s64",
      "userId": "16129273721091616396"
     },
     "user_tz": 180
    },
    "id": "PCLMntx_BBZw",
    "outputId": "f2e68af9-be26-40c6-8615-df8ea1b16603"
   },
   "outputs": [
    {
     "name": "stdout",
     "output_type": "stream",
     "text": [
      "Epoch 1/100\n",
      "10/10 - 17s - loss: 0.9860 - sparse_categorical_accuracy: 0.5176 - val_loss: 0.9922 - val_sparse_categorical_accuracy: 0.5750\n",
      "Epoch 2/100\n",
      "10/10 - 10s - loss: 0.9213 - sparse_categorical_accuracy: 0.5880 - val_loss: 1.0385 - val_sparse_categorical_accuracy: 0.5750\n",
      "Epoch 3/100\n",
      "10/10 - 9s - loss: 0.9394 - sparse_categorical_accuracy: 0.5867 - val_loss: 0.9840 - val_sparse_categorical_accuracy: 0.5722\n",
      "Epoch 4/100\n",
      "10/10 - 10s - loss: 0.9122 - sparse_categorical_accuracy: 0.5901 - val_loss: 0.9844 - val_sparse_categorical_accuracy: 0.5694\n",
      "Epoch 5/100\n",
      "10/10 - 9s - loss: 0.9068 - sparse_categorical_accuracy: 0.5892 - val_loss: 0.9958 - val_sparse_categorical_accuracy: 0.5667\n",
      "Epoch 6/100\n",
      "10/10 - 9s - loss: 0.9010 - sparse_categorical_accuracy: 0.5943 - val_loss: 0.9847 - val_sparse_categorical_accuracy: 0.5639\n",
      "Epoch 7/100\n",
      "10/10 - 10s - loss: 0.8928 - sparse_categorical_accuracy: 0.5977 - val_loss: 0.9735 - val_sparse_categorical_accuracy: 0.5639\n",
      "Epoch 8/100\n",
      "10/10 - 9s - loss: 0.8807 - sparse_categorical_accuracy: 0.6045 - val_loss: 0.9650 - val_sparse_categorical_accuracy: 0.5639\n",
      "Epoch 9/100\n",
      "10/10 - 9s - loss: 0.8658 - sparse_categorical_accuracy: 0.6147 - val_loss: 0.9639 - val_sparse_categorical_accuracy: 0.5667\n",
      "Epoch 10/100\n",
      "10/10 - 9s - loss: 0.8674 - sparse_categorical_accuracy: 0.6206 - val_loss: 0.9435 - val_sparse_categorical_accuracy: 0.5667\n",
      "Epoch 11/100\n",
      "10/10 - 10s - loss: 0.8484 - sparse_categorical_accuracy: 0.6287 - val_loss: 0.9522 - val_sparse_categorical_accuracy: 0.5889\n",
      "Epoch 12/100\n",
      "10/10 - 9s - loss: 0.8369 - sparse_categorical_accuracy: 0.6367 - val_loss: 0.9444 - val_sparse_categorical_accuracy: 0.5806\n",
      "Epoch 13/100\n",
      "10/10 - 10s - loss: 0.8161 - sparse_categorical_accuracy: 0.6494 - val_loss: 0.9530 - val_sparse_categorical_accuracy: 0.5861\n",
      "Epoch 14/100\n",
      "10/10 - 10s - loss: 0.8150 - sparse_categorical_accuracy: 0.6435 - val_loss: 0.9411 - val_sparse_categorical_accuracy: 0.5833\n",
      "Epoch 15/100\n",
      "10/10 - 9s - loss: 0.7897 - sparse_categorical_accuracy: 0.6520 - val_loss: 0.9651 - val_sparse_categorical_accuracy: 0.5944\n",
      "Epoch 16/100\n",
      "10/10 - 9s - loss: 0.7816 - sparse_categorical_accuracy: 0.6613 - val_loss: 0.9276 - val_sparse_categorical_accuracy: 0.6028\n",
      "Epoch 17/100\n",
      "10/10 - 10s - loss: 0.7587 - sparse_categorical_accuracy: 0.6795 - val_loss: 0.9626 - val_sparse_categorical_accuracy: 0.6139\n",
      "Epoch 18/100\n",
      "10/10 - 9s - loss: 0.7380 - sparse_categorical_accuracy: 0.6850 - val_loss: 0.9492 - val_sparse_categorical_accuracy: 0.6056\n",
      "Epoch 19/100\n",
      "10/10 - 10s - loss: 0.7351 - sparse_categorical_accuracy: 0.6783 - val_loss: 0.9780 - val_sparse_categorical_accuracy: 0.6167\n",
      "Epoch 20/100\n",
      "10/10 - 9s - loss: 0.7276 - sparse_categorical_accuracy: 0.6952 - val_loss: 0.9529 - val_sparse_categorical_accuracy: 0.6167\n",
      "Epoch 21/100\n",
      "10/10 - 10s - loss: 0.6908 - sparse_categorical_accuracy: 0.7122 - val_loss: 0.9452 - val_sparse_categorical_accuracy: 0.6111\n",
      "Epoch 22/100\n",
      "10/10 - 9s - loss: 0.6963 - sparse_categorical_accuracy: 0.7117 - val_loss: 0.9655 - val_sparse_categorical_accuracy: 0.6083\n",
      "Epoch 23/100\n",
      "10/10 - 9s - loss: 0.6686 - sparse_categorical_accuracy: 0.7198 - val_loss: 0.9571 - val_sparse_categorical_accuracy: 0.6139\n",
      "Epoch 24/100\n",
      "10/10 - 9s - loss: 0.6594 - sparse_categorical_accuracy: 0.7232 - val_loss: 0.9805 - val_sparse_categorical_accuracy: 0.6056\n",
      "Epoch 25/100\n",
      "10/10 - 10s - loss: 0.6495 - sparse_categorical_accuracy: 0.7262 - val_loss: 0.9669 - val_sparse_categorical_accuracy: 0.6278\n",
      "Epoch 26/100\n",
      "10/10 - 9s - loss: 0.6133 - sparse_categorical_accuracy: 0.7474 - val_loss: 0.9556 - val_sparse_categorical_accuracy: 0.6361\n",
      "Epoch 27/100\n",
      "10/10 - 10s - loss: 0.6151 - sparse_categorical_accuracy: 0.7435 - val_loss: 0.9124 - val_sparse_categorical_accuracy: 0.6278\n",
      "Epoch 28/100\n",
      "10/10 - 9s - loss: 0.5531 - sparse_categorical_accuracy: 0.7736 - val_loss: 0.9228 - val_sparse_categorical_accuracy: 0.6528\n",
      "Epoch 29/100\n",
      "10/10 - 9s - loss: 0.5573 - sparse_categorical_accuracy: 0.7770 - val_loss: 0.9162 - val_sparse_categorical_accuracy: 0.6611\n",
      "Epoch 30/100\n",
      "10/10 - 9s - loss: 0.5377 - sparse_categorical_accuracy: 0.7868 - val_loss: 0.8842 - val_sparse_categorical_accuracy: 0.6694\n",
      "Epoch 31/100\n",
      "10/10 - 9s - loss: 0.5035 - sparse_categorical_accuracy: 0.7995 - val_loss: 0.8951 - val_sparse_categorical_accuracy: 0.6778\n",
      "Epoch 32/100\n",
      "10/10 - 9s - loss: 0.4844 - sparse_categorical_accuracy: 0.8063 - val_loss: 0.9185 - val_sparse_categorical_accuracy: 0.6778\n",
      "Epoch 33/100\n",
      "10/10 - 9s - loss: 0.4762 - sparse_categorical_accuracy: 0.8131 - val_loss: 0.8808 - val_sparse_categorical_accuracy: 0.6944\n",
      "Epoch 34/100\n",
      "10/10 - 9s - loss: 0.4762 - sparse_categorical_accuracy: 0.8186 - val_loss: 0.9126 - val_sparse_categorical_accuracy: 0.6667\n",
      "Epoch 35/100\n",
      "10/10 - 9s - loss: 0.4113 - sparse_categorical_accuracy: 0.8398 - val_loss: 0.8795 - val_sparse_categorical_accuracy: 0.6917\n",
      "Epoch 36/100\n",
      "10/10 - 10s - loss: 0.3967 - sparse_categorical_accuracy: 0.8465 - val_loss: 0.8075 - val_sparse_categorical_accuracy: 0.7417\n",
      "Epoch 37/100\n",
      "10/10 - 9s - loss: 0.3872 - sparse_categorical_accuracy: 0.8499 - val_loss: 0.8054 - val_sparse_categorical_accuracy: 0.7389\n",
      "Epoch 38/100\n",
      "10/10 - 9s - loss: 0.3715 - sparse_categorical_accuracy: 0.8605 - val_loss: 0.8245 - val_sparse_categorical_accuracy: 0.7278\n",
      "Epoch 39/100\n",
      "10/10 - 9s - loss: 0.3763 - sparse_categorical_accuracy: 0.8610 - val_loss: 0.8788 - val_sparse_categorical_accuracy: 0.7306\n",
      "Epoch 40/100\n",
      "10/10 - 9s - loss: 0.3643 - sparse_categorical_accuracy: 0.8584 - val_loss: 0.8962 - val_sparse_categorical_accuracy: 0.7194\n",
      "Epoch 41/100\n",
      "10/10 - 9s - loss: 0.3346 - sparse_categorical_accuracy: 0.8766 - val_loss: 0.8497 - val_sparse_categorical_accuracy: 0.7417\n",
      "Epoch 42/100\n",
      "10/10 - 9s - loss: 0.3338 - sparse_categorical_accuracy: 0.8703 - val_loss: 0.8151 - val_sparse_categorical_accuracy: 0.7639\n",
      "Epoch 43/100\n",
      "10/10 - 9s - loss: 0.3345 - sparse_categorical_accuracy: 0.8711 - val_loss: 0.8185 - val_sparse_categorical_accuracy: 0.7583\n",
      "Epoch 44/100\n",
      "10/10 - 9s - loss: 0.3212 - sparse_categorical_accuracy: 0.8898 - val_loss: 0.8716 - val_sparse_categorical_accuracy: 0.7278\n",
      "Epoch 45/100\n",
      "10/10 - 9s - loss: 0.2991 - sparse_categorical_accuracy: 0.8902 - val_loss: 0.8601 - val_sparse_categorical_accuracy: 0.7528\n",
      "Epoch 46/100\n",
      "10/10 - 9s - loss: 0.3051 - sparse_categorical_accuracy: 0.8928 - val_loss: 0.8253 - val_sparse_categorical_accuracy: 0.7611\n",
      "Epoch 47/100\n",
      "10/10 - 9s - loss: 0.2792 - sparse_categorical_accuracy: 0.8928 - val_loss: 0.8479 - val_sparse_categorical_accuracy: 0.7639\n",
      "Epoch 48/100\n",
      "10/10 - 9s - loss: 0.2805 - sparse_categorical_accuracy: 0.8987 - val_loss: 0.8557 - val_sparse_categorical_accuracy: 0.7583\n",
      "Epoch 49/100\n",
      "10/10 - 9s - loss: 0.2685 - sparse_categorical_accuracy: 0.9000 - val_loss: 0.9070 - val_sparse_categorical_accuracy: 0.7389\n",
      "Epoch 50/100\n",
      "10/10 - 9s - loss: 0.2661 - sparse_categorical_accuracy: 0.9038 - val_loss: 0.8942 - val_sparse_categorical_accuracy: 0.7500\n",
      "Epoch 51/100\n",
      "10/10 - 9s - loss: 0.2342 - sparse_categorical_accuracy: 0.9110 - val_loss: 0.8942 - val_sparse_categorical_accuracy: 0.7528\n",
      "Epoch 52/100\n",
      "10/10 - 10s - loss: 0.2559 - sparse_categorical_accuracy: 0.9110 - val_loss: 0.9513 - val_sparse_categorical_accuracy: 0.7083\n",
      "Epoch 53/100\n",
      "10/10 - 10s - loss: 0.2194 - sparse_categorical_accuracy: 0.9233 - val_loss: 0.9019 - val_sparse_categorical_accuracy: 0.7556\n",
      "Epoch 54/100\n",
      "10/10 - 10s - loss: 0.2240 - sparse_categorical_accuracy: 0.9186 - val_loss: 0.8869 - val_sparse_categorical_accuracy: 0.7722\n",
      "Epoch 55/100\n",
      "10/10 - 9s - loss: 0.2176 - sparse_categorical_accuracy: 0.9199 - val_loss: 0.9532 - val_sparse_categorical_accuracy: 0.7472\n",
      "Epoch 56/100\n",
      "10/10 - 9s - loss: 0.2098 - sparse_categorical_accuracy: 0.9245 - val_loss: 0.9365 - val_sparse_categorical_accuracy: 0.7500\n",
      "Epoch 57/100\n",
      "10/10 - 10s - loss: 0.2112 - sparse_categorical_accuracy: 0.9216 - val_loss: 0.9474 - val_sparse_categorical_accuracy: 0.7778\n",
      "Epoch 58/100\n",
      "10/10 - 9s - loss: 0.1973 - sparse_categorical_accuracy: 0.9262 - val_loss: 0.9822 - val_sparse_categorical_accuracy: 0.7222\n",
      "Epoch 59/100\n",
      "10/10 - 9s - loss: 0.1748 - sparse_categorical_accuracy: 0.9377 - val_loss: 0.9484 - val_sparse_categorical_accuracy: 0.7667\n",
      "Epoch 60/100\n",
      "10/10 - 9s - loss: 0.1602 - sparse_categorical_accuracy: 0.9356 - val_loss: 0.9359 - val_sparse_categorical_accuracy: 0.7611\n",
      "Epoch 61/100\n",
      "10/10 - 9s - loss: 0.1689 - sparse_categorical_accuracy: 0.9377 - val_loss: 1.0079 - val_sparse_categorical_accuracy: 0.7528\n",
      "Epoch 62/100\n",
      "10/10 - 9s - loss: 0.1819 - sparse_categorical_accuracy: 0.9343 - val_loss: 1.0648 - val_sparse_categorical_accuracy: 0.7472\n",
      "Epoch 63/100\n",
      "10/10 - 9s - loss: 0.1700 - sparse_categorical_accuracy: 0.9390 - val_loss: 1.0970 - val_sparse_categorical_accuracy: 0.7361\n",
      "Epoch 64/100\n",
      "10/10 - 9s - loss: 0.1426 - sparse_categorical_accuracy: 0.9453 - val_loss: 1.0225 - val_sparse_categorical_accuracy: 0.7583\n",
      "Epoch 65/100\n",
      "10/10 - 9s - loss: 0.1531 - sparse_categorical_accuracy: 0.9428 - val_loss: 0.9863 - val_sparse_categorical_accuracy: 0.7556\n",
      "Epoch 66/100\n",
      "10/10 - 9s - loss: 0.1346 - sparse_categorical_accuracy: 0.9504 - val_loss: 1.0596 - val_sparse_categorical_accuracy: 0.7556\n",
      "Epoch 67/100\n",
      "10/10 - 9s - loss: 0.1377 - sparse_categorical_accuracy: 0.9538 - val_loss: 1.0045 - val_sparse_categorical_accuracy: 0.7500\n",
      "Epoch 68/100\n",
      "10/10 - 9s - loss: 0.1278 - sparse_categorical_accuracy: 0.9559 - val_loss: 1.1143 - val_sparse_categorical_accuracy: 0.7389\n",
      "Epoch 69/100\n",
      "10/10 - 9s - loss: 0.1127 - sparse_categorical_accuracy: 0.9610 - val_loss: 1.1140 - val_sparse_categorical_accuracy: 0.7444\n",
      "Epoch 70/100\n",
      "10/10 - 9s - loss: 0.1349 - sparse_categorical_accuracy: 0.9466 - val_loss: 1.1288 - val_sparse_categorical_accuracy: 0.7556\n",
      "Epoch 71/100\n",
      "10/10 - 9s - loss: 0.1231 - sparse_categorical_accuracy: 0.9568 - val_loss: 1.1463 - val_sparse_categorical_accuracy: 0.7417\n",
      "Epoch 72/100\n",
      "10/10 - 9s - loss: 0.1125 - sparse_categorical_accuracy: 0.9593 - val_loss: 1.0731 - val_sparse_categorical_accuracy: 0.7583\n",
      "Epoch 73/100\n",
      "10/10 - 9s - loss: 0.1242 - sparse_categorical_accuracy: 0.9542 - val_loss: 1.0953 - val_sparse_categorical_accuracy: 0.7528\n",
      "Epoch 74/100\n",
      "10/10 - 9s - loss: 0.1000 - sparse_categorical_accuracy: 0.9610 - val_loss: 1.1812 - val_sparse_categorical_accuracy: 0.7556\n",
      "Epoch 75/100\n",
      "10/10 - 9s - loss: 0.1012 - sparse_categorical_accuracy: 0.9614 - val_loss: 1.0885 - val_sparse_categorical_accuracy: 0.7667\n",
      "Epoch 76/100\n",
      "10/10 - 9s - loss: 0.1002 - sparse_categorical_accuracy: 0.9648 - val_loss: 1.0934 - val_sparse_categorical_accuracy: 0.7694\n",
      "Epoch 77/100\n",
      "10/10 - 9s - loss: 0.0867 - sparse_categorical_accuracy: 0.9652 - val_loss: 1.0925 - val_sparse_categorical_accuracy: 0.7639\n",
      "Restoring model weights from the end of the best epoch.\n",
      "Epoch 00077: early stopping\n"
     ]
    }
   ],
   "source": [
    "history = model.fit(dataset.batch(h['batch_size']),\n",
    "                    epochs = h['epochs'],\n",
    "                    verbose = verbose,\n",
    "                    validation_data = valid.batch(1),\n",
    "                    callbacks = [cb_plateau, cb_stopping])"
   ]
  },
  {
   "cell_type": "code",
   "execution_count": 261,
   "metadata": {
    "colab": {
     "base_uri": "https://localhost:8080/"
    },
    "executionInfo": {
     "elapsed": 746958,
     "status": "ok",
     "timestamp": 1618371957691,
     "user": {
      "displayName": "Fábio Arbach Oliveira",
      "photoUrl": "https://lh3.googleusercontent.com/a-/AOh14GjQ1ID5GbBg4_uOUilbj0xN5Fy0zXZlC1dYnN-f=s64",
      "userId": "16129273721091616396"
     },
     "user_tz": 180
    },
    "id": "4NiS7aDzC-hd",
    "outputId": "5e79fa00-6d53-4f92-c4d3-32cca9e74f9f"
   },
   "outputs": [
    {
     "name": "stdout",
     "output_type": "stream",
     "text": [
      "Model performance:\n",
      "Loss (train | valid): 0.132076 | 0.947427\n",
      "Accuracy (train | valid): 0.95 | 0.778\n"
     ]
    }
   ],
   "source": [
    "loss, accuracy = model.evaluate(dataset.batch(128), verbose=0)\n",
    "loss = np.round(loss, 6)\n",
    "accuracy = np.round(accuracy, 3)\n",
    "certainty = np.round(np.exp(-loss), 3)\n",
    "\n",
    "val_loss, val_accuracy = model.evaluate(valid.batch(1), verbose=0)\n",
    "val_loss = np.round(val_loss, 6)\n",
    "val_accuracy = np.round(val_accuracy, 3)\n",
    "val_certainty = np.round(np.exp(-val_loss), 3)\n",
    "\n",
    "print(\"Model performance:\")\n",
    "print(\"Loss (train | valid): {} | {}\".format(loss, val_loss))\n",
    "print(\"Accuracy (train | valid): {} | {}\".format(accuracy, val_accuracy))"
   ]
  },
  {
   "cell_type": "code",
   "execution_count": 262,
   "metadata": {
    "colab": {
     "base_uri": "https://localhost:8080/",
     "height": 336
    },
    "executionInfo": {
     "elapsed": 746595,
     "status": "ok",
     "timestamp": 1618371957692,
     "user": {
      "displayName": "Fábio Arbach Oliveira",
      "photoUrl": "https://lh3.googleusercontent.com/a-/AOh14GjQ1ID5GbBg4_uOUilbj0xN5Fy0zXZlC1dYnN-f=s64",
      "userId": "16129273721091616396"
     },
     "user_tz": 180
    },
    "id": "HEiHMvwhdVCr",
    "outputId": "bae35cb7-ea2a-4076-9eda-e1826f24a345"
   },
   "outputs": [
    {
     "data": {
      "image/png": "[encoded data removed]",
      "text/plain": [
       "<Figure size 1080x360 with 2 Axes>"
      ]
     },
     "metadata": {
      "needs_background": "light",
      "tags": []
     },
     "output_type": "display_data"
    }
   ],
   "source": [
    "plt.figure(figsize = (15,5))\n",
    "plt.subplot(1,2,1)\n",
    "plt.title('Loss')\n",
    "plt.plot(history.history['loss'])\n",
    "plt.plot(history.history['val_loss'])\n",
    "plt.ylim((0,1.5))\n",
    "\n",
    "plt.subplot(1,2,2)\n",
    "plt.title('Accuracy')\n",
    "plt.plot(history.history['sparse_categorical_accuracy'])\n",
    "plt.plot(history.history['val_sparse_categorical_accuracy'])\n",
    "plt.ylim((.4,1))\n",
    "\n",
    "plt.show()"
   ]
  },
  {
   "cell_type": "code",
   "execution_count": 65,
   "metadata": {
    "executionInfo": {
     "elapsed": 698,
     "status": "ok",
     "timestamp": 1618348674860,
     "user": {
      "displayName": "Fábio Arbach Oliveira",
      "photoUrl": "https://lh3.googleusercontent.com/a-/AOh14GjQ1ID5GbBg4_uOUilbj0xN5Fy0zXZlC1dYnN-f=s64",
      "userId": "16129273721091616396"
     },
     "user_tz": 180
    },
    "id": "FNqC5KE45azD"
   },
   "outputs": [],
   "source": []
  },
  {
   "cell_type": "code",
   "execution_count": null,
   "metadata": {
    "id": "X7WFrSgCkJKE"
   },
   "outputs": [],
   "source": []
  },
  {
   "cell_type": "code",
   "execution_count": null,
   "metadata": {
    "id": "CQYiFa2ZkJHi"
   },
   "outputs": [],
   "source": []
  },
  {
   "cell_type": "code",
   "execution_count": 155,
   "metadata": {
    "colab": {
     "base_uri": "https://localhost:8080/"
    },
    "executionInfo": {
     "elapsed": 5874,
     "status": "ok",
     "timestamp": 1618356541340,
     "user": {
      "displayName": "Fábio Arbach Oliveira",
      "photoUrl": "https://lh3.googleusercontent.com/a-/AOh14GjQ1ID5GbBg4_uOUilbj0xN5Fy0zXZlC1dYnN-f=s64",
      "userId": "16129273721091616396"
     },
     "user_tz": 180
    },
    "id": "Da9lgUE6kJEA",
    "outputId": "a3dd3e2b-0895-40e1-a0d7-1dfdfd1a719b"
   },
   "outputs": [
    {
     "name": "stdout",
     "output_type": "stream",
     "text": [
      "360/360 [==============================] - 5s 14ms/step - loss: 0.8464 - sparse_categorical_accuracy: 0.6778\n"
     ]
    }
   ],
   "source": [
    "a = model.evaluate(valid.batch(1))"
   ]
  },
  {
   "cell_type": "code",
   "execution_count": 156,
   "metadata": {
    "colab": {
     "base_uri": "https://localhost:8080/"
    },
    "executionInfo": {
     "elapsed": 781,
     "status": "ok",
     "timestamp": 1618356545496,
     "user": {
      "displayName": "Fábio Arbach Oliveira",
      "photoUrl": "https://lh3.googleusercontent.com/a-/AOh14GjQ1ID5GbBg4_uOUilbj0xN5Fy0zXZlC1dYnN-f=s64",
      "userId": "16129273721091616396"
     },
     "user_tz": 180
    },
    "id": "LUowRaTBkJBX",
    "outputId": "3bd5184a-c320-4175-f051-cccee03568d3"
   },
   "outputs": [
    {
     "data": {
      "text/plain": [
       "[0.846351683139801, 0.6777777671813965]"
      ]
     },
     "execution_count": 156,
     "metadata": {
      "tags": []
     },
     "output_type": "execute_result"
    }
   ],
   "source": [
    "a"
   ]
  },
  {
   "cell_type": "code",
   "execution_count": null,
   "metadata": {
    "id": "egaIHRbwkI_d"
   },
   "outputs": [],
   "source": [
    "model.evaluate(verbose=0)"
   ]
  },
  {
   "cell_type": "code",
   "execution_count": null,
   "metadata": {
    "id": "FSA-js2AkI7w"
   },
   "outputs": [],
   "source": []
  },
  {
   "cell_type": "code",
   "execution_count": null,
   "metadata": {
    "id": "xPBF6fBJkI5D"
   },
   "outputs": [],
   "source": []
  },
  {
   "cell_type": "code",
   "execution_count": 65,
   "metadata": {
    "executionInfo": {
     "elapsed": 751,
     "status": "ok",
     "timestamp": 1618348668641,
     "user": {
      "displayName": "Fábio Arbach Oliveira",
      "photoUrl": "https://lh3.googleusercontent.com/a-/AOh14GjQ1ID5GbBg4_uOUilbj0xN5Fy0zXZlC1dYnN-f=s64",
      "userId": "16129273721091616396"
     },
     "user_tz": 180
    },
    "id": "gXeT4WX0GL5f"
   },
   "outputs": [],
   "source": []
  },
  {
   "cell_type": "markdown",
   "metadata": {
    "id": "XyuIdDR4kGes"
   },
   "source": [
    "# Trash"
   ]
  },
  {
   "cell_type": "code",
   "execution_count": null,
   "metadata": {
    "id": "EFDYSwgpknde"
   },
   "outputs": [],
   "source": []
  }
 ],
 "metadata": {
  "accelerator": "GPU",
  "colab": {
   "authorship_tag": "ABX9TyN9QeA5IZzqNrZrcrHQ8OvI",
   "collapsed_sections": [
    "tTulQOF4S2Uf",
    "8oEp-AEHS6h-",
    "Nvc0gasbduTs"
   ],
   "name": "classify_requirements.ipynb",
   "provenance": []
  },
  "kernelspec": {
   "display_name": "Python 3",
   "language": "python",
   "name": "python3"
  },
  "language_info": {
   "codemirror_mode": {
    "name": "ipython",
    "version": 3
   },
   "file_extension": ".py",
   "mimetype": "text/x-python",
   "name": "python",
   "nbconvert_exporter": "python",
   "pygments_lexer": "ipython3",
   "version": "3.8.5"
  }
 },
 "nbformat": 4,
 "nbformat_minor": 1
}
