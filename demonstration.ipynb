{
 "cells": [
  {
   "cell_type": "markdown",
   "metadata": {},
   "source": [
    "# Setup"
   ]
  },
  {
   "cell_type": "code",
   "execution_count": 48,
   "metadata": {},
   "outputs": [
    {
     "name": "stderr",
     "output_type": "stream",
     "text": [
      "[nltk_data] Downloading package averaged_perceptron_tagger to\n",
      "[nltk_data]     C:\\Users\\fabio\\AppData\\Roaming\\nltk_data...\n",
      "[nltk_data]   Package averaged_perceptron_tagger is already up-to-\n",
      "[nltk_data]       date!\n"
     ]
    }
   ],
   "source": [
    "import numpy as np\n",
    "import pandas as pd\n",
    "import tensorflow as tf\n",
    "import requests\n",
    "import re\n",
    "from os import chdir, getcwd, listdir, mkdir\n",
    "from os.path import join\n",
    "import pkg_resources\n",
    "import pickle\n",
    "import nltk\n",
    "nltk.download('averaged_perceptron_tagger')\n",
    "from scipy.linalg import norm\n",
    "from scipy.spatial.distance import cosine\n",
    "from matplotlib import pyplot as plt"
   ]
  },
  {
   "cell_type": "code",
   "execution_count": 105,
   "metadata": {},
   "outputs": [],
   "source": [
    "GET_FILES_LOCALLY = True # True: local files from cloned repo; False: URL from GitHub\n",
    "HOME = getcwd()"
   ]
  },
  {
   "cell_type": "code",
   "execution_count": 4,
   "metadata": {},
   "outputs": [],
   "source": [
    "package_list = [pkg for pkg in pkg_resources.working_set]\n",
    "\n",
    "if 'googletrans' not in [pkg.key for pkg in package_list]:\n",
    "    ! pip install googletrans==3.1.0a0\n",
    "import googletrans\n",
    "    \n",
    "if 'pdfplumber' not in [pkg.key for pkg in package_list]:\n",
    "    ! pip install pdfplumber\n",
    "import pdfplumber"
   ]
  },
  {
   "cell_type": "markdown",
   "metadata": {},
   "source": [
    "---   \n",
    "# Projection\n",
    "\n",
    "Objective: find requirements of similar semantic content.\n",
    "\n",
    "---\n",
    "\n",
    "<img src=\"images/requirement_comparison.png\">"
   ]
  },
  {
   "cell_type": "markdown",
   "metadata": {},
   "source": [
    "## Setup"
   ]
  },
  {
   "cell_type": "code",
   "execution_count": 40,
   "metadata": {},
   "outputs": [],
   "source": [
    "if GET_FILES_LOCALLY == True:\n",
    "    URL_FAA = join(HOME, 'Regulations', 'FAR_Part121_nodes.xlsx')\n",
    "    URL_ANAC = join(HOME, 'Regulations', 'RBAC121_nodes.xlsx')\n",
    "    URL_TOKENIZER = join(HOME, 'models', 'tokenizer___2021-04-16_10-58-15.h5')\n",
    "    URL_EMBEDDING_LAYER = join(HOME, 'models', 'embedding_layer___2021-04-16_10-58-15.h5')"
   ]
  },
  {
   "cell_type": "code",
   "execution_count": 41,
   "metadata": {},
   "outputs": [],
   "source": [
    "def relevant_words(excerpt):\n",
    "    tokens = re.findall('[a-zA-Z]{3,}', excerpt)\n",
    "    words, allowed_pos = [], ['NN','NNS','NNP','NNPS','JJ','RB','VB','VBG','VBN','VBP','VBZ','VBD']\n",
    "    for item in nltk.pos_tag(tokens):\n",
    "        if item[0] not in words and item[1] in allowed_pos:\n",
    "            words.append(item[0])\n",
    "    return words\n",
    "\n",
    "def sorted_keywords(words, tokenizer):\n",
    "    w,f = [], []\n",
    "\n",
    "    for word in words:\n",
    "        if word in tokenizer.word_index.keys():\n",
    "            w.append(word)\n",
    "            f.append(tokenizer.word_counts[word])\n",
    "\n",
    "    sorting_indices = np.array(f).argsort()\n",
    "    return np.array(w)[sorting_indices]\n",
    "\n",
    "def jaccard_mod(string1, string2, max_words = None):\n",
    "    # with max_words != None, repetitions are ignored, only the frequency in the original dictionary is used\n",
    "    # with max_words == None, repetitions are somewhat accounted for (not very thoughtfully..)\n",
    "    \n",
    "    cutoff = .5\n",
    "    \n",
    "    if max_words == None:\n",
    "        tokens1 = tokenizer.texts_to_sequences(relevant_words(string1))\n",
    "        tokens2 = tokenizer.texts_to_sequences(relevant_words(string2))\n",
    "    else:\n",
    "        tokens1 = sorted_keywords(relevant_words(string1), tokenizer)\n",
    "        tokens1 = tokenizer.texts_to_sequences(tokens1[:max_words])\n",
    "        tokens2 = sorted_keywords(relevant_words(string2), tokenizer)\n",
    "        tokens2 = tokenizer.texts_to_sequences(tokens2[:max_words])\n",
    "        \n",
    "    if len(tokens1) < 2 or len(tokens2) < 2:\n",
    "        return 0\n",
    "    else:\n",
    "        embedding1 = embedding_layer(np.array(tokens1)).numpy().squeeze()\n",
    "        norms1 = norm(embedding1, axis=1)\n",
    "        embedding1 = embedding1[norms1 != 0]\n",
    "        norms1 = norms1[norms1 != 0].reshape([-1,1])\n",
    "\n",
    "        embedding2 = embedding_layer(np.array(tokens2)).numpy().squeeze()\n",
    "        norms2 = norm(embedding2, axis=1)\n",
    "        embedding2 = embedding2[norms2 != 0]\n",
    "        norms2 = norms2[norms2 != 0].reshape([-1,1])\n",
    "\n",
    "        cosine_similarity = np.matmul(embedding1, embedding2.T) / norms1 / norms2.T\n",
    "        tril = np.ones_like(cosine_similarity) * (np.tril(cosine_similarity) != 0).astype(int)\n",
    "\n",
    "        intersection = np.sum((cosine_similarity * cosine_similarity) > cutoff)\n",
    "        union = cosine_similarity.shape[0] + cosine_similarity.shape[1] - intersection\n",
    "\n",
    "        return intersection/union"
   ]
  },
  {
   "cell_type": "code",
   "execution_count": 42,
   "metadata": {},
   "outputs": [],
   "source": [
    "df_FAA = pd.read_excel(URL_FAA)[['title','requirement']]\n",
    "df_ANAC = pd.read_excel(URL_ANAC)[['title','requirement']]\n",
    "translator = googletrans.Translator()\n",
    "\n",
    "with open(URL_TOKENIZER, 'rb') as file:\n",
    "    tokenizer = pickle.load(file)\n",
    "\n",
    "with open(URL_EMBEDDING_LAYER, 'rb') as file:\n",
    "    embedding_layer = pickle.load(file)"
   ]
  },
  {
   "cell_type": "markdown",
   "metadata": {},
   "source": [
    "## Demo: find FAA requirement corresponding to given ANAC requirement\n",
    "\n",
    "* Choose ANAC requirement randomly\n",
    "* Translate requirement\n",
    "* Compare with list of FAA requirements\n",
    "    - Tokenize\n",
    "    - Filter parts-of-speech\n",
    "    - Sort words according to importance\n",
    "    - Identify similar words\n",
    "    - Compare shared words\n",
    "* Print best match"
   ]
  },
  {
   "cell_type": "code",
   "execution_count": 110,
   "metadata": {},
   "outputs": [
    {
     "name": "stdout",
     "output_type": "stream",
     "text": [
      "Requirement: RBAC 121.357(c)(1)\n",
      "\n",
      "121.357  Requisitos para radar meteorológico de bordo \n",
      "(c) Cada pessoa operando um avião no qual seja requerido um radar meteorológico instalado, quando voando esse avião segundo este regulamento, deve atender ao seguinte: (1) despacho. Ninguém pode despachar um avião (ou iniciar o voo de um avião no caso de detentor de certificado que não usa um sistema de despacho) em voo VFR noturno ou IFR se as informações ou previsões meteorológicas conhecidas indicarem que trovoadas ou outros fenômenos meteorológicos potencialmente perigosos, capazes de serem detectados por um radar meteorológico de bordo, são esperados ao longo da rota a ser voada, a menos que o radar meteorológico do avião esteja em condições operativas satisfatórias; \n",
      "\n",
      "\n",
      "Translated requirement:\n",
      "\n",
      "121.357 Requirements for onboard weather radar\n",
      "(c) Each person operating an airplane on which an installed weather radar is required, when flying that airplane in accordance with this regulation, must comply with the following: (1) dispatch. No one can dispatch an airplane (or start flying an airplane in the case of a certificate holder who does not use a dispatch system) on a night VFR or IFR flight if known weather information or forecasts indicate that thunderstorms or other potentially dangerous weather phenomena, capable of being detected by an onboard weather radar, are expected along the route to be flown, unless the plane's weather radar is in satisfactory operating conditions;\n",
      "\n",
      "\n",
      "Match: FAR § 121.357(c)(1)\n",
      "Similarity index: 0.7169811320754716\n",
      "\n",
      "Matching requirement text:\n",
      "\n",
      "§ 121.357   Airborne weather radar equipment requirements.\n",
      "(c) Each person operating an airplane required to have approved airborne weather radar equipment installed shall, when using it under this part, operate it in accordance with the following: \n",
      "(1) Dispatch. No person may dispatch an airplane (or begin the flight of an airplane in the case of a certificate holder, that does not use a dispatch system) under IFR or night VFR conditions when current weather reports indicate that thunderstorms, or other potentially hazardous weather conditions that can be detected with airborne weather radar, may reasonably be expected along the route to be flown, unless the airborne weather radar equipment is in satisfactory operating condition. \n",
      "\n"
     ]
    },
    {
     "data": {
      "image/png": "[encoded data removed]",
      "text/plain": [
       "<Figure size 1080x360 with 1 Axes>"
      ]
     },
     "metadata": {
      "needs_background": "light"
     },
     "output_type": "display_data"
    }
   ],
   "source": [
    "EXAMPLE_NUMBER = np.random.randint(0,df_ANAC.shape[0])\n",
    "\n",
    "req = df_ANAC.requirement[EXAMPLE_NUMBER]\n",
    "title = df_ANAC.title[EXAMPLE_NUMBER]\n",
    "print('Requirement: RBAC {}\\n\\n{}'.format(title,req))\n",
    "\n",
    "translation = translator.translate(req, dest='en', src='pt').text\n",
    "\n",
    "print('\\n\\nTranslated requirement:\\n\\n{}\\n\\n'.format(translation))\n",
    "\n",
    "similarity = []\n",
    "for ref in df_FAA.requirement:\n",
    "    similarity.append(jaccard_mod(translation, ref))\n",
    "    \n",
    "match_index = np.array(similarity).argmax()\n",
    "print('Match: FAR {}'.format(df_FAA.title[match_index]))\n",
    "print('Similarity index: {}\\n'.format(np.max(similarity)))\n",
    "print('Matching requirement text:\\n\\n{}'.format(df_FAA.requirement[match_index]))\n",
    "\n",
    "plt.figure(figsize = (15,5))\n",
    "plt.hist(np.array(similarity), 50)\n",
    "plt.title('Histogram - similarity translation vs reference')\n",
    "plt.show()"
   ]
  },
  {
   "cell_type": "markdown",
   "metadata": {},
   "source": [
    "## Demo: find match to user input"
   ]
  },
  {
   "cell_type": "code",
   "execution_count": 109,
   "metadata": {},
   "outputs": [
    {
     "name": "stdout",
     "output_type": "stream",
     "text": [
      "-> Paste an operational requirement below:\n",
      "\n",
      "Personnel or crew members other than cabin crew in the passenger compartment  The operator shall ensure that personnel or crew members, other than operating cabin crew members, carrying out their duties in the passenger compartment of an aircraft:  (a) are not confused by the passengers with operating cabin crew members;\n",
      "\n",
      "Match: FAR § 121.391(a)(3)\n",
      "Similarity index: 0.2962962962962963\n",
      "\n",
      "Matching requirement text:\n",
      "\n",
      "§ 121.391   Flight attendants.\n",
      "(a) Except as specified in § 121.393 and § 121.394, each certificate holder must provide at least the following flight attendants on board each passenger-carrying airplane when passengers are on board:\n",
      "(3) For airplanes having a seating capacity of more than 50 but less than 101 passengers - two flight attendants. \n",
      "\n"
     ]
    },
    {
     "data": {
      "image/png": "[encoded data removed]",
      "text/plain": [
       "<Figure size 1080x360 with 1 Axes>"
      ]
     },
     "metadata": {
      "needs_background": "light"
     },
     "output_type": "display_data"
    }
   ],
   "source": [
    "req = input('-> Paste an operational requirement below:\\n\\n')\n",
    "\n",
    "similarity = []\n",
    "for ref in df_FAA.requirement:\n",
    "    similarity.append(jaccard_mod(req, ref))\n",
    "    \n",
    "match_index = np.array(similarity).argmax()\n",
    "print('\\nMatch: FAR {}'.format(df_FAA.title[match_index]))\n",
    "print('Similarity index: {}\\n'.format(np.max(similarity)))\n",
    "print('Matching requirement text:\\n\\n{}'.format(df_FAA.requirement[match_index]))\n",
    "\n",
    "plt.figure(figsize = (15,5))\n",
    "plt.hist(np.array(similarity), 50)\n",
    "plt.title('Histogram - similarity requirement vs reference')\n",
    "plt.show()"
   ]
  },
  {
   "cell_type": "markdown",
   "metadata": {},
   "source": [
    "## Improvements:\n",
    "\n",
    "* Include more references (EASA, ICAO)\n",
    "* Better parameter tuning:\n",
    "    - number of relevant words to compare\n",
    "    - threshold for 'similar' words\n",
    "* Other keyword identification techniques\n",
    "* Other similarity metrics\n",
    "* Different word embeddings\n",
    "* Sentence embeddings (compare meaning at sentence level)"
   ]
  },
  {
   "cell_type": "markdown",
   "metadata": {},
   "source": [
    "---   \n",
    "# Classification"
   ]
  },
  {
   "cell_type": "markdown",
   "metadata": {},
   "source": [
    "Objective: read requirement and classify in either \"Title Only\", \"Aircraft\" or \"Operator\"   \n",
    "\n",
    "-----   \n",
    "\n",
    "<img src=\"images/requirement_classification.png\">"
   ]
  },
  {
   "cell_type": "markdown",
   "metadata": {},
   "source": [
    "# Setup"
   ]
  },
  {
   "cell_type": "code",
   "execution_count": 29,
   "metadata": {},
   "outputs": [],
   "source": [
    "if GET_FILES_LOCALLY == True:\n",
    "    URL_FAA = join(HOME, 'Regulations', 'FAR_Part121_nodes_labelled.xlsx')\n",
    "    URL_ANAC = join(HOME, 'Regulations', 'RBAC121_nodes.xlsx')\n",
    "    URL_MODEL = join(HOME, 'Models', 'model___2021-04-15_16-21-35___Bidirectional_GRU_Softmax.h5')\n",
    "    URL_TOKENIZER = join(HOME, 'Models', 'tokenizer___2021-04-15_16-11-22.h5')\n",
    "\n",
    "# if importing from GitHub\n",
    "############\n",
    "############"
   ]
  },
  {
   "cell_type": "code",
   "execution_count": 30,
   "metadata": {},
   "outputs": [],
   "source": [
    "df_FAA = pd.read_excel(URL_FAA)[['title','requirement','label','tag']]\n",
    "df_ANAC = pd.read_excel(URL_ANAC)[['title','requirement']] # + label + tag!!!\n",
    "translator = googletrans.Translator()\n",
    "\n",
    "with open(URL_TOKENIZER, 'rb') as file:\n",
    "    tokenizer_classification = pickle.load(file)\n",
    "    \n",
    "model = tf.keras.models.load_model(URL_MODEL)"
   ]
  },
  {
   "cell_type": "code",
   "execution_count": 31,
   "metadata": {},
   "outputs": [],
   "source": [
    "sequence_length = 200"
   ]
  },
  {
   "cell_type": "markdown",
   "metadata": {},
   "source": [
    "## Demo: classify random FAA requirement\n",
    "\n",
    "* Select FAA part 121 requirement randomly\n",
    "* Tokenize\n",
    "* Pad/trim sequence to 200 tokens\n",
    "* Run through classification model\n",
    "* Choose class according to highest probability"
   ]
  },
  {
   "cell_type": "code",
   "execution_count": 32,
   "metadata": {},
   "outputs": [
    {
     "name": "stdout",
     "output_type": "stream",
     "text": [
      "Requirement: § 121.221(f)(1)\n",
      "\n",
      "§ 121.221   Fire precautions.\n",
      "(f) Class E. On airplanes used for the carriage of cargo only, the cabin area may be classified as a Class “E” compartment. Each Class E compartment must comply with the following: \n",
      "(1) It must be completely lined with fire-resistant material. \n",
      "\n",
      "WARNING:tensorflow:5 out of the last 11 calls to <function Model.make_predict_function.<locals>.predict_function at 0x000001B4D1947940> triggered tf.function retracing. Tracing is expensive and the excessive number of tracings could be due to (1) creating @tf.function repeatedly in a loop, (2) passing tensors with different shapes, (3) passing Python objects instead of tensors. For (1), please define your @tf.function outside of the loop. For (2), @tf.function has experimental_relax_shapes=True option that relaxes argument shapes that can avoid unnecessary retracing. For (3), please refer to https://www.tensorflow.org/guide/function#controlling_retracing and https://www.tensorflow.org/api_docs/python/tf/function for  more details.\n",
      "Predicted label: Aircraft\n",
      "Level of Confidence: 99.945%\n",
      "\n",
      "Correct label: Aircraft\n"
     ]
    }
   ],
   "source": [
    "EXAMPLE_NUMBER = np.random.randint(0,df_FAA.shape[0])\n",
    "\n",
    "req = df_FAA.requirement[EXAMPLE_NUMBER]\n",
    "title = df_FAA.title[EXAMPLE_NUMBER]\n",
    "correct_tag = df_FAA.tag[EXAMPLE_NUMBER].title()\n",
    "print('Requirement: {}\\n\\n{}'.format(title,req))\n",
    "\n",
    "tokens = tokenizer_classification.texts_to_sequences([req])\n",
    "padded_tokens = tf.keras.preprocessing.sequence.pad_sequences(tokens, maxlen = sequence_length)\n",
    "X = tf.constant(np.array(padded_tokens))\n",
    "prediction = model.predict(X)\n",
    "predicted_prob = prediction.max()\n",
    "predicted_label = prediction.argmax()\n",
    "predicted_tag = ['Title Only', 'Aircraft', 'Operator'][predicted_label]\n",
    "\n",
    "print('Predicted label: {}\\nLevel of Confidence: {}%'.format(predicted_tag, np.round(100*predicted_prob,3)))\n",
    "print('\\nCorrect label: {}'.format(correct_tag))"
   ]
  },
  {
   "cell_type": "markdown",
   "metadata": {},
   "source": [
    "## Demo: classify random ANAC requirement\n",
    "\n",
    "* Select ANAC RBAC 121 requirement randomly\n",
    "* Translate to English\n",
    "* Tokenize\n",
    "* Pad/trim sequence to 200 tokens\n",
    "* Run through classification model\n",
    "* Choose class according to highest probability"
   ]
  },
  {
   "cell_type": "code",
   "execution_count": 33,
   "metadata": {},
   "outputs": [
    {
     "name": "stdout",
     "output_type": "stream",
     "text": [
      "Requirement: 121.633(b)(2)\n",
      "\n",
      "121.633  Sistema de tempo limite no planejamento de alternativa ETOPS \n",
      "(b) Para ETOPS além de 180 minutos, ninguém pode listar um aeródromo de alternativa ETOPS em um despacho ou liberação de voo se o tempo necessário para voar até este aeródromo: (2) em velocidade de cruzeiro com um motor inoperante, corrigida pelo vento e temperatura, exceder o tempo do Sistema Significativo ETOPS mais limitante do avião (outro que não o tempo mais limitante dos sistemas de supressão de fogo do avião menos 15 minutos para os compartimentos de carga e bagagem para os quais seja requerido pela regulamentação ter sistemas de supressão de fogo). \n",
      "\n",
      "\n",
      "Translated requirement:\n",
      "\n",
      "121,633 Timeout system in ETOPS alternative planning\n",
      "(b) For ETOPS beyond 180 minutes, no one can list an alternative ETOPS aerodrome in a dispatch or flight release if the time required to fly to this aerodrome: (2) at cruising speed with an inoperative engine, corrected by the wind and temperature, exceeding the time of the aircraft's most limiting ETOPS Significant System (other than the most limiting time of the aircraft's fire suppression systems minus 15 minutes for cargo and luggage compartments for which regulation is required to have air conditioning systems. fire suppression).\n",
      "\n",
      "\n",
      "Predicted label: Operator\n",
      "Level of Confidence: 99.758%\n"
     ]
    }
   ],
   "source": [
    "EXAMPLE_NUMBER = np.random.randint(0,df_ANAC.shape[0])\n",
    "\n",
    "req = df_ANAC.requirement[EXAMPLE_NUMBER]\n",
    "title = df_ANAC.title[EXAMPLE_NUMBER]\n",
    "#correct_tag = df_ANAC.tag[EXAMPLE_NUMBER].title()\n",
    "print('Requirement: {}\\n\\n{}'.format(title,req))\n",
    "\n",
    "translation = translator.translate(req, dest='en', src='pt').text\n",
    "\n",
    "print('\\n\\nTranslated requirement:\\n\\n{}\\n\\n'.format(translation))\n",
    "\n",
    "tokens = tokenizer_classification.texts_to_sequences([translation])\n",
    "padded_tokens = tf.keras.preprocessing.sequence.pad_sequences(tokens, maxlen = sequence_length)\n",
    "X = np.array(padded_tokens)\n",
    "X = tf.constant(X)\n",
    "prediction = model.predict(X)\n",
    "predicted_prob = prediction.max()\n",
    "predicted_label = prediction.argmax()\n",
    "predicted_tag = ['Title Only', 'Aircraft', 'Operator'][predicted_label]\n",
    "\n",
    "print('Predicted label: {}\\nLevel of Confidence: {}%'.format(predicted_tag, np.round(100*predicted_prob,3)))\n",
    "#print('\\nCorrect label: {}'.format(correct_tag))"
   ]
  },
  {
   "cell_type": "markdown",
   "metadata": {},
   "source": [
    "## Demo: classify user input\n",
    "\n",
    "* Ask for requirement as input (in English)\n",
    "* Tokenize\n",
    "* Pad/trim sequence to 200 tokens\n",
    "* Run through classification model\n",
    "* Choose class according to highest probability"
   ]
  },
  {
   "cell_type": "code",
   "execution_count": 216,
   "metadata": {},
   "outputs": [
    {
     "name": "stdout",
     "output_type": "stream",
     "text": [
      "--> Paste an operational requirement below:\n",
      "\n",
      "CAT.GEN.MPA.185    Information to be retained on the ground  (a) The operator shall ensure that at least for the duration of each flight or series of flights:  (1) information relevant to the flight and appropriate for the type of operation is preserved on the ground;  (2) the information is retained until it has been duplicated at the place at which it will be stored; or, if this is impracticable  (3) the same information is carried in a fireproof container in the aircraft.  (b) The information referred to in (a) includes:  (1) a copy of the operational flight plan, where appropriate;  (2) copies of the relevant part(s) of the aircraft technical log;  (3) route-specific NOTAM documentation if specifically edited by the operator;  (4) mass and balance documentation if required; and  (5) special loads notification.\n",
      "\n",
      "Predicted label: Operator\n",
      "Level of Confidence: 84.371%\n"
     ]
    }
   ],
   "source": [
    "REQUIREMENT = input('-> Paste an operational requirement below:\\n\\n')\n",
    "\n",
    "tokens = tokenizer_classification.texts_to_sequences([REQUIREMENT])\n",
    "padded_tokens = tf.keras.preprocessing.sequence.pad_sequences(tokens, maxlen = sequence_length)\n",
    "X = np.array(padded_tokens)\n",
    "X = tf.constant(X)\n",
    "prediction = model.predict(X)\n",
    "predicted_prob = prediction.max()\n",
    "predicted_label = prediction.argmax()\n",
    "predicted_tag = ['Title Only', 'Aircraft', 'Operator'][predicted_label]\n",
    "\n",
    "print('\\nPredicted label: {}\\nLevel of Confidence: {}%'.format(predicted_tag, np.round(100*predicted_prob,3)))"
   ]
  },
  {
   "cell_type": "markdown",
   "metadata": {},
   "source": [
    "## Improvements:\n",
    "\n",
    "* More categories\n",
    "* Feature engineering\n",
    "* Larger dataset: more sophisticated models without overfitting\n",
    "* Better embeddings: context sensitive, other datasets, multilingual, sentence embedding"
   ]
  },
  {
   "cell_type": "markdown",
   "metadata": {},
   "source": [
    "## Teaser\n",
    "\n",
    "### Applications of Natural Language Processing:\n",
    "\n",
    "* ___Machine Translation___\n",
    "* Speech Recognition\n",
    "* Sentiment Analysis\n",
    "* ___Question Answering___\n",
    "* ___Summarization of Text___\n",
    "* Chatbot\n",
    "* Intelligent Systems\n",
    "* ___Text Classification___\n",
    "* Character Recognition\n",
    "* Spell Checking\n",
    "* ___Spam Detection___\n",
    "* Autocomplete\n",
    "* ___Named Entity Recognition___\n",
    "\n",
    "### Possible projects\n",
    "\n",
    "* Identify subject of individual requirements or new proposed rules\n",
    "* Suggest responses to requirements\n",
    "* Suggest answers to questions based on regulations\n",
    "* Summarization of new rules\n",
    "* Suggest affected requirements in DCAs\n",
    "* \"Clean up\" regulations"
   ]
  }
 ],
 "metadata": {
  "kernelspec": {
   "display_name": "Python 3",
   "language": "python",
   "name": "python3"
  },
  "language_info": {
   "codemirror_mode": {
    "name": "ipython",
    "version": 3
   },
   "file_extension": ".py",
   "mimetype": "text/x-python",
   "name": "python",
   "nbconvert_exporter": "python",
   "pygments_lexer": "ipython3",
   "version": "3.8.5"
  }
 },
 "nbformat": 4,
 "nbformat_minor": 4
}
