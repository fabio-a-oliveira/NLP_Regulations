{
 "cells": [
  {
   "cell_type": "markdown",
   "metadata": {
    "id": "3543YvAF6zel"
   },
   "source": [
    "# Setup"
   ]
  },
  {
   "cell_type": "markdown",
   "metadata": {
    "id": "jXpxkLpNAsxk"
   },
   "source": [
    "## General"
   ]
  },
  {
   "cell_type": "code",
   "execution_count": 32,
   "metadata": {
    "colab": {
     "base_uri": "https://localhost:8080/"
    },
    "id": "0jA29-GJ6zeo",
    "outputId": "f02e46d3-e3bf-4d12-84af-8debb43ab0c7"
   },
   "outputs": [
    {
     "name": "stdout",
     "output_type": "stream",
     "text": [
      "[nltk_data] Downloading package averaged_perceptron_tagger to\n",
      "[nltk_data]     /root/nltk_data...\n",
      "[nltk_data]   Package averaged_perceptron_tagger is already up-to-\n",
      "[nltk_data]       date!\n"
     ]
    },
    {
     "data": {
      "text/plain": [
       "True"
      ]
     },
     "execution_count": 32,
     "metadata": {
      "tags": []
     },
     "output_type": "execute_result"
    }
   ],
   "source": [
    "import numpy as np\n",
    "import pandas as pd\n",
    "import tensorflow as tf\n",
    "import requests\n",
    "import re\n",
    "from os import chdir, getcwd, listdir, mkdir\n",
    "from os.path import join\n",
    "import pkg_resources\n",
    "import pickle\n",
    "import nltk\n",
    "nltk.download('averaged_perceptron_tagger')\n",
    "from scipy.linalg import norm\n",
    "from scipy.spatial.distance import cosine\n",
    "from matplotlib import pyplot as plt"
   ]
  },
  {
   "cell_type": "code",
   "execution_count": 33,
   "metadata": {
    "id": "7GmeRh6L6zeq"
   },
   "outputs": [],
   "source": [
    "RUNNING_ON_COLAB = 'colab' in str(get_ipython())\n",
    "HOME = getcwd()"
   ]
  },
  {
   "cell_type": "code",
   "execution_count": 34,
   "metadata": {
    "id": "ZC2N35qF6zer"
   },
   "outputs": [],
   "source": [
    "if RUNNING_ON_COLAB == True:\n",
    "    URL_FAA_pr = \"https://github.com/fabio-a-oliveira/NLP_Regulations/blob/main/Regulations/FAR_Part121_nodes.xlsx?raw=true\"\n",
    "    URL_ANAC_pr = \"https://github.com/fabio-a-oliveira/NLP_Regulations/blob/main/Regulations/RBAC121_nodes.xlsx?raw=true\"\n",
    "    URL_TOKENIZER_pr = \"https://github.com/fabio-a-oliveira/NLP_Regulations/blob/main/models/tokenizer___2021-04-17_11-10-38.h5?raw=true\"\n",
    "    URL_EMBEDDING_pr = \"https://github.com/fabio-a-oliveira/NLP_Regulations/blob/main/models/embedding_layer___2021-04-17_11-10-38.h5?raw=true\"\n",
    "    URL_FAA_cl = \"https://github.com/fabio-a-oliveira/NLP_Regulations/blob/main/Regulations/FAR_Part121_nodes_labelled.xlsx?raw=true\"\n",
    "    URL_ANAC_cl = \"https://github.com/fabio-a-oliveira/NLP_Regulations/blob/main/Regulations/RBAC121_nodes.xlsx?raw=true\"\n",
    "    URL_TOKENIZER_cl = \"https://github.com/fabio-a-oliveira/NLP_Regulations/blob/main/models/tokenizer___2021-04-17_10-28-55.h5?raw=true\"\n",
    "    URL_MODEL_cl = \"https://github.com/fabio-a-oliveira/NLP_Regulations/blob/main/models/model___2021-04-17_10-28-55___Bidirectional_GRU_Softmax.h5?raw=true\"\n",
    "\n",
    "else:\n",
    "    URL_FAA_pr = \"https://github.com/fabio-a-oliveira/NLP_Regulations/blob/main/Regulations/FAR_Part121_nodes.xlsx?raw=true\"\n",
    "    URL_ANAC_pr = \"https://github.com/fabio-a-oliveira/NLP_Regulations/blob/main/Regulations/RBAC121_nodes.xlsx?raw=true\"\n",
    "    URL_TOKENIZER_pr = \"https://github.com/fabio-a-oliveira/NLP_Regulations/blob/main/models/tokenizer___2021-04-16_16-04-53.h5?raw=true\"\n",
    "    URL_EMBEDDING_pr = \"https://github.com/fabio-a-oliveira/NLP_Regulations/blob/main/models/embedding_layer___2021-04-16_16-04-53.h5?raw=true\"\n",
    "    URL_FAA_cl = \"https://github.com/fabio-a-oliveira/NLP_Regulations/blob/main/Regulations/FAR_Part121_nodes_labelled.xlsx?raw=true\"\n",
    "    URL_ANAC_cl = \"https://github.com/fabio-a-oliveira/NLP_Regulations/blob/main/Regulations/RBAC121_nodes.xlsx?raw=true\"\n",
    "    URL_TOKENIZER_cl = \"https://github.com/fabio-a-oliveira/NLP_Regulations/blob/main/models/tokenizer___2021-04-16_15-56-43.h5?raw=true\"\n",
    "    URL_MODEL_cl = \"https://github.com/fabio-a-oliveira/NLP_Regulations/blob/main/models/model___2021-04-16_15-56-43___Bidirectional_GRU_Softmax.h5?raw=true\""
   ]
  },
  {
   "cell_type": "code",
   "execution_count": 35,
   "metadata": {
    "colab": {
     "base_uri": "https://localhost:8080/"
    },
    "id": "rjGaiTXN6zet",
    "outputId": "90d6c566-30ba-4fcd-d656-0b49142ecc38"
   },
   "outputs": [
    {
     "data": {
      "text/plain": [
       "233594"
      ]
     },
     "execution_count": 35,
     "metadata": {
      "tags": []
     },
     "output_type": "execute_result"
    },
    {
     "data": {
      "text/plain": [
       "225438"
      ]
     },
     "execution_count": 35,
     "metadata": {
      "tags": []
     },
     "output_type": "execute_result"
    },
    {
     "data": {
      "text/plain": [
       "244306"
      ]
     },
     "execution_count": 35,
     "metadata": {
      "tags": []
     },
     "output_type": "execute_result"
    },
    {
     "data": {
      "text/plain": [
       "12729032"
      ]
     },
     "execution_count": 35,
     "metadata": {
      "tags": []
     },
     "output_type": "execute_result"
    },
    {
     "data": {
      "text/plain": [
       "300561"
      ]
     },
     "execution_count": 35,
     "metadata": {
      "tags": []
     },
     "output_type": "execute_result"
    },
    {
     "data": {
      "text/plain": [
       "225438"
      ]
     },
     "execution_count": 35,
     "metadata": {
      "tags": []
     },
     "output_type": "execute_result"
    },
    {
     "data": {
      "text/plain": [
       "224139"
      ]
     },
     "execution_count": 35,
     "metadata": {
      "tags": []
     },
     "output_type": "execute_result"
    },
    {
     "data": {
      "text/plain": [
       "20317912"
      ]
     },
     "execution_count": 35,
     "metadata": {
      "tags": []
     },
     "output_type": "execute_result"
    }
   ],
   "source": [
    "URLs = [URL_FAA_pr, URL_ANAC_pr, URL_TOKENIZER_pr, URL_EMBEDDING_pr, URL_FAA_cl, URL_ANAC_cl, URL_TOKENIZER_cl, URL_MODEL_cl]\n",
    "filenames = ['FAA_pr.xlsx', 'ANAC_pr.xlsx', 'TK_pr.h5', 'EMB_pr.h5', 'FAA_cl.xlsx', 'ANAC_cl.xlsx', 'TK_cl.h5', 'MD_cl.h5']\n",
    "\n",
    "chdir(HOME)\n",
    "if 'temp' not in listdir():\n",
    "    mkdir('temp')\n",
    "\n",
    "chdir('temp')\n",
    "for n in range(len(URLs)):\n",
    "    r = requests.get(URLs[n])\n",
    "    with open(filenames[n], 'wb') as file:\n",
    "        file.write(r.content)\n",
    "\n",
    "chdir(HOME)"
   ]
  },
  {
   "cell_type": "code",
   "execution_count": 36,
   "metadata": {
    "id": "nKpVpDHz6zeu"
   },
   "outputs": [],
   "source": [
    "filepath_FAA_pr = join(HOME, 'temp', filenames[0])\n",
    "filepath_ANAC_pr = join(HOME, 'temp', filenames[1])\n",
    "filepath_TK_pr = join(HOME, 'temp', filenames[2])\n",
    "filepath_EMB_pr = join(HOME, 'temp', filenames[3])\n",
    "filepath_FAA_cl = join(HOME, 'temp', filenames[4])\n",
    "filepath_ANAC_cl = join(HOME, 'temp', filenames[5])\n",
    "filepath_TK_cl = join(HOME, 'temp', filenames[6])\n",
    "filepath_MD_cl = join(HOME, 'temp', filenames[7])"
   ]
  },
  {
   "cell_type": "code",
   "execution_count": 37,
   "metadata": {
    "colab": {
     "base_uri": "https://localhost:8080/"
    },
    "id": "IusLUuir6zew",
    "outputId": "74537b26-7509-4bc1-e439-516b22dab281"
   },
   "outputs": [
    {
     "name": "stdout",
     "output_type": "stream",
     "text": [
      "Requirement already satisfied: googletrans==3.1.0a0 in /usr/local/lib/python3.7/dist-packages (3.1.0a0)\n",
      "Requirement already satisfied: httpx==0.13.3 in /usr/local/lib/python3.7/dist-packages (from googletrans==3.1.0a0) (0.13.3)\n",
      "Requirement already satisfied: certifi in /usr/local/lib/python3.7/dist-packages (from httpx==0.13.3->googletrans==3.1.0a0) (2020.12.5)\n",
      "Requirement already satisfied: hstspreload in /usr/local/lib/python3.7/dist-packages (from httpx==0.13.3->googletrans==3.1.0a0) (2020.12.22)\n",
      "Requirement already satisfied: rfc3986<2,>=1.3 in /usr/local/lib/python3.7/dist-packages (from httpx==0.13.3->googletrans==3.1.0a0) (1.4.0)\n",
      "Requirement already satisfied: idna==2.* in /usr/local/lib/python3.7/dist-packages (from httpx==0.13.3->googletrans==3.1.0a0) (2.10)\n",
      "Requirement already satisfied: chardet==3.* in /usr/local/lib/python3.7/dist-packages (from httpx==0.13.3->googletrans==3.1.0a0) (3.0.4)\n",
      "Requirement already satisfied: sniffio in /usr/local/lib/python3.7/dist-packages (from httpx==0.13.3->googletrans==3.1.0a0) (1.2.0)\n",
      "Requirement already satisfied: httpcore==0.9.* in /usr/local/lib/python3.7/dist-packages (from httpx==0.13.3->googletrans==3.1.0a0) (0.9.1)\n",
      "Requirement already satisfied: h11<0.10,>=0.8 in /usr/local/lib/python3.7/dist-packages (from httpcore==0.9.*->httpx==0.13.3->googletrans==3.1.0a0) (0.9.0)\n",
      "Requirement already satisfied: h2==3.* in /usr/local/lib/python3.7/dist-packages (from httpcore==0.9.*->httpx==0.13.3->googletrans==3.1.0a0) (3.2.0)\n",
      "Requirement already satisfied: hyperframe<6,>=5.2.0 in /usr/local/lib/python3.7/dist-packages (from h2==3.*->httpcore==0.9.*->httpx==0.13.3->googletrans==3.1.0a0) (5.2.0)\n",
      "Requirement already satisfied: hpack<4,>=3.0 in /usr/local/lib/python3.7/dist-packages (from h2==3.*->httpcore==0.9.*->httpx==0.13.3->googletrans==3.1.0a0) (3.0.0)\n",
      "Requirement already satisfied: pdfplumber in /usr/local/lib/python3.7/dist-packages (0.5.27)\n",
      "Requirement already satisfied: Wand in /usr/local/lib/python3.7/dist-packages (from pdfplumber) (0.6.6)\n",
      "Requirement already satisfied: pdfminer.six==20200517 in /usr/local/lib/python3.7/dist-packages (from pdfplumber) (20200517)\n",
      "Requirement already satisfied: Pillow>=7.0.0 in /usr/local/lib/python3.7/dist-packages (from pdfplumber) (7.1.2)\n",
      "Requirement already satisfied: pycryptodome in /usr/local/lib/python3.7/dist-packages (from pdfminer.six==20200517->pdfplumber) (3.10.1)\n",
      "Requirement already satisfied: chardet; python_version > \"3.0\" in /usr/local/lib/python3.7/dist-packages (from pdfminer.six==20200517->pdfplumber) (3.0.4)\n",
      "Requirement already satisfied: sortedcontainers in /usr/local/lib/python3.7/dist-packages (from pdfminer.six==20200517->pdfplumber) (2.3.0)\n"
     ]
    }
   ],
   "source": [
    "package_list = [pkg for pkg in pkg_resources.working_set]\n",
    "\n",
    "if 'googletrans' not in [pkg.key for pkg in package_list]:\n",
    "    ! pip install googletrans==3.1.0a0\n",
    "import googletrans\n",
    "    \n",
    "if 'pdfplumber' not in [pkg.key for pkg in package_list]:\n",
    "    ! pip install pdfplumber\n",
    "import pdfplumber"
   ]
  },
  {
   "cell_type": "code",
   "execution_count": 38,
   "metadata": {
    "id": "Rkl4i0VvCkHH"
   },
   "outputs": [],
   "source": [
    "pd.set_option('display.max_colwidth', 100)\n",
    "pd.set_option('display.max_rows', 100)"
   ]
  },
  {
   "cell_type": "markdown",
   "metadata": {
    "id": "nmIH-HxmAw42"
   },
   "source": [
    "## Projection"
   ]
  },
  {
   "cell_type": "code",
   "execution_count": 39,
   "metadata": {
    "id": "U7fN-gt16zey"
   },
   "outputs": [],
   "source": [
    "def relevant_words(excerpt):\n",
    "    tokens = re.findall('[a-zA-Z]{3,}', excerpt)\n",
    "    words, allowed_pos = [], ['NN','NNS','NNP','NNPS','JJ','RB','VB','VBG','VBN','VBP','VBZ','VBD']\n",
    "    for item in nltk.pos_tag(tokens):\n",
    "        if item[0] not in words and item[1] in allowed_pos:\n",
    "            words.append(item[0])\n",
    "    return words\n",
    "\n",
    "def sorted_keywords(words, tokenizer):\n",
    "    w,f = [], []\n",
    "\n",
    "    for word in words:\n",
    "        if word in tokenizer.word_index.keys():\n",
    "            w.append(word)\n",
    "            f.append(tokenizer.word_counts[word])\n",
    "\n",
    "    sorting_indices = np.array(f).argsort()\n",
    "    return np.array(w)[sorting_indices]\n",
    "\n",
    "def jaccard_mod(string1, string2, tokenizer, max_words = None):\n",
    "    # with max_words != None, repetitions are ignored, only the frequency in the original dictionary is used\n",
    "    # with max_words == None, repetitions are somewhat accounted for (not very thoughtfully..)\n",
    "    \n",
    "    cutoff = .5\n",
    "    \n",
    "    if max_words == None:\n",
    "        tokens1 = tokenizer.texts_to_sequences(relevant_words(string1))\n",
    "        tokens2 = tokenizer.texts_to_sequences(relevant_words(string2))\n",
    "    else:\n",
    "        tokens1 = sorted_keywords(relevant_words(string1), tokenizer)\n",
    "        tokens1 = tokenizer.texts_to_sequences(tokens1[:max_words])\n",
    "        tokens2 = sorted_keywords(relevant_words(string2), tokenizer)\n",
    "        tokens2 = tokenizer.texts_to_sequences(tokens2[:max_words])\n",
    "        \n",
    "    if len(tokens1) < 2 or len(tokens2) < 2:\n",
    "        return 0\n",
    "    else:\n",
    "        embedding1 = embedding_layer(np.array(tokens1)).numpy().squeeze()\n",
    "        norms1 = norm(embedding1, axis=1)\n",
    "        embedding1 = embedding1[norms1 != 0]\n",
    "        norms1 = norms1[norms1 != 0].reshape([-1,1])\n",
    "\n",
    "        embedding2 = embedding_layer(np.array(tokens2)).numpy().squeeze()\n",
    "        norms2 = norm(embedding2, axis=1)\n",
    "        embedding2 = embedding2[norms2 != 0]\n",
    "        norms2 = norms2[norms2 != 0].reshape([-1,1])\n",
    "\n",
    "        cosine_similarity = np.matmul(embedding1, embedding2.T) / norms1 / norms2.T\n",
    "        tril = np.ones_like(cosine_similarity) * (np.tril(cosine_similarity) != 0).astype(int)\n",
    "\n",
    "        intersection = np.sum((cosine_similarity * cosine_similarity) > cutoff)\n",
    "        union = cosine_similarity.shape[0] + cosine_similarity.shape[1] - intersection\n",
    "\n",
    "        return intersection/union"
   ]
  },
  {
   "cell_type": "code",
   "execution_count": 40,
   "metadata": {
    "id": "Bp6okGZQ6zez"
   },
   "outputs": [],
   "source": [
    "df_FAA_pr = pd.read_excel(filepath_FAA_pr)[['title','requirement']]\n",
    "df_ANAC_pr = pd.read_excel(filepath_ANAC_pr)[['title','requirement']]\n",
    "translator = googletrans.Translator()\n",
    "\n",
    "with open(filepath_TK_pr, 'rb') as file:\n",
    "    tokenizer_pr = pickle.load(file)\n",
    "\n",
    "with open(filepath_EMB_pr, 'rb') as file:\n",
    "    embedding_layer = pickle.load(file)"
   ]
  },
  {
   "cell_type": "markdown",
   "metadata": {
    "id": "puCyz7WWAykk"
   },
   "source": [
    "## Classification"
   ]
  },
  {
   "cell_type": "code",
   "execution_count": 41,
   "metadata": {
    "id": "XK3s3_D6BLM7"
   },
   "outputs": [],
   "source": [
    "df_FAA_cl = pd.read_excel(filepath_FAA_cl)[['title','requirement','label','tag']]\n",
    "df_ANAC_cl = pd.read_excel(filepath_ANAC_cl)[['title','requirement']] # + label + tag!!!\n",
    "translator = googletrans.Translator()\n",
    "\n",
    "with open(filepath_TK_cl, 'rb') as file:\n",
    "    tokenizer_cl = pickle.load(file)\n",
    "    \n",
    "model = tf.keras.models.load_model(filepath_MD_cl)\n",
    "\n",
    "sequence_length = 200"
   ]
  },
  {
   "cell_type": "markdown",
   "metadata": {
    "id": "Vwg-FvW_6zew"
   },
   "source": [
    "---   \n",
    "# Projection"
   ]
  },
  {
   "cell_type": "markdown",
   "metadata": {
    "id": "tpgn-drVBrZq"
   },
   "source": [
    "## Description"
   ]
  },
  {
   "cell_type": "markdown",
   "metadata": {
    "id": "yaUugkyyBdT1"
   },
   "source": [
    "Objective: find requirements of similar semantic content.\n",
    "\n",
    "---\n",
    "\n",
    "<img src=\"https://github.com/fabio-a-oliveira/NLP_Regulations/blob/main/images/requirement_comparison.png?raw=1\">"
   ]
  },
  {
   "cell_type": "markdown",
   "metadata": {
    "id": "aAfT4A3m6ze0"
   },
   "source": [
    "## Demo: find FAA requirement corresponding to given ANAC requirement"
   ]
  },
  {
   "cell_type": "markdown",
   "metadata": {
    "id": "g9n9T2mpB_4A"
   },
   "source": [
    "* Choose ANAC requirement randomly\n",
    "* Translate requirement\n",
    "* Compare with list of FAA requirements\n",
    "    - Tokenize\n",
    "    - Filter parts-of-speech\n",
    "    - Sort words according to importance\n",
    "    - Identify similar words\n",
    "    - Compare shared words\n",
    "* Print best match"
   ]
  },
  {
   "cell_type": "code",
   "execution_count": 54,
   "metadata": {
    "colab": {
     "base_uri": "https://localhost:8080/",
     "height": 726
    },
    "id": "5oIZ6UPL6ze1",
    "outputId": "c6aa35fb-5563-4d3f-d739-31c41080493b"
   },
   "outputs": [
    {
     "name": "stdout",
     "output_type": "stream",
     "text": [
      "Requirement: RBAC 121.287\n",
      "\n",
      "121.287  Transporte de carga no compartimento de carga \n",
      "Carga transportada em compartimentos de carga, projetados de modo a requerer a entrada física de um tripulante para combate a qualquer incêndio que possa ocorrer em voo, deve ser distribuída de modo a permitir que um tripulante alcance, efetivamente, todas as partes do compartimento com um extintor de incêndio manual. \n",
      "\n",
      "\n",
      "Translated requirement:\n",
      "\n",
      "121.287 Transporting cargo in the cargo hold\n",
      "Cargo carried in cargo compartments, designed to require the physical entry of a crew member to fight any fire that may occur in flight, must be distributed in such a way as to allow a crew member to effectively reach all parts of the compartment with a manual fire extinguisher.\n",
      "\n",
      "\n",
      "Match: FAR § 121.287\n",
      "Similarity index: 0.586\n",
      "\n",
      "Matching requirement text:\n",
      "\n",
      "§ 121.287   Carriage of cargo in cargo compartments.\n",
      "When cargo is carried in cargo compartments that are designed to require the physical entry of a crewmember to extinguish any fire that may occur during flight, the cargo must be loaded so as to allow a crewmember to effectively reach all parts of the compartment with the contents of a hand fire extinguisher. \n",
      "\n",
      "\n",
      "\n"
     ]
    },
    {
     "data": {
      "image/png": "[encoded data removed]",
      "text/plain": [
       "<Figure size 1080x360 with 1 Axes>"
      ]
     },
     "metadata": {
      "needs_background": "light",
      "tags": []
     },
     "output_type": "display_data"
    }
   ],
   "source": [
    "EXAMPLE_NUMBER = np.random.randint(0,df_ANAC_pr.shape[0])\n",
    "EXAMPLE_NUMBER = 416\n",
    "\n",
    "req = df_ANAC_pr.requirement[EXAMPLE_NUMBER]\n",
    "title = df_ANAC_pr.title[EXAMPLE_NUMBER]\n",
    "print('Requirement: RBAC {}\\n\\n{}'.format(title,req))\n",
    "\n",
    "translation = translator.translate(req, dest='en', src='pt').text\n",
    "\n",
    "print('\\n\\nTranslated requirement:\\n\\n{}\\n\\n'.format(translation))\n",
    "\n",
    "similarity = []\n",
    "for ref in df_FAA_pr.requirement:\n",
    "    similarity.append(jaccard_mod(translation, ref, tokenizer_pr))\n",
    "    \n",
    "match_index = np.array(similarity).argmax()\n",
    "print('Match: FAR {}'.format(df_FAA_pr.title[match_index]))\n",
    "print('Similarity index: {}\\n'.format(np.round(np.max(similarity),3)))\n",
    "print('Matching requirement text:\\n\\n{}'.format(df_FAA_pr.requirement[match_index]))\n",
    "\n",
    "plt.figure(figsize = (15,5));\n",
    "plt.hist(np.array(similarity), 50);\n",
    "plt.title('Histogram - similarity translation vs reference');\n",
    "plt.show();"
   ]
  },
  {
   "cell_type": "markdown",
   "metadata": {
    "id": "lqJQN8CS6ze3"
   },
   "source": [
    "## Demo: find match to user input"
   ]
  },
  {
   "cell_type": "markdown",
   "metadata": {
    "id": "1fCjCkL-6ze3"
   },
   "source": [
    "* Ask for requirement as input (in English)\n",
    "* Compare with list of FAA requirements\n",
    "    - Tokenize\n",
    "    - Filter parts-of-speech\n",
    "    - Sort words according to importance\n",
    "    - Identify similar words\n",
    "    - Compare shared words\n",
    "* Print best match"
   ]
  },
  {
   "cell_type": "code",
   "execution_count": 57,
   "metadata": {
    "colab": {
     "base_uri": "https://localhost:8080/",
     "height": 625
    },
    "id": "IOGBL0xm6ze4",
    "outputId": "02e48aca-68f9-4c8c-902a-065e0d6e5287"
   },
   "outputs": [
    {
     "name": "stdout",
     "output_type": "stream",
     "text": [
      "-> Paste an operational requirement below:\n",
      "\n",
      "CAT.IDE.A.115    Operating lights  (a) Aeroplanes operated by day shall be equipped with:  (1) an anti-collision light system;\n",
      "\n",
      "Match: FAR § 121.356(c)(2)\n",
      "Similarity index: 0.194\n",
      "\n",
      "Matching requirement text:\n",
      "\n",
      "§ 121.356   Collision avoidance system.\n",
      "Effective January 1, 2005, any airplane you operate under this part must be equipped and operated according to the following table: \n",
      "Collision Avoidance Systems \n",
      "If you operate any -  \n",
      "Then you must operate that airplane with -  \n",
      "(c) Piston-powered airplane of more than 33,000 pounds maximum certificated takeoff weight(2) A collision avoidance system equivalent to maximum TSO C-118, or a later version, or\n",
      "\n"
     ]
    },
    {
     "data": {
      "image/png": "[encoded data removed]",
      "text/plain": [
       "<Figure size 1080x360 with 1 Axes>"
      ]
     },
     "metadata": {
      "needs_background": "light",
      "tags": []
     },
     "output_type": "display_data"
    }
   ],
   "source": [
    "req = input('-> Paste an operational requirement below:\\n\\n')\n",
    "\n",
    "similarity = []\n",
    "for ref in df_FAA_pr.requirement:\n",
    "    similarity.append(jaccard_mod(req, ref, tokenizer_pr))\n",
    "    \n",
    "match_index = np.array(similarity).argmax()\n",
    "print('\\nMatch: FAR {}'.format(df_FAA_pr.title[match_index]))\n",
    "print('Similarity index: {}\\n'.format(np.round(np.max(similarity), 3)))\n",
    "print('Matching requirement text:\\n\\n{}'.format(df_FAA_pr.requirement[match_index]))\n",
    "\n",
    "plt.figure(figsize = (15,5));\n",
    "plt.hist(np.array(similarity), 50);\n",
    "plt.title('Histogram - similarity requirement vs reference');\n",
    "plt.show();"
   ]
  },
  {
   "cell_type": "markdown",
   "metadata": {
    "id": "XJG4XRn46ze5"
   },
   "source": [
    "---   \n",
    "# Classification"
   ]
  },
  {
   "cell_type": "markdown",
   "metadata": {
    "id": "YJ3OT5mqCP9e"
   },
   "source": [
    "## Description"
   ]
  },
  {
   "cell_type": "markdown",
   "metadata": {
    "id": "xyURzzIZ6ze6"
   },
   "source": [
    "Objective: read requirement and classify in either \"Title Only\", \"Aircraft\" or \"Operator\"   \n",
    "\n",
    "-----   \n",
    "\n",
    "<img src=\"https://github.com/fabio-a-oliveira/NLP_Regulations/blob/main/images/requirement_classification.png?raw=1\">"
   ]
  },
  {
   "cell_type": "code",
   "execution_count": null,
   "metadata": {
    "id": "x3uw-1o66ze7"
   },
   "outputs": [],
   "source": []
  },
  {
   "cell_type": "markdown",
   "metadata": {
    "id": "dGyojWAo6ze7"
   },
   "source": [
    "## Demo: classify random FAA requirement"
   ]
  },
  {
   "cell_type": "markdown",
   "metadata": {
    "id": "0JUl7ub7CUJp"
   },
   "source": [
    "* Select FAA part 121 requirement randomly\n",
    "* Tokenize\n",
    "* Pad/trim sequence to 200 tokens\n",
    "* Run through classification model\n",
    "* Choose class according to highest probability"
   ]
  },
  {
   "cell_type": "code",
   "execution_count": 60,
   "metadata": {
    "colab": {
     "base_uri": "https://localhost:8080/"
    },
    "id": "fluSSsXR6ze8",
    "outputId": "89185150-eead-4b84-9a0c-5a630f3b4a4b"
   },
   "outputs": [
    {
     "name": "stdout",
     "output_type": "stream",
     "text": [
      "Requirement: § 121.327(c)(2)\n",
      "\n",
      "§ 121.327   Supplemental oxygen: Reciprocating engine powered airplanes.\n",
      "(c) Passengers. Each certificate holder shall provide a supply of oxygen, approved for passenger safety, in accordance with the following: \n",
      "(2) For flights at cabin pressure altitudes above 14,000 feet up to and including 15,000 feet, enough oxygen for that part of the flight at those altitudes for 30 percent of the passengers. \n",
      "\n",
      "Predicted label: Aircraft\n",
      "Level of Confidence: 99.731%\n",
      "\n",
      "Correct label: Aircraft\n"
     ]
    }
   ],
   "source": [
    "EXAMPLE_NUMBER = np.random.randint(0,df_FAA_cl.shape[0])\n",
    "\n",
    "req = df_FAA_cl.requirement[EXAMPLE_NUMBER]\n",
    "title = df_FAA_cl.title[EXAMPLE_NUMBER]\n",
    "correct_tag = df_FAA_cl.tag[EXAMPLE_NUMBER].title()\n",
    "print('Requirement: {}\\n\\n{}'.format(title,req))\n",
    "\n",
    "tokens = tokenizer_cl.texts_to_sequences([req])\n",
    "padded_tokens = tf.keras.preprocessing.sequence.pad_sequences(tokens, maxlen = sequence_length)\n",
    "X = tf.constant(np.array(padded_tokens))\n",
    "prediction = model.predict(X)\n",
    "predicted_prob = prediction.max()\n",
    "predicted_label = prediction.argmax()\n",
    "predicted_tag = ['Title Only', 'Aircraft', 'Operator'][predicted_label]\n",
    "\n",
    "print('Predicted label: {}\\nLevel of Confidence: {}%'.format(predicted_tag, np.round(100*predicted_prob,3)))\n",
    "print('\\nCorrect label: {}'.format(correct_tag))"
   ]
  },
  {
   "cell_type": "markdown",
   "metadata": {
    "id": "V-TnwJms6ze9"
   },
   "source": [
    "## Demo: classify random ANAC requirement"
   ]
  },
  {
   "cell_type": "markdown",
   "metadata": {
    "id": "PifyfNqjCYFF"
   },
   "source": [
    "* Select ANAC RBAC 121 requirement randomly\n",
    "* Translate to English\n",
    "* Tokenize\n",
    "* Pad/trim sequence to 200 tokens\n",
    "* Run through classification model\n",
    "* Choose class according to highest probability"
   ]
  },
  {
   "cell_type": "code",
   "execution_count": 62,
   "metadata": {
    "colab": {
     "base_uri": "https://localhost:8080/"
    },
    "id": "rqgsQ73H6ze9",
    "outputId": "16467080-0d69-4eec-ca77-fdc596c2c255"
   },
   "outputs": [
    {
     "name": "stdout",
     "output_type": "stream",
     "text": [
      "Requirement: 121.715(a)(11)\n",
      "\n",
      "121.715  Diário de bordo \n",
      "(a) O detentor de certificado deverá levar em cada voo o diário de bordo do avião, ou equivalente aceitável pela ANAC, com no mínimo, mas não limitado aos seguintes dados: (11) horas de voo por etapa/total; \n",
      "\n",
      "\n",
      "Translated requirement:\n",
      "\n",
      "121,715 Logbook\n",
      "(a) The certificate holder shall carry on each flight the airplane's logbook, or equivalent acceptable by ANAC, with at least, but not limited to the following data: (11) flight hours per stage / total;\n",
      "\n",
      "\n",
      "Predicted label: Operator\n",
      "Level of Confidence: 99.813%\n"
     ]
    }
   ],
   "source": [
    "EXAMPLE_NUMBER = np.random.randint(0,df_ANAC_cl.shape[0])\n",
    "\n",
    "req = df_ANAC_cl.requirement[EXAMPLE_NUMBER]\n",
    "title = df_ANAC_cl.title[EXAMPLE_NUMBER]\n",
    "#correct_tag = df_ANAC.tag[EXAMPLE_NUMBER].title()\n",
    "print('Requirement: {}\\n\\n{}'.format(title,req))\n",
    "\n",
    "translation = translator.translate(req, dest='en', src='pt').text\n",
    "\n",
    "print('\\n\\nTranslated requirement:\\n\\n{}\\n\\n'.format(translation))\n",
    "\n",
    "tokens = tokenizer_cl.texts_to_sequences([translation])\n",
    "padded_tokens = tf.keras.preprocessing.sequence.pad_sequences(tokens, maxlen = sequence_length)\n",
    "X = np.array(padded_tokens)\n",
    "X = tf.constant(X)\n",
    "prediction = model.predict(X)\n",
    "predicted_prob = prediction.max()\n",
    "predicted_label = prediction.argmax()\n",
    "predicted_tag = ['Title Only', 'Aircraft', 'Operator'][predicted_label]\n",
    "\n",
    "print('Predicted label: {}\\nLevel of Confidence: {}%'.format(predicted_tag, np.round(100*predicted_prob,3)))\n",
    "#print('\\nCorrect label: {}'.format(correct_tag))"
   ]
  },
  {
   "cell_type": "markdown",
   "metadata": {
    "id": "pdRztIZn6ze-"
   },
   "source": [
    "## Demo: classify user input"
   ]
  },
  {
   "cell_type": "markdown",
   "metadata": {
    "id": "OX9q7lyxCcgZ"
   },
   "source": [
    "* Ask for requirement as input (in English)\n",
    "* Tokenize\n",
    "* Pad/trim sequence to 200 tokens\n",
    "* Run through classification model\n",
    "* Choose class according to highest probability"
   ]
  },
  {
   "cell_type": "code",
   "execution_count": 63,
   "metadata": {
    "colab": {
     "base_uri": "https://localhost:8080/"
    },
    "id": "sUEdvZ196ze_",
    "outputId": "a4167edc-9502-48b9-8e26-739c801c07bc"
   },
   "outputs": [
    {
     "name": "stdout",
     "output_type": "stream",
     "text": [
      "-> Paste an operational requirement below:\n",
      "\n",
      "CAT.IDE.A.115    Operating lights  (a) Aeroplanes operated by day shall be equipped with:  (1) an anti-collision light system;\n",
      "\n",
      "Predicted label: Operator\n",
      "Level of Confidence: 90.433%\n"
     ]
    }
   ],
   "source": [
    "REQUIREMENT = input('-> Paste an operational requirement below:\\n\\n')\n",
    "\n",
    "tokens = tokenizer_cl.texts_to_sequences([REQUIREMENT])\n",
    "padded_tokens = tf.keras.preprocessing.sequence.pad_sequences(tokens, maxlen = sequence_length)\n",
    "X = np.array(padded_tokens)\n",
    "X = tf.constant(X)\n",
    "prediction = model.predict(X)\n",
    "predicted_prob = prediction.max()\n",
    "predicted_label = prediction.argmax()\n",
    "predicted_tag = ['Title Only', 'Aircraft', 'Operator'][predicted_label]\n",
    "\n",
    "print('\\nPredicted label: {}\\nLevel of Confidence: {}%'.format(predicted_tag, np.round(100*predicted_prob,3)))"
   ]
  }
 ],
 "metadata": {
  "colab": {
   "name": "demonstration.ipynb",
   "provenance": [],
   "toc_visible": true
  },
  "kernelspec": {
   "display_name": "Python 3",
   "language": "python",
   "name": "python3"
  },
  "language_info": {
   "codemirror_mode": {
    "name": "ipython",
    "version": 3
   },
   "file_extension": ".py",
   "mimetype": "text/x-python",
   "name": "python",
   "nbconvert_exporter": "python",
   "pygments_lexer": "ipython3",
   "version": "3.8.5"
  }
 },
 "nbformat": 4,
 "nbformat_minor": 1
}
