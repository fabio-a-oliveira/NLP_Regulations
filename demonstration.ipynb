{
 "cells": [
  {
   "cell_type": "markdown",
   "metadata": {},
   "source": [
    "# Setup"
   ]
  },
  {
   "cell_type": "code",
   "execution_count": 1,
   "metadata": {},
   "outputs": [
    {
     "name": "stderr",
     "output_type": "stream",
     "text": [
      "[nltk_data] Downloading package averaged_perceptron_tagger to\n",
      "[nltk_data]     C:\\Users\\fabio\\AppData\\Roaming\\nltk_data...\n",
      "[nltk_data]   Package averaged_perceptron_tagger is already up-to-\n",
      "[nltk_data]       date!\n"
     ]
    }
   ],
   "source": [
    "import numpy as np\n",
    "import pandas as pd\n",
    "import tensorflow as tf\n",
    "import requests\n",
    "import re\n",
    "from os import chdir, getcwd, listdir, mkdir\n",
    "from os.path import join\n",
    "import pkg_resources\n",
    "import pickle\n",
    "import nltk\n",
    "nltk.download('averaged_perceptron_tagger')\n",
    "from scipy.linalg import norm\n",
    "from scipy.spatial.distance import cosine\n",
    "from matplotlib import pyplot as plt"
   ]
  },
  {
   "cell_type": "code",
   "execution_count": 2,
   "metadata": {},
   "outputs": [],
   "source": [
    "RUNNING_ON_COLAB = 'colab' in str(get_ipython())\n",
    "HOME = getcwd()"
   ]
  },
  {
   "cell_type": "code",
   "execution_count": 3,
   "metadata": {},
   "outputs": [],
   "source": [
    "if RUNNING_ON_COLAB == True:\n",
    "    pass\n",
    "\n",
    "\n",
    "else:\n",
    "    URL_FAA_pr = \"https://github.com/fabio-a-oliveira/NLP_Regulations/blob/main/Regulations/FAR_Part121_nodes.xlsx?raw=true\"\n",
    "    URL_ANAC_pr = \"https://github.com/fabio-a-oliveira/NLP_Regulations/blob/main/Regulations/RBAC121_nodes.xlsx?raw=true\"\n",
    "    URL_TOKENIZER_pr = \"https://github.com/fabio-a-oliveira/NLP_Regulations/blob/main/models/tokenizer___2021-04-16_16-04-53.h5?raw=true\"\n",
    "    URL_EMBEDDING_pr = \"https://github.com/fabio-a-oliveira/NLP_Regulations/blob/main/models/embedding_layer___2021-04-16_16-04-53.h5?raw=true\"\n",
    "    URL_FAA_cl = \"https://github.com/fabio-a-oliveira/NLP_Regulations/blob/main/Regulations/FAR_Part121_nodes_labelled.xlsx?raw=true\"\n",
    "    URL_ANAC_cl = \"https://github.com/fabio-a-oliveira/NLP_Regulations/blob/main/Regulations/RBAC121_nodes.xlsx?raw=true\"\n",
    "    URL_TOKENIZER_cl = \"https://github.com/fabio-a-oliveira/NLP_Regulations/blob/main/models/tokenizer___2021-04-16_15-56-43.h5?raw=true\"\n",
    "    URL_MODEL_cl = \"https://github.com/fabio-a-oliveira/NLP_Regulations/blob/main/models/model___2021-04-16_15-56-43___Bidirectional_GRU_Softmax.h5?raw=true\""
   ]
  },
  {
   "cell_type": "code",
   "execution_count": 4,
   "metadata": {},
   "outputs": [],
   "source": [
    "URLs = [URL_FAA_pr, URL_ANAC_pr, URL_TOKENIZER_pr, URL_EMBEDDING_pr, URL_FAA_cl, URL_ANAC_cl, URL_TOKENIZER_cl, URL_MODEL_cl]\n",
    "filenames = ['FAA_pr.xlsx', 'ANAC_pr.xlsx', 'TK_pr.h5', 'EMB_pr.h5', 'FAA_cl.xlsx', 'ANAC_cl.xlsx', 'TK_cl.h5', 'MD_cl.h5']\n",
    "\n",
    "chdir(HOME)\n",
    "if 'temp' not in listdir():\n",
    "    mkdir('temp')\n",
    "\n",
    "chdir('temp')\n",
    "for n in range(len(URLs)):\n",
    "    r = requests.get(URLs[n])\n",
    "    with open(filenames[n], 'wb') as file:\n",
    "        file.write(r.content)\n",
    "\n",
    "chdir(HOME)"
   ]
  },
  {
   "cell_type": "code",
   "execution_count": 5,
   "metadata": {},
   "outputs": [],
   "source": [
    "filepath_FAA_pr = join(HOME, 'temp', filenames[0])\n",
    "filepath_ANAC_pr = join(HOME, 'temp', filenames[1])\n",
    "filepath_TK_pr = join(HOME, 'temp', filenames[2])\n",
    "filepath_EMB_pr = join(HOME, 'temp', filenames[3])\n",
    "filepath_FAA_cl = join(HOME, 'temp', filenames[4])\n",
    "filepath_ANAC_cl = join(HOME, 'temp', filenames[5])\n",
    "filepath_TK_cl = join(HOME, 'temp', filenames[6])\n",
    "filepath_MD_cl = join(HOME, 'temp', filenames[7])"
   ]
  },
  {
   "cell_type": "code",
   "execution_count": 6,
   "metadata": {},
   "outputs": [],
   "source": [
    "package_list = [pkg for pkg in pkg_resources.working_set]\n",
    "\n",
    "if 'googletrans' not in [pkg.key for pkg in package_list]:\n",
    "    ! pip install googletrans==3.1.0a0\n",
    "import googletrans\n",
    "    \n",
    "if 'pdfplumber' not in [pkg.key for pkg in package_list]:\n",
    "    ! pip install pdfplumber\n",
    "import pdfplumber"
   ]
  },
  {
   "cell_type": "markdown",
   "metadata": {},
   "source": [
    "---   \n",
    "# Projection\n",
    "\n",
    "Objective: find requirements of similar semantic content.\n",
    "\n",
    "---\n",
    "\n",
    "<img src=\"images/requirement_comparison.png\">"
   ]
  },
  {
   "cell_type": "markdown",
   "metadata": {},
   "source": [
    "## Setup"
   ]
  },
  {
   "cell_type": "code",
   "execution_count": 7,
   "metadata": {},
   "outputs": [],
   "source": [
    "def relevant_words(excerpt):\n",
    "    tokens = re.findall('[a-zA-Z]{3,}', excerpt)\n",
    "    words, allowed_pos = [], ['NN','NNS','NNP','NNPS','JJ','RB','VB','VBG','VBN','VBP','VBZ','VBD']\n",
    "    for item in nltk.pos_tag(tokens):\n",
    "        if item[0] not in words and item[1] in allowed_pos:\n",
    "            words.append(item[0])\n",
    "    return words\n",
    "\n",
    "def sorted_keywords(words, tokenizer):\n",
    "    w,f = [], []\n",
    "\n",
    "    for word in words:\n",
    "        if word in tokenizer.word_index.keys():\n",
    "            w.append(word)\n",
    "            f.append(tokenizer.word_counts[word])\n",
    "\n",
    "    sorting_indices = np.array(f).argsort()\n",
    "    return np.array(w)[sorting_indices]\n",
    "\n",
    "def jaccard_mod(string1, string2, tokenizer, max_words = None):\n",
    "    # with max_words != None, repetitions are ignored, only the frequency in the original dictionary is used\n",
    "    # with max_words == None, repetitions are somewhat accounted for (not very thoughtfully..)\n",
    "    \n",
    "    cutoff = .5\n",
    "    \n",
    "    if max_words == None:\n",
    "        tokens1 = tokenizer.texts_to_sequences(relevant_words(string1))\n",
    "        tokens2 = tokenizer.texts_to_sequences(relevant_words(string2))\n",
    "    else:\n",
    "        tokens1 = sorted_keywords(relevant_words(string1), tokenizer)\n",
    "        tokens1 = tokenizer.texts_to_sequences(tokens1[:max_words])\n",
    "        tokens2 = sorted_keywords(relevant_words(string2), tokenizer)\n",
    "        tokens2 = tokenizer.texts_to_sequences(tokens2[:max_words])\n",
    "        \n",
    "    if len(tokens1) < 2 or len(tokens2) < 2:\n",
    "        return 0\n",
    "    else:\n",
    "        embedding1 = embedding_layer(np.array(tokens1)).numpy().squeeze()\n",
    "        norms1 = norm(embedding1, axis=1)\n",
    "        embedding1 = embedding1[norms1 != 0]\n",
    "        norms1 = norms1[norms1 != 0].reshape([-1,1])\n",
    "\n",
    "        embedding2 = embedding_layer(np.array(tokens2)).numpy().squeeze()\n",
    "        norms2 = norm(embedding2, axis=1)\n",
    "        embedding2 = embedding2[norms2 != 0]\n",
    "        norms2 = norms2[norms2 != 0].reshape([-1,1])\n",
    "\n",
    "        cosine_similarity = np.matmul(embedding1, embedding2.T) / norms1 / norms2.T\n",
    "        tril = np.ones_like(cosine_similarity) * (np.tril(cosine_similarity) != 0).astype(int)\n",
    "\n",
    "        intersection = np.sum((cosine_similarity * cosine_similarity) > cutoff)\n",
    "        union = cosine_similarity.shape[0] + cosine_similarity.shape[1] - intersection\n",
    "\n",
    "        return intersection/union"
   ]
  },
  {
   "cell_type": "code",
   "execution_count": 8,
   "metadata": {},
   "outputs": [],
   "source": [
    "df_FAA_pr = pd.read_excel(filepath_FAA_pr)[['title','requirement']]\n",
    "df_ANAC_pr = pd.read_excel(filepath_ANAC_pr)[['title','requirement']]\n",
    "translator = googletrans.Translator()\n",
    "\n",
    "with open(filepath_TK_pr, 'rb') as file:\n",
    "    tokenizer_pr = pickle.load(file)\n",
    "\n",
    "with open(filepath_EMB_pr, 'rb') as file:\n",
    "    embedding_layer = pickle.load(file)"
   ]
  },
  {
   "cell_type": "markdown",
   "metadata": {},
   "source": [
    "## Demo: find FAA requirement corresponding to given ANAC requirement\n",
    "\n",
    "* Choose ANAC requirement randomly\n",
    "* Translate requirement\n",
    "* Compare with list of FAA requirements\n",
    "    - Tokenize\n",
    "    - Filter parts-of-speech\n",
    "    - Sort words according to importance\n",
    "    - Identify similar words\n",
    "    - Compare shared words\n",
    "* Print best match"
   ]
  },
  {
   "cell_type": "code",
   "execution_count": 9,
   "metadata": {},
   "outputs": [
    {
     "name": "stdout",
     "output_type": "stream",
     "text": [
      "Requirement: RBAC 121.624(d)\n",
      "\n",
      "121.624  Aeródromos de alternativa ETOPS \n",
      "(d) Ninguém pode listar um aeródromo como de alternativa ETOPS em um despacho ou liberação de voo a não ser que este aeródromo atenda aos requisitos previstos em 121.97(b)(1)(ii). \n",
      "\n",
      "\n",
      "Translated requirement:\n",
      "\n",
      "121,624 Alternative ETOPS aerodromes\n",
      "(d) No one may list an aerodrome as an ETOPS alternative in a dispatch or flight release unless this aerodrome meets the requirements of 121.97 (b) (1) (ii).\n",
      "\n",
      "\n",
      "Match: FAR § 121.624(d)\n",
      "Similarity index: 0.4375\n",
      "\n",
      "Matching requirement text:\n",
      "\n",
      "§ 121.624   ETOPS Alternate Airports.\n",
      "(d) No person may list an airport as an ETOPS Alternate Airport in the dispatch or flight release unless that airport meets the public protection requirements of § 121.97(b)(1)(ii).\n",
      "\n"
     ]
    },
    {
     "data": {
      "image/png": "[encoded data removed]",
      "text/plain": [
       "<Figure size 1080x360 with 1 Axes>"
      ]
     },
     "metadata": {
      "needs_background": "light"
     },
     "output_type": "display_data"
    }
   ],
   "source": [
    "EXAMPLE_NUMBER = np.random.randint(0,df_ANAC_pr.shape[0])\n",
    "\n",
    "req = df_ANAC_pr.requirement[EXAMPLE_NUMBER]\n",
    "title = df_ANAC_pr.title[EXAMPLE_NUMBER]\n",
    "print('Requirement: RBAC {}\\n\\n{}'.format(title,req))\n",
    "\n",
    "translation = translator.translate(req, dest='en', src='pt').text\n",
    "\n",
    "print('\\n\\nTranslated requirement:\\n\\n{}\\n\\n'.format(translation))\n",
    "\n",
    "similarity = []\n",
    "for ref in df_FAA_pr.requirement:\n",
    "    similarity.append(jaccard_mod(translation, ref, tokenizer_pr))\n",
    "    \n",
    "match_index = np.array(similarity).argmax()\n",
    "print('Match: FAR {}'.format(df_FAA_pr.title[match_index]))\n",
    "print('Similarity index: {}\\n'.format(np.max(similarity)))\n",
    "print('Matching requirement text:\\n\\n{}'.format(df_FAA_pr.requirement[match_index]))\n",
    "\n",
    "plt.figure(figsize = (15,5))\n",
    "plt.hist(np.array(similarity), 50)\n",
    "plt.title('Histogram - similarity translation vs reference')\n",
    "plt.show()"
   ]
  },
  {
   "cell_type": "markdown",
   "metadata": {},
   "source": [
    "## Demo: find match to user input"
   ]
  },
  {
   "cell_type": "markdown",
   "metadata": {},
   "source": [
    "* Ask for requirement as input (in English)\n",
    "* Compare with list of FAA requirements\n",
    "    - Tokenize\n",
    "    - Filter parts-of-speech\n",
    "    - Sort words according to importance\n",
    "    - Identify similar words\n",
    "    - Compare shared words\n",
    "* Print best match"
   ]
  },
  {
   "cell_type": "code",
   "execution_count": 10,
   "metadata": {},
   "outputs": [
    {
     "name": "stdout",
     "output_type": "stream",
     "text": [
      "-> Paste an operational requirement below:\n",
      "\n",
      "Route requirements. General (a) Each certificate holder conducting regular operations in search of approval of a route must demonstrate: (1) that you are able to satisfactorily conduct regular operations between each aerodrome regular, or refueling, along that route or route segment; and\n",
      "\n",
      "Match: FAR § 121.93(a)(1)\n",
      "Similarity index: 0.9047619047619048\n",
      "\n",
      "Matching requirement text:\n",
      "\n",
      "§ 121.93   Route requirements: General.\n",
      "(a) Each certificate holder conducting domestic or flag operations seeking a route approval must show - \n",
      "(1) That it is able to conduct satisfactorily scheduled operations between each regular, provisional, and refueling airport over that route or route segment; and \n",
      "\n"
     ]
    },
    {
     "data": {
      "image/png": "[encoded data removed]",
      "text/plain": [
       "<Figure size 1080x360 with 1 Axes>"
      ]
     },
     "metadata": {
      "needs_background": "light"
     },
     "output_type": "display_data"
    }
   ],
   "source": [
    "req = input('-> Paste an operational requirement below:\\n\\n')\n",
    "\n",
    "similarity = []\n",
    "for ref in df_FAA_pr.requirement:\n",
    "    similarity.append(jaccard_mod(req, ref, tokenizer_pr))\n",
    "    \n",
    "match_index = np.array(similarity).argmax()\n",
    "print('\\nMatch: FAR {}'.format(df_FAA_pr.title[match_index]))\n",
    "print('Similarity index: {}\\n'.format(np.max(similarity)))\n",
    "print('Matching requirement text:\\n\\n{}'.format(df_FAA_pr.requirement[match_index]))\n",
    "\n",
    "plt.figure(figsize = (15,5))\n",
    "plt.hist(np.array(similarity), 50)\n",
    "plt.title('Histogram - similarity requirement vs reference')\n",
    "plt.show()"
   ]
  },
  {
   "cell_type": "markdown",
   "metadata": {},
   "source": [
    "## Improvements:\n",
    "\n",
    "* Include more references (EASA, ICAO)\n",
    "* Better parameter tuning:\n",
    "    - number of relevant words to compare\n",
    "    - threshold for 'similar' words\n",
    "* Other keyword identification techniques\n",
    "* Other similarity metrics\n",
    "* Different word embeddings\n",
    "* Sentence embeddings (compare meaning at sentence level)"
   ]
  },
  {
   "cell_type": "markdown",
   "metadata": {},
   "source": [
    "---   \n",
    "# Classification"
   ]
  },
  {
   "cell_type": "markdown",
   "metadata": {},
   "source": [
    "Objective: read requirement and classify in either \"Title Only\", \"Aircraft\" or \"Operator\"   \n",
    "\n",
    "-----   \n",
    "\n",
    "<img src=\"images/requirement_classification.png\">"
   ]
  },
  {
   "cell_type": "markdown",
   "metadata": {},
   "source": [
    "# Setup"
   ]
  },
  {
   "cell_type": "code",
   "execution_count": 11,
   "metadata": {},
   "outputs": [],
   "source": [
    "df_FAA_cl = pd.read_excel(filepath_FAA_cl)[['title','requirement','label','tag']]\n",
    "df_ANAC_cl = pd.read_excel(filepath_ANAC_cl)[['title','requirement']] # + label + tag!!!\n",
    "translator = googletrans.Translator()\n",
    "\n",
    "with open(filepath_TK_cl, 'rb') as file:\n",
    "    tokenizer_cl = pickle.load(file)\n",
    "    \n",
    "model = tf.keras.models.load_model(filepath_MD_cl)"
   ]
  },
  {
   "cell_type": "code",
   "execution_count": 12,
   "metadata": {},
   "outputs": [],
   "source": [
    "sequence_length = 200"
   ]
  },
  {
   "cell_type": "markdown",
   "metadata": {},
   "source": [
    "## Demo: classify random FAA requirement\n",
    "\n",
    "* Select FAA part 121 requirement randomly\n",
    "* Tokenize\n",
    "* Pad/trim sequence to 200 tokens\n",
    "* Run through classification model\n",
    "* Choose class according to highest probability"
   ]
  },
  {
   "cell_type": "code",
   "execution_count": 13,
   "metadata": {},
   "outputs": [
    {
     "name": "stdout",
     "output_type": "stream",
     "text": [
      "Requirement: § 121.125(a)(2)\n",
      "\n",
      "§ 121.125   Flight following system.\n",
      "(a) Each certificate holder conducting supplemental operations must show that it has - \n",
      "(2) Flight following centers located at those points necessary - \n",
      "(i) To ensure the proper monitoring of the progress of each flight with respect to its departure at the point of origin and arrival at its destination, including intermediate stops and diversions therefrom, and maintenance or mechanical delays encountered at those points or stops; and \n",
      "(ii) To ensure that the pilot in command is provided with all information necessary for the safety of the flight. \n",
      "\n",
      "Predicted label: Operator\n",
      "Level of Confidence: 99.957%\n",
      "\n",
      "Correct label: Operator\n"
     ]
    }
   ],
   "source": [
    "EXAMPLE_NUMBER = np.random.randint(0,df_FAA_cl.shape[0])\n",
    "\n",
    "req = df_FAA_cl.requirement[EXAMPLE_NUMBER]\n",
    "title = df_FAA_cl.title[EXAMPLE_NUMBER]\n",
    "correct_tag = df_FAA_cl.tag[EXAMPLE_NUMBER].title()\n",
    "print('Requirement: {}\\n\\n{}'.format(title,req))\n",
    "\n",
    "tokens = tokenizer_cl.texts_to_sequences([req])\n",
    "padded_tokens = tf.keras.preprocessing.sequence.pad_sequences(tokens, maxlen = sequence_length)\n",
    "X = tf.constant(np.array(padded_tokens))\n",
    "prediction = model.predict(X)\n",
    "predicted_prob = prediction.max()\n",
    "predicted_label = prediction.argmax()\n",
    "predicted_tag = ['Title Only', 'Aircraft', 'Operator'][predicted_label]\n",
    "\n",
    "print('Predicted label: {}\\nLevel of Confidence: {}%'.format(predicted_tag, np.round(100*predicted_prob,3)))\n",
    "print('\\nCorrect label: {}'.format(correct_tag))"
   ]
  },
  {
   "cell_type": "markdown",
   "metadata": {},
   "source": [
    "## Demo: classify random ANAC requirement\n",
    "\n",
    "* Select ANAC RBAC 121 requirement randomly\n",
    "* Translate to English\n",
    "* Tokenize\n",
    "* Pad/trim sequence to 200 tokens\n",
    "* Run through classification model\n",
    "* Choose class according to highest probability"
   ]
  },
  {
   "cell_type": "code",
   "execution_count": 14,
   "metadata": {},
   "outputs": [
    {
     "name": "stdout",
     "output_type": "stream",
     "text": [
      "Requirement: 121.801(a)\n",
      "\n",
      "121.801  Aplicabilidade \n",
      "(a) Esta subparte prescreve os equipamentos de emergência e de treinamento aplicáveis a todos os detentores de certificado que operem aviões no transporte de passageiros sob este regulamento. \n",
      "\n",
      "\n",
      "Translated requirement:\n",
      "\n",
      "121,801 Applicability\n",
      "(a) This subpart prescribes emergency and training equipment applicable to all certificate holders operating airplanes in the transportation of passengers under this regulation.\n",
      "\n",
      "\n",
      "Predicted label: Operator\n",
      "Level of Confidence: 98.309%\n"
     ]
    }
   ],
   "source": [
    "EXAMPLE_NUMBER = np.random.randint(0,df_ANAC_cl.shape[0])\n",
    "\n",
    "req = df_ANAC_cl.requirement[EXAMPLE_NUMBER]\n",
    "title = df_ANAC_cl.title[EXAMPLE_NUMBER]\n",
    "#correct_tag = df_ANAC.tag[EXAMPLE_NUMBER].title()\n",
    "print('Requirement: {}\\n\\n{}'.format(title,req))\n",
    "\n",
    "translation = translator.translate(req, dest='en', src='pt').text\n",
    "\n",
    "print('\\n\\nTranslated requirement:\\n\\n{}\\n\\n'.format(translation))\n",
    "\n",
    "tokens = tokenizer_cl.texts_to_sequences([translation])\n",
    "padded_tokens = tf.keras.preprocessing.sequence.pad_sequences(tokens, maxlen = sequence_length)\n",
    "X = np.array(padded_tokens)\n",
    "X = tf.constant(X)\n",
    "prediction = model.predict(X)\n",
    "predicted_prob = prediction.max()\n",
    "predicted_label = prediction.argmax()\n",
    "predicted_tag = ['Title Only', 'Aircraft', 'Operator'][predicted_label]\n",
    "\n",
    "print('Predicted label: {}\\nLevel of Confidence: {}%'.format(predicted_tag, np.round(100*predicted_prob,3)))\n",
    "#print('\\nCorrect label: {}'.format(correct_tag))"
   ]
  },
  {
   "cell_type": "markdown",
   "metadata": {},
   "source": [
    "## Demo: classify user input\n",
    "\n",
    "* Ask for requirement as input (in English)\n",
    "* Tokenize\n",
    "* Pad/trim sequence to 200 tokens\n",
    "* Run through classification model\n",
    "* Choose class according to highest probability"
   ]
  },
  {
   "cell_type": "code",
   "execution_count": 15,
   "metadata": {},
   "outputs": [
    {
     "name": "stdout",
     "output_type": "stream",
     "text": [
      "-> Paste an operational requirement below:\n",
      "\n",
      "Route requirements. General (a) Each certificate holder conducting regular operations in search of approval of a route must demonstrate: (1) that you are able to satisfactorily conduct regular operations between each aerodrome regular, or refueling, along that route or route segment; and\n",
      "\n",
      "Predicted label: Operator\n",
      "Level of Confidence: 99.56%\n"
     ]
    }
   ],
   "source": [
    "REQUIREMENT = input('-> Paste an operational requirement below:\\n\\n')\n",
    "\n",
    "tokens = tokenizer_cl.texts_to_sequences([REQUIREMENT])\n",
    "padded_tokens = tf.keras.preprocessing.sequence.pad_sequences(tokens, maxlen = sequence_length)\n",
    "X = np.array(padded_tokens)\n",
    "X = tf.constant(X)\n",
    "prediction = model.predict(X)\n",
    "predicted_prob = prediction.max()\n",
    "predicted_label = prediction.argmax()\n",
    "predicted_tag = ['Title Only', 'Aircraft', 'Operator'][predicted_label]\n",
    "\n",
    "print('\\nPredicted label: {}\\nLevel of Confidence: {}%'.format(predicted_tag, np.round(100*predicted_prob,3)))"
   ]
  },
  {
   "cell_type": "markdown",
   "metadata": {},
   "source": [
    "## Improvements:\n",
    "\n",
    "* More categories\n",
    "* Feature engineering\n",
    "* Larger dataset: more sophisticated models without overfitting\n",
    "* Better embeddings: context sensitive, other datasets, multilingual, sentence embedding"
   ]
  },
  {
   "cell_type": "markdown",
   "metadata": {},
   "source": [
    "## Teaser\n",
    "\n",
    "### Applications of Natural Language Processing:\n",
    "\n",
    "* ___Machine Translation___\n",
    "* Speech Recognition\n",
    "* Sentiment Analysis\n",
    "* ___Question Answering___\n",
    "* ___Summarization of Text___\n",
    "* Chatbot\n",
    "* Intelligent Systems\n",
    "* ___Text Classification___\n",
    "* Character Recognition\n",
    "* Spell Checking\n",
    "* ___Spam Detection___\n",
    "* Autocomplete\n",
    "* ___Named Entity Recognition___\n",
    "\n",
    "### Possible projects\n",
    "\n",
    "* Identify subject of individual requirements or new proposed rules\n",
    "* Suggest responses to requirements\n",
    "* Suggest answers to questions based on regulations\n",
    "* Summarization of new rules\n",
    "* Suggest affected requirements in DCAs\n",
    "* \"Clean up\" regulations"
   ]
  }
 ],
 "metadata": {
  "kernelspec": {
   "display_name": "Python 3",
   "language": "python",
   "name": "python3"
  },
  "language_info": {
   "codemirror_mode": {
    "name": "ipython",
    "version": 3
   },
   "file_extension": ".py",
   "mimetype": "text/x-python",
   "name": "python",
   "nbconvert_exporter": "python",
   "pygments_lexer": "ipython3",
   "version": "3.8.5"
  }
 },
 "nbformat": 4,
 "nbformat_minor": 4
}
