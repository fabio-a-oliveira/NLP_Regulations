{
  "nbformat": 4,
  "nbformat_minor": 0,
  "metadata": {
    "kernelspec": {
      "display_name": "Python 3",
      "language": "python",
      "name": "python3"
    },
    "language_info": {
      "codemirror_mode": {
        "name": "ipython",
        "version": 3
      },
      "file_extension": ".py",
      "mimetype": "text/x-python",
      "name": "python",
      "nbconvert_exporter": "python",
      "pygments_lexer": "ipython3",
      "version": "3.8.5"
    },
    "colab": {
      "name": "demonstration.ipynb",
      "provenance": [],
      "toc_visible": true
    }
  },
  "cells": [
    {
      "cell_type": "markdown",
      "metadata": {
        "id": "3543YvAF6zel"
      },
      "source": [
        "# Setup"
      ]
    },
    {
      "cell_type": "markdown",
      "metadata": {
        "id": "jXpxkLpNAsxk"
      },
      "source": [
        "## General"
      ]
    },
    {
      "cell_type": "code",
      "metadata": {
        "id": "0jA29-GJ6zeo",
        "outputId": "85e06eb4-e0b4-430c-c32d-b68a4f55f15d",
        "colab": {
          "base_uri": "https://localhost:8080/"
        }
      },
      "source": [
        "import numpy as np\n",
        "import pandas as pd\n",
        "import tensorflow as tf\n",
        "import requests\n",
        "import re\n",
        "from os import chdir, getcwd, listdir, mkdir\n",
        "from os.path import join\n",
        "import pkg_resources\n",
        "import pickle\n",
        "import nltk\n",
        "nltk.download('averaged_perceptron_tagger')\n",
        "from scipy.linalg import norm\n",
        "from scipy.spatial.distance import cosine\n",
        "from matplotlib import pyplot as plt"
      ],
      "execution_count": 2,
      "outputs": [
        {
          "output_type": "stream",
          "text": [
            "[nltk_data] Downloading package averaged_perceptron_tagger to\n",
            "[nltk_data]     /root/nltk_data...\n",
            "[nltk_data]   Unzipping taggers/averaged_perceptron_tagger.zip.\n"
          ],
          "name": "stdout"
        }
      ]
    },
    {
      "cell_type": "code",
      "metadata": {
        "id": "7GmeRh6L6zeq"
      },
      "source": [
        "RUNNING_ON_COLAB = 'colab' in str(get_ipython())\n",
        "HOME = getcwd()"
      ],
      "execution_count": 3,
      "outputs": []
    },
    {
      "cell_type": "code",
      "metadata": {
        "id": "ZC2N35qF6zer"
      },
      "source": [
        "if RUNNING_ON_COLAB == True:\n",
        "    URL_FAA_pr = \"https://github.com/fabio-a-oliveira/NLP_Regulations/blob/main/Regulations/FAR_Part121_nodes.xlsx?raw=true\"\n",
        "    URL_ANAC_pr = \"https://github.com/fabio-a-oliveira/NLP_Regulations/blob/main/Regulations/RBAC121_nodes.xlsx?raw=true\"\n",
        "    URL_TOKENIZER_pr = \"https://github.com/fabio-a-oliveira/NLP_Regulations/blob/main/models/tokenizer___2021-04-17_11-10-38.h5?raw=true\"\n",
        "    URL_EMBEDDING_pr = \"https://github.com/fabio-a-oliveira/NLP_Regulations/blob/main/models/embedding_layer___2021-04-17_11-10-38.h5?raw=true\"\n",
        "    URL_FAA_cl = \"https://github.com/fabio-a-oliveira/NLP_Regulations/blob/main/Regulations/FAR_Part121_nodes_labelled.xlsx?raw=true\"\n",
        "    URL_ANAC_cl = \"https://github.com/fabio-a-oliveira/NLP_Regulations/blob/main/Regulations/RBAC121_nodes.xlsx?raw=true\"\n",
        "    URL_TOKENIZER_cl = \"https://github.com/fabio-a-oliveira/NLP_Regulations/blob/main/models/tokenizer___2021-04-17_10-28-55.h5?raw=true\"\n",
        "    URL_MODEL_cl = \"https://github.com/fabio-a-oliveira/NLP_Regulations/blob/main/models/model___2021-04-17_10-28-55___Bidirectional_GRU_Softmax.h5?raw=true\"\n",
        "\n",
        "else:\n",
        "    URL_FAA_pr = \"https://github.com/fabio-a-oliveira/NLP_Regulations/blob/main/Regulations/FAR_Part121_nodes.xlsx?raw=true\"\n",
        "    URL_ANAC_pr = \"https://github.com/fabio-a-oliveira/NLP_Regulations/blob/main/Regulations/RBAC121_nodes.xlsx?raw=true\"\n",
        "    URL_TOKENIZER_pr = \"https://github.com/fabio-a-oliveira/NLP_Regulations/blob/main/models/tokenizer___2021-04-16_16-04-53.h5?raw=true\"\n",
        "    URL_EMBEDDING_pr = \"https://github.com/fabio-a-oliveira/NLP_Regulations/blob/main/models/embedding_layer___2021-04-16_16-04-53.h5?raw=true\"\n",
        "    URL_FAA_cl = \"https://github.com/fabio-a-oliveira/NLP_Regulations/blob/main/Regulations/FAR_Part121_nodes_labelled.xlsx?raw=true\"\n",
        "    URL_ANAC_cl = \"https://github.com/fabio-a-oliveira/NLP_Regulations/blob/main/Regulations/RBAC121_nodes.xlsx?raw=true\"\n",
        "    URL_TOKENIZER_cl = \"https://github.com/fabio-a-oliveira/NLP_Regulations/blob/main/models/tokenizer___2021-04-16_15-56-43.h5?raw=true\"\n",
        "    URL_MODEL_cl = \"https://github.com/fabio-a-oliveira/NLP_Regulations/blob/main/models/model___2021-04-16_15-56-43___Bidirectional_GRU_Softmax.h5?raw=true\""
      ],
      "execution_count": 4,
      "outputs": []
    },
    {
      "cell_type": "code",
      "metadata": {
        "id": "rjGaiTXN6zet"
      },
      "source": [
        "URLs = [URL_FAA_pr, URL_ANAC_pr, URL_TOKENIZER_pr, URL_EMBEDDING_pr, URL_FAA_cl, URL_ANAC_cl, URL_TOKENIZER_cl, URL_MODEL_cl]\n",
        "filenames = ['FAA_pr.xlsx', 'ANAC_pr.xlsx', 'TK_pr.h5', 'EMB_pr.h5', 'FAA_cl.xlsx', 'ANAC_cl.xlsx', 'TK_cl.h5', 'MD_cl.h5']\n",
        "\n",
        "chdir(HOME)\n",
        "if 'temp' not in listdir():\n",
        "    mkdir('temp')\n",
        "\n",
        "chdir('temp')\n",
        "for n in range(len(URLs)):\n",
        "    r = requests.get(URLs[n])\n",
        "    with open(filenames[n], 'wb') as file:\n",
        "        file.write(r.content)\n",
        "\n",
        "chdir(HOME)"
      ],
      "execution_count": 5,
      "outputs": []
    },
    {
      "cell_type": "code",
      "metadata": {
        "id": "nKpVpDHz6zeu"
      },
      "source": [
        "filepath_FAA_pr = join(HOME, 'temp', filenames[0])\n",
        "filepath_ANAC_pr = join(HOME, 'temp', filenames[1])\n",
        "filepath_TK_pr = join(HOME, 'temp', filenames[2])\n",
        "filepath_EMB_pr = join(HOME, 'temp', filenames[3])\n",
        "filepath_FAA_cl = join(HOME, 'temp', filenames[4])\n",
        "filepath_ANAC_cl = join(HOME, 'temp', filenames[5])\n",
        "filepath_TK_cl = join(HOME, 'temp', filenames[6])\n",
        "filepath_MD_cl = join(HOME, 'temp', filenames[7])"
      ],
      "execution_count": 6,
      "outputs": []
    },
    {
      "cell_type": "code",
      "metadata": {
        "id": "IusLUuir6zew",
        "outputId": "f398fb45-61ca-4c61-8f32-e16ec0f89153",
        "colab": {
          "base_uri": "https://localhost:8080/"
        }
      },
      "source": [
        "package_list = [pkg for pkg in pkg_resources.working_set]\n",
        "\n",
        "if 'googletrans' not in [pkg.key for pkg in package_list]:\n",
        "    ! pip install googletrans==3.1.0a0\n",
        "import googletrans\n",
        "    \n",
        "if 'pdfplumber' not in [pkg.key for pkg in package_list]:\n",
        "    ! pip install pdfplumber\n",
        "import pdfplumber"
      ],
      "execution_count": 7,
      "outputs": [
        {
          "output_type": "stream",
          "text": [
            "Collecting googletrans==3.1.0a0\n",
            "  Downloading https://files.pythonhosted.org/packages/19/3d/4e3a1609bf52f2f7b00436cc751eb977e27040665dde2bd57e7152989672/googletrans-3.1.0a0.tar.gz\n",
            "Collecting httpx==0.13.3\n",
            "\u001b[?25l  Downloading https://files.pythonhosted.org/packages/54/b4/698b284c6aed4d7c2b4fe3ba5df1fcf6093612423797e76fbb24890dd22f/httpx-0.13.3-py3-none-any.whl (55kB)\n",
            "\u001b[K     |████████████████████████████████| 61kB 3.0MB/s \n",
            "\u001b[?25hRequirement already satisfied: chardet==3.* in /usr/local/lib/python3.7/dist-packages (from httpx==0.13.3->googletrans==3.1.0a0) (3.0.4)\n",
            "Requirement already satisfied: certifi in /usr/local/lib/python3.7/dist-packages (from httpx==0.13.3->googletrans==3.1.0a0) (2020.12.5)\n",
            "Collecting rfc3986<2,>=1.3\n",
            "  Downloading https://files.pythonhosted.org/packages/78/be/7b8b99fd74ff5684225f50dd0e865393d2265656ef3b4ba9eaaaffe622b8/rfc3986-1.4.0-py2.py3-none-any.whl\n",
            "Collecting sniffio\n",
            "  Downloading https://files.pythonhosted.org/packages/52/b0/7b2e028b63d092804b6794595871f936aafa5e9322dcaaad50ebf67445b3/sniffio-1.2.0-py3-none-any.whl\n",
            "Collecting hstspreload\n",
            "\u001b[?25l  Downloading https://files.pythonhosted.org/packages/dd/50/606213e12fb49c5eb667df0936223dcaf461f94e215ea60244b2b1e9b039/hstspreload-2020.12.22-py3-none-any.whl (994kB)\n",
            "\u001b[K     |████████████████████████████████| 1.0MB 5.9MB/s \n",
            "\u001b[?25hRequirement already satisfied: idna==2.* in /usr/local/lib/python3.7/dist-packages (from httpx==0.13.3->googletrans==3.1.0a0) (2.10)\n",
            "Collecting httpcore==0.9.*\n",
            "\u001b[?25l  Downloading https://files.pythonhosted.org/packages/dd/d5/e4ff9318693ac6101a2095e580908b591838c6f33df8d3ee8dd953ba96a8/httpcore-0.9.1-py3-none-any.whl (42kB)\n",
            "\u001b[K     |████████████████████████████████| 51kB 4.8MB/s \n",
            "\u001b[?25hCollecting h11<0.10,>=0.8\n",
            "\u001b[?25l  Downloading https://files.pythonhosted.org/packages/5a/fd/3dad730b0f95e78aeeb742f96fa7bbecbdd56a58e405d3da440d5bfb90c6/h11-0.9.0-py2.py3-none-any.whl (53kB)\n",
            "\u001b[K     |████████████████████████████████| 61kB 5.1MB/s \n",
            "\u001b[?25hCollecting h2==3.*\n",
            "\u001b[?25l  Downloading https://files.pythonhosted.org/packages/25/de/da019bcc539eeab02f6d45836f23858ac467f584bfec7a526ef200242afe/h2-3.2.0-py2.py3-none-any.whl (65kB)\n",
            "\u001b[K     |████████████████████████████████| 71kB 5.8MB/s \n",
            "\u001b[?25hCollecting hpack<4,>=3.0\n",
            "  Downloading https://files.pythonhosted.org/packages/8a/cc/e53517f4a1e13f74776ca93271caef378dadec14d71c61c949d759d3db69/hpack-3.0.0-py2.py3-none-any.whl\n",
            "Collecting hyperframe<6,>=5.2.0\n",
            "  Downloading https://files.pythonhosted.org/packages/19/0c/bf88182bcb5dce3094e2f3e4fe20db28a9928cb7bd5b08024030e4b140db/hyperframe-5.2.0-py2.py3-none-any.whl\n",
            "Building wheels for collected packages: googletrans\n",
            "  Building wheel for googletrans (setup.py) ... \u001b[?25l\u001b[?25hdone\n",
            "  Created wheel for googletrans: filename=googletrans-3.1.0a0-cp37-none-any.whl size=16368 sha256=88b657b811e92a3716624a6eaed143e916cc11fb427734d716e5180caa6ad1e9\n",
            "  Stored in directory: /root/.cache/pip/wheels/27/7a/a0/aff3babbb775549ce6813cb8fa7ff3c0848c4dc62c20f8fdac\n",
            "Successfully built googletrans\n",
            "Installing collected packages: rfc3986, sniffio, hstspreload, h11, hpack, hyperframe, h2, httpcore, httpx, googletrans\n",
            "Successfully installed googletrans-3.1.0a0 h11-0.9.0 h2-3.2.0 hpack-3.0.0 hstspreload-2020.12.22 httpcore-0.9.1 httpx-0.13.3 hyperframe-5.2.0 rfc3986-1.4.0 sniffio-1.2.0\n",
            "Collecting pdfplumber\n",
            "\u001b[?25l  Downloading https://files.pythonhosted.org/packages/7e/57/4d9768e9ed204c68bd5813a2a112d3d6af4912f0785d47080b5067cdce64/pdfplumber-0.5.27.tar.gz (44kB)\n",
            "\u001b[K     |████████████████████████████████| 51kB 2.9MB/s \n",
            "\u001b[?25hCollecting pdfminer.six==20200517\n",
            "\u001b[?25l  Downloading https://files.pythonhosted.org/packages/b0/c0/ef1c8758bbd86edb10b5443700aac97d0ba27a9ca2e7696db8cd1fdbd5a8/pdfminer.six-20200517-py3-none-any.whl (5.6MB)\n",
            "\u001b[K     |████████████████████████████████| 5.6MB 4.9MB/s \n",
            "\u001b[?25hRequirement already satisfied: Pillow>=7.0.0 in /usr/local/lib/python3.7/dist-packages (from pdfplumber) (7.1.2)\n",
            "Collecting Wand\n",
            "\u001b[?25l  Downloading https://files.pythonhosted.org/packages/d7/f6/05f043c099639b9017b7244791048a4d146dfea45b41a199aed373246d50/Wand-0.6.6-py2.py3-none-any.whl (138kB)\n",
            "\u001b[K     |████████████████████████████████| 143kB 39.0MB/s \n",
            "\u001b[?25hRequirement already satisfied: chardet; python_version > \"3.0\" in /usr/local/lib/python3.7/dist-packages (from pdfminer.six==20200517->pdfplumber) (3.0.4)\n",
            "Collecting pycryptodome\n",
            "\u001b[?25l  Downloading https://files.pythonhosted.org/packages/ad/16/9627ab0493894a11c68e46000dbcc82f578c8ff06bc2980dcd016aea9bd3/pycryptodome-3.10.1-cp35-abi3-manylinux2010_x86_64.whl (1.9MB)\n",
            "\u001b[K     |████████████████████████████████| 1.9MB 42.9MB/s \n",
            "\u001b[?25hRequirement already satisfied: sortedcontainers in /usr/local/lib/python3.7/dist-packages (from pdfminer.six==20200517->pdfplumber) (2.3.0)\n",
            "Building wheels for collected packages: pdfplumber\n",
            "  Building wheel for pdfplumber (setup.py) ... \u001b[?25l\u001b[?25hdone\n",
            "  Created wheel for pdfplumber: filename=pdfplumber-0.5.27-cp37-none-any.whl size=32071 sha256=7fb9eae94363d51006ec2feedc6e7132ee617863e8f409ee94a182111f9bf18a\n",
            "  Stored in directory: /root/.cache/pip/wheels/b4/74/fc/f7b3a1a0732209027fb48a5f4392fc40d79970b11c2ba49e71\n",
            "Successfully built pdfplumber\n",
            "Installing collected packages: pycryptodome, pdfminer.six, Wand, pdfplumber\n",
            "Successfully installed Wand-0.6.6 pdfminer.six-20200517 pdfplumber-0.5.27 pycryptodome-3.10.1\n"
          ],
          "name": "stdout"
        }
      ]
    },
    {
      "cell_type": "code",
      "metadata": {
        "id": "Rkl4i0VvCkHH"
      },
      "source": [
        "pd.set_option('display.max_colwidth', 100)\n",
        "pd.set_option('display.max_rows', 100)"
      ],
      "execution_count": 25,
      "outputs": []
    },
    {
      "cell_type": "markdown",
      "metadata": {
        "id": "nmIH-HxmAw42"
      },
      "source": [
        "## Projection"
      ]
    },
    {
      "cell_type": "code",
      "metadata": {
        "id": "U7fN-gt16zey"
      },
      "source": [
        "def relevant_words(excerpt):\n",
        "    tokens = re.findall('[a-zA-Z]{3,}', excerpt)\n",
        "    words, allowed_pos = [], ['NN','NNS','NNP','NNPS','JJ','RB','VB','VBG','VBN','VBP','VBZ','VBD']\n",
        "    for item in nltk.pos_tag(tokens):\n",
        "        if item[0] not in words and item[1] in allowed_pos:\n",
        "            words.append(item[0])\n",
        "    return words\n",
        "\n",
        "def sorted_keywords(words, tokenizer):\n",
        "    w,f = [], []\n",
        "\n",
        "    for word in words:\n",
        "        if word in tokenizer.word_index.keys():\n",
        "            w.append(word)\n",
        "            f.append(tokenizer.word_counts[word])\n",
        "\n",
        "    sorting_indices = np.array(f).argsort()\n",
        "    return np.array(w)[sorting_indices]\n",
        "\n",
        "def jaccard_mod(string1, string2, tokenizer, max_words = None):\n",
        "    # with max_words != None, repetitions are ignored, only the frequency in the original dictionary is used\n",
        "    # with max_words == None, repetitions are somewhat accounted for (not very thoughtfully..)\n",
        "    \n",
        "    cutoff = .5\n",
        "    \n",
        "    if max_words == None:\n",
        "        tokens1 = tokenizer.texts_to_sequences(relevant_words(string1))\n",
        "        tokens2 = tokenizer.texts_to_sequences(relevant_words(string2))\n",
        "    else:\n",
        "        tokens1 = sorted_keywords(relevant_words(string1), tokenizer)\n",
        "        tokens1 = tokenizer.texts_to_sequences(tokens1[:max_words])\n",
        "        tokens2 = sorted_keywords(relevant_words(string2), tokenizer)\n",
        "        tokens2 = tokenizer.texts_to_sequences(tokens2[:max_words])\n",
        "        \n",
        "    if len(tokens1) < 2 or len(tokens2) < 2:\n",
        "        return 0\n",
        "    else:\n",
        "        embedding1 = embedding_layer(np.array(tokens1)).numpy().squeeze()\n",
        "        norms1 = norm(embedding1, axis=1)\n",
        "        embedding1 = embedding1[norms1 != 0]\n",
        "        norms1 = norms1[norms1 != 0].reshape([-1,1])\n",
        "\n",
        "        embedding2 = embedding_layer(np.array(tokens2)).numpy().squeeze()\n",
        "        norms2 = norm(embedding2, axis=1)\n",
        "        embedding2 = embedding2[norms2 != 0]\n",
        "        norms2 = norms2[norms2 != 0].reshape([-1,1])\n",
        "\n",
        "        cosine_similarity = np.matmul(embedding1, embedding2.T) / norms1 / norms2.T\n",
        "        tril = np.ones_like(cosine_similarity) * (np.tril(cosine_similarity) != 0).astype(int)\n",
        "\n",
        "        intersection = np.sum((cosine_similarity * cosine_similarity) > cutoff)\n",
        "        union = cosine_similarity.shape[0] + cosine_similarity.shape[1] - intersection\n",
        "\n",
        "        return intersection/union"
      ],
      "execution_count": 9,
      "outputs": []
    },
    {
      "cell_type": "code",
      "metadata": {
        "id": "Bp6okGZQ6zez"
      },
      "source": [
        "df_FAA_pr = pd.read_excel(filepath_FAA_pr)[['title','requirement']]\n",
        "df_ANAC_pr = pd.read_excel(filepath_ANAC_pr)[['title','requirement']]\n",
        "translator = googletrans.Translator()\n",
        "\n",
        "with open(filepath_TK_pr, 'rb') as file:\n",
        "    tokenizer_pr = pickle.load(file)\n",
        "\n",
        "with open(filepath_EMB_pr, 'rb') as file:\n",
        "    embedding_layer = pickle.load(file)"
      ],
      "execution_count": 10,
      "outputs": []
    },
    {
      "cell_type": "markdown",
      "metadata": {
        "id": "puCyz7WWAykk"
      },
      "source": [
        "## Classification"
      ]
    },
    {
      "cell_type": "code",
      "metadata": {
        "id": "XK3s3_D6BLM7"
      },
      "source": [
        "df_FAA_cl = pd.read_excel(filepath_FAA_cl)[['title','requirement','label','tag']]\n",
        "df_ANAC_cl = pd.read_excel(filepath_ANAC_cl)[['title','requirement']] # + label + tag!!!\n",
        "translator = googletrans.Translator()\n",
        "\n",
        "with open(filepath_TK_cl, 'rb') as file:\n",
        "    tokenizer_cl = pickle.load(file)\n",
        "    \n",
        "model = tf.keras.models.load_model(filepath_MD_cl)\n",
        "\n",
        "sequence_length = 200"
      ],
      "execution_count": 11,
      "outputs": []
    },
    {
      "cell_type": "markdown",
      "metadata": {
        "id": "Vwg-FvW_6zew"
      },
      "source": [
        "---   \n",
        "# Projection"
      ]
    },
    {
      "cell_type": "markdown",
      "metadata": {
        "id": "tpgn-drVBrZq"
      },
      "source": [
        "## Description"
      ]
    },
    {
      "cell_type": "markdown",
      "metadata": {
        "id": "yaUugkyyBdT1"
      },
      "source": [
        "Objective: find requirements of similar semantic content.\n",
        "\n",
        "---\n",
        "\n",
        "<img src=\"https://github.com/fabio-a-oliveira/NLP_Regulations/blob/main/images/requirement_comparison.png?raw=1\">"
      ]
    },
    {
      "cell_type": "markdown",
      "metadata": {
        "id": "aAfT4A3m6ze0"
      },
      "source": [
        "## Demo: find FAA requirement corresponding to given ANAC requirement"
      ]
    },
    {
      "cell_type": "markdown",
      "metadata": {
        "id": "g9n9T2mpB_4A"
      },
      "source": [
        "* Choose ANAC requirement randomly\n",
        "* Translate requirement\n",
        "* Compare with list of FAA requirements\n",
        "    - Tokenize\n",
        "    - Filter parts-of-speech\n",
        "    - Sort words according to importance\n",
        "    - Identify similar words\n",
        "    - Compare shared words\n",
        "* Print best match"
      ]
    },
    {
      "cell_type": "code",
      "metadata": {
        "id": "5oIZ6UPL6ze1",
        "outputId": "74cb1d1a-1d2d-42c6-8dea-1a43e4e54b7b",
        "colab": {
          "base_uri": "https://localhost:8080/",
          "height": 709
        }
      },
      "source": [
        "EXAMPLE_NUMBER = np.random.randint(0,df_ANAC_pr.shape[0])\n",
        "\n",
        "req = df_ANAC_pr.requirement[EXAMPLE_NUMBER]\n",
        "title = df_ANAC_pr.title[EXAMPLE_NUMBER]\n",
        "print('Requirement: RBAC {}\\n\\n{}'.format(title,req))\n",
        "\n",
        "translation = translator.translate(req, dest='en', src='pt').text\n",
        "\n",
        "print('\\n\\nTranslated requirement:\\n\\n{}\\n\\n'.format(translation))\n",
        "\n",
        "similarity = []\n",
        "for ref in df_FAA_pr.requirement:\n",
        "    similarity.append(jaccard_mod(translation, ref, tokenizer_pr))\n",
        "    \n",
        "match_index = np.array(similarity).argmax()\n",
        "print('Match: FAR {}'.format(df_FAA_pr.title[match_index]))\n",
        "print('Similarity index: {}\\n'.format(np.round(np.max(similarity),3)))\n",
        "print('Matching requirement text:\\n\\n{}'.format(df_FAA_pr.requirement[match_index]))\n",
        "\n",
        "plt.figure(figsize = (15,5))\n",
        "plt.hist(np.array(similarity), 50)\n",
        "plt.title('Histogram - similarity translation vs reference')\n",
        "plt.show()"
      ],
      "execution_count": 17,
      "outputs": [
        {
          "output_type": "stream",
          "text": [
            "Requirement: RBAC 121.313(c)\n",
            "\n",
            "121.313  Equipamentos diversos \n",
            "Ninguém pode conduzir qualquer operação, a menos que o seguinte equipamento esteja instalado no avião: (c) um sistema de fornecimento e distribuição de energia elétrica que atenda aos requisitos das seções 25.1309, 25.1331, 25.1351(a) e (b)(1) até (4), 25.1353, 25.1355 e 25.1431(b) do RBAC 25, ou que seja capaz de produzir e distribuir energia para os instrumentos e equipamentos requeridos com uma fonte de força extra, se qualquer uma fonte de energia ou componente do sistema básico de distribuição de energia falhar. O uso de elementos comuns a ambos os sistemas pode ser aprovado, desde que seja considerado que eles tenham sido projetados para serem razoavelmente protegidos contra defeitos. Fontes de energia acionadas pelos motores, quando usadas, devem ser instaladas em motores diferentes; \n",
            "\n",
            "\n",
            "Translated requirement:\n",
            "\n",
            "121,313 Miscellaneous equipment\n",
            "No one may conduct any operation unless the following equipment is installed on the aircraft: (c) an electrical power supply and distribution system that meets the requirements of sections 25.1309, 25.1331, 25.1351 (a) and (b) (1) up to (4), 25.1353, 25.1355 and 25.1431 (b) of RBAC 25, or that is capable of producing and distributing energy to the required instruments and equipment with an extra power source, if either a power source or component of the basic system power distribution fails. The use of elements common to both systems can be approved, provided that they are considered to have been designed to be reasonably protected against defects. Power sources driven by the motors, when used, must be installed in different motors;\n",
            "\n",
            "\n",
            "Match: FAR § 121.313(c)\n",
            "Similarity index: 0.771\n",
            "\n",
            "Matching requirement text:\n",
            "\n",
            "§ 121.313   Miscellaneous equipment.\n",
            "No person may conduct any operation unless the following equipment is installed in the airplane: \n",
            "(c) A power supply and distribution system that meets the requirements of §§ 25.1309, 25.1331, 25.1351(a) and (b)(1) through (4), 25.1353, 25.1355, and 25.1431(b) or that is able to produce and distribute the load for the required instruments and equipment, with use of an external power supply if any one power source or component of the power distribution system fails. The use of common elements in the system may be approved if the Administrator finds that they are designed to be reasonably protected against malfunctioning. Engine-driven sources of energy, when used, must be on separate engines. \n",
            "\n"
          ],
          "name": "stdout"
        },
        {
          "output_type": "display_data",
          "data": {
            "image/png": "[encoded data removed]",
            "text/plain": [
              "<Figure size 1080x360 with 1 Axes>"
            ]
          },
          "metadata": {
            "tags": [],
            "needs_background": "light"
          }
        }
      ]
    },
    {
      "cell_type": "markdown",
      "metadata": {
        "id": "lqJQN8CS6ze3"
      },
      "source": [
        "## Demo: find match to user input"
      ]
    },
    {
      "cell_type": "markdown",
      "metadata": {
        "id": "1fCjCkL-6ze3"
      },
      "source": [
        "* Ask for requirement as input (in English)\n",
        "* Compare with list of FAA requirements\n",
        "    - Tokenize\n",
        "    - Filter parts-of-speech\n",
        "    - Sort words according to importance\n",
        "    - Identify similar words\n",
        "    - Compare shared words\n",
        "* Print best match"
      ]
    },
    {
      "cell_type": "code",
      "metadata": {
        "id": "IOGBL0xm6ze4",
        "outputId": "7814d765-f0c9-4846-d94e-1bf964c2cbb9",
        "colab": {
          "base_uri": "https://localhost:8080/",
          "height": 591
        }
      },
      "source": [
        "req = input('-> Paste an operational requirement below:\\n\\n')\n",
        "\n",
        "similarity = []\n",
        "for ref in df_FAA_pr.requirement:\n",
        "    similarity.append(jaccard_mod(req, ref, tokenizer_pr))\n",
        "    \n",
        "match_index = np.array(similarity).argmax()\n",
        "print('\\nMatch: FAR {}'.format(df_FAA_pr.title[match_index]))\n",
        "print('Similarity index: {}\\n'.format(np.round(np.max(similarity), 3)))\n",
        "print('Matching requirement text:\\n\\n{}'.format(df_FAA_pr.requirement[match_index]))\n",
        "\n",
        "plt.figure(figsize = (15,5))\n",
        "plt.hist(np.array(similarity), 50)\n",
        "plt.title('Histogram - similarity requirement vs reference')\n",
        "plt.show()"
      ],
      "execution_count": 13,
      "outputs": [
        {
          "output_type": "stream",
          "text": [
            "-> Paste an operational requirement below:\n",
            "\n",
            "121,375 Maintenance and preventive maintenance training program Each certificate holder, or person performing maintenance or maintenance work preventive action for the holder, should establish a training program that ensures that each person (including mandatory inspection personnel) responsible for determining the suitability of a work carried out is fully informed about procedures, techniques and new equipment in use and is competent to perform its duties.\n",
            "\n",
            "Match: FAR § 121.375\n",
            "Similarity index: 0.9032258064516129\n",
            "\n",
            "Matching requirement text:\n",
            "\n",
            "§ 121.375   Maintenance and preventive maintenance training program.\n",
            "Each certificate holder or person performing maintenance or preventive maintenance functions for it shall have a training program to ensure that each person (including inspection personnel) who determines the adequacy of work done is fully informed about procedures and techniques and new equipment in use and is competent to perform his duties. \n",
            "\n",
            "\n",
            "\n"
          ],
          "name": "stdout"
        },
        {
          "output_type": "display_data",
          "data": {
            "image/png": "[encoded data removed]",
            "text/plain": [
              "<Figure size 1080x360 with 1 Axes>"
            ]
          },
          "metadata": {
            "tags": [],
            "needs_background": "light"
          }
        }
      ]
    },
    {
      "cell_type": "markdown",
      "metadata": {
        "id": "XJG4XRn46ze5"
      },
      "source": [
        "---   \n",
        "# Classification"
      ]
    },
    {
      "cell_type": "markdown",
      "metadata": {
        "id": "YJ3OT5mqCP9e"
      },
      "source": [
        "## Description"
      ]
    },
    {
      "cell_type": "markdown",
      "metadata": {
        "id": "xyURzzIZ6ze6"
      },
      "source": [
        "Objective: read requirement and classify in either \"Title Only\", \"Aircraft\" or \"Operator\"   \n",
        "\n",
        "-----   \n",
        "\n",
        "<img src=\"https://github.com/fabio-a-oliveira/NLP_Regulations/blob/main/images/requirement_classification.png?raw=1\">"
      ]
    },
    {
      "cell_type": "code",
      "metadata": {
        "id": "x3uw-1o66ze7"
      },
      "source": [
        ""
      ],
      "execution_count": 13,
      "outputs": []
    },
    {
      "cell_type": "markdown",
      "metadata": {
        "id": "dGyojWAo6ze7"
      },
      "source": [
        "## Demo: classify random FAA requirement"
      ]
    },
    {
      "cell_type": "markdown",
      "metadata": {
        "id": "0JUl7ub7CUJp"
      },
      "source": [
        "* Select FAA part 121 requirement randomly\n",
        "* Tokenize\n",
        "* Pad/trim sequence to 200 tokens\n",
        "* Run through classification model\n",
        "* Choose class according to highest probability"
      ]
    },
    {
      "cell_type": "code",
      "metadata": {
        "id": "fluSSsXR6ze8",
        "outputId": "8fe9b523-6671-45b2-ac71-b70c30986ff2",
        "colab": {
          "base_uri": "https://localhost:8080/"
        }
      },
      "source": [
        "EXAMPLE_NUMBER = np.random.randint(0,df_FAA_cl.shape[0])\n",
        "\n",
        "req = df_FAA_cl.requirement[EXAMPLE_NUMBER]\n",
        "title = df_FAA_cl.title[EXAMPLE_NUMBER]\n",
        "correct_tag = df_FAA_cl.tag[EXAMPLE_NUMBER].title()\n",
        "print('Requirement: {}\\n\\n{}'.format(title,req))\n",
        "\n",
        "tokens = tokenizer_cl.texts_to_sequences([req])\n",
        "padded_tokens = tf.keras.preprocessing.sequence.pad_sequences(tokens, maxlen = sequence_length)\n",
        "X = tf.constant(np.array(padded_tokens))\n",
        "prediction = model.predict(X)\n",
        "predicted_prob = prediction.max()\n",
        "predicted_label = prediction.argmax()\n",
        "predicted_tag = ['Title Only', 'Aircraft', 'Operator'][predicted_label]\n",
        "\n",
        "print('Predicted label: {}\\nLevel of Confidence: {}%'.format(predicted_tag, np.round(100*predicted_prob,3)))\n",
        "print('\\nCorrect label: {}'.format(correct_tag))"
      ],
      "execution_count": 14,
      "outputs": [
        {
          "output_type": "stream",
          "text": [
            "Requirement: § 121.687(a)(5)\n",
            "\n",
            "§ 121.687   Dispatch release: Flag and domestic operations.\n",
            "(a) The dispatch release may be in any form but must contain at least the following information concerning each flight: \n",
            "(5) Minimum fuel supply. \n",
            "\n",
            "Predicted label: Operator\n",
            "Level of Confidence: 99.962%\n",
            "\n",
            "Correct label: Operator\n"
          ],
          "name": "stdout"
        }
      ]
    },
    {
      "cell_type": "markdown",
      "metadata": {
        "id": "V-TnwJms6ze9"
      },
      "source": [
        "## Demo: classify random ANAC requirement"
      ]
    },
    {
      "cell_type": "markdown",
      "metadata": {
        "id": "PifyfNqjCYFF"
      },
      "source": [
        "* Select ANAC RBAC 121 requirement randomly\n",
        "* Translate to English\n",
        "* Tokenize\n",
        "* Pad/trim sequence to 200 tokens\n",
        "* Run through classification model\n",
        "* Choose class according to highest probability"
      ]
    },
    {
      "cell_type": "code",
      "metadata": {
        "id": "rqgsQ73H6ze9",
        "outputId": "3ae1f74d-ee80-42e5-9532-3929c45853c1",
        "colab": {
          "base_uri": "https://localhost:8080/"
        }
      },
      "source": [
        "EXAMPLE_NUMBER = np.random.randint(0,df_ANAC_cl.shape[0])\n",
        "\n",
        "req = df_ANAC_cl.requirement[EXAMPLE_NUMBER]\n",
        "title = df_ANAC_cl.title[EXAMPLE_NUMBER]\n",
        "#correct_tag = df_ANAC.tag[EXAMPLE_NUMBER].title()\n",
        "print('Requirement: {}\\n\\n{}'.format(title,req))\n",
        "\n",
        "translation = translator.translate(req, dest='en', src='pt').text\n",
        "\n",
        "print('\\n\\nTranslated requirement:\\n\\n{}\\n\\n'.format(translation))\n",
        "\n",
        "tokens = tokenizer_cl.texts_to_sequences([translation])\n",
        "padded_tokens = tf.keras.preprocessing.sequence.pad_sequences(tokens, maxlen = sequence_length)\n",
        "X = np.array(padded_tokens)\n",
        "X = tf.constant(X)\n",
        "prediction = model.predict(X)\n",
        "predicted_prob = prediction.max()\n",
        "predicted_label = prediction.argmax()\n",
        "predicted_tag = ['Title Only', 'Aircraft', 'Operator'][predicted_label]\n",
        "\n",
        "print('Predicted label: {}\\nLevel of Confidence: {}%'.format(predicted_tag, np.round(100*predicted_prob,3)))\n",
        "#print('\\nCorrect label: {}'.format(correct_tag))"
      ],
      "execution_count": 15,
      "outputs": [
        {
          "output_type": "stream",
          "text": [
            "Requirement: 121.310(f)(2)\n",
            "\n",
            "121.310  Equipamento adicional de emergência \n",
            "(f) Acesso às saídas de emergência. Cada avião transportando passageiros deve prover acesso às saídas de emergência de acordo com o seguinte: (2) deve haver suficiente espaço próximo às saídas Tipo I e Tipo II, que estejam incluídas no parágrafo (a) desta seção, para permitir que um tripulante ajude na evacuação de passageiros sem reduzir a largura desobstruída de passagem requerida pelo parágrafo (f) (1) desta seção. Entretanto, a ANAC pode autorizar desvios deste requisito para um avião de tipo certificado segundo as provisões da parte 4b do “Civil Air Regulations”, dos Estados Unidos da América, em efeito antes de 20 de dezembro de 1951, se for considerado que existem circunstâncias especiais provendo um nível de segurança equivalente; \n",
            "\n",
            "\n",
            "Translated requirement:\n",
            "\n",
            "121,310 Additional emergency equipment\n",
            "(f) Access to emergency exits. Each airplane carrying passengers must provide access to the emergency exits in accordance with the following: (2) there must be sufficient space close to the Type I and Type II exits, which are included in paragraph (a) of this section, to allow a crew member to assist when evacuating passengers without reducing the clear passage width required by paragraph (f) (1) of this section. However, ANAC may authorize deviations from this requirement for an airplane of a certified type according to the provisions of part 4b of the “Civil Air Regulations” of the United States of America, in effect before December 20, 1951, if circumstances are considered to exist special systems providing an equivalent level of security;\n",
            "\n",
            "\n",
            "Predicted label: Aircraft\n",
            "Level of Confidence: 99.14%\n"
          ],
          "name": "stdout"
        }
      ]
    },
    {
      "cell_type": "markdown",
      "metadata": {
        "id": "pdRztIZn6ze-"
      },
      "source": [
        "## Demo: classify user input"
      ]
    },
    {
      "cell_type": "markdown",
      "metadata": {
        "id": "OX9q7lyxCcgZ"
      },
      "source": [
        "* Ask for requirement as input (in English)\n",
        "* Tokenize\n",
        "* Pad/trim sequence to 200 tokens\n",
        "* Run through classification model\n",
        "* Choose class according to highest probability"
      ]
    },
    {
      "cell_type": "code",
      "metadata": {
        "id": "sUEdvZ196ze_",
        "outputId": "cb357eb8-3fb6-4e4c-d01e-a283505966a7",
        "colab": {
          "base_uri": "https://localhost:8080/"
        }
      },
      "source": [
        "REQUIREMENT = input('-> Paste an operational requirement below:\\n\\n')\n",
        "\n",
        "tokens = tokenizer_cl.texts_to_sequences([REQUIREMENT])\n",
        "padded_tokens = tf.keras.preprocessing.sequence.pad_sequences(tokens, maxlen = sequence_length)\n",
        "X = np.array(padded_tokens)\n",
        "X = tf.constant(X)\n",
        "prediction = model.predict(X)\n",
        "predicted_prob = prediction.max()\n",
        "predicted_label = prediction.argmax()\n",
        "predicted_tag = ['Title Only', 'Aircraft', 'Operator'][predicted_label]\n",
        "\n",
        "print('\\nPredicted label: {}\\nLevel of Confidence: {}%'.format(predicted_tag, np.round(100*predicted_prob,3)))"
      ],
      "execution_count": 16,
      "outputs": [
        {
          "output_type": "stream",
          "text": [
            "-> Paste an operational requirement below:\n",
            "\n",
            "121,375 Maintenance and preventive maintenance training program Each certificate holder, or person performing maintenance or maintenance work preventive action for the holder, should establish a training program that ensures that each person (including mandatory inspection personnel) responsible for determining the suitability of a work carried out is fully informed about procedures, techniques and new equipment in use and is competent to perform its duties.\n",
            "\n",
            "Predicted label: Operator\n",
            "Level of Confidence: 99.876%\n"
          ],
          "name": "stdout"
        }
      ]
    }
  ]
}