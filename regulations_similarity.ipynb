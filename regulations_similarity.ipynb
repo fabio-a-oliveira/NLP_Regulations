{
 "cells": [
  {
   "cell_type": "markdown",
   "metadata": {
    "id": "4zqYoGVVui6y"
   },
   "source": [
    "# Setup"
   ]
  },
  {
   "cell_type": "code",
   "execution_count": 2,
   "metadata": {
    "colab": {
     "base_uri": "https://localhost:8080/"
    },
    "executionInfo": {
     "elapsed": 8841,
     "status": "ok",
     "timestamp": 1618229445470,
     "user": {
      "displayName": "Fábio Arbach Oliveira",
      "photoUrl": "https://lh3.googleusercontent.com/a-/AOh14GjQ1ID5GbBg4_uOUilbj0xN5Fy0zXZlC1dYnN-f=s64",
      "userId": "16129273721091616396"
     },
     "user_tz": 180
    },
    "id": "csNglZwL_7Be",
    "outputId": "c33b7145-0d1d-4b28-fb8d-21be260d6b42"
   },
   "outputs": [
    {
     "name": "stdout",
     "output_type": "stream",
     "text": [
      "Collecting pdfplumber\n",
      "\u001b[?25l  Downloading https://files.pythonhosted.org/packages/7e/57/4d9768e9ed204c68bd5813a2a112d3d6af4912f0785d47080b5067cdce64/pdfplumber-0.5.27.tar.gz (44kB)\n",
      "\u001b[K     |████████████████████████████████| 51kB 2.6MB/s \n",
      "\u001b[?25hCollecting pdfminer.six==20200517\n",
      "\u001b[?25l  Downloading https://files.pythonhosted.org/packages/b0/c0/ef1c8758bbd86edb10b5443700aac97d0ba27a9ca2e7696db8cd1fdbd5a8/pdfminer.six-20200517-py3-none-any.whl (5.6MB)\n",
      "\u001b[K     |████████████████████████████████| 5.6MB 5.2MB/s \n",
      "\u001b[?25hRequirement already satisfied: Pillow>=7.0.0 in /usr/local/lib/python3.7/dist-packages (from pdfplumber) (7.1.2)\n",
      "Collecting Wand\n",
      "\u001b[?25l  Downloading https://files.pythonhosted.org/packages/d7/f6/05f043c099639b9017b7244791048a4d146dfea45b41a199aed373246d50/Wand-0.6.6-py2.py3-none-any.whl (138kB)\n",
      "\u001b[K     |████████████████████████████████| 143kB 36.5MB/s \n",
      "\u001b[?25hCollecting pycryptodome\n",
      "\u001b[?25l  Downloading https://files.pythonhosted.org/packages/ad/16/9627ab0493894a11c68e46000dbcc82f578c8ff06bc2980dcd016aea9bd3/pycryptodome-3.10.1-cp35-abi3-manylinux2010_x86_64.whl (1.9MB)\n",
      "\u001b[K     |████████████████████████████████| 1.9MB 31.8MB/s \n",
      "\u001b[?25hRequirement already satisfied: chardet; python_version > \"3.0\" in /usr/local/lib/python3.7/dist-packages (from pdfminer.six==20200517->pdfplumber) (3.0.4)\n",
      "Requirement already satisfied: sortedcontainers in /usr/local/lib/python3.7/dist-packages (from pdfminer.six==20200517->pdfplumber) (2.3.0)\n",
      "Building wheels for collected packages: pdfplumber\n",
      "  Building wheel for pdfplumber (setup.py) ... \u001b[?25l\u001b[?25hdone\n",
      "  Created wheel for pdfplumber: filename=pdfplumber-0.5.27-cp37-none-any.whl size=32071 sha256=8b44eaf1cef2f91d5c4378b32846dbfffa813825f6c6125351e6f084811787d3\n",
      "  Stored in directory: /root/.cache/pip/wheels/b4/74/fc/f7b3a1a0732209027fb48a5f4392fc40d79970b11c2ba49e71\n",
      "Successfully built pdfplumber\n",
      "Installing collected packages: pycryptodome, pdfminer.six, Wand, pdfplumber\n",
      "Successfully installed Wand-0.6.6 pdfminer.six-20200517 pdfplumber-0.5.27 pycryptodome-3.10.1\n"
     ]
    }
   ],
   "source": [
    "! pip install pdfplumber"
   ]
  },
  {
   "cell_type": "code",
   "execution_count": 3,
   "metadata": {
    "colab": {
     "base_uri": "https://localhost:8080/"
    },
    "executionInfo": {
     "elapsed": 14870,
     "status": "ok",
     "timestamp": 1618229452043,
     "user": {
      "displayName": "Fábio Arbach Oliveira",
      "photoUrl": "https://lh3.googleusercontent.com/a-/AOh14GjQ1ID5GbBg4_uOUilbj0xN5Fy0zXZlC1dYnN-f=s64",
      "userId": "16129273721091616396"
     },
     "user_tz": 180
    },
    "id": "LjIiTUSrIjTF",
    "outputId": "1033c5ea-a4f1-44d2-b736-df0c7674d832"
   },
   "outputs": [
    {
     "name": "stdout",
     "output_type": "stream",
     "text": [
      "Collecting googletrans==3.1.0a0\n",
      "  Downloading https://files.pythonhosted.org/packages/19/3d/4e3a1609bf52f2f7b00436cc751eb977e27040665dde2bd57e7152989672/googletrans-3.1.0a0.tar.gz\n",
      "Collecting httpx==0.13.3\n",
      "\u001b[?25l  Downloading https://files.pythonhosted.org/packages/54/b4/698b284c6aed4d7c2b4fe3ba5df1fcf6093612423797e76fbb24890dd22f/httpx-0.13.3-py3-none-any.whl (55kB)\n",
      "\u001b[K     |████████████████████████████████| 61kB 3.0MB/s \n",
      "\u001b[?25hRequirement already satisfied: idna==2.* in /usr/local/lib/python3.7/dist-packages (from httpx==0.13.3->googletrans==3.1.0a0) (2.10)\n",
      "Collecting hstspreload\n",
      "\u001b[?25l  Downloading https://files.pythonhosted.org/packages/dd/50/606213e12fb49c5eb667df0936223dcaf461f94e215ea60244b2b1e9b039/hstspreload-2020.12.22-py3-none-any.whl (994kB)\n",
      "\u001b[K     |████████████████████████████████| 1.0MB 6.9MB/s \n",
      "\u001b[?25hCollecting httpcore==0.9.*\n",
      "\u001b[?25l  Downloading https://files.pythonhosted.org/packages/dd/d5/e4ff9318693ac6101a2095e580908b591838c6f33df8d3ee8dd953ba96a8/httpcore-0.9.1-py3-none-any.whl (42kB)\n",
      "\u001b[K     |████████████████████████████████| 51kB 4.9MB/s \n",
      "\u001b[?25hRequirement already satisfied: certifi in /usr/local/lib/python3.7/dist-packages (from httpx==0.13.3->googletrans==3.1.0a0) (2020.12.5)\n",
      "Collecting sniffio\n",
      "  Downloading https://files.pythonhosted.org/packages/52/b0/7b2e028b63d092804b6794595871f936aafa5e9322dcaaad50ebf67445b3/sniffio-1.2.0-py3-none-any.whl\n",
      "Collecting rfc3986<2,>=1.3\n",
      "  Downloading https://files.pythonhosted.org/packages/78/be/7b8b99fd74ff5684225f50dd0e865393d2265656ef3b4ba9eaaaffe622b8/rfc3986-1.4.0-py2.py3-none-any.whl\n",
      "Requirement already satisfied: chardet==3.* in /usr/local/lib/python3.7/dist-packages (from httpx==0.13.3->googletrans==3.1.0a0) (3.0.4)\n",
      "Collecting h11<0.10,>=0.8\n",
      "\u001b[?25l  Downloading https://files.pythonhosted.org/packages/5a/fd/3dad730b0f95e78aeeb742f96fa7bbecbdd56a58e405d3da440d5bfb90c6/h11-0.9.0-py2.py3-none-any.whl (53kB)\n",
      "\u001b[K     |████████████████████████████████| 61kB 5.9MB/s \n",
      "\u001b[?25hCollecting h2==3.*\n",
      "\u001b[?25l  Downloading https://files.pythonhosted.org/packages/25/de/da019bcc539eeab02f6d45836f23858ac467f584bfec7a526ef200242afe/h2-3.2.0-py2.py3-none-any.whl (65kB)\n",
      "\u001b[K     |████████████████████████████████| 71kB 5.1MB/s \n",
      "\u001b[?25hCollecting hpack<4,>=3.0\n",
      "  Downloading https://files.pythonhosted.org/packages/8a/cc/e53517f4a1e13f74776ca93271caef378dadec14d71c61c949d759d3db69/hpack-3.0.0-py2.py3-none-any.whl\n",
      "Collecting hyperframe<6,>=5.2.0\n",
      "  Downloading https://files.pythonhosted.org/packages/19/0c/bf88182bcb5dce3094e2f3e4fe20db28a9928cb7bd5b08024030e4b140db/hyperframe-5.2.0-py2.py3-none-any.whl\n",
      "Building wheels for collected packages: googletrans\n",
      "  Building wheel for googletrans (setup.py) ... \u001b[?25l\u001b[?25hdone\n",
      "  Created wheel for googletrans: filename=googletrans-3.1.0a0-cp37-none-any.whl size=16368 sha256=1d6000669a7dcd36bc9aad6f9661799ce84888b17453745cd5d2dbb8deab96fa\n",
      "  Stored in directory: /root/.cache/pip/wheels/27/7a/a0/aff3babbb775549ce6813cb8fa7ff3c0848c4dc62c20f8fdac\n",
      "Successfully built googletrans\n",
      "Installing collected packages: hstspreload, sniffio, h11, hpack, hyperframe, h2, httpcore, rfc3986, httpx, googletrans\n",
      "Successfully installed googletrans-3.1.0a0 h11-0.9.0 h2-3.2.0 hpack-3.0.0 hstspreload-2020.12.22 httpcore-0.9.1 httpx-0.13.3 hyperframe-5.2.0 rfc3986-1.4.0 sniffio-1.2.0\n"
     ]
    }
   ],
   "source": [
    "#! pip uninstall googletrans\n",
    "! pip install googletrans==3.1.0a0\n",
    "#! pip install googletrans"
   ]
  },
  {
   "cell_type": "code",
   "execution_count": 664,
   "metadata": {
    "colab": {
     "base_uri": "https://localhost:8080/"
    },
    "executionInfo": {
     "elapsed": 558,
     "status": "ok",
     "timestamp": 1618279021224,
     "user": {
      "displayName": "Fábio Arbach Oliveira",
      "photoUrl": "https://lh3.googleusercontent.com/a-/AOh14GjQ1ID5GbBg4_uOUilbj0xN5Fy0zXZlC1dYnN-f=s64",
      "userId": "16129273721091616396"
     },
     "user_tz": 180
    },
    "id": "6WPGgSUbfXrK",
    "outputId": "1103b000-0908-48d6-9f5e-9eadd4ea373b"
   },
   "outputs": [
    {
     "name": "stdout",
     "output_type": "stream",
     "text": [
      "[nltk_data] Downloading package averaged_perceptron_tagger to\n",
      "[nltk_data]     /root/nltk_data...\n",
      "[nltk_data]   Package averaged_perceptron_tagger is already up-to-\n",
      "[nltk_data]       date!\n"
     ]
    }
   ],
   "source": [
    "import numpy as np\n",
    "from scipy.cluster.hierarchy import linkage, dendrogram\n",
    "from scipy.spatial.distance import cosine\n",
    "import matplotlib.pyplot as plt\n",
    "import tensorflow as tf\n",
    "import xml.etree.ElementTree as ET\n",
    "import re\n",
    "from html.parser import HTMLParser\n",
    "from os import listdir, mkdir, getcwd, chdir\n",
    "from os.path import join\n",
    "import pdfplumber\n",
    "from googletrans import Translator\n",
    "import nltk\n",
    "nltk.download('averaged_perceptron_tagger')\n",
    "import requests\n",
    "import zipfile\n",
    "from collections import OrderedDict\n",
    "from scipy.linalg import norm\n",
    "from google.colab import files"
   ]
  },
  {
   "cell_type": "code",
   "execution_count": 5,
   "metadata": {
    "executionInfo": {
     "elapsed": 16185,
     "status": "ok",
     "timestamp": 1618229455316,
     "user": {
      "displayName": "Fábio Arbach Oliveira",
      "photoUrl": "https://lh3.googleusercontent.com/a-/AOh14GjQ1ID5GbBg4_uOUilbj0xN5Fy0zXZlC1dYnN-f=s64",
      "userId": "16129273721091616396"
     },
     "user_tz": 180
    },
    "id": "th7UEAhLuwkK"
   },
   "outputs": [],
   "source": [
    "home_directory = getcwd()"
   ]
  },
  {
   "cell_type": "markdown",
   "metadata": {
    "id": "dLYq9caQQE-t"
   },
   "source": [
    "# Download and preprocess regulations"
   ]
  },
  {
   "cell_type": "markdown",
   "metadata": {
    "id": "R6M6PdoKSVdV"
   },
   "source": [
    "## Download and process FAA"
   ]
  },
  {
   "cell_type": "code",
   "execution_count": 6,
   "metadata": {
    "colab": {
     "base_uri": "https://localhost:8080/"
    },
    "executionInfo": {
     "elapsed": 2291,
     "status": "ok",
     "timestamp": 1618229488866,
     "user": {
      "displayName": "Fábio Arbach Oliveira",
      "photoUrl": "https://lh3.googleusercontent.com/a-/AOh14GjQ1ID5GbBg4_uOUilbj0xN5Fy0zXZlC1dYnN-f=s64",
      "userId": "16129273721091616396"
     },
     "user_tz": 180
    },
    "id": "_RyCeMlTiIzl",
    "outputId": "ab390740-c8d1-4e15-80e5-7b84998b1aaa"
   },
   "outputs": [
    {
     "name": "stdout",
     "output_type": "stream",
     "text": [
      "--2021-04-12 12:11:27--  https://www.govinfo.gov/bulkdata/ECFR/title-14/ECFR-title14.xml\n",
      "Resolving www.govinfo.gov (www.govinfo.gov)... 104.16.165.242, 104.16.164.242, 2606:4700::6810:a5f2, ...\n",
      "Connecting to www.govinfo.gov (www.govinfo.gov)|104.16.165.242|:443... connected.\n",
      "HTTP request sent, awaiting response... 200 OK\n",
      "Length: 16493315 (16M) [text/xml]\n",
      "Saving to: ‘ECFR-title14.xml’\n",
      "\n",
      "ECFR-title14.xml    100%[===================>]  15.73M  13.5MB/s    in 1.2s    \n",
      "\n",
      "2021-04-12 12:11:28 (13.5 MB/s) - ‘ECFR-title14.xml’ saved [16493315/16493315]\n",
      "\n"
     ]
    }
   ],
   "source": [
    "if 'dataset' not in listdir():\n",
    "    mkdir('dataset')\n",
    "\n",
    "chdir(home_directory)\n",
    "chdir(join(home_directory, 'dataset'))\n",
    "!wget https://www.govinfo.gov/bulkdata/ECFR/title-14/ECFR-title14.xml\n",
    "chdir(home_directory)"
   ]
  },
  {
   "cell_type": "code",
   "execution_count": 7,
   "metadata": {
    "executionInfo": {
     "elapsed": 1685,
     "status": "ok",
     "timestamp": 1618229501184,
     "user": {
      "displayName": "Fábio Arbach Oliveira",
      "photoUrl": "https://lh3.googleusercontent.com/a-/AOh14GjQ1ID5GbBg4_uOUilbj0xN5Fy0zXZlC1dYnN-f=s64",
      "userId": "16129273721091616396"
     },
     "user_tz": 180
    },
    "id": "MorKdipOibw6"
   },
   "outputs": [],
   "source": [
    "# access the raw xml file\n",
    "filepath = join('dataset', 'ECFR-title14.xml')\n",
    "tree = ET.parse(filepath)\n",
    "root = tree.getroot()\n",
    "\n",
    "# create lists for each regulation\n",
    "part23, part25, part27, part29, part121, part125, part135 = [],[],[],[],[],[],[]\n",
    "\n",
    "# iterate over each element of the xml tree and fill corresponding lists\n",
    "for element in root.iter():\n",
    "    # stop when DoT part is reached\n",
    "    if element.tag == 'DIV1':\n",
    "        if element.attrib['N'] == '4':\n",
    "            break \n",
    "        # if reached a new section\n",
    "    if element.tag == 'DIV8':\n",
    "        if '§ 23.' in element.attrib['N']:\n",
    "            section = []\n",
    "            [section.append(line) for line in element.itertext() if line[0] != '\\n']\n",
    "            part23.append(' '.join(section))\n",
    "        elif '§ 25.' in element.attrib['N']:\n",
    "            section = []\n",
    "            [section.append(line) for line in element.itertext() if line[0] != '\\n']\n",
    "            part25.append(' '.join(section))\n",
    "        elif '§ 27.' in element.attrib['N']:\n",
    "            section = []\n",
    "            [section.append(line) for line in element.itertext() if line[0] != '\\n']\n",
    "            part27.append(' '.join(section))\n",
    "        elif '§ 29.' in element.attrib['N']:\n",
    "            section = []\n",
    "            [section.append(line) for line in element.itertext() if line[0] != '\\n']\n",
    "            part29.append(' '.join(section))\n",
    "        elif '§ 121.' in element.attrib['N']:\n",
    "            section = []\n",
    "            [section.append(line) for line in element.itertext() if line[0] != '\\n']\n",
    "            part121.append(' '.join(section))\n",
    "        elif '§ 125.' in element.attrib['N']:\n",
    "            section = []\n",
    "            [section.append(line) for line in element.itertext() if line[0] != '\\n']\n",
    "            part125.append(' '.join(section))\n",
    "        elif '§ 135.' in element.attrib['N']:\n",
    "            section = []\n",
    "            [section.append(line) for line in element.itertext() if line[0] != '\\n']\n",
    "            part135.append(' '.join(section))"
   ]
  },
  {
   "cell_type": "markdown",
   "metadata": {
    "id": "SGuKJVc52Lvw"
   },
   "source": [
    "## Download and preprocess EASA Part-CAT"
   ]
  },
  {
   "cell_type": "code",
   "execution_count": 8,
   "metadata": {
    "colab": {
     "base_uri": "https://localhost:8080/"
    },
    "executionInfo": {
     "elapsed": 2572,
     "status": "ok",
     "timestamp": 1618229536912,
     "user": {
      "displayName": "Fábio Arbach Oliveira",
      "photoUrl": "https://lh3.googleusercontent.com/a-/AOh14GjQ1ID5GbBg4_uOUilbj0xN5Fy0zXZlC1dYnN-f=s64",
      "userId": "16129273721091616396"
     },
     "user_tz": 180
    },
    "id": "YkaHvtNZ2Q8r",
    "outputId": "7315fe06-a9ac-4a8b-ee2f-a5f5080b6db2"
   },
   "outputs": [
    {
     "name": "stdout",
     "output_type": "stream",
     "text": [
      "--2021-04-12 12:12:15--  https://eur-lex.europa.eu/legal-content/EN/TXT/HTML/?uri=CELEX:02012R0965-20201231\n",
      "Resolving eur-lex.europa.eu (eur-lex.europa.eu)... 65.8.173.28, 65.8.173.129, 65.8.173.34, ...\n",
      "Connecting to eur-lex.europa.eu (eur-lex.europa.eu)|65.8.173.28|:443... connected.\n",
      "HTTP request sent, awaiting response... 200 OK\n",
      "Length: unspecified [text/html]\n",
      "Saving to: ‘EASA-Air-Ops.html’\n",
      "\n",
      "EASA-Air-Ops.html       [ <=>                ]   3.00M  18.7MB/s    in 0.2s    \n",
      "\n",
      "2021-04-12 12:12:16 (18.7 MB/s) - ‘EASA-Air-Ops.html’ saved [3145934]\n",
      "\n"
     ]
    }
   ],
   "source": [
    "if 'dataset' not in listdir():\n",
    "    mkdir('dataset')\n",
    "\n",
    "chdir(join(home_directory, 'dataset'))\n",
    "!wget -O EASA-Air-Ops.html https://eur-lex.europa.eu/legal-content/EN/TXT/HTML/?uri=CELEX:02012R0965-20201231&qid=1617989856145&from=EN\n",
    "chdir(home_directory)"
   ]
  },
  {
   "cell_type": "code",
   "execution_count": 9,
   "metadata": {
    "executionInfo": {
     "elapsed": 526,
     "status": "ok",
     "timestamp": 1618229539265,
     "user": {
      "displayName": "Fábio Arbach Oliveira",
      "photoUrl": "https://lh3.googleusercontent.com/a-/AOh14GjQ1ID5GbBg4_uOUilbj0xN5Fy0zXZlC1dYnN-f=s64",
      "userId": "16129273721091616396"
     },
     "user_tz": 180
    },
    "id": "phe8EvhR8DvB"
   },
   "outputs": [],
   "source": [
    "class MyHTMLParser(HTMLParser):\n",
    "    def __init__(self, output_string, **kwargs):\n",
    "        self.output_string = output_string\n",
    "        super().__init__(**kwargs)\n",
    "\n",
    "    def handle_data(self, data):\n",
    "        text = re.sub('^\\s*', '', data)\n",
    "        if len(text) > 0 and text[0] != '►' and text[0] != '▼' and text[0] != '◄':\n",
    "            self.output_string += text + '\\n'\n",
    "            #print(text)"
   ]
  },
  {
   "cell_type": "code",
   "execution_count": 10,
   "metadata": {
    "executionInfo": {
     "elapsed": 3773,
     "status": "ok",
     "timestamp": 1618229546988,
     "user": {
      "displayName": "Fábio Arbach Oliveira",
      "photoUrl": "https://lh3.googleusercontent.com/a-/AOh14GjQ1ID5GbBg4_uOUilbj0xN5Fy0zXZlC1dYnN-f=s64",
      "userId": "16129273721091616396"
     },
     "user_tz": 180
    },
    "id": "GLy6vFLA742U"
   },
   "outputs": [],
   "source": [
    "filepath = join('dataset', 'EASA-Air-Ops.html')\n",
    "\n",
    "parser = MyHTMLParser(output_string = '')\n",
    "\n",
    "with open(filepath) as file:\n",
    "    text = file.read()\n",
    "\n",
    "parser.feed(text)\n",
    "\n",
    "filepath = join('dataset', 'EASA-Air-Ops.txt')\n",
    "\n",
    "with open(filepath, 'w') as file:\n",
    "    file.write(parser.output_string)"
   ]
  },
  {
   "cell_type": "code",
   "execution_count": 11,
   "metadata": {
    "executionInfo": {
     "elapsed": 607,
     "status": "ok",
     "timestamp": 1618229546989,
     "user": {
      "displayName": "Fábio Arbach Oliveira",
      "photoUrl": "https://lh3.googleusercontent.com/a-/AOh14GjQ1ID5GbBg4_uOUilbj0xN5Fy0zXZlC1dYnN-f=s64",
      "userId": "16129273721091616396"
     },
     "user_tz": 180
    },
    "id": "H5G2aMaS4hkV"
   },
   "outputs": [],
   "source": [
    "filepath = join('dataset', 'EASA-Air-Ops.txt')\n",
    "\n",
    "partCAT = []\n",
    "\n",
    "with open(filepath) as file:\n",
    "    for line in file:\n",
    "        if line == \"ANNEX V\\n\":\n",
    "            break\n",
    "        elif re.match('CAT\\.[A-Z]{1,3}\\.[A-Z]{1,3}', line):\n",
    "            partCAT.append(line)\n",
    "        elif len(partCAT) > 0:\n",
    "            partCAT[-1] += line"
   ]
  },
  {
   "cell_type": "markdown",
   "metadata": {
    "id": "1lgqd8SjAD7A"
   },
   "source": [
    "## Download and process ANAC RBAC 121"
   ]
  },
  {
   "cell_type": "markdown",
   "metadata": {
    "id": "f500VjEhlnGU"
   },
   "source": [
    "Download and process RBAC 121 in Portuguese"
   ]
  },
  {
   "cell_type": "code",
   "execution_count": 12,
   "metadata": {
    "colab": {
     "base_uri": "https://localhost:8080/"
    },
    "executionInfo": {
     "elapsed": 5524,
     "status": "ok",
     "timestamp": 1618229578418,
     "user": {
      "displayName": "Fábio Arbach Oliveira",
      "photoUrl": "https://lh3.googleusercontent.com/a-/AOh14GjQ1ID5GbBg4_uOUilbj0xN5Fy0zXZlC1dYnN-f=s64",
      "userId": "16129273721091616396"
     },
     "user_tz": 180
    },
    "id": "MItd1QEgADel",
    "outputId": "ae25c3e5-909f-4f33-a6d8-c5eb85e2c6d1"
   },
   "outputs": [
    {
     "name": "stdout",
     "output_type": "stream",
     "text": [
      "--2021-04-12 12:12:53--  https://www.anac.gov.br/assuntos/legislacao/legislacao-1/rbha-e-rbac/rbac/rbac-121/@@display-file/arquivo_norma/RBAC121EMD12.pdf\n",
      "Resolving www.anac.gov.br (www.anac.gov.br)... 189.3.93.48\n",
      "Connecting to www.anac.gov.br (www.anac.gov.br)|189.3.93.48|:443... connected.\n",
      "HTTP request sent, awaiting response... 200 OK\n",
      "Length: 2566111 (2.4M) [application/pdf]\n",
      "Saving to: ‘RBAC121.pdf’\n",
      "\n",
      "RBAC121.pdf         100%[===================>]   2.45M   671KB/s    in 3.7s    \n",
      "\n",
      "2021-04-12 12:12:58 (671 KB/s) - ‘RBAC121.pdf’ saved [2566111/2566111]\n",
      "\n"
     ]
    }
   ],
   "source": [
    "if 'dataset' not in listdir():\n",
    "    mkdir('dataset')\n",
    "\n",
    "chdir(join(home_directory, 'dataset'))\n",
    "!wget -O RBAC121.pdf https://www.anac.gov.br/assuntos/legislacao/legislacao-1/rbha-e-rbac/rbac/rbac-121/@@display-file/arquivo_norma/RBAC121EMD12.pdf\n",
    "chdir(home_directory)"
   ]
  },
  {
   "cell_type": "code",
   "execution_count": 13,
   "metadata": {
    "executionInfo": {
     "elapsed": 52102,
     "status": "ok",
     "timestamp": 1618229633739,
     "user": {
      "displayName": "Fábio Arbach Oliveira",
      "photoUrl": "https://lh3.googleusercontent.com/a-/AOh14GjQ1ID5GbBg4_uOUilbj0xN5Fy0zXZlC1dYnN-f=s64",
      "userId": "16129273721091616396"
     },
     "user_tz": 180
    },
    "id": "s_69lUyHAjEa"
   },
   "outputs": [],
   "source": [
    "filepath = join('dataset', 'RBAC121.pdf')\n",
    "text = ''\n",
    "\n",
    "with pdfplumber.open(filepath) as pdf:\n",
    "    #for page in range(len(pdf.pages)):\n",
    "    for page in range(9,243):\n",
    "        text += pdf.pages[page].extract_text()\n",
    "\n",
    "filepath = join('dataset', 'RBAC121.txt')\n",
    "with open(filepath, 'w') as file:\n",
    "    file.write(text)"
   ]
  },
  {
   "cell_type": "code",
   "execution_count": 14,
   "metadata": {
    "executionInfo": {
     "elapsed": 49701,
     "status": "ok",
     "timestamp": 1618229633744,
     "user": {
      "displayName": "Fábio Arbach Oliveira",
      "photoUrl": "https://lh3.googleusercontent.com/a-/AOh14GjQ1ID5GbBg4_uOUilbj0xN5Fy0zXZlC1dYnN-f=s64",
      "userId": "16129273721091616396"
     },
     "user_tz": 180
    },
    "id": "xOw4tfSXS_y6"
   },
   "outputs": [],
   "source": [
    "filepath = join('dataset', 'RBAC121.txt')\n",
    "\n",
    "RBAC121 = []\n",
    "\n",
    "with open(filepath) as file:\n",
    "    for line in file:\n",
    "        if (re.match(' Data da emissão', line) or \n",
    "            re.match('Data de vigência', line) or \n",
    "            re.match('Origem: SPO', line) or\n",
    "            not re.match('\\w', line)):\n",
    "            pass\n",
    "        elif re.match('^121\\.\\d{1,4}  ', line):\n",
    "            RBAC121.append(line)\n",
    "        elif len(RBAC121) > 0:\n",
    "            RBAC121[-1] += line"
   ]
  },
  {
   "cell_type": "markdown",
   "metadata": {
    "id": "5P3r7XuRf7dk"
   },
   "source": [
    "Create lists containing each section translation and translation status"
   ]
  },
  {
   "cell_type": "code",
   "execution_count": 15,
   "metadata": {
    "executionInfo": {
     "elapsed": 46904,
     "status": "ok",
     "timestamp": 1618229633746,
     "user": {
      "displayName": "Fábio Arbach Oliveira",
      "photoUrl": "https://lh3.googleusercontent.com/a-/AOh14GjQ1ID5GbBg4_uOUilbj0xN5Fy0zXZlC1dYnN-f=s64",
      "userId": "16129273721091616396"
     },
     "user_tz": 180
    },
    "id": "0OytuqmOf2AN"
   },
   "outputs": [],
   "source": [
    "RBAC121_lang = np.repeat(np.array('pt'), len(RBAC121)).tolist()\n",
    "RBAC121_en = np.repeat(np.array(''), len(RBAC121)).tolist()\n",
    "RBAC121_extra_data = np.repeat(np.array(''), len(RBAC121)).tolist()"
   ]
  },
  {
   "cell_type": "markdown",
   "metadata": {
    "id": "kpjEDJlef9eP"
   },
   "source": [
    "Translate each section using the google translate service. Run this code every few hours until all sentences are translated:"
   ]
  },
  {
   "cell_type": "code",
   "execution_count": 17,
   "metadata": {
    "colab": {
     "base_uri": "https://localhost:8080/"
    },
    "executionInfo": {
     "elapsed": 57719,
     "status": "ok",
     "timestamp": 1618230175008,
     "user": {
      "displayName": "Fábio Arbach Oliveira",
      "photoUrl": "https://lh3.googleusercontent.com/a-/AOh14GjQ1ID5GbBg4_uOUilbj0xN5Fy0zXZlC1dYnN-f=s64",
      "userId": "16129273721091616396"
     },
     "user_tz": 180
    },
    "id": "Q9vUWm1Df8hV",
    "outputId": "d1126799-ea5b-4cde-d090-118dd1db3d06"
   },
   "outputs": [
    {
     "name": "stdout",
     "output_type": "stream",
     "text": [
      "Translated sentences: 289 out of 360\n"
     ]
    }
   ],
   "source": [
    "translator = Translator()\n",
    "\n",
    "for section in range(len(RBAC121)):\n",
    "    if RBAC121_lang[section] == 'pt':\n",
    "        translation = translator.translate(RBAC121[section], dest='en', src='pt')\n",
    "        RBAC121_en[section] = translation.text\n",
    "        RBAC121_extra_data[section] = translation.extra_data\n",
    "        if translation.extra_data['original-language'] == 'pt':\n",
    "            RBAC121_lang[section] = 'en'\n",
    "\n",
    "print('Translated sentences: {} out of {}'.format(RBAC121_lang.count('en'), len(RBAC121_lang)))"
   ]
  },
  {
   "cell_type": "markdown",
   "metadata": {
    "id": "KsTvqJ1if_qf"
   },
   "source": [
    "Save the full translation to .txt file."
   ]
  },
  {
   "cell_type": "code",
   "execution_count": null,
   "metadata": {
    "id": "-D_qgG4ff-7X"
   },
   "outputs": [],
   "source": [
    "filepath = join('dataset', 'RBAC121_en.txt')\n",
    "\n",
    "with open(filepath, 'w', encoding='utf-8') as file:\n",
    "    for section in RBAC121_en:\n",
    "        file.write(section + '\\n<EOS>\\n')"
   ]
  },
  {
   "cell_type": "markdown",
   "metadata": {
    "id": "o8yj0lAbh9Vr"
   },
   "source": [
    "Load translated RBAC121 from .txt file"
   ]
  },
  {
   "cell_type": "code",
   "execution_count": 230,
   "metadata": {
    "executionInfo": {
     "elapsed": 624,
     "status": "ok",
     "timestamp": 1618188606539,
     "user": {
      "displayName": "Fábio Arbach Oliveira",
      "photoUrl": "https://lh3.googleusercontent.com/a-/AOh14GjQ1ID5GbBg4_uOUilbj0xN5Fy0zXZlC1dYnN-f=s64",
      "userId": "16129273721091616396"
     },
     "user_tz": 180
    },
    "id": "ni4oGzaEiCLj"
   },
   "outputs": [],
   "source": [
    "filepath = join('dataset', 'RBAC121_en.txt')\n",
    "\n",
    "RBAC121_en = ['']\n",
    "\n",
    "with open(filepath, 'r', encoding='utf-8') as file:\n",
    "    for line in file:\n",
    "        if re.match('<EOS>',line):\n",
    "            RBAC121_en.append('')\n",
    "        else:\n",
    "            RBAC121_en[-1] += line\n",
    "\n",
    "_ = RBAC121_en.pop()"
   ]
  },
  {
   "cell_type": "markdown",
   "metadata": {
    "id": "We4lj9YLCCUk"
   },
   "source": [
    "If file is not completely translated, download a pre-translated version from URL"
   ]
  },
  {
   "cell_type": "code",
   "execution_count": 24,
   "metadata": {
    "executionInfo": {
     "elapsed": 686,
     "status": "ok",
     "timestamp": 1618231127231,
     "user": {
      "displayName": "Fábio Arbach Oliveira",
      "photoUrl": "https://lh3.googleusercontent.com/a-/AOh14GjQ1ID5GbBg4_uOUilbj0xN5Fy0zXZlC1dYnN-f=s64",
      "userId": "16129273721091616396"
     },
     "user_tz": 180
    },
    "id": "t1Vcz_xTCBNi"
   },
   "outputs": [],
   "source": [
    "URL = 'https://raw.githubusercontent.com/fabio-a-oliveira/ds-sandbox/master/RBAC/RBAC121_en.txt'\n",
    "\n",
    "if RBAC121_lang.count('en') < len(RBAC121_lang):\n",
    "    # download and save file\n",
    "    RBAC121_en = ['']\n",
    "    r = requests.get(URL)\n",
    "    # save file\n",
    "    with open(join(home_directory, 'dataset', 'RBAC121_en.txt'), mode='wb') as file:\n",
    "        file.write(r.content)\n",
    "    # read file\n",
    "    with open(join(home_directory, 'dataset', 'RBAC121_en.txt'), encoding='utf-8') as file:\n",
    "        for line in file:\n",
    "            if re.match('<EOS>', line):\n",
    "                RBAC121_en.append('')\n",
    "            else:\n",
    "                RBAC121_en[-1] += line\n",
    "\n",
    "_ = RBAC121_en.pop()"
   ]
  },
  {
   "cell_type": "markdown",
   "metadata": {
    "id": "z7yDu9ipQRrd"
   },
   "source": [
    "# Create some text tools"
   ]
  },
  {
   "cell_type": "markdown",
   "metadata": {
    "id": "J0bWzYqdSeW-"
   },
   "source": [
    "## Tokenizer"
   ]
  },
  {
   "cell_type": "code",
   "execution_count": 488,
   "metadata": {
    "executionInfo": {
     "elapsed": 2037,
     "status": "ok",
     "timestamp": 1618255279469,
     "user": {
      "displayName": "Fábio Arbach Oliveira",
      "photoUrl": "https://lh3.googleusercontent.com/a-/AOh14GjQ1ID5GbBg4_uOUilbj0xN5Fy0zXZlC1dYnN-f=s64",
      "userId": "16129273721091616396"
     },
     "user_tz": 180
    },
    "id": "FVAA2wRAsFIq"
   },
   "outputs": [],
   "source": [
    "tokenizer = tf.keras.preprocessing.text.Tokenizer(oov_token = '<OOV>')\n",
    "tokenizer.fit_on_texts(part23 + part25 + part27 + part29 + part121 + part125 + part135 + partCAT + RBAC121_en)\n",
    "#tokenizer.fit_on_texts(part23 + part25 + part27 + part29 + part121 + part125 + part135 + partCAT)\n",
    "stop_words = {'ourselves', 'hers', 'between', 'yourself', 'but', 'again', 'there', 'about', 'once', 'during', 'out', 'very', 'having', 'with', 'they', 'own', 'an', 'be', 'some', 'for', 'do', 'its', 'yours', 'such', 'into', 'of', 'most', 'itself', 'other', 'off', 'is', 's', 'am', 'or', 'who', 'as', 'from', 'him', 'each', 'the', 'themselves', 'until', 'below', 'are', 'we', 'these', 'your', 'his', 'through', 'don', 'nor', 'me', 'were', 'her', 'more', 'himself', 'this', 'down', 'should', 'our', 'their', 'while', 'above', 'both', 'up', 'to', 'ours', 'had', 'she', 'all', 'no', 'when', 'at', 'any', 'before', 'them', 'same', 'and', 'been', 'have', 'in', 'will', 'on', 'does', 'yourselves', 'then', 'that', 'because', 'what', 'over', 'why', 'so', 'can', 'did', 'not', 'now', 'under', 'he', 'you', 'herself', 'has', 'just', 'where', 'too', 'only', 'myself', 'which', 'those', 'i', 'after', 'few', 'whom', 't', 'being', 'if', 'theirs', 'my', 'against', 'a', 'by', 'doing', 'it', 'how', 'further', 'was', 'here', 'than'}"
   ]
  },
  {
   "cell_type": "code",
   "execution_count": 472,
   "metadata": {
    "executionInfo": {
     "elapsed": 1620,
     "status": "ok",
     "timestamp": 1618255053190,
     "user": {
      "displayName": "Fábio Arbach Oliveira",
      "photoUrl": "https://lh3.googleusercontent.com/a-/AOh14GjQ1ID5GbBg4_uOUilbj0xN5Fy0zXZlC1dYnN-f=s64",
      "userId": "16129273721091616396"
     },
     "user_tz": 180
    },
    "id": "6J_goJW_Y2GY"
   },
   "outputs": [],
   "source": [
    "tokens = tokenizer.word_index.keys()\n",
    "discard = []\n",
    "keep = []\n",
    "\n",
    "for item in nltk.pos_tag(tokens):\n",
    "    if item[1] not in ['NN', 'NNS', 'NNP', 'NNPS', 'RB', 'VB', 'JJ']:\n",
    "        discard.append(item[0])\n",
    "    else:\n",
    "        keep.append(item[0])"
   ]
  },
  {
   "cell_type": "code",
   "execution_count": 473,
   "metadata": {
    "executionInfo": {
     "elapsed": 882,
     "status": "ok",
     "timestamp": 1618255058149,
     "user": {
      "displayName": "Fábio Arbach Oliveira",
      "photoUrl": "https://lh3.googleusercontent.com/a-/AOh14GjQ1ID5GbBg4_uOUilbj0xN5Fy0zXZlC1dYnN-f=s64",
      "userId": "16129273721091616396"
     },
     "user_tz": 180
    },
    "id": "3TOqR3tAaKEO"
   },
   "outputs": [],
   "source": [
    "discard = set(discard).union(stop_words)"
   ]
  },
  {
   "cell_type": "code",
   "execution_count": 474,
   "metadata": {
    "executionInfo": {
     "elapsed": 1398,
     "status": "ok",
     "timestamp": 1618255059463,
     "user": {
      "displayName": "Fábio Arbach Oliveira",
      "photoUrl": "https://lh3.googleusercontent.com/a-/AOh14GjQ1ID5GbBg4_uOUilbj0xN5Fy0zXZlC1dYnN-f=s64",
      "userId": "16129273721091616396"
     },
     "user_tz": 180
    },
    "id": "1mC3ErQ00kb_"
   },
   "outputs": [],
   "source": [
    "tokens = tokenizer.texts_to_sequences(discard)\n",
    "tokens = [token[0] for token in tokens if len(token)==1]\n",
    "non_stop_words_indices = [index for index in np.arange(len(tokenizer.word_index)).tolist() if index not in tokens]"
   ]
  },
  {
   "cell_type": "code",
   "execution_count": 475,
   "metadata": {
    "colab": {
     "base_uri": "https://localhost:8080/"
    },
    "executionInfo": {
     "elapsed": 505,
     "status": "ok",
     "timestamp": 1618255059820,
     "user": {
      "displayName": "Fábio Arbach Oliveira",
      "photoUrl": "https://lh3.googleusercontent.com/a-/AOh14GjQ1ID5GbBg4_uOUilbj0xN5Fy0zXZlC1dYnN-f=s64",
      "userId": "16129273721091616396"
     },
     "user_tz": 180
    },
    "id": "j5e3rV8bqT6E",
    "outputId": "89426b63-3ff2-44ec-f466-7bc50f408e77"
   },
   "outputs": [
    {
     "data": {
      "text/plain": [
       "[\"§ 121 1 applicability this part prescribes rules governing a the domestic flag and supplemental operations of each person who holds or is required to hold an air carrier certificate or operating certificate under part 119 of this chapter b each person employed or used by a certificate holder conducting operations under this part including maintenance preventive maintenance and alteration of aircraft c each person who applies for provisional approval of an advanced qualification program curriculum curriculum segment or portion of a curriculum segment under sfar no 58 of 14 cfr part 121 and each person employed or used by an air carrier or commercial operator under this part to perform training qualification or evaluation functions under an advanced qualification program under sfar no 58 of 14 cfr part 121 d nonstop commercial air tours conducted for compensation or hire in accordance with § 119 1 e 2 of this chapter must comply with drug and alcohol requirements in §§ 121 455 121 457 121 458 and 121 459 and with the provisions of part 136 subpart a of this chapter by september 11 2007 an operator who does not hold an air carrier certificate or an operating certificate is permitted to use a person who is otherwise authorized to perform aircraft maintenance or preventive maintenance duties and who is not subject to anti drug and alcohol misuse prevention programs to perform 1 aircraft maintenance or preventive maintenance on the operator's aircraft if the operator would otherwise be required to transport the aircraft more than 50 nautical miles further than the repair point closest to the operator's principal base of operations to obtain these services or 2 emergency repairs on the operator's aircraft if the aircraft cannot be safely operated to a location where an employee subject to faa approved programs can perform the repairs e each person who is on board an aircraft being operated under this part f each person who is an applicant for an air carrier certificate or an operating certificate under part 119 of this chapter when conducting proving tests g this part also establishes requirements for operators to take actions to support the continued airworthiness of each airplane doc no 28154 60 fr 65925 dec 20 1995 as amended by amdt 121 328 72 fr 6912 feb 13 2007 amdt 121 336 72 fr 63411 nov 8 2007\"]"
      ]
     },
     "execution_count": 475,
     "metadata": {
      "tags": []
     },
     "output_type": "execute_result"
    }
   ],
   "source": [
    "sequence = tokenizer.texts_to_sequences([part121[0]])\n",
    "tokenizer.sequences_to_texts(sequence)"
   ]
  },
  {
   "cell_type": "code",
   "execution_count": 476,
   "metadata": {
    "executionInfo": {
     "elapsed": 1614,
     "status": "ok",
     "timestamp": 1618255062194,
     "user": {
      "displayName": "Fábio Arbach Oliveira",
      "photoUrl": "https://lh3.googleusercontent.com/a-/AOh14GjQ1ID5GbBg4_uOUilbj0xN5Fy0zXZlC1dYnN-f=s64",
      "userId": "16129273721091616396"
     },
     "user_tz": 180
    },
    "id": "-fBoSQXhzyFg"
   },
   "outputs": [],
   "source": [
    "matrix_part23 = tokenizer.texts_to_matrix(part23)[:, non_stop_words_indices]\n",
    "matrix_part25 = tokenizer.texts_to_matrix(part25)[:, non_stop_words_indices]\n",
    "matrix_part27 = tokenizer.texts_to_matrix(part27)[:, non_stop_words_indices]\n",
    "matrix_part29 = tokenizer.texts_to_matrix(part29)[:, non_stop_words_indices]\n",
    "matrix_part121 = tokenizer.texts_to_matrix(part121)[:, non_stop_words_indices]\n",
    "matrix_part125 = tokenizer.texts_to_matrix(part125)[:, non_stop_words_indices]\n",
    "matrix_part135 = tokenizer.texts_to_matrix(part135)[:, non_stop_words_indices]\n",
    "matrix_partCAT = tokenizer.texts_to_matrix(partCAT)[:, non_stop_words_indices]\n",
    "matrix_RBAC121 = tokenizer.texts_to_matrix(RBAC121_en)[:, non_stop_words_indices]"
   ]
  },
  {
   "cell_type": "code",
   "execution_count": 477,
   "metadata": {
    "colab": {
     "base_uri": "https://localhost:8080/"
    },
    "executionInfo": {
     "elapsed": 506,
     "status": "ok",
     "timestamp": 1618255062556,
     "user": {
      "displayName": "Fábio Arbach Oliveira",
      "photoUrl": "https://lh3.googleusercontent.com/a-/AOh14GjQ1ID5GbBg4_uOUilbj0xN5Fy0zXZlC1dYnN-f=s64",
      "userId": "16129273721091616396"
     },
     "user_tz": 180
    },
    "id": "pSJHK9Hwa1ML",
    "outputId": "1cb16899-9c7e-4a7d-f37f-a14b53af6e81"
   },
   "outputs": [
    {
     "data": {
      "text/plain": [
       "(68, 5553)"
      ]
     },
     "execution_count": 477,
     "metadata": {
      "tags": []
     },
     "output_type": "execute_result"
    }
   ],
   "source": [
    "matrix_part23.shape"
   ]
  },
  {
   "cell_type": "markdown",
   "metadata": {
    "id": "ee5nZqou_JgG"
   },
   "source": [
    "## Keyword identification: TF-IDF calculating function"
   ]
  },
  {
   "cell_type": "code",
   "execution_count": 75,
   "metadata": {
    "executionInfo": {
     "elapsed": 957,
     "status": "ok",
     "timestamp": 1618233685086,
     "user": {
      "displayName": "Fábio Arbach Oliveira",
      "photoUrl": "https://lh3.googleusercontent.com/a-/AOh14GjQ1ID5GbBg4_uOUilbj0xN5Fy0zXZlC1dYnN-f=s64",
      "userId": "16129273721091616396"
     },
     "user_tz": 180
    },
    "id": "m2KejHAtNBD5"
   },
   "outputs": [],
   "source": [
    "def sorted_keywords(excerpt, tokenizer):\n",
    "    tk = tf.keras.preprocessing.text.Tokenizer()\n",
    "    tk.fit_on_texts([excerpt])\n",
    "    tokens, tf_idf = [], []\n",
    "    for token, freq in tk.word_counts.items():\n",
    "        dict_freq = tokenizer.word_counts[token]\n",
    "        tokens.append(token)\n",
    "        tf_idf.append(freq / np.log(1+dict_freq))\n",
    "    sorting_indices = (np.array(tf_idf) * (-1)).argsort().tolist()\n",
    "    return OrderedDict(zip(np.array(tokens)[sorting_indices], np.array(tf_idf)[sorting_indices]))\n"
   ]
  },
  {
   "cell_type": "code",
   "execution_count": 76,
   "metadata": {
    "colab": {
     "base_uri": "https://localhost:8080/"
    },
    "executionInfo": {
     "elapsed": 1059,
     "status": "ok",
     "timestamp": 1618233686907,
     "user": {
      "displayName": "Fábio Arbach Oliveira",
      "photoUrl": "https://lh3.googleusercontent.com/a-/AOh14GjQ1ID5GbBg4_uOUilbj0xN5Fy0zXZlC1dYnN-f=s64",
      "userId": "16129273721091616396"
     },
     "user_tz": 180
    },
    "id": "wXCtJuJXNv6n",
    "outputId": "32638eb0-5db4-47e1-9044-a638e98f8663"
   },
   "outputs": [
    {
     "data": {
      "text/plain": [
       "OrderedDict([('an', 1.4587823899517773),\n",
       "             ('458', 1.4426950408889634),\n",
       "             ('or', 1.4382187541780396),\n",
       "             ('to', 1.4064990440012044),\n",
       "             ('part', 1.367137572075293),\n",
       "             ('of', 1.3166842267432821),\n",
       "             ('121', 1.168511825164439),\n",
       "             ('who', 1.1635334340818608),\n",
       "             ('aircraft', 1.100576132205754),\n",
       "             ('this', 1.0611507280365777),\n",
       "             ('under', 1.0581169179238312),\n",
       "             ('the', 1.0536919536832248),\n",
       "             ('person', 0.9899976146449193),\n",
       "             ('carrier', 0.9479778873476555),\n",
       "             ('maintenance', 0.941172806314155),\n",
       "             ('misuse', 0.9102392266268373),\n",
       "             ('328', 0.9102392266268373),\n",
       "             ('455', 0.9102392266268373),\n",
       "             ('65925', 0.9102392266268373),\n",
       "             ('tours', 0.9102392266268373),\n",
       "             ('certificate', 0.9002896023506152),\n",
       "             ('drug', 0.8685889638065035),\n",
       "             (\"operator's\", 0.8656170245333781),\n",
       "             ('each', 0.8441058464933122),\n",
       "             ('and', 0.8392345216963537),\n",
       "             ('air', 0.779014601055974),\n",
       "             ('alcohol', 0.7578463633799024),\n",
       "             ('perform', 0.7361436594260009),\n",
       "             ('119', 0.7268966115740433),\n",
       "             ('459', 0.7213475204444817),\n",
       "             ('governing', 0.7213475204444817),\n",
       "             ('advanced', 0.7059122477295223),\n",
       "             ('is', 0.7050222286366792),\n",
       "             ('curriculum', 0.6472870382753347),\n",
       "             ('a', 0.6393719054586178),\n",
       "             ('chapter', 0.6319393950703246),\n",
       "             ('nonstop', 0.6213349345596119),\n",
       "             ('457', 0.6213349345596119),\n",
       "             ('63411', 0.6213349345596119),\n",
       "             ('2007', 0.6213349345596118),\n",
       "             ('58', 0.6138553528602697),\n",
       "             ('preventive', 0.6125149295471174),\n",
       "             ('sfar', 0.6002032570008262),\n",
       "             ('qualification', 0.599526816751718),\n",
       "             ('closest', 0.5581106265512472),\n",
       "             ('6912', 0.5581106265512472),\n",
       "             ('hold', 0.535092772838108),\n",
       "             ('operator', 0.5344613454636503),\n",
       "             ('programs', 0.5253946220277261),\n",
       "             ('repairs', 0.5223785131284484),\n",
       "             ('employed', 0.5166355336146575),\n",
       "             ('136', 0.48089834696298783),\n",
       "             ('by', 0.4711181903762486),\n",
       "             ('segment', 0.4661505434170185),\n",
       "             ('commercial', 0.46467698714823474),\n",
       "             ('compensation', 0.45511961331341866),\n",
       "             ('for', 0.44663618027650076),\n",
       "             ('336', 0.43429448190325176),\n",
       "             ('cfr', 0.4306269742216893),\n",
       "             ('operating', 0.42690561152576),\n",
       "             ('operations', 0.41097031181460036),\n",
       "             ('otherwise', 0.40076686043182796),\n",
       "             ('14', 0.40076686043182796),\n",
       "             ('nautical', 0.3898712452512801),\n",
       "             ('subject', 0.38897916559915724),\n",
       "             ('no', 0.38752011670575287),\n",
       "             ('on', 0.3839860994044871),\n",
       "             ('fr', 0.37587430328861177),\n",
       "             ('conducting', 0.37143687136450443),\n",
       "             ('72', 0.3695733203605263),\n",
       "             ('1', 0.36406065468361587),\n",
       "             ('with', 0.3556103445327235),\n",
       "             ('provisional', 0.35295612386476116),\n",
       "             ('operated', 0.33994397517860664),\n",
       "             ('employee', 0.3396232718951086),\n",
       "             ('hire', 0.33380820069533407),\n",
       "             ('proving', 0.32351545314867247),\n",
       "             ('program', 0.3227657602896604),\n",
       "             ('prevention', 0.31465798044412485),\n",
       "             ('operators', 0.31465798044412485),\n",
       "             ('e', 0.2977163062631946),\n",
       "             ('establishes', 0.28853900817779266),\n",
       "             ('used', 0.288417282635098),\n",
       "             ('actions', 0.28126641406272834),\n",
       "             ('repair', 0.2769378934088574),\n",
       "             ('alteration', 0.2749075777424936),\n",
       "             ('further', 0.2749075777424936),\n",
       "             ('requirements', 0.27325381573564095),\n",
       "             ('28154', 0.2710850306818168),\n",
       "             ('than', 0.2682447797661746),\n",
       "             ('prescribes', 0.265872585674852),\n",
       "             ('if', 0.2649328503363025),\n",
       "             ('amdt', 0.2634399933915282),\n",
       "             ('required', 0.2623923101105315),\n",
       "             ('support', 0.25562221863533147),\n",
       "             ('not', 0.25528463761726744),\n",
       "             ('portion', 0.25433477814404226),\n",
       "             ('anti', 0.24954251462921184),\n",
       "             ('2', 0.24841566055615982),\n",
       "             ('obtain', 0.2473379469500514),\n",
       "             ('§', 0.24596504944561537),\n",
       "             ('holds', 0.2442393366759723),\n",
       "             ('principal', 0.2422988705246811),\n",
       "             ('september', 0.24044917348149392),\n",
       "             ('permitted', 0.23955611574701857),\n",
       "             ('base', 0.23782951347935782),\n",
       "             ('miles', 0.23617733727628992),\n",
       "             ('services', 0.23307527170850925),\n",
       "             ('applies', 0.22630370469475658),\n",
       "             ('applicability', 0.22569202144874392),\n",
       "             ('be', 0.2238096130515756),\n",
       "             ('13', 0.21667906533553166),\n",
       "             ('in', 0.21545977840186026),\n",
       "             ('domestic', 0.21075117050092493),\n",
       "             ('flag', 0.2071116448532039),\n",
       "             ('safely', 0.2064329849677758),\n",
       "             ('1995', 0.20609929155556622),\n",
       "             ('rules', 0.20576925955053368),\n",
       "             ('evaluation', 0.20093500109845577),\n",
       "             ('also', 0.20038343021591398),\n",
       "             ('supplemental', 0.19538905998164785),\n",
       "             ('cannot', 0.19493562262564004),\n",
       "             ('continued', 0.19361886534096467),\n",
       "             ('feb', 0.1923632915409209),\n",
       "             ('board', 0.1913602136571693),\n",
       "             ('duties', 0.1894615908449756),\n",
       "             ('applicant', 0.18668606248878736),\n",
       "             ('11', 0.18587715234788066),\n",
       "             ('functions', 0.18571843568225221),\n",
       "             ('location', 0.18478666018026316),\n",
       "             ('airworthiness', 0.18359614788881806),\n",
       "             ('50', 0.18164210338163472),\n",
       "             ('approval', 0.18085049725270286),\n",
       "             ('transport', 0.18008414876913165),\n",
       "             ('§§', 0.17838660519470398),\n",
       "             ('being', 0.17780883485868182),\n",
       "             ('conducted', 0.17746891550973914),\n",
       "             ('these', 0.17735670397587186),\n",
       "             ('nov', 0.1762635324848257),\n",
       "             ('would', 0.17451703074550312),\n",
       "             ('subpart', 0.17432012500555907),\n",
       "             ('comply', 0.17402795669430518),\n",
       "             ('provisions', 0.17402795669430518),\n",
       "             ('authorized', 0.17345478791101224),\n",
       "             ('does', 0.1728041701966084),\n",
       "             ('60', 0.1721720845735255),\n",
       "             ('take', 0.16941591041091392),\n",
       "             ('g', 0.16857024084505),\n",
       "             ('tests', 0.16812275008788274),\n",
       "             ('faa', 0.1680490789293225),\n",
       "             ('8', 0.16768453010859793),\n",
       "             ('point', 0.16362682551476665),\n",
       "             ('where', 0.16101503680769536),\n",
       "             ('f', 0.15798484876758115),\n",
       "             ('20', 0.15703055999097984),\n",
       "             ('dec', 0.15548880741175677),\n",
       "             ('can', 0.15483859100085687),\n",
       "             ('accordance', 0.15388682377858431),\n",
       "             ('including', 0.15248091473715275),\n",
       "             ('amended', 0.15013718447784033),\n",
       "             ('doc', 0.1485133393288556),\n",
       "             ('use', 0.14766826880649744),\n",
       "             ('more', 0.14560333810998122),\n",
       "             ('emergency', 0.14171983542603983),\n",
       "             ('when', 0.14163350291993998),\n",
       "             ('approved', 0.14058484769704171),\n",
       "             ('training', 0.1394079561650402),\n",
       "             ('d', 0.13939305965104926),\n",
       "             ('holder', 0.13525827326613526),\n",
       "             ('c', 0.12914441038944294),\n",
       "             ('airplane', 0.12623236857070017),\n",
       "             ('b', 0.12579495460746581),\n",
       "             ('as', 0.12275331778768661),\n",
       "             ('must', 0.11382142117114141)])"
      ]
     },
     "execution_count": 76,
     "metadata": {
      "tags": []
     },
     "output_type": "execute_result"
    }
   ],
   "source": [
    "sorted_keywords(part121[0], tokenizer)"
   ]
  },
  {
   "cell_type": "markdown",
   "metadata": {
    "id": "0OvXUXmDQcLc"
   },
   "source": [
    "## Clean text according to part-of-speech (POS)"
   ]
  },
  {
   "cell_type": "code",
   "execution_count": 238,
   "metadata": {
    "executionInfo": {
     "elapsed": 1047,
     "status": "ok",
     "timestamp": 1618238615268,
     "user": {
      "displayName": "Fábio Arbach Oliveira",
      "photoUrl": "https://lh3.googleusercontent.com/a-/AOh14GjQ1ID5GbBg4_uOUilbj0xN5Fy0zXZlC1dYnN-f=s64",
      "userId": "16129273721091616396"
     },
     "user_tz": 180
    },
    "id": "QHo6tfsmhoe9"
   },
   "outputs": [],
   "source": [
    "def relevant_words(excerpt):\n",
    "    tokens = re.findall('[a-zA-Z]{3,}', excerpt)\n",
    "    words, allowed_pos = [], ['NN','NNS','NNP','NNPS','JJ','RB','VB','VBG','VBN','VBP','VBZ','VBD']\n",
    "    for item in nltk.pos_tag(tokens):\n",
    "        if item[0] not in words and item[1] in allowed_pos:\n",
    "            words.append(item[0])\n",
    "    return words"
   ]
  },
  {
   "cell_type": "code",
   "execution_count": 242,
   "metadata": {
    "colab": {
     "base_uri": "https://localhost:8080/"
    },
    "executionInfo": {
     "elapsed": 601,
     "status": "ok",
     "timestamp": 1618238667421,
     "user": {
      "displayName": "Fábio Arbach Oliveira",
      "photoUrl": "https://lh3.googleusercontent.com/a-/AOh14GjQ1ID5GbBg4_uOUilbj0xN5Fy0zXZlC1dYnN-f=s64",
      "userId": "16129273721091616396"
     },
     "user_tz": 180
    },
    "id": "wrcUECIVQck2",
    "outputId": "8ebd12b7-9825-4fd6-daf7-2e33f8994c79"
   },
   "outputs": [
    {
     "name": "stdout",
     "output_type": "stream",
     "text": [
      "['Applicability', 'part', 'prescribes', 'rules', 'governing', 'domestic', 'flag', 'supplemental', 'operations', 'person', 'holds', 'required', 'hold', 'Air', 'Carrier', 'Certificate', 'Operating', 'chapter', 'employed', 'used', 'certificate', 'holder', 'conducting', 'including', 'maintenance', 'preventive', 'alteration', 'aircraft', 'applies', 'provisional', 'approval', 'Advanced', 'Qualification', 'Program', 'curriculum', 'segment', 'portion', 'SFAR', 'CFR', 'air', 'carrier', 'commercial', 'operator', 'perform', 'training', 'qualification', 'evaluation', 'functions', 'Nonstop', 'Commercial', 'Tours', 'conducted', 'compensation', 'hire', 'accordance', 'comply', 'drug', 'alcohol', 'requirements', 'provisions', 'subpart', 'September', 'does', 'not', 'operating', 'permitted', 'otherwise', 'authorized', 'duties', 'subject', 'anti', 'misuse', 'prevention', 'programs', 'Aircraft', 'transport', 'nautical', 'miles', 'further', 'repair', 'point', 'closest', 'principal', 'base', 'obtain', 'services', 'Emergency', 'repairs', 'cannot', 'safely', 'operated', 'location', 'employee', 'FAA', 'approved', 'board', 'being', 'applicant', 'proving', 'tests', 'also', 'establishes', 'operators', 'take', 'actions', 'support', 'continued', 'airworthiness', 'airplane', 'Doc', 'Dec', 'amended', 'Amdt', 'Feb', 'Nov']\n",
      "['Compliance', 'schedule', 'operators', 'transition', 'part', 'certain', 'new', 'entrant', 'Applicability', 'section', 'applies', 'following', 'certificate', 'holder', 'was', 'issued', 'air', 'carrier', 'operating', 'operations', 'specifications', 'requirements', 'chapter', 'SFAR', 'CFR', 'January', 'conducts', 'scheduled', 'passenger', 'carrying', 'Nontransport', 'category', 'turbopropeller', 'powered', 'airplanes', 'type', 'certificated', 'December', 'have', 'seat', 'configuration', 'seats', 'Transport', 'iii', 'Turbojet', 'engine', 'having', 'person', 'obtains', 'initial', 'conduct', 'kinds', 'described', 'paragraphs', 'paragraph', 'Obtaining', 'not', 'March', 'operate', 'airplane', 'Regular', 'accelerated', 'compliance', 'provided', 'comply', 'applicable', 'requirement', 'date', 'occurs', 'first', 'Except', 'Delayed', 'dates', 'specifies', 'covered', 'listed', 'meets', 'Section', 'Landing', 'gear', 'aural', 'warning', 'Lavatory', 'fire', 'protection', 'Emergency', 'exit', 'handle', 'illumination', 'Protective', 'breathing', 'equipment', 'flotation', 'means', 'Pitot', 'heat', 'indication', 'system', 'Airplane', 'Performance', 'Operating', 'Limitations', 'Ditching', 'approval', 'Third', 'attitude', 'indicator', 'Passenger', 'cushion', 'flammability', 'Interior', 'emergency', 'locating', 'sign', 'third', 'Newly', 'manufactured', 'nontransport', 'Manufactured', 'Safety', 'belts', 'shoulder', 'harnesses', 'Fasten', 'belt', 'light', 'Takeoff', 'transport', 'New', 'certification', 'application', 'filed', 'Transition', 'plan', 'submit', 'FAA', 'containing', 'calendar', 'events', 'moving', 'conducting', 'commuter', 'domestic', 'flag', 'contain', 'details', 'Plans', 'obtaining', 'authorizing', 'being', 'complying', 'schedules', 'contained', 'Continuing', 'specific', 'Any', 'training', 'qualification', 'obtained', 'crewmember', 'entitled', 'credit', 'purpose', 'meeting', 'determined', 'Administrator', 'Records', 'kept', 'annotated', 'reflect', 'credited', 'Doc', 'Dec', 'amended', 'Amdt', 'Jan', 'June', 'Mar', 'July']\n",
      "['Applicability', 'rules', 'unauthorized', 'operators', 'part', 'refer', 'person', 'certificated', 'chapter', 'apply', 'also', 'engages', 'operation', 'governed', 'appropriate', 'certificate', 'operations', 'specifications', 'required', 'Doc', 'Oct', 'amended', 'Amdt', 'Dec']\n"
     ]
    }
   ],
   "source": [
    "print(relevant_words(part121[0]))\n",
    "print(relevant_words(part121[1]))\n",
    "print(relevant_words(part121[2]))"
   ]
  },
  {
   "cell_type": "code",
   "execution_count": 305,
   "metadata": {
    "colab": {
     "base_uri": "https://localhost:8080/"
    },
    "executionInfo": {
     "elapsed": 585,
     "status": "ok",
     "timestamp": 1618241397516,
     "user": {
      "displayName": "Fábio Arbach Oliveira",
      "photoUrl": "https://lh3.googleusercontent.com/a-/AOh14GjQ1ID5GbBg4_uOUilbj0xN5Fy0zXZlC1dYnN-f=s64",
      "userId": "16129273721091616396"
     },
     "user_tz": 180
    },
    "id": "OngH6Dbes-T2",
    "outputId": "693abe1e-31b7-46f5-830d-5e404ae0eb97"
   },
   "outputs": [
    {
     "name": "stdout",
     "output_type": "stream",
     "text": [
      "['Applicability', 'part', 'prescribes', 'rules', 'governing', 'domestic', 'flag', 'supplemental', 'operations', 'person', 'holds', 'required', 'hold', 'Air', 'Carrier', 'Certificate', 'Operating', 'chapter', 'employed', 'used', 'certificate', 'holder', 'conducting', 'including', 'maintenance', 'preventive', 'alteration', 'aircraft', 'applies', 'provisional', 'approval', 'Advanced', 'Qualification', 'Program', 'curriculum', 'segment', 'portion', 'SFAR', 'CFR', 'air', 'carrier', 'commercial', 'operator', 'perform', 'training', 'qualification', 'evaluation', 'functions', 'Nonstop', 'Commercial', 'Tours', 'conducted', 'compensation', 'hire', 'accordance', 'comply', 'drug', 'alcohol', 'requirements', 'provisions', 'subpart', 'September', 'does', 'not', 'operating', 'permitted', 'otherwise', 'authorized', 'duties', 'subject', 'anti', 'misuse', 'prevention', 'programs', 'Aircraft', 'transport', 'nautical', 'miles', 'further', 'repair', 'point', 'closest', 'principal', 'base', 'obtain', 'services', 'Emergency', 'repairs', 'cannot', 'safely', 'operated', 'location', 'employee', 'FAA', 'approved', 'board', 'being', 'applicant', 'proving', 'tests', 'also', 'establishes', 'operators', 'take', 'actions', 'support', 'continued', 'airworthiness', 'airplane', 'Doc', 'Dec', 'amended', 'Amdt', 'Feb', 'Nov']\n",
      "['Applicability', 'according', 'RBAC', 'uses', 'airplanes', 'maximum', 'certified', 'seating', 'configuration', 'passengers', 'seats', 'payload', 'capacity', 'Essay', 'given', 'Resolution', 'regulation', 'including', 'maintenance', 'preventive', 'modifications', 'repairs', 'aircraft', 'Advanced', 'Qualification', 'curriculum', 'segment', 'person', 'employed', 'airline', 'perform', 'training', 'qualification', 'assessments', 'Program', 'operational', 'evaluation', 'Wording', 'continued', 'airworthiness']\n"
     ]
    }
   ],
   "source": [
    "print(relevant_words(part121[0]))\n",
    "print(relevant_words(RBAC121_en[0]))"
   ]
  },
  {
   "cell_type": "markdown",
   "metadata": {
    "id": "x8PbGriwtJYh"
   },
   "source": [
    "## SELECT IMPORTANT KEYWORDS BASED ON CLEAN TOKENS"
   ]
  },
  {
   "cell_type": "markdown",
   "metadata": {
    "id": "-3DcGSLllzqN"
   },
   "source": [
    "## Custom distance metrics"
   ]
  },
  {
   "cell_type": "markdown",
   "metadata": {
    "id": "NRlV5zrVoJ2F"
   },
   "source": [
    "### Jaccard"
   ]
  },
  {
   "cell_type": "code",
   "execution_count": 269,
   "metadata": {
    "executionInfo": {
     "elapsed": 679,
     "status": "ok",
     "timestamp": 1618240055980,
     "user": {
      "displayName": "Fábio Arbach Oliveira",
      "photoUrl": "https://lh3.googleusercontent.com/a-/AOh14GjQ1ID5GbBg4_uOUilbj0xN5Fy0zXZlC1dYnN-f=s64",
      "userId": "16129273721091616396"
     },
     "user_tz": 180
    },
    "id": "0fCDRQNRl2Ln"
   },
   "outputs": [],
   "source": [
    "def jaccard(string1, string2):\n",
    "    set1 = set(relevant_words(string1))\n",
    "    set2 = set(relevant_words(string2))\n",
    "    intersection = set1.intersection(set2)\n",
    "    union = set1.union(set2)\n",
    "    return len(intersection) / len(union)"
   ]
  },
  {
   "cell_type": "code",
   "execution_count": 271,
   "metadata": {
    "colab": {
     "base_uri": "https://localhost:8080/"
    },
    "executionInfo": {
     "elapsed": 1703,
     "status": "ok",
     "timestamp": 1618240089608,
     "user": {
      "displayName": "Fábio Arbach Oliveira",
      "photoUrl": "https://lh3.googleusercontent.com/a-/AOh14GjQ1ID5GbBg4_uOUilbj0xN5Fy0zXZlC1dYnN-f=s64",
      "userId": "16129273721091616396"
     },
     "user_tz": 180
    },
    "id": "sozVzj93l2G7",
    "outputId": "449fb756-0de7-40c5-d2f4-4c0df13f6c54"
   },
   "outputs": [
    {
     "data": {
      "text/plain": [
       "0.13970588235294118"
      ]
     },
     "execution_count": 271,
     "metadata": {
      "tags": []
     },
     "output_type": "execute_result"
    }
   ],
   "source": [
    "jaccard(part121[0], RBAC121_en[0])"
   ]
  },
  {
   "cell_type": "markdown",
   "metadata": {
    "id": "cjCSyCQ7oNGw"
   },
   "source": [
    "### Modified Jaccard"
   ]
  },
  {
   "cell_type": "code",
   "execution_count": 494,
   "metadata": {
    "executionInfo": {
     "elapsed": 568,
     "status": "ok",
     "timestamp": 1618255576040,
     "user": {
      "displayName": "Fábio Arbach Oliveira",
      "photoUrl": "https://lh3.googleusercontent.com/a-/AOh14GjQ1ID5GbBg4_uOUilbj0xN5Fy0zXZlC1dYnN-f=s64",
      "userId": "16129273721091616396"
     },
     "user_tz": 180
    },
    "id": "vQfMMjdnVpv2"
   },
   "outputs": [],
   "source": [
    "def jaccard_mod(string1, string2, max_words = 1000):\n",
    "    cutoff = .5\n",
    "    tokens1 = tokenizer.texts_to_sequences(relevant_words(string1)[:max_words])\n",
    "    tokens2 = tokenizer.texts_to_sequences(relevant_words(string2)[:max_words])\n",
    "\n",
    "    if len(tokens1) < 2 or len(tokens2) < 2:\n",
    "        return 0\n",
    "    else:\n",
    "        embedding1 = embedding_layer(np.array(tokens1)).numpy().squeeze()\n",
    "        norms1 = norm(embedding1, axis=1)\n",
    "        embedding1 = embedding1[norms1 != 0]\n",
    "        norms1 = norms1[norms1 != 0].reshape([-1,1])\n",
    "\n",
    "        embedding2 = embedding_layer(np.array(tokens2)).numpy().squeeze()\n",
    "        norms2 = norm(embedding2, axis=1)\n",
    "        embedding2 = embedding2[norms2 != 0]\n",
    "        norms2 = norms2[norms2 != 0].reshape([-1,1])\n",
    "\n",
    "        cosine_similarity = np.matmul(embedding1, embedding2.T) / norms1 / norms2.T\n",
    "        tril = np.ones_like(cosine_similarity) * (np.tril(cosine_similarity) != 0).astype(int)\n",
    "\n",
    "        intersection = np.sum((cosine_similarity * cosine_similarity) > cutoff)\n",
    "        union = cosine_similarity.shape[0] + cosine_similarity.shape[1] - intersection\n",
    "\n",
    "        return intersection/union"
   ]
  },
  {
   "cell_type": "code",
   "execution_count": 498,
   "metadata": {
    "colab": {
     "base_uri": "https://localhost:8080/"
    },
    "executionInfo": {
     "elapsed": 533,
     "status": "ok",
     "timestamp": 1618255636690,
     "user": {
      "displayName": "Fábio Arbach Oliveira",
      "photoUrl": "https://lh3.googleusercontent.com/a-/AOh14GjQ1ID5GbBg4_uOUilbj0xN5Fy0zXZlC1dYnN-f=s64",
      "userId": "16129273721091616396"
     },
     "user_tz": 180
    },
    "id": "fhDQfGYEWWO0",
    "outputId": "e374a1fd-93f6-4983-f754-c867431a9a2c"
   },
   "outputs": [
    {
     "data": {
      "text/plain": [
       "0.041237113402061855"
      ]
     },
     "execution_count": 498,
     "metadata": {
      "tags": []
     },
     "output_type": "execute_result"
    }
   ],
   "source": [
    "jaccard_mod(part121[18], RBAC121_en[0], max_words = 1000)"
   ]
  },
  {
   "cell_type": "code",
   "execution_count": 497,
   "metadata": {
    "colab": {
     "base_uri": "https://localhost:8080/",
     "height": 265
    },
    "executionInfo": {
     "elapsed": 8353,
     "status": "ok",
     "timestamp": 1618255620479,
     "user": {
      "displayName": "Fábio Arbach Oliveira",
      "photoUrl": "https://lh3.googleusercontent.com/a-/AOh14GjQ1ID5GbBg4_uOUilbj0xN5Fy0zXZlC1dYnN-f=s64",
      "userId": "16129273721091616396"
     },
     "user_tz": 180
    },
    "id": "SS5mLhCOVnjh",
    "outputId": "16323cb5-7c2e-4063-b5c7-ed92dc6ffe06"
   },
   "outputs": [
    {
     "data": {
      "image/png": "[encoded data removed]",
      "text/plain": [
       "<Figure size 432x288 with 1 Axes>"
      ]
     },
     "metadata": {
      "needs_background": "light",
      "tags": []
     },
     "output_type": "display_data"
    }
   ],
   "source": [
    "excerpt1 = RBAC121_en[0]\n",
    "excerpt2 = part121[0]\n",
    "\n",
    "jac = np.zeros(200)\n",
    "\n",
    "for i in range(3,200):\n",
    "    jac[i] = jaccard_mod(excerpt1, excerpt2, i)\n",
    "\n",
    "plt.plot(jac)\n",
    "plt.show()"
   ]
  },
  {
   "cell_type": "markdown",
   "metadata": {
    "id": "4nCyOEees77E"
   },
   "source": [
    "# Pre-trained embedding"
   ]
  },
  {
   "cell_type": "markdown",
   "metadata": {
    "id": "qwThDGtstEPk"
   },
   "source": [
    "## Download GloVe pre-trained embeddings"
   ]
  },
  {
   "cell_type": "code",
   "execution_count": 274,
   "metadata": {
    "executionInfo": {
     "elapsed": 75597,
     "status": "ok",
     "timestamp": 1618240454993,
     "user": {
      "displayName": "Fábio Arbach Oliveira",
      "photoUrl": "https://lh3.googleusercontent.com/a-/AOh14GjQ1ID5GbBg4_uOUilbj0xN5Fy0zXZlC1dYnN-f=s64",
      "userId": "16129273721091616396"
     },
     "user_tz": 180
    },
    "id": "DQ5fmkQSs-KI"
   },
   "outputs": [],
   "source": [
    "URL = 'http://nlp.stanford.edu/data/glove.6B.zip'\n",
    "\n",
    "if 'GloVe' not in listdir():\n",
    "    mkdir('GloVe')\n",
    "    \n",
    "current_directory = getcwd()\n",
    "chdir(join(current_directory, 'GloVe'))\n",
    "\n",
    "r = requests.get(URL)\n",
    "with open('glove.6B.zip', 'wb') as file:\n",
    "    file.write(r.content)\n",
    "\n",
    "chdir(current_directory)"
   ]
  },
  {
   "cell_type": "markdown",
   "metadata": {
    "id": "lQyKmtaJt2Fq"
   },
   "source": [
    "## Unzip embeddings"
   ]
  },
  {
   "cell_type": "code",
   "execution_count": 275,
   "metadata": {
    "executionInfo": {
     "elapsed": 33495,
     "status": "ok",
     "timestamp": 1618240488482,
     "user": {
      "displayName": "Fábio Arbach Oliveira",
      "photoUrl": "https://lh3.googleusercontent.com/a-/AOh14GjQ1ID5GbBg4_uOUilbj0xN5Fy0zXZlC1dYnN-f=s64",
      "userId": "16129273721091616396"
     },
     "user_tz": 180
    },
    "id": "-eZqDpfktZEZ"
   },
   "outputs": [],
   "source": [
    "chdir(join(home_directory, 'GloVe'))\n",
    "\n",
    "zip = zipfile.ZipFile('glove.6B.zip')\n",
    "zip.extractall()\n",
    "\n",
    "chdir(home_directory)"
   ]
  },
  {
   "cell_type": "markdown",
   "metadata": {
    "id": "9JEDn7YVt9ja"
   },
   "source": [
    "## Prepare dictionary with embedding vectors"
   ]
  },
  {
   "cell_type": "code",
   "execution_count": 478,
   "metadata": {
    "executionInfo": {
     "elapsed": 78835,
     "status": "ok",
     "timestamp": 1618255159163,
     "user": {
      "displayName": "Fábio Arbach Oliveira",
      "photoUrl": "https://lh3.googleusercontent.com/a-/AOh14GjQ1ID5GbBg4_uOUilbj0xN5Fy0zXZlC1dYnN-f=s64",
      "userId": "16129273721091616396"
     },
     "user_tz": 180
    },
    "id": "Ro-EfQc3t82l"
   },
   "outputs": [],
   "source": [
    "embedding_dict = {}\n",
    "\n",
    "with open(join(getcwd(), 'GloVe', 'glove.6B.300d.txt'), encoding='UTF-8') as file:\n",
    "    for line in file:\n",
    "        token, vector = line.split(maxsplit=1)\n",
    "        embedding_dict[token] = np.array(vector.replace('\\n','').split(' ')).astype('float')\n",
    "\n",
    "#tokens = list(embedding_dict.keys())\n",
    "#embedding_matrix = np.array(list(embedding_dict.values()))"
   ]
  },
  {
   "cell_type": "markdown",
   "metadata": {
    "id": "014H0a96ouJT"
   },
   "source": [
    "## Create embedding layer"
   ]
  },
  {
   "cell_type": "code",
   "execution_count": 479,
   "metadata": {
    "executionInfo": {
     "elapsed": 75759,
     "status": "ok",
     "timestamp": 1618255159166,
     "user": {
      "displayName": "Fábio Arbach Oliveira",
      "photoUrl": "https://lh3.googleusercontent.com/a-/AOh14GjQ1ID5GbBg4_uOUilbj0xN5Fy0zXZlC1dYnN-f=s64",
      "userId": "16129273721091616396"
     },
     "user_tz": 180
    },
    "id": "cLyL4O3VymM3"
   },
   "outputs": [],
   "source": [
    "dict_size = len(tokenizer.word_index)\n",
    "embedding_dim = 300\n",
    "embedding_vectors = [np.zeros(embedding_dim)]\n",
    "\n",
    "for word, index in tokenizer.word_index.items():\n",
    "    embedding = embedding_dict.get(word)\n",
    "    if embedding is None:\n",
    "        embedding_vectors.append(np.zeros(embedding_dim))\n",
    "    else:\n",
    "        embedding_vectors.append(embedding)\n",
    "\n",
    "embedding_matrix = np.array(embedding_vectors)"
   ]
  },
  {
   "cell_type": "code",
   "execution_count": 480,
   "metadata": {
    "executionInfo": {
     "elapsed": 74378,
     "status": "ok",
     "timestamp": 1618255159167,
     "user": {
      "displayName": "Fábio Arbach Oliveira",
      "photoUrl": "https://lh3.googleusercontent.com/a-/AOh14GjQ1ID5GbBg4_uOUilbj0xN5Fy0zXZlC1dYnN-f=s64",
      "userId": "16129273721091616396"
     },
     "user_tz": 180
    },
    "id": "lw6YTfvkymJr"
   },
   "outputs": [],
   "source": [
    "embedding_layer = tf.keras.layers.Embedding(input_dim = dict_size + 1, \n",
    "                                            output_dim = embedding_dim, \n",
    "                                            embeddings_initializer = tf.keras.initializers.Constant(embedding_matrix),\n",
    "                                            trainable=False)"
   ]
  },
  {
   "cell_type": "markdown",
   "metadata": {
    "id": "dty2TtcTsLlP"
   },
   "source": [
    "# Embedding - Part 121 vs Part CAT"
   ]
  },
  {
   "cell_type": "markdown",
   "metadata": {
    "id": "Vw-8-zi6-ARW"
   },
   "source": [
    "## Calculate embedding matrices for part 121 and part CAT"
   ]
  },
  {
   "cell_type": "code",
   "execution_count": 403,
   "metadata": {
    "executionInfo": {
     "elapsed": 548,
     "status": "ok",
     "timestamp": 1618251934522,
     "user": {
      "displayName": "Fábio Arbach Oliveira",
      "photoUrl": "https://lh3.googleusercontent.com/a-/AOh14GjQ1ID5GbBg4_uOUilbj0xN5Fy0zXZlC1dYnN-f=s64",
      "userId": "16129273721091616396"
     },
     "user_tz": 180
    },
    "id": "pWTCrbPZ6b0p"
   },
   "outputs": [],
   "source": [
    "def make_embedding_matrix(regulation):\n",
    "    sequences = tokenizer.texts_to_sequences(regulation)\n",
    "    padded_sequences = tf.keras.preprocessing.sequence.pad_sequences(sequences)\n",
    "    sentence_embeddings = embedding_layer(padded_sequences)\n",
    "    embedding_matrix = tf.reduce_mean(sentence_embeddings, axis=1).numpy()\n",
    "    return embedding_matrix"
   ]
  },
  {
   "cell_type": "code",
   "execution_count": 404,
   "metadata": {
    "executionInfo": {
     "elapsed": 3088,
     "status": "ok",
     "timestamp": 1618251937531,
     "user": {
      "displayName": "Fábio Arbach Oliveira",
      "photoUrl": "https://lh3.googleusercontent.com/a-/AOh14GjQ1ID5GbBg4_uOUilbj0xN5Fy0zXZlC1dYnN-f=s64",
      "userId": "16129273721091616396"
     },
     "user_tz": 180
    },
    "id": "4dIWRHxE4woi"
   },
   "outputs": [],
   "source": [
    "embedding_matrix_part121 = make_embedding_matrix(part121)\n",
    "embedding_matrix_partCAT = make_embedding_matrix(partCAT[:216]) # WTF?! partCAT[:217] -> ERROR"
   ]
  },
  {
   "cell_type": "code",
   "execution_count": 405,
   "metadata": {
    "colab": {
     "base_uri": "https://localhost:8080/"
    },
    "executionInfo": {
     "elapsed": 2630,
     "status": "ok",
     "timestamp": 1618251937534,
     "user": {
      "displayName": "Fábio Arbach Oliveira",
      "photoUrl": "https://lh3.googleusercontent.com/a-/AOh14GjQ1ID5GbBg4_uOUilbj0xN5Fy0zXZlC1dYnN-f=s64",
      "userId": "16129273721091616396"
     },
     "user_tz": 180
    },
    "id": "x1nZhRHF4wjW",
    "outputId": "9d26ac4e-884e-40d1-fb0b-9546f0cdc6bf"
   },
   "outputs": [
    {
     "data": {
      "text/plain": [
       "((390, 300), (216, 300))"
      ]
     },
     "execution_count": 405,
     "metadata": {
      "tags": []
     },
     "output_type": "execute_result"
    }
   ],
   "source": [
    "embedding_matrix_part121.shape, embedding_matrix_partCAT.shape"
   ]
  },
  {
   "cell_type": "markdown",
   "metadata": {
    "id": "yJUdLonS-JH_"
   },
   "source": [
    "## Search for related sections between part 121 and part CAT"
   ]
  },
  {
   "cell_type": "code",
   "execution_count": 190,
   "metadata": {
    "executionInfo": {
     "elapsed": 5288,
     "status": "ok",
     "timestamp": 1618179431970,
     "user": {
      "displayName": "Fábio Arbach Oliveira",
      "photoUrl": "https://lh3.googleusercontent.com/a-/AOh14GjQ1ID5GbBg4_uOUilbj0xN5Fy0zXZlC1dYnN-f=s64",
      "userId": "16129273721091616396"
     },
     "user_tz": 180
    },
    "id": "-xL5wRwq_zV5"
   },
   "outputs": [],
   "source": [
    "distance = np.zeros([embedding_matrix_part121.shape[0], embedding_matrix_partCAT.shape[0]])\n",
    "\n",
    "for i in range(distance.shape[0]):\n",
    "    for j in range(distance.shape[1]):\n",
    "        distance[i,j] = cosine(embedding_matrix_part121[i,:], embedding_matrix_partCAT[j,:])"
   ]
  },
  {
   "cell_type": "code",
   "execution_count": 200,
   "metadata": {
    "colab": {
     "base_uri": "https://localhost:8080/"
    },
    "executionInfo": {
     "elapsed": 576,
     "status": "ok",
     "timestamp": 1618179563436,
     "user": {
      "displayName": "Fábio Arbach Oliveira",
      "photoUrl": "https://lh3.googleusercontent.com/a-/AOh14GjQ1ID5GbBg4_uOUilbj0xN5Fy0zXZlC1dYnN-f=s64",
      "userId": "16129273721091616396"
     },
     "user_tz": 180
    },
    "id": "dfJ-f03GBI43",
    "outputId": "3df6ddab-3290-49d7-84e9-d966cf5aa4d6"
   },
   "outputs": [
    {
     "data": {
      "text/plain": [
       "0.09497588872909546"
      ]
     },
     "execution_count": 200,
     "metadata": {
      "tags": []
     },
     "output_type": "execute_result"
    }
   ],
   "source": [
    "distance.max()"
   ]
  },
  {
   "cell_type": "code",
   "execution_count": 195,
   "metadata": {
    "colab": {
     "base_uri": "https://localhost:8080/",
     "height": 265
    },
    "executionInfo": {
     "elapsed": 842,
     "status": "ok",
     "timestamp": 1618179481215,
     "user": {
      "displayName": "Fábio Arbach Oliveira",
      "photoUrl": "https://lh3.googleusercontent.com/a-/AOh14GjQ1ID5GbBg4_uOUilbj0xN5Fy0zXZlC1dYnN-f=s64",
      "userId": "16129273721091616396"
     },
     "user_tz": 180
    },
    "id": "FxwQXVwzAq-9",
    "outputId": "ded21e7c-b22d-4351-bcfc-246cde6ad8ee"
   },
   "outputs": [
    {
     "data": {
      "image/png": "[encoded data removed]",
      "text/plain": [
       "<Figure size 432x288 with 1 Axes>"
      ]
     },
     "metadata": {
      "needs_background": "light",
      "tags": []
     },
     "output_type": "display_data"
    }
   ],
   "source": [
    "plt.hist(distance.flatten(), 50)\n",
    "plt.show()"
   ]
  },
  {
   "cell_type": "code",
   "execution_count": 259,
   "metadata": {
    "colab": {
     "base_uri": "https://localhost:8080/",
     "height": 229
    },
    "executionInfo": {
     "elapsed": 586,
     "status": "error",
     "timestamp": 1618189413961,
     "user": {
      "displayName": "Fábio Arbach Oliveira",
      "photoUrl": "https://lh3.googleusercontent.com/a-/AOh14GjQ1ID5GbBg4_uOUilbj0xN5Fy0zXZlC1dYnN-f=s64",
      "userId": "16129273721091616396"
     },
     "user_tz": 180
    },
    "id": "FH4G2baVA6nZ",
    "outputId": "3843600c-ad10-4eba-e53e-109f35e4da10"
   },
   "outputs": [
    {
     "ename": "IndexError",
     "evalue": "ignored",
     "output_type": "error",
     "traceback": [
      "\u001b[0;31m---------------------------------------------------------------------------\u001b[0m",
      "\u001b[0;31mIndexError\u001b[0m                                Traceback (most recent call last)",
      "\u001b[0;32m<ipython-input-259-3f6dedf03698>\u001b[0m in \u001b[0;36m<module>\u001b[0;34m()\u001b[0m\n\u001b[1;32m      6\u001b[0m \u001b[0;34m\u001b[0m\u001b[0m\n\u001b[1;32m      7\u001b[0m \u001b[0mexcerpt_part121\u001b[0m \u001b[0;34m=\u001b[0m \u001b[0mpart121\u001b[0m\u001b[0;34m[\u001b[0m\u001b[0mpart121_indices\u001b[0m\u001b[0;34m[\u001b[0m\u001b[0mindex\u001b[0m\u001b[0;34m]\u001b[0m\u001b[0;34m]\u001b[0m\u001b[0;34m\u001b[0m\u001b[0;34m\u001b[0m\u001b[0m\n\u001b[0;32m----> 8\u001b[0;31m \u001b[0mexcerpt_partCAT\u001b[0m \u001b[0;34m=\u001b[0m \u001b[0mpartCAT\u001b[0m\u001b[0;34m[\u001b[0m\u001b[0mpartCAT_indices\u001b[0m\u001b[0;34m[\u001b[0m\u001b[0mindex\u001b[0m\u001b[0;34m]\u001b[0m\u001b[0;34m]\u001b[0m\u001b[0;34m\u001b[0m\u001b[0;34m\u001b[0m\u001b[0m\n\u001b[0m\u001b[1;32m      9\u001b[0m \u001b[0;34m\u001b[0m\u001b[0m\n\u001b[1;32m     10\u001b[0m \u001b[0mprint\u001b[0m\u001b[0;34m(\u001b[0m\u001b[0;34m'cosine distance: {}'\u001b[0m\u001b[0;34m.\u001b[0m\u001b[0mformat\u001b[0m\u001b[0;34m(\u001b[0m\u001b[0mdistance\u001b[0m\u001b[0;34m.\u001b[0m\u001b[0mmax\u001b[0m\u001b[0;34m(\u001b[0m\u001b[0maxis\u001b[0m\u001b[0;34m=\u001b[0m\u001b[0;36m0\u001b[0m\u001b[0;34m)\u001b[0m\u001b[0;34m[\u001b[0m\u001b[0mindex\u001b[0m\u001b[0;34m]\u001b[0m\u001b[0;34m)\u001b[0m\u001b[0;34m)\u001b[0m\u001b[0;34m\u001b[0m\u001b[0;34m\u001b[0m\u001b[0m\n",
      "\u001b[0;31mIndexError\u001b[0m: list index out of range"
     ]
    }
   ],
   "source": [
    "part121_indices = distance.argmax(axis=0)\n",
    "partCAT_indices = np.arange(distance.shape[1])\n",
    "\n",
    "index = 0\n",
    "index = distance.min(axis=0).argsort()[index]\n",
    "\n",
    "excerpt_part121 = part121[part121_indices[index]]\n",
    "excerpt_partCAT = partCAT[partCAT_indices[index]]\n",
    "\n",
    "print('cosine distance: {}'.format(distance.max(axis=0)[index]))\n",
    "print('--------------------------------------------------------------------------------------------\\n')\n",
    "print(excerpt_partCAT[:200])\n",
    "print('\\n============================================================================================\\n')\n",
    "print(excerpt_part121[:200])"
   ]
  },
  {
   "cell_type": "markdown",
   "metadata": {
    "id": "10Ofzz6E-FT6"
   },
   "source": [
    "## Make dendrogram for part 121 and part CAT"
   ]
  },
  {
   "cell_type": "code",
   "execution_count": 167,
   "metadata": {
    "colab": {
     "base_uri": "https://localhost:8080/",
     "height": 1000,
     "output_embedded_package_id": "1lkMD5hYnqPNsMu_3q5gl3x0ST7bnt1EW"
    },
    "executionInfo": {
     "elapsed": 31719,
     "status": "ok",
     "timestamp": 1618178571889,
     "user": {
      "displayName": "Fábio Arbach Oliveira",
      "photoUrl": "https://lh3.googleusercontent.com/a-/AOh14GjQ1ID5GbBg4_uOUilbj0xN5Fy0zXZlC1dYnN-f=s64",
      "userId": "16129273721091616396"
     },
     "user_tz": 180
    },
    "id": "hh1Wfmiv4wf5",
    "outputId": "8d3798a6-e667-4af0-8489-d03d8ff775e7"
   },
   "outputs": [
    {
     "data": {
      "text/plain": [
       "Output hidden; open in https://colab.research.google.com to view."
      ]
     },
     "metadata": {},
     "output_type": "display_data"
    }
   ],
   "source": [
    "# calculate distance matrix\n",
    "matrices = (embedding_matrix_part121, embedding_matrix_partCAT)\n",
    "\n",
    "distance_matrix = linkage(np.vstack(matrices),\n",
    "                          metric = 'cosine')\n",
    "\n",
    "# labels: number and title\n",
    "labels_part121 = ['.'.join(section.split('.')[:2]) for section in part121]\n",
    "labels_partCAT = [' '.join(section.split('\\n')[:2]) for section in partCAT[:216]]\n",
    "\n",
    "labels = labels_part121 + labels_partCAT\n",
    "\n",
    "# plot dendrogram\n",
    "plt.figure(figsize=(20,400))\n",
    "dn = dendrogram(distance_matrix,\n",
    "                labels = labels,  \n",
    "                orientation = 'left', \n",
    "                color_threshold = 1,\n",
    "                leaf_font_size = 20)"
   ]
  },
  {
   "cell_type": "code",
   "execution_count": null,
   "metadata": {
    "id": "fkbH09Hi4wcp"
   },
   "outputs": [],
   "source": []
  },
  {
   "cell_type": "code",
   "execution_count": null,
   "metadata": {
    "id": "lLN7nNIN4wXr"
   },
   "outputs": [],
   "source": []
  },
  {
   "cell_type": "code",
   "execution_count": null,
   "metadata": {
    "id": "YOsShn1SxpiQ"
   },
   "outputs": [],
   "source": []
  },
  {
   "cell_type": "code",
   "execution_count": null,
   "metadata": {
    "id": "WgUIp0sBxpfh"
   },
   "outputs": [],
   "source": []
  },
  {
   "cell_type": "code",
   "execution_count": null,
   "metadata": {
    "id": "coha4Sbaxpck"
   },
   "outputs": [],
   "source": []
  },
  {
   "cell_type": "code",
   "execution_count": null,
   "metadata": {
    "id": "E5tV1cbhxpaS"
   },
   "outputs": [],
   "source": []
  },
  {
   "cell_type": "code",
   "execution_count": null,
   "metadata": {
    "id": "RlF0WSrNxpXp"
   },
   "outputs": [],
   "source": []
  },
  {
   "cell_type": "code",
   "execution_count": null,
   "metadata": {
    "id": "D2Bwm2jcxpVI"
   },
   "outputs": [],
   "source": []
  },
  {
   "cell_type": "code",
   "execution_count": null,
   "metadata": {
    "id": "o-QC5IHTxpR2"
   },
   "outputs": [],
   "source": []
  },
  {
   "cell_type": "markdown",
   "metadata": {
    "id": "9PmNB70Sj9ps"
   },
   "source": [
    "# Embedding - Part 121 vs RBAC 121"
   ]
  },
  {
   "cell_type": "markdown",
   "metadata": {
    "id": "OUpwyv05j9ds"
   },
   "source": [
    "## Calculate embedding matrices"
   ]
  },
  {
   "cell_type": "code",
   "execution_count": 406,
   "metadata": {
    "executionInfo": {
     "elapsed": 882,
     "status": "ok",
     "timestamp": 1618251941956,
     "user": {
      "displayName": "Fábio Arbach Oliveira",
      "photoUrl": "https://lh3.googleusercontent.com/a-/AOh14GjQ1ID5GbBg4_uOUilbj0xN5Fy0zXZlC1dYnN-f=s64",
      "userId": "16129273721091616396"
     },
     "user_tz": 180
    },
    "id": "JzvH0N2qkglx"
   },
   "outputs": [],
   "source": [
    "embedding_matrix_RBAC121 = make_embedding_matrix(RBAC121_en)"
   ]
  },
  {
   "cell_type": "markdown",
   "metadata": {
    "id": "LA7VerOnj9Sp"
   },
   "source": [
    "## Search for related sections"
   ]
  },
  {
   "cell_type": "code",
   "execution_count": 407,
   "metadata": {
    "executionInfo": {
     "elapsed": 10843,
     "status": "ok",
     "timestamp": 1618251958876,
     "user": {
      "displayName": "Fábio Arbach Oliveira",
      "photoUrl": "https://lh3.googleusercontent.com/a-/AOh14GjQ1ID5GbBg4_uOUilbj0xN5Fy0zXZlC1dYnN-f=s64",
      "userId": "16129273721091616396"
     },
     "user_tz": 180
    },
    "id": "qIJyom0Qk_1p"
   },
   "outputs": [],
   "source": [
    "#distance = np.zeros([embedding_matrix_part121.shape[0], embedding_matrix_RBAC121.shape[0]])\n",
    "\n",
    "#for i in range(distance.shape[0]):\n",
    "#    for j in range(distance.shape[1]):\n",
    "#        distance[i,j] = cosine(embedding_matrix_part121[i,:], embedding_matrix_RBAC121[j,:])\n",
    "\n",
    "        # IMPLEMENTAR DISTÂNCIA JACCARD\n",
    "        # implementar jaccard modificada, considerando palavras próximas são iguais\n",
    "        # implementar jaccard modiicada com pesos, considerando frequência\n",
    "        # IMPLEMENTAR OUTRAS MEDIDAS DE SIMILARIDADE\n",
    "\n",
    "#distance.max()\n"
   ]
  },
  {
   "cell_type": "code",
   "execution_count": 408,
   "metadata": {
    "colab": {
     "base_uri": "https://localhost:8080/"
    },
    "executionInfo": {
     "elapsed": 496,
     "status": "ok",
     "timestamp": 1618251964003,
     "user": {
      "displayName": "Fábio Arbach Oliveira",
      "photoUrl": "https://lh3.googleusercontent.com/a-/AOh14GjQ1ID5GbBg4_uOUilbj0xN5Fy0zXZlC1dYnN-f=s64",
      "userId": "16129273721091616396"
     },
     "user_tz": 180
    },
    "id": "9E-wzWcElDoh",
    "outputId": "9fea60d2-3721-41af-8815-143f7948a21c"
   },
   "outputs": [
    {
     "data": {
      "text/plain": [
       "1.0348315834999084"
      ]
     },
     "execution_count": 408,
     "metadata": {
      "tags": []
     },
     "output_type": "execute_result"
    }
   ],
   "source": []
  },
  {
   "cell_type": "code",
   "execution_count": 409,
   "metadata": {
    "colab": {
     "base_uri": "https://localhost:8080/",
     "height": 267
    },
    "executionInfo": {
     "elapsed": 1102,
     "status": "ok",
     "timestamp": 1618251966842,
     "user": {
      "displayName": "Fábio Arbach Oliveira",
      "photoUrl": "https://lh3.googleusercontent.com/a-/AOh14GjQ1ID5GbBg4_uOUilbj0xN5Fy0zXZlC1dYnN-f=s64",
      "userId": "16129273721091616396"
     },
     "user_tz": 180
    },
    "id": "Eq3pPsSjlDhE",
    "outputId": "0d943c9a-a4c2-4a35-d65b-10631ea6240d"
   },
   "outputs": [
    {
     "data": {
      "image/png": "[encoded data removed]",
      "text/plain": [
       "<Figure size 432x288 with 1 Axes>"
      ]
     },
     "metadata": {
      "needs_background": "light",
      "tags": []
     },
     "output_type": "display_data"
    }
   ],
   "source": [
    "plt.hist(distance.flatten(), 50)\n",
    "plt.show()"
   ]
  },
  {
   "cell_type": "code",
   "execution_count": 410,
   "metadata": {
    "colab": {
     "base_uri": "https://localhost:8080/"
    },
    "executionInfo": {
     "elapsed": 883,
     "status": "ok",
     "timestamp": 1618251969543,
     "user": {
      "displayName": "Fábio Arbach Oliveira",
      "photoUrl": "https://lh3.googleusercontent.com/a-/AOh14GjQ1ID5GbBg4_uOUilbj0xN5Fy0zXZlC1dYnN-f=s64",
      "userId": "16129273721091616396"
     },
     "user_tz": 180
    },
    "id": "73ABY6XElTj3",
    "outputId": "337702ea-4343-4c91-fdbf-8e9084f3083e"
   },
   "outputs": [
    {
     "name": "stdout",
     "output_type": "stream",
     "text": [
      "cosine distance: 0.04377412796020508\n",
      "--------------------------------------------------------------------------------------------\n",
      "\n",
      "121.4 Applicability of the rules for unauthorized operators\n",
      "The rules of this regulation that refer to a person certified according to RBAC 119 apply\n",
      "also, to any person who engages in operations gove\n",
      "\n",
      "============================================================================================\n",
      "\n",
      "§ 121.903   General requirements for Advanced Qualification Programs. (a) A curriculum approved under an AQP may include elements of existing training programs under part 121 and part 135 of this chap\n"
     ]
    }
   ],
   "source": [
    "part121_indices = distance.argmin(axis=0)\n",
    "RBAC121_indices = np.arange(distance.shape[1])\n",
    "\n",
    "index = 3\n",
    "#index = distance.min(axis=0).argsort()[index]\n",
    "\n",
    "excerpt_part121 = part121[part121_indices[index]]\n",
    "excerpt_RBAC121 = RBAC121_en[RBAC121_indices[index]]\n",
    "\n",
    "print('cosine distance: {}'.format(distance.min(axis=0)[index]))\n",
    "print('--------------------------------------------------------------------------------------------\\n')\n",
    "print(excerpt_RBAC121[:200])\n",
    "print('\\n============================================================================================\\n')\n",
    "print(excerpt_part121[:200])"
   ]
  },
  {
   "cell_type": "code",
   "execution_count": 412,
   "metadata": {
    "colab": {
     "base_uri": "https://localhost:8080/"
    },
    "executionInfo": {
     "elapsed": 994,
     "status": "ok",
     "timestamp": 1618251995001,
     "user": {
      "displayName": "Fábio Arbach Oliveira",
      "photoUrl": "https://lh3.googleusercontent.com/a-/AOh14GjQ1ID5GbBg4_uOUilbj0xN5Fy0zXZlC1dYnN-f=s64",
      "userId": "16129273721091616396"
     },
     "user_tz": 180
    },
    "id": "4haaykyQMSoo",
    "outputId": "fc7eb369-c17c-4cb8-96af-d3afeac9bbbc"
   },
   "outputs": [
    {
     "name": "stdout",
     "output_type": "stream",
     "text": [
      "cosine distance: 0.04612082242965698\n",
      "--------------------------------------------------------------------------------------------\n",
      "\n",
      "121.4 Applicability of the rules for unauthorized operators The rules of this regulation that refer to a person certified according to RBAC 119 apply also, to any person who engages in operations governed by this regulation without the appropriate certificate and operating specifications required by RBAC 119. \n",
      "\n",
      "============================================================================================\n",
      "\n",
      "§ 121.4   Applicability of rules to unauthorized operators. The rules in this part which refer to a person certificated under part 119 of this chapter apply also to any person who engages in an operation governed by this part without the appropriate certificate and operations specifications required by part 119 of this chapter. \n",
      " [Doc. No. 11675, 37 FR 20937, Oct. 5, 1972, as amended by Amdt. 121-251, 60 FR 65926, Dec. 20, 1995] \n",
      "\n",
      "\n",
      "\n"
     ]
    }
   ],
   "source": [
    "index_RBAC = 3\n",
    "index_FAR = 2\n",
    "print('cosine distance: {}'.format(cosine(embedding_matrix_RBAC121[index_RBAC], embedding_matrix_part121[index_FAR])))\n",
    "print('--------------------------------------------------------------------------------------------\\n')\n",
    "print(RBAC121_en[index_RBAC][:1000].replace('\\n',' '))\n",
    "print('\\n============================================================================================\\n')\n",
    "print(part121[index_FAR][:1000])\n"
   ]
  },
  {
   "cell_type": "code",
   "execution_count": 535,
   "metadata": {
    "colab": {
     "base_uri": "https://localhost:8080/"
    },
    "executionInfo": {
     "elapsed": 562,
     "status": "ok",
     "timestamp": 1618201926653,
     "user": {
      "displayName": "Fábio Arbach Oliveira",
      "photoUrl": "https://lh3.googleusercontent.com/a-/AOh14GjQ1ID5GbBg4_uOUilbj0xN5Fy0zXZlC1dYnN-f=s64",
      "userId": "16129273721091616396"
     },
     "user_tz": 180
    },
    "id": "udmd0dhgQ7fC",
    "outputId": "ac679132-0882-4399-e399-7f26fbe9d6e4"
   },
   "outputs": [
    {
     "name": "stdout",
     "output_type": "stream",
     "text": [
      "RBAC only: 7\n",
      "['regulation operating for that rbac according certified']\n",
      "\n",
      "FAR only: 26\n",
      "['dec 20 251 chapter 37 an as § fr no amdt under which part 1972 11675 20937 operation oct 65926 doc 1995 amended 60 5 certificated']\n",
      "\n",
      "both: 29\n",
      "['the of and a in to by this also any certificate 121 required specifications operations engages without person 119 who refer governed rules applicability 4 apply appropriate unauthorized operators']\n",
      "\n",
      "Jaccard: 0.46774193548387094\n"
     ]
    }
   ],
   "source": [
    "tokens_RBAC = tokenizer.texts_to_sequences([RBAC121_en[index_RBAC]])[0]\n",
    "tokens_FAR = tokenizer.texts_to_sequences([part121[index_FAR]])[0]\n",
    "\n",
    "RBAC_only = list(set(tokens_RBAC) - set(tokens_FAR))\n",
    "FAR_only = list(set(tokens_FAR) - set(tokens_RBAC))\n",
    "both = list(set(tokens_FAR) & set(tokens_RBAC))\n",
    "\n",
    "print('RBAC only: {}'.format(len(RBAC_only)))\n",
    "print(tokenizer.sequences_to_texts([RBAC_only]))\n",
    "print('\\nFAR only: {}'.format(len(FAR_only)))\n",
    "print(tokenizer.sequences_to_texts([FAR_only]))\n",
    "print('\\nboth: {}'.format(len(both)))\n",
    "print(tokenizer.sequences_to_texts([both]))\n",
    "print('\\nJaccard: {}'.format(len(both) / (len(RBAC_only)+len(FAR_only)+len(both))))"
   ]
  },
  {
   "cell_type": "markdown",
   "metadata": {
    "id": "t26Driqtj9DO"
   },
   "source": [
    "## Make dendrogram"
   ]
  },
  {
   "cell_type": "markdown",
   "metadata": {
    "id": "EuEV-lN9ZXKv"
   },
   "source": [
    "# Similarity analysis with custom distances"
   ]
  },
  {
   "cell_type": "markdown",
   "metadata": {
    "id": "8rvb6bNmBSjw"
   },
   "source": [
    "## Part 121 vs RBAC 121"
   ]
  },
  {
   "cell_type": "code",
   "execution_count": 500,
   "metadata": {
    "executionInfo": {
     "elapsed": 3844232,
     "status": "ok",
     "timestamp": 1618261332004,
     "user": {
      "displayName": "Fábio Arbach Oliveira",
      "photoUrl": "https://lh3.googleusercontent.com/a-/AOh14GjQ1ID5GbBg4_uOUilbj0xN5Fy0zXZlC1dYnN-f=s64",
      "userId": "16129273721091616396"
     },
     "user_tz": 180
    },
    "id": "-sTADcg3ZbqS"
   },
   "outputs": [],
   "source": [
    "similarity = np.zeros((len(RBAC121_en), len(part121)))\n",
    "\n",
    "for i in range(len(RBAC121_en)):\n",
    "    for j in range(len(part121)):\n",
    "        similarity[i,j] = jaccard_mod(RBAC121_en[i], part121[j])"
   ]
  },
  {
   "cell_type": "code",
   "execution_count": 502,
   "metadata": {
    "colab": {
     "base_uri": "https://localhost:8080/"
    },
    "executionInfo": {
     "elapsed": 581,
     "status": "ok",
     "timestamp": 1618261640215,
     "user": {
      "displayName": "Fábio Arbach Oliveira",
      "photoUrl": "https://lh3.googleusercontent.com/a-/AOh14GjQ1ID5GbBg4_uOUilbj0xN5Fy0zXZlC1dYnN-f=s64",
      "userId": "16129273721091616396"
     },
     "user_tz": 180
    },
    "id": "FjHcjQd6hpW2",
    "outputId": "de2524f5-679d-47db-826d-5ca523a42471"
   },
   "outputs": [
    {
     "data": {
      "text/plain": [
       "(360, 390)"
      ]
     },
     "execution_count": 502,
     "metadata": {
      "tags": []
     },
     "output_type": "execute_result"
    }
   ],
   "source": [
    "similarity.shape"
   ]
  },
  {
   "cell_type": "code",
   "execution_count": 505,
   "metadata": {
    "colab": {
     "base_uri": "https://localhost:8080/",
     "height": 265
    },
    "executionInfo": {
     "elapsed": 1143,
     "status": "ok",
     "timestamp": 1618261731854,
     "user": {
      "displayName": "Fábio Arbach Oliveira",
      "photoUrl": "https://lh3.googleusercontent.com/a-/AOh14GjQ1ID5GbBg4_uOUilbj0xN5Fy0zXZlC1dYnN-f=s64",
      "userId": "16129273721091616396"
     },
     "user_tz": 180
    },
    "id": "dUQhrwp0hpUJ",
    "outputId": "652324a1-3ed9-43f9-d07e-da237f0bba9b"
   },
   "outputs": [
    {
     "data": {
      "image/png": "[encoded data removed]",
      "text/plain": [
       "<Figure size 432x288 with 1 Axes>"
      ]
     },
     "metadata": {
      "needs_background": "light",
      "tags": []
     },
     "output_type": "display_data"
    }
   ],
   "source": [
    "plt.hist(similarity.max(axis=1), 50)\n",
    "plt.show()"
   ]
  },
  {
   "cell_type": "code",
   "execution_count": 517,
   "metadata": {
    "colab": {
     "base_uri": "https://localhost:8080/"
    },
    "executionInfo": {
     "elapsed": 901,
     "status": "ok",
     "timestamp": 1618262107632,
     "user": {
      "displayName": "Fábio Arbach Oliveira",
      "photoUrl": "https://lh3.googleusercontent.com/a-/AOh14GjQ1ID5GbBg4_uOUilbj0xN5Fy0zXZlC1dYnN-f=s64",
      "userId": "16129273721091616396"
     },
     "user_tz": 180
    },
    "id": "iYOE6e8ghpNT",
    "outputId": "812acb99-1604-4a54-8430-ef8279d9d6e3"
   },
   "outputs": [
    {
     "data": {
      "text/plain": [
       "2.0714285714285716"
      ]
     },
     "execution_count": 517,
     "metadata": {
      "tags": []
     },
     "output_type": "execute_result"
    }
   ],
   "source": [
    "ind = np.unravel_index(similarity.argmax(), similarity.shape)\n",
    "\n",
    "#print(RBAC121[ind[0]])\n",
    "#print('----------------')\n",
    "#print(part121[ind[1]])\n",
    "\n",
    "jaccard_mod(RBAC121_en[ind[0]], part121[ind[1]])"
   ]
  },
  {
   "cell_type": "code",
   "execution_count": 631,
   "metadata": {
    "colab": {
     "base_uri": "https://localhost:8080/"
    },
    "executionInfo": {
     "elapsed": 599,
     "status": "ok",
     "timestamp": 1618262875913,
     "user": {
      "displayName": "Fábio Arbach Oliveira",
      "photoUrl": "https://lh3.googleusercontent.com/a-/AOh14GjQ1ID5GbBg4_uOUilbj0xN5Fy0zXZlC1dYnN-f=s64",
      "userId": "16129273721091616396"
     },
     "user_tz": 180
    },
    "id": "5WOMSAlD8Eca",
    "outputId": "2ff34437-4517-4b09-cb9f-afd3e2f09f18"
   },
   "outputs": [
    {
     "name": "stdout",
     "output_type": "stream",
     "text": [
      "Jaccard = 0.5806451612903226\n",
      "\n",
      "--------------------------------------------------------------------------------\n",
      "\n",
      "121.287 Transporting cargo in the cargo hold\n",
      "Cargo carried in cargo compartments, designed in such a way as to require the physical entry of\n",
      "a crew member to fight any fire that may occur in flight, m\n",
      "================================================================================\n",
      "\n",
      "§ 121.287   Carriage of cargo in cargo compartments. When cargo is carried in cargo compartments that are designed to require the physical entry of a crewmember to extinguish any fire that may occur d\n"
     ]
    }
   ],
   "source": [
    "ind_RBAC = np.arange(len(RBAC121_en))\n",
    "ind_FAR = similarity.argmax(axis=1)\n",
    "\n",
    "INDEX = 100 # bad numbers: 9 10 11 19 28 31 50 62 70\n",
    "\n",
    "print('Jaccard = {}\\n'.format(similarity[ind_RBAC[INDEX], ind_FAR[INDEX]]))\n",
    "print('--------------------------------------------------------------------------------\\n')\n",
    "print(RBAC121_en[ind_RBAC[INDEX]][:200])\n",
    "print('================================================================================\\n')\n",
    "print(part121[ind_FAR[INDEX]][:200])"
   ]
  },
  {
   "cell_type": "markdown",
   "metadata": {
    "id": "xDAUK-OuBXNq"
   },
   "source": [
    "## Part 121 vs Part CAT"
   ]
  },
  {
   "cell_type": "code",
   "execution_count": null,
   "metadata": {
    "id": "VDcVucnp8EI6"
   },
   "outputs": [],
   "source": [
    "similarity_FAA_EASA = np.zeros((len(partCAT), len(part121)))\n",
    "\n",
    "for i in range(len(partCAT)):\n",
    "    for j in range(len(part121)):\n",
    "        print('{}/{} | {}/{}'.format(i,len(partCAT),j,len(part121)))\n",
    "        similarity_FAA_EASA[i,j] = jaccard_mod(partCAT[i], part121[j])"
   ]
  },
  {
   "cell_type": "code",
   "execution_count": 633,
   "metadata": {
    "colab": {
     "base_uri": "https://localhost:8080/"
    },
    "executionInfo": {
     "elapsed": 779,
     "status": "ok",
     "timestamp": 1618268255861,
     "user": {
      "displayName": "Fábio Arbach Oliveira",
      "photoUrl": "https://lh3.googleusercontent.com/a-/AOh14GjQ1ID5GbBg4_uOUilbj0xN5Fy0zXZlC1dYnN-f=s64",
      "userId": "16129273721091616396"
     },
     "user_tz": 180
    },
    "id": "6LJEhAAF8EE2",
    "outputId": "2df6f674-5963-4078-b252-b59f89ea7c1a"
   },
   "outputs": [
    {
     "data": {
      "text/plain": [
       "(224, 390)"
      ]
     },
     "execution_count": 633,
     "metadata": {
      "tags": []
     },
     "output_type": "execute_result"
    }
   ],
   "source": [
    "similarity_FAA_EASA.shape"
   ]
  },
  {
   "cell_type": "code",
   "execution_count": 634,
   "metadata": {
    "colab": {
     "base_uri": "https://localhost:8080/",
     "height": 265
    },
    "executionInfo": {
     "elapsed": 760,
     "status": "ok",
     "timestamp": 1618268258059,
     "user": {
      "displayName": "Fábio Arbach Oliveira",
      "photoUrl": "https://lh3.googleusercontent.com/a-/AOh14GjQ1ID5GbBg4_uOUilbj0xN5Fy0zXZlC1dYnN-f=s64",
      "userId": "16129273721091616396"
     },
     "user_tz": 180
    },
    "id": "U3ydhIhG8EAr",
    "outputId": "3f178926-8bbe-4e1c-f0c4-904005c74def"
   },
   "outputs": [
    {
     "data": {
      "image/png": "[encoded data removed]",
      "text/plain": [
       "<Figure size 432x288 with 1 Axes>"
      ]
     },
     "metadata": {
      "needs_background": "light",
      "tags": []
     },
     "output_type": "display_data"
    }
   ],
   "source": [
    "plt.hist(similarity.max(axis=1), 50)\n",
    "plt.show()"
   ]
  },
  {
   "cell_type": "code",
   "execution_count": 661,
   "metadata": {
    "colab": {
     "base_uri": "https://localhost:8080/"
    },
    "executionInfo": {
     "elapsed": 590,
     "status": "ok",
     "timestamp": 1618268703812,
     "user": {
      "displayName": "Fábio Arbach Oliveira",
      "photoUrl": "https://lh3.googleusercontent.com/a-/AOh14GjQ1ID5GbBg4_uOUilbj0xN5Fy0zXZlC1dYnN-f=s64",
      "userId": "16129273721091616396"
     },
     "user_tz": 180
    },
    "id": "pbdEdogGTiOm",
    "outputId": "0e688e79-7653-415e-9204-b90e4faffbbe"
   },
   "outputs": [
    {
     "name": "stdout",
     "output_type": "stream",
     "text": [
      "Jaccard = 0.13432835820895522\n",
      "\n",
      "--------------------------------------------------------------------------------\n",
      "\n",
      "CAT.GEN.MPA.190\n",
      "Provision of documentation and records\n",
      "The commander shall, within a reasonable time of being requested to do so by a person authorised by an authority, provide to that person the docu\n",
      "================================================================================\n",
      "\n",
      "§ 121.385   Composition of flight crew. (a) No certificate holder may operate an airplane with less than the minimum flight crew in the airworthiness certificate or the airplane Flight Manual approved\n"
     ]
    }
   ],
   "source": [
    "ind_EASA = np.arange(len(partCAT))\n",
    "ind_FAA = similarity_FAA_EASA.argmax(axis=1)\n",
    "\n",
    "INDEX = 21 # good indices: 9\n",
    "\n",
    "print('Jaccard = {}\\n'.format(similarity_FAA_EASA[ind_EASA[INDEX], ind_FAA[INDEX]]))\n",
    "print('--------------------------------------------------------------------------------\\n')\n",
    "print(partCAT[ind_EASA[INDEX]][:200])\n",
    "print('================================================================================\\n')\n",
    "print(part121[ind_FAA[INDEX]][:200])"
   ]
  },
  {
   "cell_type": "code",
   "execution_count": null,
   "metadata": {
    "id": "Erqwb0CDTiKj"
   },
   "outputs": [],
   "source": []
  },
  {
   "cell_type": "code",
   "execution_count": null,
   "metadata": {
    "id": "Csr6xL0LTiG3"
   },
   "outputs": [],
   "source": []
  },
  {
   "cell_type": "code",
   "execution_count": null,
   "metadata": {
    "id": "msDz939VTiDT"
   },
   "outputs": [],
   "source": []
  },
  {
   "cell_type": "markdown",
   "metadata": {
    "id": "wzKGMe2qSiMq"
   },
   "source": [
    "# Simple similarity"
   ]
  },
  {
   "cell_type": "markdown",
   "metadata": {
    "id": "1AqGOojbp8-8"
   },
   "source": [
    "## Part 121 vs Part 125"
   ]
  },
  {
   "cell_type": "code",
   "execution_count": null,
   "metadata": {
    "id": "G82t0fOt1vQo"
   },
   "outputs": [],
   "source": [
    "similarity = np.matmul(matrix_part121, matrix_part125.T) / len(tokenizer.word_index)"
   ]
  },
  {
   "cell_type": "code",
   "execution_count": null,
   "metadata": {
    "colab": {
     "base_uri": "https://localhost:8080/"
    },
    "executionInfo": {
     "elapsed": 369,
     "status": "ok",
     "timestamp": 1618089608547,
     "user": {
      "displayName": "Fábio Arbach Oliveira",
      "photoUrl": "https://lh3.googleusercontent.com/a-/AOh14GjQ1ID5GbBg4_uOUilbj0xN5Fy0zXZlC1dYnN-f=s64",
      "userId": "16129273721091616396"
     },
     "user_tz": 180
    },
    "id": "qdLNypxK3W8H",
    "outputId": "c64220b2-790d-4c2e-e6ea-4607e9effc65"
   },
   "outputs": [
    {
     "data": {
      "text/plain": [
       "(0.06513493009645606, 0.0)"
      ]
     },
     "execution_count": 66,
     "metadata": {
      "tags": []
     },
     "output_type": "execute_result"
    }
   ],
   "source": [
    "np.max(similarity), np.min(similarity)"
   ]
  },
  {
   "cell_type": "code",
   "execution_count": null,
   "metadata": {
    "colab": {
     "base_uri": "https://localhost:8080/",
     "height": 265
    },
    "executionInfo": {
     "elapsed": 1295,
     "status": "ok",
     "timestamp": 1618089610410,
     "user": {
      "displayName": "Fábio Arbach Oliveira",
      "photoUrl": "https://lh3.googleusercontent.com/a-/AOh14GjQ1ID5GbBg4_uOUilbj0xN5Fy0zXZlC1dYnN-f=s64",
      "userId": "16129273721091616396"
     },
     "user_tz": 180
    },
    "id": "SK30Fa4P4AKq",
    "outputId": "8cd00ff3-8e2e-42b9-d68a-b45c83f6bff6"
   },
   "outputs": [
    {
     "data": {
      "image/png": "[encoded data removed]",
      "text/plain": [
       "<Figure size 432x288 with 1 Axes>"
      ]
     },
     "metadata": {
      "needs_background": "light",
      "tags": []
     },
     "output_type": "display_data"
    }
   ],
   "source": [
    "plt.hist(similarity.flatten(), 50)\n",
    "plt.show()"
   ]
  },
  {
   "cell_type": "code",
   "execution_count": null,
   "metadata": {
    "colab": {
     "base_uri": "https://localhost:8080/"
    },
    "executionInfo": {
     "elapsed": 585,
     "status": "ok",
     "timestamp": 1618089611655,
     "user": {
      "displayName": "Fábio Arbach Oliveira",
      "photoUrl": "https://lh3.googleusercontent.com/a-/AOh14GjQ1ID5GbBg4_uOUilbj0xN5Fy0zXZlC1dYnN-f=s64",
      "userId": "16129273721091616396"
     },
     "user_tz": 180
    },
    "id": "6zMk8C9P60Q8",
    "outputId": "e84807fc-8dc6-4966-85a4-74ad7adffd09"
   },
   "outputs": [
    {
     "data": {
      "text/plain": [
       "(135, 85)"
      ]
     },
     "execution_count": 68,
     "metadata": {
      "tags": []
     },
     "output_type": "execute_result"
    }
   ],
   "source": [
    "max_coords = np.unravel_index(similarity.argmax(), similarity.shape)\n",
    "max_coords"
   ]
  },
  {
   "cell_type": "code",
   "execution_count": null,
   "metadata": {
    "colab": {
     "base_uri": "https://localhost:8080/"
    },
    "executionInfo": {
     "elapsed": 429,
     "status": "ok",
     "timestamp": 1618089612423,
     "user": {
      "displayName": "Fábio Arbach Oliveira",
      "photoUrl": "https://lh3.googleusercontent.com/a-/AOh14GjQ1ID5GbBg4_uOUilbj0xN5Fy0zXZlC1dYnN-f=s64",
      "userId": "16129273721091616396"
     },
     "user_tz": 180
    },
    "id": "RG0gQ5UV7SFl",
    "outputId": "e976dc65-c14b-4c37-9a03-532c6b623a34"
   },
   "outputs": [
    {
     "data": {
      "text/plain": [
       "array([[387, 387, 219, ..., 385, 279, 135],\n",
       "       [ 56, 116,   3, ..., 151,  80,  85]])"
      ]
     },
     "execution_count": 69,
     "metadata": {
      "tags": []
     },
     "output_type": "execute_result"
    }
   ],
   "source": [
    "similarity_indices = np.unravel_index(similarity.argsort(axis=None), similarity.shape)\n",
    "similarity_indices = np.array(similarity_indices)\n",
    "similarity_indices"
   ]
  },
  {
   "cell_type": "code",
   "execution_count": null,
   "metadata": {
    "colab": {
     "base_uri": "https://localhost:8080/"
    },
    "executionInfo": {
     "elapsed": 505,
     "status": "ok",
     "timestamp": 1618089613579,
     "user": {
      "displayName": "Fábio Arbach Oliveira",
      "photoUrl": "https://lh3.googleusercontent.com/a-/AOh14GjQ1ID5GbBg4_uOUilbj0xN5Fy0zXZlC1dYnN-f=s64",
      "userId": "16129273721091616396"
     },
     "user_tz": 180
    },
    "id": "v2IrxjKi7qo-",
    "outputId": "e7e39663-c50e-4472-f76c-cb53f63181b5"
   },
   "outputs": [
    {
     "name": "stdout",
     "output_type": "stream",
     "text": [
      "§ 121.310   Additional emergency equipment. (a)  Means for emergency evacuation.  Each passenger-carrying landplane emergency exit (other than over-the-wing) that is more than 6 feet from the ground with the airplane on the ground and the landing gear extended, must have an approved means to assist \n",
      "\n",
      "\n",
      "§ 125.226   Digital flight data recorders. (a) Except as provided in paragraph (l) of this section, no person may operate under this part a turbine-engine-powered transport category airplane unless it is equipped with one or more approved flight recorders that use a digital method of recording and s\n"
     ]
    }
   ],
   "source": [
    "index = 10\n",
    "\n",
    "print(part121[similarity_indices[0,-1 - index]][:300])\n",
    "print('\\n')\n",
    "print(part125[similarity_indices[1,-1 - index]][:300])"
   ]
  },
  {
   "cell_type": "markdown",
   "metadata": {
    "id": "JBssP_r2qCg-"
   },
   "source": [
    "## Part 121 vs Part CAT"
   ]
  },
  {
   "cell_type": "code",
   "execution_count": null,
   "metadata": {
    "id": "NkLym0OyqFWm"
   },
   "outputs": [],
   "source": [
    "similarity = np.matmul(matrix_part121, matrix_partCAT.T) / len(tokenizer.word_index)"
   ]
  },
  {
   "cell_type": "code",
   "execution_count": null,
   "metadata": {
    "colab": {
     "base_uri": "https://localhost:8080/"
    },
    "executionInfo": {
     "elapsed": 1408,
     "status": "ok",
     "timestamp": 1618119221920,
     "user": {
      "displayName": "Fábio Arbach Oliveira",
      "photoUrl": "https://lh3.googleusercontent.com/a-/AOh14GjQ1ID5GbBg4_uOUilbj0xN5Fy0zXZlC1dYnN-f=s64",
      "userId": "16129273721091616396"
     },
     "user_tz": 180
    },
    "id": "9h5YV_2LqFL6",
    "outputId": "c5b50a26-8b77-4fe1-8fd7-09579f71ce5b"
   },
   "outputs": [
    {
     "data": {
      "text/plain": [
       "0.004193044479158102"
      ]
     },
     "execution_count": 425,
     "metadata": {
      "tags": []
     },
     "output_type": "execute_result"
    }
   ],
   "source": [
    "similarity.max()"
   ]
  },
  {
   "cell_type": "code",
   "execution_count": null,
   "metadata": {
    "colab": {
     "base_uri": "https://localhost:8080/",
     "height": 265
    },
    "executionInfo": {
     "elapsed": 1466,
     "status": "ok",
     "timestamp": 1618119227575,
     "user": {
      "displayName": "Fábio Arbach Oliveira",
      "photoUrl": "https://lh3.googleusercontent.com/a-/AOh14GjQ1ID5GbBg4_uOUilbj0xN5Fy0zXZlC1dYnN-f=s64",
      "userId": "16129273721091616396"
     },
     "user_tz": 180
    },
    "id": "UvKpHD-ZqE_l",
    "outputId": "e79fe597-8753-4390-f737-a2ce147a547e"
   },
   "outputs": [
    {
     "data": {
      "image/png": "[encoded data removed]",
      "text/plain": [
       "<Figure size 432x288 with 1 Axes>"
      ]
     },
     "metadata": {
      "needs_background": "light",
      "tags": []
     },
     "output_type": "display_data"
    }
   ],
   "source": [
    "plt.hist(similarity.flatten(), 50)\n",
    "plt.show()"
   ]
  },
  {
   "cell_type": "code",
   "execution_count": null,
   "metadata": {
    "colab": {
     "base_uri": "https://localhost:8080/"
    },
    "executionInfo": {
     "elapsed": 1302,
     "status": "ok",
     "timestamp": 1618119231970,
     "user": {
      "displayName": "Fábio Arbach Oliveira",
      "photoUrl": "https://lh3.googleusercontent.com/a-/AOh14GjQ1ID5GbBg4_uOUilbj0xN5Fy0zXZlC1dYnN-f=s64",
      "userId": "16129273721091616396"
     },
     "user_tz": 180
    },
    "id": "Qztml0WDq805",
    "outputId": "19e920cf-7b5c-4011-f4c9-b0147869d5cc"
   },
   "outputs": [
    {
     "name": "stdout",
     "output_type": "stream",
     "text": [
      "§ 121.574   Oxygen and portable oxygen concentrators for medical use by passengers. (a) A certificate holder may allow a passenger to carry and operate equipment for the storage, generation, or dispen\n",
      "\n",
      "============================================================================================\n",
      "\n",
      "CAT.IDE.A.235\n",
      "Supplemental oxygen — pressurised aeroplanes\n",
      "(a)\n",
      "Pressurised aeroplanes operated at pressure altitudes above 10 000  ft shall be equipped with supplemental oxygen equipment that is capab\n"
     ]
    }
   ],
   "source": [
    "sorting_indices = similarity.argsort(axis=None)\n",
    "part121_indices, partCAT_indices = np.unravel_index(sorting_indices, shape = similarity.shape)\n",
    "\n",
    "index = 16\n",
    "\n",
    "excerpt_part121 = part121[part121_indices[-1-index]]\n",
    "excerpt_partCAT = partCAT[partCAT_indices[-1-index]]\n",
    "\n",
    "print(excerpt_part121[:200])\n",
    "print('\\n============================================================================================\\n')\n",
    "print(excerpt_partCAT[:200])"
   ]
  },
  {
   "cell_type": "code",
   "execution_count": null,
   "metadata": {
    "colab": {
     "base_uri": "https://localhost:8080/"
    },
    "executionInfo": {
     "elapsed": 607,
     "status": "ok",
     "timestamp": 1618119532010,
     "user": {
      "displayName": "Fábio Arbach Oliveira",
      "photoUrl": "https://lh3.googleusercontent.com/a-/AOh14GjQ1ID5GbBg4_uOUilbj0xN5Fy0zXZlC1dYnN-f=s64",
      "userId": "16129273721091616396"
     },
     "user_tz": 180
    },
    "id": "ZzUI9u2CNIJr",
    "outputId": "c9e0664c-798b-45dd-ae2a-2163401579f8"
   },
   "outputs": [
    {
     "name": "stdout",
     "output_type": "stream",
     "text": [
      "cosine similarity: 0.002384280194031078\n",
      "--------------------------------------------------------------------------------------------\n",
      "\n",
      "CAT.OP.MPA.110\n",
      "Aerodrome operating minima\n",
      "(a)\n",
      "The operator shall establish aerodrome operating minima for each departure, destination or alternate aerodrome planned to be used. These minima shall not \n",
      "\n",
      "============================================================================================\n",
      "\n",
      "§ 121.419   Pilots and flight engineers: Initial, transition, conversion and upgrade ground training. (a) Except as provided in paragraph (b) of this section, initial and conversion ground training fo\n"
     ]
    }
   ],
   "source": [
    "part121_indices = similarity.argmax(axis=0)\n",
    "partCAT_indices = np.arange(similarity.shape[1])\n",
    "\n",
    "#part121_indices.shape, partCAT_indices.shape\n",
    "\n",
    "index = 24\n",
    "index = similarity.max(axis=0).argsort()[-1-index]\n",
    "\n",
    "excerpt_part121 = part121[part121_indices[index]]\n",
    "excerpt_partCAT = partCAT[partCAT_indices[index]]\n",
    "\n",
    "print('cosine similarity: {}'.format(similarity.max(axis=0)[index]))\n",
    "print('--------------------------------------------------------------------------------------------\\n')\n",
    "print(excerpt_partCAT[:200])\n",
    "print('\\n============================================================================================\\n')\n",
    "print(excerpt_part121[:200])"
   ]
  },
  {
   "cell_type": "code",
   "execution_count": null,
   "metadata": {
    "colab": {
     "base_uri": "https://localhost:8080/"
    },
    "executionInfo": {
     "elapsed": 5521,
     "status": "ok",
     "timestamp": 1618094434980,
     "user": {
      "displayName": "Fábio Arbach Oliveira",
      "photoUrl": "https://lh3.googleusercontent.com/a-/AOh14GjQ1ID5GbBg4_uOUilbj0xN5Fy0zXZlC1dYnN-f=s64",
      "userId": "16129273721091616396"
     },
     "user_tz": 180
    },
    "id": "q0JKMAamvhOW",
    "outputId": "2ab6489c-867f-4b50-e4dd-f5dbcdbca125"
   },
   "outputs": [
    {
     "name": "stderr",
     "output_type": "stream",
     "text": [
      "/usr/local/lib/python3.7/dist-packages/nltk/translate/bleu_score.py:490: UserWarning: \n",
      "Corpus/Sentence contains 0 counts of 2-gram overlaps.\n",
      "BLEU scores might be undesirable; use SmoothingFunction().\n",
      "  warnings.warn(_msg)\n"
     ]
    },
    {
     "data": {
      "text/plain": [
       "0.3686599351573761"
      ]
     },
     "execution_count": 212,
     "metadata": {
      "tags": []
     },
     "output_type": "execute_result"
    }
   ],
   "source": [
    "nltk.bleu_score.sentence_bleu(excerpt_part121, excerpt_partCAT)"
   ]
  },
  {
   "cell_type": "markdown",
   "metadata": {
    "id": "wa4pLYoICcQp"
   },
   "source": [
    "## Part 121 vs RBAC 121"
   ]
  },
  {
   "cell_type": "code",
   "execution_count": 300,
   "metadata": {
    "executionInfo": {
     "elapsed": 555,
     "status": "ok",
     "timestamp": 1618190753608,
     "user": {
      "displayName": "Fábio Arbach Oliveira",
      "photoUrl": "https://lh3.googleusercontent.com/a-/AOh14GjQ1ID5GbBg4_uOUilbj0xN5Fy0zXZlC1dYnN-f=s64",
      "userId": "16129273721091616396"
     },
     "user_tz": 180
    },
    "id": "4KY5wTp8ChSf"
   },
   "outputs": [],
   "source": [
    "similarity = np.matmul(matrix_part121, matrix_RBAC121.T) / len(tokenizer.word_index)"
   ]
  },
  {
   "cell_type": "code",
   "execution_count": 301,
   "metadata": {
    "colab": {
     "base_uri": "https://localhost:8080/"
    },
    "executionInfo": {
     "elapsed": 511,
     "status": "ok",
     "timestamp": 1618190756035,
     "user": {
      "displayName": "Fábio Arbach Oliveira",
      "photoUrl": "https://lh3.googleusercontent.com/a-/AOh14GjQ1ID5GbBg4_uOUilbj0xN5Fy0zXZlC1dYnN-f=s64",
      "userId": "16129273721091616396"
     },
     "user_tz": 180
    },
    "id": "A9aJUJe_ChMG",
    "outputId": "39c8cd55-f2bb-478f-fca5-9e51fa301e89"
   },
   "outputs": [
    {
     "data": {
      "text/plain": [
       "0.019130084575110753"
      ]
     },
     "execution_count": 301,
     "metadata": {
      "tags": []
     },
     "output_type": "execute_result"
    }
   ],
   "source": [
    "similarity.max()"
   ]
  },
  {
   "cell_type": "code",
   "execution_count": 302,
   "metadata": {
    "colab": {
     "base_uri": "https://localhost:8080/",
     "height": 265
    },
    "executionInfo": {
     "elapsed": 1230,
     "status": "ok",
     "timestamp": 1618190759802,
     "user": {
      "displayName": "Fábio Arbach Oliveira",
      "photoUrl": "https://lh3.googleusercontent.com/a-/AOh14GjQ1ID5GbBg4_uOUilbj0xN5Fy0zXZlC1dYnN-f=s64",
      "userId": "16129273721091616396"
     },
     "user_tz": 180
    },
    "id": "NQ45yo9FChFn",
    "outputId": "1c40eaa7-feb7-4b6a-a7ce-539a5f9aafcf"
   },
   "outputs": [
    {
     "data": {
      "image/png": "[encoded data removed]",
      "text/plain": [
       "<Figure size 432x288 with 1 Axes>"
      ]
     },
     "metadata": {
      "needs_background": "light",
      "tags": []
     },
     "output_type": "display_data"
    }
   ],
   "source": [
    "plt.hist(similarity.flatten(), 50)\n",
    "plt.show()"
   ]
  },
  {
   "cell_type": "code",
   "execution_count": 330,
   "metadata": {
    "colab": {
     "base_uri": "https://localhost:8080/"
    },
    "executionInfo": {
     "elapsed": 6328,
     "status": "ok",
     "timestamp": 1618193677109,
     "user": {
      "displayName": "Fábio Arbach Oliveira",
      "photoUrl": "https://lh3.googleusercontent.com/a-/AOh14GjQ1ID5GbBg4_uOUilbj0xN5Fy0zXZlC1dYnN-f=s64",
      "userId": "16129273721091616396"
     },
     "user_tz": 180
    },
    "id": "s_DriojsCuUu",
    "outputId": "7f6c2fa1-b0d0-45c6-af60-0c2953c0c8a3"
   },
   "outputs": [
    {
     "name": "stdout",
     "output_type": "stream",
     "text": [
      "similarity = 0.0011075312122432541\n",
      "bleu score = 0.5396676627845686\n",
      "\n",
      "--------------------------------------------------------------------------------------------\n",
      "\n",
      "121.15  Transporte de drogas narcóticas, maconha e outras drogas ou substâncias depressivas \n",
      "ou estimulantes \n",
      "Se um detentor de certificado, operando segundo este regulamento, permitir que um avião de\n",
      "\n",
      "============================================================================================\n",
      "\n",
      "§ 121.135   Manual contents. (a) Each manual required by § 121.133 must - \n",
      " (1) Include instructions and information necessary to allow the personnel concerned to perform their duties and responsibili\n",
      "\n",
      "--------------------------------------------------------------------------------------------\n",
      "\n"
     ]
    },
    {
     "name": "stderr",
     "output_type": "stream",
     "text": [
      "/usr/local/lib/python3.7/dist-packages/nltk/translate/bleu_score.py:490: UserWarning: \n",
      "Corpus/Sentence contains 0 counts of 2-gram overlaps.\n",
      "BLEU scores might be undesirable; use SmoothingFunction().\n",
      "  warnings.warn(_msg)\n"
     ]
    }
   ],
   "source": [
    "#sorting_indices = similarity.argsort(axis=None)\n",
    "#part121_indices, RBAC121_indices = np.unravel_index(sorting_indices, shape = similarity.shape)\n",
    "RBAC121_indices = np.arange(len(RBAC121)).tolist()\n",
    "part121_indices = similarity.argmax(axis=0).tolist()\n",
    "\n",
    "index = 6\n",
    "\n",
    "excerpt_part121 = part121[part121_indices[index]]\n",
    "excerpt_RBAC121 = RBAC121[RBAC121_indices[index]]\n",
    "excerpt_RBAC121_en = RBAC121_en[RBAC121_indices[index]]\n",
    "\n",
    "print('similarity = {}'.format(similarity.max(axis=0)[index]))\n",
    "print('bleu score = {}'.format(nltk.bleu_score.sentence_bleu(excerpt_part121, excerpt_RBAC121_en)))\n",
    "print('\\n--------------------------------------------------------------------------------------------\\n')\n",
    "print(excerpt_RBAC121[:200])\n",
    "print('\\n============================================================================================\\n')\n",
    "print(excerpt_part121[:200])\n",
    "print('\\n--------------------------------------------------------------------------------------------\\n')"
   ]
  },
  {
   "cell_type": "code",
   "execution_count": 327,
   "metadata": {
    "colab": {
     "base_uri": "https://localhost:8080/",
     "height": 86
    },
    "executionInfo": {
     "elapsed": 561,
     "status": "ok",
     "timestamp": 1618191647948,
     "user": {
      "displayName": "Fábio Arbach Oliveira",
      "photoUrl": "https://lh3.googleusercontent.com/a-/AOh14GjQ1ID5GbBg4_uOUilbj0xN5Fy0zXZlC1dYnN-f=s64",
      "userId": "16129273721091616396"
     },
     "user_tz": 180
    },
    "id": "nVHudP8ivM1X",
    "outputId": "ddc4a984-84a6-4de4-9bf0-7237fab9f46d"
   },
   "outputs": [
    {
     "data": {
      "application/vnd.google.colaboratory.intrinsic+json": {
       "type": "string"
      },
      "text/plain": [
       "'121.15 Transport of narcotic drugs, marijuana and other drugs or depressive substances\\nor stimulants\\nIf a certificate holder, operating under this regulation, allows an airplane of his or her\\nowned or leased by him is engaged in any operation that he, the certificate holder,\\nknows to be in violation of paragraph 91.19 (a) of RBHA 91, or the regulation that will replace it,\\nsuch an operation can serve as a basis for suspension or revocation of the certificate. (Wording given by\\nResolution No. 334, of 7/1/2014)\\nSUBPART B\\nSUBPART C\\nSUBPART D\\nSUBPART E\\nAPPROVAL OF ROUTES FOR REGULAR OPERATIONS (Title of Subpart with\\nwording given by Resolution No. 526, of 06.08.2019)\\n'"
      ]
     },
     "execution_count": 327,
     "metadata": {
      "tags": []
     },
     "output_type": "execute_result"
    }
   ],
   "source": [
    "RBAC121_en[6]"
   ]
  },
  {
   "cell_type": "code",
   "execution_count": 328,
   "metadata": {
    "colab": {
     "base_uri": "https://localhost:8080/",
     "height": 69
    },
    "executionInfo": {
     "elapsed": 565,
     "status": "ok",
     "timestamp": 1618191666101,
     "user": {
      "displayName": "Fábio Arbach Oliveira",
      "photoUrl": "https://lh3.googleusercontent.com/a-/AOh14GjQ1ID5GbBg4_uOUilbj0xN5Fy0zXZlC1dYnN-f=s64",
      "userId": "16129273721091616396"
     },
     "user_tz": 180
    },
    "id": "vHRzOFylvSkp",
    "outputId": "bf80c876-3a20-427a-947a-935a34309ef8"
   },
   "outputs": [
    {
     "data": {
      "application/vnd.google.colaboratory.intrinsic+json": {
       "type": "string"
      },
      "text/plain": [
       "'§ 121.15   Carriage of narcotic drugs, marihuana, and depressant or stimulant drugs or substances. If a certificate holder operating under this part permits any aircraft owned or leased by that holder to be engaged in any operation that the certificate holder knows to be in violation of § 91.19(a) of this chapter, that operation is a basis for suspending or revoking the certificate. \\n [Doc. No. 28154, 60 FR 65926, Dec. 20, 1995]\\n\\n\\n'"
      ]
     },
     "execution_count": 328,
     "metadata": {
      "tags": []
     },
     "output_type": "execute_result"
    }
   ],
   "source": [
    "part121[6]"
   ]
  },
  {
   "cell_type": "markdown",
   "metadata": {
    "id": "3ZAl78a2FNPE"
   },
   "source": [
    "# Clustering with scipy"
   ]
  },
  {
   "cell_type": "markdown",
   "metadata": {
    "id": "F2c4X35Q0Em_"
   },
   "source": [
    "## Operational regulations - distance with full text"
   ]
  },
  {
   "cell_type": "code",
   "execution_count": 331,
   "metadata": {
    "colab": {
     "base_uri": "https://localhost:8080/",
     "height": 1000,
     "output_embedded_package_id": "1dwNnMhDZALspQq0VYk_Xa32epD5N3Y1g"
    },
    "executionInfo": {
     "elapsed": 35489,
     "status": "ok",
     "timestamp": 1618193836755,
     "user": {
      "displayName": "Fábio Arbach Oliveira",
      "photoUrl": "https://lh3.googleusercontent.com/a-/AOh14GjQ1ID5GbBg4_uOUilbj0xN5Fy0zXZlC1dYnN-f=s64",
      "userId": "16129273721091616396"
     },
     "user_tz": 180
    },
    "id": "NNy51OnV71o9",
    "outputId": "800ff2cd-7781-4a7e-e606-ddf58d00035d"
   },
   "outputs": [
    {
     "data": {
      "text/plain": [
       "Output hidden; open in https://colab.research.google.com to view."
      ]
     },
     "metadata": {},
     "output_type": "display_data"
    }
   ],
   "source": [
    "# calculate distance matrix\n",
    "#matrices = (matrix_part121, matrix_part125, matrix_part135, matrix_partCAT)\n",
    "#matrices = (matrix_part121, matrix_part125, matrix_part135)\n",
    "#matrices = (matrix_part121, matrix_partCAT)\n",
    "#matrices = (matrix_part121, matrix_RBAC121)\n",
    "matrices = embedding_matrix_part121, embedding_matrix_RBAC121\n",
    "\n",
    "distance_matrix = linkage(np.vstack(matrices),\n",
    "                          metric = 'cosine')\n",
    "\n",
    "# labels: number and title\n",
    "labels_part121 = ['.'.join(section.split('.')[:2]) for section in part121]\n",
    "labels_part125 = ['.'.join(section.split('.')[:2]) for section in part125]\n",
    "labels_part135 = ['.'.join(section.split('.')[:2]) for section in part135]\n",
    "labels_partCAT = [' '.join(section.split('\\n')[:2]) for section in partCAT]\n",
    "labels_RBAC121 = [section.split('\\n')[0] for section in RBAC121]\n",
    "\n",
    "#labels = labels_part121 + labels_part125 + labels_part135 + labels_partCAT\n",
    "#labels = labels_part121 + labels_part125 + labels_part135\n",
    "#labels = labels_part121 + labels_partCAT\n",
    "labels = labels_part121 + labels_RBAC121\n",
    "\n",
    "# plot dendrogram\n",
    "plt.figure(figsize=(20,400))\n",
    "dn = dendrogram(distance_matrix,\n",
    "                labels = labels,  \n",
    "                orientation = 'left', \n",
    "                color_threshold = 1,\n",
    "                leaf_font_size = 20)"
   ]
  },
  {
   "cell_type": "markdown",
   "metadata": {
    "id": "rszuRtpIVq_z"
   },
   "source": [
    "## Operational regulations - distance with title only"
   ]
  },
  {
   "cell_type": "code",
   "execution_count": null,
   "metadata": {
    "colab": {
     "base_uri": "https://localhost:8080/",
     "height": 1000,
     "output_embedded_package_id": "1rP1VsxIk0cY3eWsFkEMI94VhPp62Co9U"
    },
    "executionInfo": {
     "elapsed": 33269,
     "status": "ok",
     "timestamp": 1618001757147,
     "user": {
      "displayName": "Fábio Arbach Oliveira",
      "photoUrl": "https://lh3.googleusercontent.com/a-/AOh14GjQ1ID5GbBg4_uOUilbj0xN5Fy0zXZlC1dYnN-f=s64",
      "userId": "16129273721091616396"
     },
     "user_tz": 180
    },
    "id": "YfxOvfGOVrmQ",
    "outputId": "ef38079b-cf58-4a92-8d42-d596ad0e285d"
   },
   "outputs": [
    {
     "data": {
      "text/plain": [
       "Output hidden; open in https://colab.research.google.com to view."
      ]
     },
     "metadata": {},
     "output_type": "display_data"
    }
   ],
   "source": [
    "# calculate distance matrix\n",
    "distance_matrix = linkage(np.vstack((matrix_part121_title,  \n",
    "                                     matrix_partCAT_title)),\n",
    "                          metric = 'cosine')\n",
    "\n",
    "# labels: number and title\n",
    "labels = (['.'.join(section.split('.')[:2]) for section in part121] + \n",
    "          [' '.join(section.split('\\n')[:2]) for section in partCAT])\n",
    "\n",
    "# plot dendrogram\n",
    "plt.figure(figsize=(20,400))\n",
    "dn = dendrogram(distance_matrix,\n",
    "                labels = labels,  \n",
    "                orientation = 'left', \n",
    "                color_threshold = 1,\n",
    "                leaf_font_size = 15)"
   ]
  },
  {
   "cell_type": "markdown",
   "metadata": {
    "id": "4gJdLHGP0IPg"
   },
   "source": [
    "## Airworthiness regulations"
   ]
  },
  {
   "cell_type": "code",
   "execution_count": null,
   "metadata": {
    "colab": {
     "base_uri": "https://localhost:8080/",
     "height": 1000,
     "output_embedded_package_id": "1NIjKpycySdsXxP1YxrQ4EL4U_PNqS4DE"
    },
    "executionInfo": {
     "elapsed": 33189,
     "status": "ok",
     "timestamp": 1617991736298,
     "user": {
      "displayName": "Fábio Arbach Oliveira",
      "photoUrl": "https://lh3.googleusercontent.com/a-/AOh14GjQ1ID5GbBg4_uOUilbj0xN5Fy0zXZlC1dYnN-f=s64",
      "userId": "16129273721091616396"
     },
     "user_tz": 180
    },
    "id": "FvH-qZ4t8fVv",
    "outputId": "01a5a2c0-8118-4ada-fff2-f5297cbcba53"
   },
   "outputs": [
    {
     "data": {
      "text/plain": [
       "Output hidden; open in https://colab.research.google.com to view."
      ]
     },
     "metadata": {},
     "output_type": "display_data"
    }
   ],
   "source": [
    "# calculate distance matrix\n",
    "distance_matrix = linkage(np.vstack((matrix_part23, matrix_part25, matrix_part27, matrix_part29)),\n",
    "                          metric = 'cosine')\n",
    "\n",
    "# labels: number and title\n",
    "labels = (['.'.join(section.split('.')[0:2]) for section in part23] + \n",
    "          ['.'.join(section.split('.')[0:2]) for section in part25] + \n",
    "          ['.'.join(section.split('.')[0:2]) for section in part27] +\n",
    "          ['.'.join(section.split('.')[0:2]) for section in part29])\n",
    "\n",
    "# plot dendrogram\n",
    "plt.figure(figsize=(20,200))\n",
    "dn = dendrogram(distance_matrix,\n",
    "                labels = labels,  \n",
    "                orientation = 'left', \n",
    "                color_threshold = 1,\n",
    "                leaf_font_size = 10)"
   ]
  },
  {
   "cell_type": "markdown",
   "metadata": {
    "id": "eGuSMmGKSx4e"
   },
   "source": [
    "# Trash"
   ]
  },
  {
   "cell_type": "code",
   "execution_count": null,
   "metadata": {
    "colab": {
     "base_uri": "https://localhost:8080/",
     "height": 303
    },
    "executionInfo": {
     "elapsed": 146817,
     "status": "error",
     "timestamp": 1618117888532,
     "user": {
      "displayName": "Fábio Arbach Oliveira",
      "photoUrl": "https://lh3.googleusercontent.com/a-/AOh14GjQ1ID5GbBg4_uOUilbj0xN5Fy0zXZlC1dYnN-f=s64",
      "userId": "16129273721091616396"
     },
     "user_tz": 180
    },
    "id": "mK-qbBFnVB1N",
    "outputId": "511c8b65-4e36-46b6-f00e-d8c2a1661c2f"
   },
   "outputs": [
    {
     "ename": "WriteError",
     "evalue": "ignored",
     "output_type": "error",
     "traceback": [
      "\u001b[0;31m---------------------------------------------------------------------------\u001b[0m",
      "\u001b[0;31mWriteError\u001b[0m                                Traceback (most recent call last)",
      "\u001b[0;32m<ipython-input-382-838f047819e1>\u001b[0m in \u001b[0;36m<module>\u001b[0;34m()\u001b[0m\n\u001b[0;32m----> 1\u001b[0;31m \u001b[0mtemp\u001b[0m \u001b[0;34m=\u001b[0m \u001b[0mtranslator\u001b[0m\u001b[0;34m.\u001b[0m\u001b[0mtranslate\u001b[0m\u001b[0;34m(\u001b[0m\u001b[0mtext\u001b[0m\u001b[0;34m,\u001b[0m \u001b[0mdest\u001b[0m\u001b[0;34m=\u001b[0m\u001b[0;34m'en'\u001b[0m\u001b[0;34m,\u001b[0m \u001b[0msrc\u001b[0m\u001b[0;34m=\u001b[0m\u001b[0;34m'pt'\u001b[0m\u001b[0;34m)\u001b[0m\u001b[0;34m\u001b[0m\u001b[0;34m\u001b[0m\u001b[0m\n\u001b[0m",
      "\u001b[0;32m/usr/local/lib/python3.7/dist-packages/googletrans/client.py\u001b[0m in \u001b[0;36mtranslate\u001b[0;34m(self, text, dest, src, **kwargs)\u001b[0m\n\u001b[1;32m    208\u001b[0m \u001b[0;34m\u001b[0m\u001b[0m\n\u001b[1;32m    209\u001b[0m         \u001b[0morigin\u001b[0m \u001b[0;34m=\u001b[0m \u001b[0mtext\u001b[0m\u001b[0;34m\u001b[0m\u001b[0;34m\u001b[0m\u001b[0m\n\u001b[0;32m--> 210\u001b[0;31m         \u001b[0mdata\u001b[0m\u001b[0;34m,\u001b[0m \u001b[0mresponse\u001b[0m \u001b[0;34m=\u001b[0m \u001b[0mself\u001b[0m\u001b[0;34m.\u001b[0m\u001b[0m_translate\u001b[0m\u001b[0;34m(\u001b[0m\u001b[0mtext\u001b[0m\u001b[0;34m,\u001b[0m \u001b[0mdest\u001b[0m\u001b[0;34m,\u001b[0m \u001b[0msrc\u001b[0m\u001b[0;34m,\u001b[0m \u001b[0mkwargs\u001b[0m\u001b[0;34m)\u001b[0m\u001b[0;34m\u001b[0m\u001b[0;34m\u001b[0m\u001b[0m\n\u001b[0m\u001b[1;32m    211\u001b[0m \u001b[0;34m\u001b[0m\u001b[0m\n\u001b[1;32m    212\u001b[0m         \u001b[0;31m# this code will be updated when the format is changed.\u001b[0m\u001b[0;34m\u001b[0m\u001b[0;34m\u001b[0m\u001b[0;34m\u001b[0m\u001b[0m\n",
      "\u001b[0;32m/usr/local/lib/python3.7/dist-packages/googletrans/client.py\u001b[0m in \u001b[0;36m_translate\u001b[0;34m(self, text, dest, src, override)\u001b[0m\n\u001b[1;32m    106\u001b[0m \u001b[0;34m\u001b[0m\u001b[0m\n\u001b[1;32m    107\u001b[0m         \u001b[0murl\u001b[0m \u001b[0;34m=\u001b[0m \u001b[0murls\u001b[0m\u001b[0;34m.\u001b[0m\u001b[0mTRANSLATE\u001b[0m\u001b[0;34m.\u001b[0m\u001b[0mformat\u001b[0m\u001b[0;34m(\u001b[0m\u001b[0mhost\u001b[0m\u001b[0;34m=\u001b[0m\u001b[0mself\u001b[0m\u001b[0;34m.\u001b[0m\u001b[0m_pick_service_url\u001b[0m\u001b[0;34m(\u001b[0m\u001b[0;34m)\u001b[0m\u001b[0;34m)\u001b[0m\u001b[0;34m\u001b[0m\u001b[0;34m\u001b[0m\u001b[0m\n\u001b[0;32m--> 108\u001b[0;31m         \u001b[0mr\u001b[0m \u001b[0;34m=\u001b[0m \u001b[0mself\u001b[0m\u001b[0;34m.\u001b[0m\u001b[0mclient\u001b[0m\u001b[0;34m.\u001b[0m\u001b[0mget\u001b[0m\u001b[0;34m(\u001b[0m\u001b[0murl\u001b[0m\u001b[0;34m,\u001b[0m \u001b[0mparams\u001b[0m\u001b[0;34m=\u001b[0m\u001b[0mparams\u001b[0m\u001b[0;34m)\u001b[0m\u001b[0;34m\u001b[0m\u001b[0;34m\u001b[0m\u001b[0m\n\u001b[0m\u001b[1;32m    109\u001b[0m \u001b[0;34m\u001b[0m\u001b[0m\n\u001b[1;32m    110\u001b[0m         \u001b[0;32mif\u001b[0m \u001b[0mr\u001b[0m\u001b[0;34m.\u001b[0m\u001b[0mstatus_code\u001b[0m \u001b[0;34m==\u001b[0m \u001b[0;36m200\u001b[0m\u001b[0;34m:\u001b[0m\u001b[0;34m\u001b[0m\u001b[0;34m\u001b[0m\u001b[0m\n",
      "\u001b[0;32m/usr/local/lib/python3.7/dist-packages/httpx/_client.py\u001b[0m in \u001b[0;36mget\u001b[0;34m(self, url, params, headers, cookies, auth, allow_redirects, timeout)\u001b[0m\n\u001b[1;32m    761\u001b[0m             \u001b[0mauth\u001b[0m\u001b[0;34m=\u001b[0m\u001b[0mauth\u001b[0m\u001b[0;34m,\u001b[0m\u001b[0;34m\u001b[0m\u001b[0;34m\u001b[0m\u001b[0m\n\u001b[1;32m    762\u001b[0m             \u001b[0mallow_redirects\u001b[0m\u001b[0;34m=\u001b[0m\u001b[0mallow_redirects\u001b[0m\u001b[0;34m,\u001b[0m\u001b[0;34m\u001b[0m\u001b[0;34m\u001b[0m\u001b[0m\n\u001b[0;32m--> 763\u001b[0;31m             \u001b[0mtimeout\u001b[0m\u001b[0;34m=\u001b[0m\u001b[0mtimeout\u001b[0m\u001b[0;34m,\u001b[0m\u001b[0;34m\u001b[0m\u001b[0;34m\u001b[0m\u001b[0m\n\u001b[0m\u001b[1;32m    764\u001b[0m         )\n\u001b[1;32m    765\u001b[0m \u001b[0;34m\u001b[0m\u001b[0m\n",
      "\u001b[0;32m/usr/local/lib/python3.7/dist-packages/httpx/_client.py\u001b[0m in \u001b[0;36mrequest\u001b[0;34m(self, method, url, data, files, json, params, headers, cookies, auth, allow_redirects, timeout)\u001b[0m\n\u001b[1;32m    599\u001b[0m         )\n\u001b[1;32m    600\u001b[0m         return self.send(\n\u001b[0;32m--> 601\u001b[0;31m             \u001b[0mrequest\u001b[0m\u001b[0;34m,\u001b[0m \u001b[0mauth\u001b[0m\u001b[0;34m=\u001b[0m\u001b[0mauth\u001b[0m\u001b[0;34m,\u001b[0m \u001b[0mallow_redirects\u001b[0m\u001b[0;34m=\u001b[0m\u001b[0mallow_redirects\u001b[0m\u001b[0;34m,\u001b[0m \u001b[0mtimeout\u001b[0m\u001b[0;34m=\u001b[0m\u001b[0mtimeout\u001b[0m\u001b[0;34m,\u001b[0m\u001b[0;34m\u001b[0m\u001b[0;34m\u001b[0m\u001b[0m\n\u001b[0m\u001b[1;32m    602\u001b[0m         )\n\u001b[1;32m    603\u001b[0m \u001b[0;34m\u001b[0m\u001b[0m\n",
      "\u001b[0;32m/usr/local/lib/python3.7/dist-packages/httpx/_client.py\u001b[0m in \u001b[0;36msend\u001b[0;34m(self, request, stream, auth, allow_redirects, timeout)\u001b[0m\n\u001b[1;32m    619\u001b[0m \u001b[0;34m\u001b[0m\u001b[0m\n\u001b[1;32m    620\u001b[0m         response = self.send_handling_redirects(\n\u001b[0;32m--> 621\u001b[0;31m             \u001b[0mrequest\u001b[0m\u001b[0;34m,\u001b[0m \u001b[0mauth\u001b[0m\u001b[0;34m=\u001b[0m\u001b[0mauth\u001b[0m\u001b[0;34m,\u001b[0m \u001b[0mtimeout\u001b[0m\u001b[0;34m=\u001b[0m\u001b[0mtimeout\u001b[0m\u001b[0;34m,\u001b[0m \u001b[0mallow_redirects\u001b[0m\u001b[0;34m=\u001b[0m\u001b[0mallow_redirects\u001b[0m\u001b[0;34m,\u001b[0m\u001b[0;34m\u001b[0m\u001b[0;34m\u001b[0m\u001b[0m\n\u001b[0m\u001b[1;32m    622\u001b[0m         )\n\u001b[1;32m    623\u001b[0m \u001b[0;34m\u001b[0m\u001b[0m\n",
      "\u001b[0;32m/usr/local/lib/python3.7/dist-packages/httpx/_client.py\u001b[0m in \u001b[0;36msend_handling_redirects\u001b[0;34m(self, request, auth, timeout, allow_redirects, history)\u001b[0m\n\u001b[1;32m    646\u001b[0m \u001b[0;34m\u001b[0m\u001b[0m\n\u001b[1;32m    647\u001b[0m             response = self.send_handling_auth(\n\u001b[0;32m--> 648\u001b[0;31m                 \u001b[0mrequest\u001b[0m\u001b[0;34m,\u001b[0m \u001b[0mauth\u001b[0m\u001b[0;34m=\u001b[0m\u001b[0mauth\u001b[0m\u001b[0;34m,\u001b[0m \u001b[0mtimeout\u001b[0m\u001b[0;34m=\u001b[0m\u001b[0mtimeout\u001b[0m\u001b[0;34m,\u001b[0m \u001b[0mhistory\u001b[0m\u001b[0;34m=\u001b[0m\u001b[0mhistory\u001b[0m\u001b[0;34m\u001b[0m\u001b[0;34m\u001b[0m\u001b[0m\n\u001b[0m\u001b[1;32m    649\u001b[0m             )\n\u001b[1;32m    650\u001b[0m             \u001b[0mresponse\u001b[0m\u001b[0;34m.\u001b[0m\u001b[0mhistory\u001b[0m \u001b[0;34m=\u001b[0m \u001b[0mlist\u001b[0m\u001b[0;34m(\u001b[0m\u001b[0mhistory\u001b[0m\u001b[0;34m)\u001b[0m\u001b[0;34m\u001b[0m\u001b[0;34m\u001b[0m\u001b[0m\n",
      "\u001b[0;32m/usr/local/lib/python3.7/dist-packages/httpx/_client.py\u001b[0m in \u001b[0;36msend_handling_auth\u001b[0;34m(self, request, history, auth, timeout)\u001b[0m\n\u001b[1;32m    682\u001b[0m         \u001b[0mrequest\u001b[0m \u001b[0;34m=\u001b[0m \u001b[0mnext\u001b[0m\u001b[0;34m(\u001b[0m\u001b[0mauth_flow\u001b[0m\u001b[0;34m)\u001b[0m\u001b[0;34m\u001b[0m\u001b[0;34m\u001b[0m\u001b[0m\n\u001b[1;32m    683\u001b[0m         \u001b[0;32mwhile\u001b[0m \u001b[0;32mTrue\u001b[0m\u001b[0;34m:\u001b[0m\u001b[0;34m\u001b[0m\u001b[0;34m\u001b[0m\u001b[0m\n\u001b[0;32m--> 684\u001b[0;31m             \u001b[0mresponse\u001b[0m \u001b[0;34m=\u001b[0m \u001b[0mself\u001b[0m\u001b[0;34m.\u001b[0m\u001b[0msend_single_request\u001b[0m\u001b[0;34m(\u001b[0m\u001b[0mrequest\u001b[0m\u001b[0;34m,\u001b[0m \u001b[0mtimeout\u001b[0m\u001b[0;34m)\u001b[0m\u001b[0;34m\u001b[0m\u001b[0;34m\u001b[0m\u001b[0m\n\u001b[0m\u001b[1;32m    685\u001b[0m             \u001b[0;32mif\u001b[0m \u001b[0mauth\u001b[0m\u001b[0;34m.\u001b[0m\u001b[0mrequires_response_body\u001b[0m\u001b[0;34m:\u001b[0m\u001b[0;34m\u001b[0m\u001b[0;34m\u001b[0m\u001b[0m\n\u001b[1;32m    686\u001b[0m                 \u001b[0mresponse\u001b[0m\u001b[0;34m.\u001b[0m\u001b[0mread\u001b[0m\u001b[0;34m(\u001b[0m\u001b[0;34m)\u001b[0m\u001b[0;34m\u001b[0m\u001b[0;34m\u001b[0m\u001b[0m\n",
      "\u001b[0;32m/usr/local/lib/python3.7/dist-packages/httpx/_client.py\u001b[0m in \u001b[0;36msend_single_request\u001b[0;34m(self, request, timeout)\u001b[0m\n\u001b[1;32m    717\u001b[0m                 \u001b[0mheaders\u001b[0m\u001b[0;34m=\u001b[0m\u001b[0mrequest\u001b[0m\u001b[0;34m.\u001b[0m\u001b[0mheaders\u001b[0m\u001b[0;34m.\u001b[0m\u001b[0mraw\u001b[0m\u001b[0;34m,\u001b[0m\u001b[0;34m\u001b[0m\u001b[0;34m\u001b[0m\u001b[0m\n\u001b[1;32m    718\u001b[0m                 \u001b[0mstream\u001b[0m\u001b[0;34m=\u001b[0m\u001b[0mrequest\u001b[0m\u001b[0;34m.\u001b[0m\u001b[0mstream\u001b[0m\u001b[0;34m,\u001b[0m\u001b[0;34m\u001b[0m\u001b[0;34m\u001b[0m\u001b[0m\n\u001b[0;32m--> 719\u001b[0;31m                 \u001b[0mtimeout\u001b[0m\u001b[0;34m=\u001b[0m\u001b[0mtimeout\u001b[0m\u001b[0;34m.\u001b[0m\u001b[0mas_dict\u001b[0m\u001b[0;34m(\u001b[0m\u001b[0;34m)\u001b[0m\u001b[0;34m,\u001b[0m\u001b[0;34m\u001b[0m\u001b[0;34m\u001b[0m\u001b[0m\n\u001b[0m\u001b[1;32m    720\u001b[0m             )\n\u001b[1;32m    721\u001b[0m         \u001b[0;32mexcept\u001b[0m \u001b[0mHTTPError\u001b[0m \u001b[0;32mas\u001b[0m \u001b[0mexc\u001b[0m\u001b[0;34m:\u001b[0m\u001b[0;34m\u001b[0m\u001b[0;34m\u001b[0m\u001b[0m\n",
      "\u001b[0;32m/usr/local/lib/python3.7/dist-packages/httpcore/_sync/connection_pool.py\u001b[0m in \u001b[0;36mrequest\u001b[0;34m(self, method, url, headers, stream, timeout)\u001b[0m\n\u001b[1;32m    151\u001b[0m             \u001b[0;32mtry\u001b[0m\u001b[0;34m:\u001b[0m\u001b[0;34m\u001b[0m\u001b[0;34m\u001b[0m\u001b[0m\n\u001b[1;32m    152\u001b[0m                 response = connection.request(\n\u001b[0;32m--> 153\u001b[0;31m                     \u001b[0mmethod\u001b[0m\u001b[0;34m,\u001b[0m \u001b[0murl\u001b[0m\u001b[0;34m,\u001b[0m \u001b[0mheaders\u001b[0m\u001b[0;34m=\u001b[0m\u001b[0mheaders\u001b[0m\u001b[0;34m,\u001b[0m \u001b[0mstream\u001b[0m\u001b[0;34m=\u001b[0m\u001b[0mstream\u001b[0m\u001b[0;34m,\u001b[0m \u001b[0mtimeout\u001b[0m\u001b[0;34m=\u001b[0m\u001b[0mtimeout\u001b[0m\u001b[0;34m\u001b[0m\u001b[0;34m\u001b[0m\u001b[0m\n\u001b[0m\u001b[1;32m    154\u001b[0m                 )\n\u001b[1;32m    155\u001b[0m             \u001b[0;32mexcept\u001b[0m \u001b[0mNewConnectionRequired\u001b[0m\u001b[0;34m:\u001b[0m\u001b[0;34m\u001b[0m\u001b[0;34m\u001b[0m\u001b[0m\n",
      "\u001b[0;32m/usr/local/lib/python3.7/dist-packages/httpcore/_sync/connection.py\u001b[0m in \u001b[0;36mrequest\u001b[0;34m(self, method, url, headers, stream, timeout)\u001b[0m\n\u001b[1;32m     76\u001b[0m             \u001b[0;34m\"connection.request method=%r url=%r headers=%r\"\u001b[0m\u001b[0;34m,\u001b[0m \u001b[0mmethod\u001b[0m\u001b[0;34m,\u001b[0m \u001b[0murl\u001b[0m\u001b[0;34m,\u001b[0m \u001b[0mheaders\u001b[0m\u001b[0;34m\u001b[0m\u001b[0;34m\u001b[0m\u001b[0m\n\u001b[1;32m     77\u001b[0m         )\n\u001b[0;32m---> 78\u001b[0;31m         \u001b[0;32mreturn\u001b[0m \u001b[0mself\u001b[0m\u001b[0;34m.\u001b[0m\u001b[0mconnection\u001b[0m\u001b[0;34m.\u001b[0m\u001b[0mrequest\u001b[0m\u001b[0;34m(\u001b[0m\u001b[0mmethod\u001b[0m\u001b[0;34m,\u001b[0m \u001b[0murl\u001b[0m\u001b[0;34m,\u001b[0m \u001b[0mheaders\u001b[0m\u001b[0;34m,\u001b[0m \u001b[0mstream\u001b[0m\u001b[0;34m,\u001b[0m \u001b[0mtimeout\u001b[0m\u001b[0;34m)\u001b[0m\u001b[0;34m\u001b[0m\u001b[0;34m\u001b[0m\u001b[0m\n\u001b[0m\u001b[1;32m     79\u001b[0m \u001b[0;34m\u001b[0m\u001b[0m\n\u001b[1;32m     80\u001b[0m     \u001b[0;32mdef\u001b[0m \u001b[0m_open_socket\u001b[0m\u001b[0;34m(\u001b[0m\u001b[0mself\u001b[0m\u001b[0;34m,\u001b[0m \u001b[0mtimeout\u001b[0m\u001b[0;34m:\u001b[0m \u001b[0mTimeoutDict\u001b[0m \u001b[0;34m=\u001b[0m \u001b[0;32mNone\u001b[0m\u001b[0;34m)\u001b[0m \u001b[0;34m->\u001b[0m \u001b[0mSyncSocketStream\u001b[0m\u001b[0;34m:\u001b[0m\u001b[0;34m\u001b[0m\u001b[0;34m\u001b[0m\u001b[0m\n",
      "\u001b[0;32m/usr/local/lib/python3.7/dist-packages/httpcore/_sync/http2.py\u001b[0m in \u001b[0;36mrequest\u001b[0;34m(self, method, url, headers, stream, timeout)\u001b[0m\n\u001b[1;32m    116\u001b[0m             \u001b[0mself\u001b[0m\u001b[0;34m.\u001b[0m\u001b[0mstreams\u001b[0m\u001b[0;34m[\u001b[0m\u001b[0mstream_id\u001b[0m\u001b[0;34m]\u001b[0m \u001b[0;34m=\u001b[0m \u001b[0mh2_stream\u001b[0m\u001b[0;34m\u001b[0m\u001b[0;34m\u001b[0m\u001b[0m\n\u001b[1;32m    117\u001b[0m             \u001b[0mself\u001b[0m\u001b[0;34m.\u001b[0m\u001b[0mevents\u001b[0m\u001b[0;34m[\u001b[0m\u001b[0mstream_id\u001b[0m\u001b[0;34m]\u001b[0m \u001b[0;34m=\u001b[0m \u001b[0;34m[\u001b[0m\u001b[0;34m]\u001b[0m\u001b[0;34m\u001b[0m\u001b[0;34m\u001b[0m\u001b[0m\n\u001b[0;32m--> 118\u001b[0;31m             \u001b[0;32mreturn\u001b[0m \u001b[0mh2_stream\u001b[0m\u001b[0;34m.\u001b[0m\u001b[0mrequest\u001b[0m\u001b[0;34m(\u001b[0m\u001b[0mmethod\u001b[0m\u001b[0;34m,\u001b[0m \u001b[0murl\u001b[0m\u001b[0;34m,\u001b[0m \u001b[0mheaders\u001b[0m\u001b[0;34m,\u001b[0m \u001b[0mstream\u001b[0m\u001b[0;34m,\u001b[0m \u001b[0mtimeout\u001b[0m\u001b[0;34m)\u001b[0m\u001b[0;34m\u001b[0m\u001b[0;34m\u001b[0m\u001b[0m\n\u001b[0m\u001b[1;32m    119\u001b[0m         \u001b[0;32mexcept\u001b[0m \u001b[0mException\u001b[0m\u001b[0;34m:\u001b[0m\u001b[0;34m\u001b[0m\u001b[0;34m\u001b[0m\u001b[0m\n\u001b[1;32m    120\u001b[0m             \u001b[0mself\u001b[0m\u001b[0;34m.\u001b[0m\u001b[0mmax_streams_semaphore\u001b[0m\u001b[0;34m.\u001b[0m\u001b[0mrelease\u001b[0m\u001b[0;34m(\u001b[0m\u001b[0;34m)\u001b[0m\u001b[0;34m\u001b[0m\u001b[0;34m\u001b[0m\u001b[0m\n",
      "\u001b[0;32m/usr/local/lib/python3.7/dist-packages/httpcore/_sync/http2.py\u001b[0m in \u001b[0;36mrequest\u001b[0;34m(self, method, url, headers, stream, timeout)\u001b[0m\n\u001b[1;32m    285\u001b[0m         )\n\u001b[1;32m    286\u001b[0m \u001b[0;34m\u001b[0m\u001b[0m\n\u001b[0;32m--> 287\u001b[0;31m         \u001b[0mself\u001b[0m\u001b[0;34m.\u001b[0m\u001b[0msend_headers\u001b[0m\u001b[0;34m(\u001b[0m\u001b[0mmethod\u001b[0m\u001b[0;34m,\u001b[0m \u001b[0murl\u001b[0m\u001b[0;34m,\u001b[0m \u001b[0mheaders\u001b[0m\u001b[0;34m,\u001b[0m \u001b[0mhas_body\u001b[0m\u001b[0;34m,\u001b[0m \u001b[0mtimeout\u001b[0m\u001b[0;34m)\u001b[0m\u001b[0;34m\u001b[0m\u001b[0;34m\u001b[0m\u001b[0m\n\u001b[0m\u001b[1;32m    288\u001b[0m         \u001b[0;32mif\u001b[0m \u001b[0mhas_body\u001b[0m\u001b[0;34m:\u001b[0m\u001b[0;34m\u001b[0m\u001b[0;34m\u001b[0m\u001b[0m\n\u001b[1;32m    289\u001b[0m             \u001b[0mself\u001b[0m\u001b[0;34m.\u001b[0m\u001b[0msend_body\u001b[0m\u001b[0;34m(\u001b[0m\u001b[0mstream\u001b[0m\u001b[0;34m,\u001b[0m \u001b[0mtimeout\u001b[0m\u001b[0;34m)\u001b[0m\u001b[0;34m\u001b[0m\u001b[0;34m\u001b[0m\u001b[0m\n",
      "\u001b[0;32m/usr/local/lib/python3.7/dist-packages/httpcore/_sync/http2.py\u001b[0m in \u001b[0;36msend_headers\u001b[0;34m(self, method, url, headers, has_body, timeout)\u001b[0m\n\u001b[1;32m    321\u001b[0m         \u001b[0mend_stream\u001b[0m \u001b[0;34m=\u001b[0m \u001b[0;32mnot\u001b[0m \u001b[0mhas_body\u001b[0m\u001b[0;34m\u001b[0m\u001b[0;34m\u001b[0m\u001b[0m\n\u001b[1;32m    322\u001b[0m \u001b[0;34m\u001b[0m\u001b[0m\n\u001b[0;32m--> 323\u001b[0;31m         \u001b[0mself\u001b[0m\u001b[0;34m.\u001b[0m\u001b[0mconnection\u001b[0m\u001b[0;34m.\u001b[0m\u001b[0msend_headers\u001b[0m\u001b[0;34m(\u001b[0m\u001b[0mself\u001b[0m\u001b[0;34m.\u001b[0m\u001b[0mstream_id\u001b[0m\u001b[0;34m,\u001b[0m \u001b[0mheaders\u001b[0m\u001b[0;34m,\u001b[0m \u001b[0mend_stream\u001b[0m\u001b[0;34m,\u001b[0m \u001b[0mtimeout\u001b[0m\u001b[0;34m)\u001b[0m\u001b[0;34m\u001b[0m\u001b[0;34m\u001b[0m\u001b[0m\n\u001b[0m\u001b[1;32m    324\u001b[0m \u001b[0;34m\u001b[0m\u001b[0m\n\u001b[1;32m    325\u001b[0m     \u001b[0;32mdef\u001b[0m \u001b[0msend_body\u001b[0m\u001b[0;34m(\u001b[0m\u001b[0mself\u001b[0m\u001b[0;34m,\u001b[0m \u001b[0mstream\u001b[0m\u001b[0;34m:\u001b[0m \u001b[0mSyncByteStream\u001b[0m\u001b[0;34m,\u001b[0m \u001b[0mtimeout\u001b[0m\u001b[0;34m:\u001b[0m \u001b[0mTimeoutDict\u001b[0m\u001b[0;34m)\u001b[0m \u001b[0;34m->\u001b[0m \u001b[0;32mNone\u001b[0m\u001b[0;34m:\u001b[0m\u001b[0;34m\u001b[0m\u001b[0;34m\u001b[0m\u001b[0m\n",
      "\u001b[0;32m/usr/local/lib/python3.7/dist-packages/httpcore/_sync/http2.py\u001b[0m in \u001b[0;36msend_headers\u001b[0;34m(self, stream_id, headers, end_stream, timeout)\u001b[0m\n\u001b[1;32m    224\u001b[0m         \u001b[0mself\u001b[0m\u001b[0;34m.\u001b[0m\u001b[0mh2_state\u001b[0m\u001b[0;34m.\u001b[0m\u001b[0mincrement_flow_control_window\u001b[0m\u001b[0;34m(\u001b[0m\u001b[0;36m2\u001b[0m \u001b[0;34m**\u001b[0m \u001b[0;36m24\u001b[0m\u001b[0;34m,\u001b[0m \u001b[0mstream_id\u001b[0m\u001b[0;34m=\u001b[0m\u001b[0mstream_id\u001b[0m\u001b[0;34m)\u001b[0m\u001b[0;34m\u001b[0m\u001b[0;34m\u001b[0m\u001b[0m\n\u001b[1;32m    225\u001b[0m         \u001b[0mdata_to_send\u001b[0m \u001b[0;34m=\u001b[0m \u001b[0mself\u001b[0m\u001b[0;34m.\u001b[0m\u001b[0mh2_state\u001b[0m\u001b[0;34m.\u001b[0m\u001b[0mdata_to_send\u001b[0m\u001b[0;34m(\u001b[0m\u001b[0;34m)\u001b[0m\u001b[0;34m\u001b[0m\u001b[0;34m\u001b[0m\u001b[0m\n\u001b[0;32m--> 226\u001b[0;31m         \u001b[0mself\u001b[0m\u001b[0;34m.\u001b[0m\u001b[0msocket\u001b[0m\u001b[0;34m.\u001b[0m\u001b[0mwrite\u001b[0m\u001b[0;34m(\u001b[0m\u001b[0mdata_to_send\u001b[0m\u001b[0;34m,\u001b[0m \u001b[0mtimeout\u001b[0m\u001b[0;34m)\u001b[0m\u001b[0;34m\u001b[0m\u001b[0;34m\u001b[0m\u001b[0m\n\u001b[0m\u001b[1;32m    227\u001b[0m \u001b[0;34m\u001b[0m\u001b[0m\n\u001b[1;32m    228\u001b[0m     def send_data(\n",
      "\u001b[0;32m/usr/local/lib/python3.7/dist-packages/httpcore/_backends/sync.py\u001b[0m in \u001b[0;36mwrite\u001b[0;34m(self, data, timeout)\u001b[0m\n\u001b[1;32m     71\u001b[0m                     \u001b[0mself\u001b[0m\u001b[0;34m.\u001b[0m\u001b[0msock\u001b[0m\u001b[0;34m.\u001b[0m\u001b[0msettimeout\u001b[0m\u001b[0;34m(\u001b[0m\u001b[0mwrite_timeout\u001b[0m\u001b[0;34m)\u001b[0m\u001b[0;34m\u001b[0m\u001b[0;34m\u001b[0m\u001b[0m\n\u001b[1;32m     72\u001b[0m                     \u001b[0mn\u001b[0m \u001b[0;34m=\u001b[0m \u001b[0mself\u001b[0m\u001b[0;34m.\u001b[0m\u001b[0msock\u001b[0m\u001b[0;34m.\u001b[0m\u001b[0msend\u001b[0m\u001b[0;34m(\u001b[0m\u001b[0mdata\u001b[0m\u001b[0;34m)\u001b[0m\u001b[0;34m\u001b[0m\u001b[0;34m\u001b[0m\u001b[0m\n\u001b[0;32m---> 73\u001b[0;31m                     \u001b[0mdata\u001b[0m \u001b[0;34m=\u001b[0m \u001b[0mdata\u001b[0m\u001b[0;34m[\u001b[0m\u001b[0mn\u001b[0m\u001b[0;34m:\u001b[0m\u001b[0;34m]\u001b[0m\u001b[0;34m\u001b[0m\u001b[0;34m\u001b[0m\u001b[0m\n\u001b[0m\u001b[1;32m     74\u001b[0m \u001b[0;34m\u001b[0m\u001b[0m\n\u001b[1;32m     75\u001b[0m     \u001b[0;32mdef\u001b[0m \u001b[0mclose\u001b[0m\u001b[0;34m(\u001b[0m\u001b[0mself\u001b[0m\u001b[0;34m)\u001b[0m \u001b[0;34m->\u001b[0m \u001b[0;32mNone\u001b[0m\u001b[0;34m:\u001b[0m\u001b[0;34m\u001b[0m\u001b[0;34m\u001b[0m\u001b[0m\n",
      "\u001b[0;32m/usr/lib/python3.7/contextlib.py\u001b[0m in \u001b[0;36m__exit__\u001b[0;34m(self, type, value, traceback)\u001b[0m\n\u001b[1;32m    128\u001b[0m                 \u001b[0mvalue\u001b[0m \u001b[0;34m=\u001b[0m \u001b[0mtype\u001b[0m\u001b[0;34m(\u001b[0m\u001b[0;34m)\u001b[0m\u001b[0;34m\u001b[0m\u001b[0;34m\u001b[0m\u001b[0m\n\u001b[1;32m    129\u001b[0m             \u001b[0;32mtry\u001b[0m\u001b[0;34m:\u001b[0m\u001b[0;34m\u001b[0m\u001b[0;34m\u001b[0m\u001b[0m\n\u001b[0;32m--> 130\u001b[0;31m                 \u001b[0mself\u001b[0m\u001b[0;34m.\u001b[0m\u001b[0mgen\u001b[0m\u001b[0;34m.\u001b[0m\u001b[0mthrow\u001b[0m\u001b[0;34m(\u001b[0m\u001b[0mtype\u001b[0m\u001b[0;34m,\u001b[0m \u001b[0mvalue\u001b[0m\u001b[0;34m,\u001b[0m \u001b[0mtraceback\u001b[0m\u001b[0;34m)\u001b[0m\u001b[0;34m\u001b[0m\u001b[0;34m\u001b[0m\u001b[0m\n\u001b[0m\u001b[1;32m    131\u001b[0m             \u001b[0;32mexcept\u001b[0m \u001b[0mStopIteration\u001b[0m \u001b[0;32mas\u001b[0m \u001b[0mexc\u001b[0m\u001b[0;34m:\u001b[0m\u001b[0;34m\u001b[0m\u001b[0;34m\u001b[0m\u001b[0m\n\u001b[1;32m    132\u001b[0m                 \u001b[0;31m# Suppress StopIteration *unless* it's the same exception that\u001b[0m\u001b[0;34m\u001b[0m\u001b[0;34m\u001b[0m\u001b[0;34m\u001b[0m\u001b[0m\n",
      "\u001b[0;32m/usr/local/lib/python3.7/dist-packages/httpcore/_exceptions.py\u001b[0m in \u001b[0;36mmap_exceptions\u001b[0;34m(map)\u001b[0m\n\u001b[1;32m     10\u001b[0m         \u001b[0;32mfor\u001b[0m \u001b[0mfrom_exc\u001b[0m\u001b[0;34m,\u001b[0m \u001b[0mto_exc\u001b[0m \u001b[0;32min\u001b[0m \u001b[0mmap\u001b[0m\u001b[0;34m.\u001b[0m\u001b[0mitems\u001b[0m\u001b[0;34m(\u001b[0m\u001b[0;34m)\u001b[0m\u001b[0;34m:\u001b[0m\u001b[0;34m\u001b[0m\u001b[0;34m\u001b[0m\u001b[0m\n\u001b[1;32m     11\u001b[0m             \u001b[0;32mif\u001b[0m \u001b[0misinstance\u001b[0m\u001b[0;34m(\u001b[0m\u001b[0mexc\u001b[0m\u001b[0;34m,\u001b[0m \u001b[0mfrom_exc\u001b[0m\u001b[0;34m)\u001b[0m\u001b[0;34m:\u001b[0m\u001b[0;34m\u001b[0m\u001b[0;34m\u001b[0m\u001b[0m\n\u001b[0;32m---> 12\u001b[0;31m                 \u001b[0;32mraise\u001b[0m \u001b[0mto_exc\u001b[0m\u001b[0;34m(\u001b[0m\u001b[0mexc\u001b[0m\u001b[0;34m)\u001b[0m \u001b[0;32mfrom\u001b[0m \u001b[0;32mNone\u001b[0m\u001b[0;34m\u001b[0m\u001b[0;34m\u001b[0m\u001b[0m\n\u001b[0m\u001b[1;32m     13\u001b[0m         \u001b[0;32mraise\u001b[0m\u001b[0;34m\u001b[0m\u001b[0;34m\u001b[0m\u001b[0m\n\u001b[1;32m     14\u001b[0m \u001b[0;34m\u001b[0m\u001b[0m\n",
      "\u001b[0;31mWriteError\u001b[0m: [Errno 104] Connection reset by peer"
     ]
    }
   ],
   "source": [
    "temp = translator.translate(text, dest='en', src='pt')"
   ]
  },
  {
   "cell_type": "code",
   "execution_count": null,
   "metadata": {
    "id": "9Fey0YDPVWhh"
   },
   "outputs": [],
   "source": []
  },
  {
   "cell_type": "code",
   "execution_count": null,
   "metadata": {
    "colab": {
     "base_uri": "https://localhost:8080/"
    },
    "executionInfo": {
     "elapsed": 1502,
     "status": "ok",
     "timestamp": 1618118494775,
     "user": {
      "displayName": "Fábio Arbach Oliveira",
      "photoUrl": "https://lh3.googleusercontent.com/a-/AOh14GjQ1ID5GbBg4_uOUilbj0xN5Fy0zXZlC1dYnN-f=s64",
      "userId": "16129273721091616396"
     },
     "user_tz": 180
    },
    "id": "7a6IlNZ0GFNL",
    "outputId": "eb873cd2-a7e7-4b04-9cf4-61d8474fb013"
   },
   "outputs": [
    {
     "data": {
      "text/plain": [
       "(7491, 4672)"
      ]
     },
     "execution_count": 389,
     "metadata": {
      "tags": []
     },
     "output_type": "execute_result"
    }
   ],
   "source": [
    "tokens = tokenizer.word_index.keys()\n",
    "discard = []\n",
    "keep = []\n",
    "\n",
    "for item in nltk.pos_tag(tokens):\n",
    "    if item[1] not in ['NN', 'NNS', 'NNP', 'NNPS', 'RB', 'VB', 'JJ']:\n",
    "        discard.append(item[0])\n",
    "    else:\n",
    "        keep.append(item[0])\n",
    "\n",
    "len(keep), len(discard)"
   ]
  },
  {
   "cell_type": "code",
   "execution_count": null,
   "metadata": {
    "colab": {
     "base_uri": "https://localhost:8080/"
    },
    "executionInfo": {
     "elapsed": 647,
     "status": "ok",
     "timestamp": 1618118848040,
     "user": {
      "displayName": "Fábio Arbach Oliveira",
      "photoUrl": "https://lh3.googleusercontent.com/a-/AOh14GjQ1ID5GbBg4_uOUilbj0xN5Fy0zXZlC1dYnN-f=s64",
      "userId": "16129273721091616396"
     },
     "user_tz": 180
    },
    "id": "6KHo9M6HYMNX",
    "outputId": "8891c889-3be1-4573-de09-2605351a15ad"
   },
   "outputs": [
    {
     "data": {
      "text/plain": [
       "['__and__',\n",
       " '__class__',\n",
       " '__contains__',\n",
       " '__delattr__',\n",
       " '__dir__',\n",
       " '__doc__',\n",
       " '__eq__',\n",
       " '__format__',\n",
       " '__ge__',\n",
       " '__getattribute__',\n",
       " '__gt__',\n",
       " '__hash__',\n",
       " '__iand__',\n",
       " '__init__',\n",
       " '__init_subclass__',\n",
       " '__ior__',\n",
       " '__isub__',\n",
       " '__iter__',\n",
       " '__ixor__',\n",
       " '__le__',\n",
       " '__len__',\n",
       " '__lt__',\n",
       " '__ne__',\n",
       " '__new__',\n",
       " '__or__',\n",
       " '__rand__',\n",
       " '__reduce__',\n",
       " '__reduce_ex__',\n",
       " '__repr__',\n",
       " '__ror__',\n",
       " '__rsub__',\n",
       " '__rxor__',\n",
       " '__setattr__',\n",
       " '__sizeof__',\n",
       " '__str__',\n",
       " '__sub__',\n",
       " '__subclasshook__',\n",
       " '__xor__',\n",
       " 'add',\n",
       " 'clear',\n",
       " 'copy',\n",
       " 'difference',\n",
       " 'difference_update',\n",
       " 'discard',\n",
       " 'intersection',\n",
       " 'intersection_update',\n",
       " 'isdisjoint',\n",
       " 'issubset',\n",
       " 'issuperset',\n",
       " 'pop',\n",
       " 'remove',\n",
       " 'symmetric_difference',\n",
       " 'symmetric_difference_update',\n",
       " 'union',\n",
       " 'update']"
      ]
     },
     "execution_count": 399,
     "metadata": {
      "tags": []
     },
     "output_type": "execute_result"
    }
   ],
   "source": [
    "dir(stop_words)"
   ]
  },
  {
   "cell_type": "code",
   "execution_count": null,
   "metadata": {
    "colab": {
     "base_uri": "https://localhost:8080/"
    },
    "executionInfo": {
     "elapsed": 645,
     "status": "ok",
     "timestamp": 1618118961086,
     "user": {
      "displayName": "Fábio Arbach Oliveira",
      "photoUrl": "https://lh3.googleusercontent.com/a-/AOh14GjQ1ID5GbBg4_uOUilbj0xN5Fy0zXZlC1dYnN-f=s64",
      "userId": "16129273721091616396"
     },
     "user_tz": 180
    },
    "id": "lymSP4Z6Ziqj",
    "outputId": "f6cf0e86-1730-4f1f-90e1-8a0fbabf095c"
   },
   "outputs": [
    {
     "data": {
      "text/plain": [
       "{'a', 'b', 'c', 'd'}"
      ]
     },
     "execution_count": 410,
     "metadata": {
      "tags": []
     },
     "output_type": "execute_result"
    }
   ],
   "source": [
    "a = set(['a', 'b', 'c'])\n",
    "a.update(set(['d']))\n",
    "a"
   ]
  },
  {
   "cell_type": "code",
   "execution_count": 668,
   "metadata": {
    "colab": {
     "base_uri": "https://localhost:8080/",
     "height": 17
    },
    "executionInfo": {
     "elapsed": 498,
     "status": "ok",
     "timestamp": 1618279165269,
     "user": {
      "displayName": "Fábio Arbach Oliveira",
      "photoUrl": "https://lh3.googleusercontent.com/a-/AOh14GjQ1ID5GbBg4_uOUilbj0xN5Fy0zXZlC1dYnN-f=s64",
      "userId": "16129273721091616396"
     },
     "user_tz": 180
    },
    "id": "uKTIlGje71gD",
    "outputId": "8ac23a99-3827-4aa6-8055-1019be9e13d0"
   },
   "outputs": [
    {
     "data": {
      "application/javascript": [
       "\n",
       "    async function download(id, filename, size) {\n",
       "      if (!google.colab.kernel.accessAllowed) {\n",
       "        return;\n",
       "      }\n",
       "      const div = document.createElement('div');\n",
       "      const label = document.createElement('label');\n",
       "      label.textContent = `Downloading \"${filename}\": `;\n",
       "      div.appendChild(label);\n",
       "      const progress = document.createElement('progress');\n",
       "      progress.max = size;\n",
       "      div.appendChild(progress);\n",
       "      document.body.appendChild(div);\n",
       "\n",
       "      const buffers = [];\n",
       "      let downloaded = 0;\n",
       "\n",
       "      const channel = await google.colab.kernel.comms.open(id);\n",
       "      // Send a message to notify the kernel that we're ready.\n",
       "      channel.send({})\n",
       "\n",
       "      for await (const message of channel.messages) {\n",
       "        // Send a message to notify the kernel that we're ready.\n",
       "        channel.send({})\n",
       "        if (message.buffers) {\n",
       "          for (const buffer of message.buffers) {\n",
       "            buffers.push(buffer);\n",
       "            downloaded += buffer.byteLength;\n",
       "            progress.value = downloaded;\n",
       "          }\n",
       "        }\n",
       "      }\n",
       "      const blob = new Blob(buffers, {type: 'application/binary'});\n",
       "      const a = document.createElement('a');\n",
       "      a.href = window.URL.createObjectURL(blob);\n",
       "      a.download = filename;\n",
       "      div.appendChild(a);\n",
       "      a.click();\n",
       "      div.remove();\n",
       "    }\n",
       "  "
      ],
      "text/plain": [
       "<IPython.core.display.Javascript object>"
      ]
     },
     "metadata": {
      "tags": []
     },
     "output_type": "display_data"
    },
    {
     "data": {
      "application/javascript": [
       "download(\"download_22d57763-7ee3-4b5c-ba02-cf4f3a8165a2\", \"similarity_FAA_ANAC.h5\", 1123200)"
      ],
      "text/plain": [
       "<IPython.core.display.Javascript object>"
      ]
     },
     "metadata": {
      "tags": []
     },
     "output_type": "display_data"
    },
    {
     "data": {
      "application/javascript": [
       "\n",
       "    async function download(id, filename, size) {\n",
       "      if (!google.colab.kernel.accessAllowed) {\n",
       "        return;\n",
       "      }\n",
       "      const div = document.createElement('div');\n",
       "      const label = document.createElement('label');\n",
       "      label.textContent = `Downloading \"${filename}\": `;\n",
       "      div.appendChild(label);\n",
       "      const progress = document.createElement('progress');\n",
       "      progress.max = size;\n",
       "      div.appendChild(progress);\n",
       "      document.body.appendChild(div);\n",
       "\n",
       "      const buffers = [];\n",
       "      let downloaded = 0;\n",
       "\n",
       "      const channel = await google.colab.kernel.comms.open(id);\n",
       "      // Send a message to notify the kernel that we're ready.\n",
       "      channel.send({})\n",
       "\n",
       "      for await (const message of channel.messages) {\n",
       "        // Send a message to notify the kernel that we're ready.\n",
       "        channel.send({})\n",
       "        if (message.buffers) {\n",
       "          for (const buffer of message.buffers) {\n",
       "            buffers.push(buffer);\n",
       "            downloaded += buffer.byteLength;\n",
       "            progress.value = downloaded;\n",
       "          }\n",
       "        }\n",
       "      }\n",
       "      const blob = new Blob(buffers, {type: 'application/binary'});\n",
       "      const a = document.createElement('a');\n",
       "      a.href = window.URL.createObjectURL(blob);\n",
       "      a.download = filename;\n",
       "      div.appendChild(a);\n",
       "      a.click();\n",
       "      div.remove();\n",
       "    }\n",
       "  "
      ],
      "text/plain": [
       "<IPython.core.display.Javascript object>"
      ]
     },
     "metadata": {
      "tags": []
     },
     "output_type": "display_data"
    },
    {
     "data": {
      "application/javascript": [
       "download(\"download_91a9d60c-efa0-4017-bab7-f1114da9b16c\", \"similarity_FAA_EASA.h5\", 698880)"
      ],
      "text/plain": [
       "<IPython.core.display.Javascript object>"
      ]
     },
     "metadata": {
      "tags": []
     },
     "output_type": "display_data"
    }
   ],
   "source": [
    "with open(join(home_directory, 'dataset', 'similarity_FAA_ANAC.h5'), 'wb') as file:\n",
    "    file.write(similarity)\n",
    "\n",
    "with open(join(home_directory, 'dataset', 'similarity_FAA_EASA.h5'), 'wb') as file:\n",
    "    file.write(similarity_FAA_EASA)\n",
    "\n",
    "files.download(join(home_directory, 'dataset', 'similarity_FAA_ANAC.h5'))\n",
    "files.download(join(home_directory, 'dataset', 'similarity_FAA_EASA.h5'))"
   ]
  },
  {
   "cell_type": "code",
   "execution_count": null,
   "metadata": {
    "id": "oSiZwyUR898g"
   },
   "outputs": [],
   "source": []
  }
 ],
 "metadata": {
  "colab": {
   "authorship_tag": "ABX9TyORWqxpUSeUr4MLqgtIv+vm",
   "collapsed_sections": [],
   "name": "regulations_similarity.ipynb",
   "provenance": [],
   "toc_visible": true
  },
  "kernelspec": {
   "display_name": "Python 3",
   "language": "python",
   "name": "python3"
  },
  "language_info": {
   "codemirror_mode": {
    "name": "ipython",
    "version": 3
   },
   "file_extension": ".py",
   "mimetype": "text/x-python",
   "name": "python",
   "nbconvert_exporter": "python",
   "pygments_lexer": "ipython3",
   "version": "3.8.5"
  }
 },
 "nbformat": 4,
 "nbformat_minor": 1
}
